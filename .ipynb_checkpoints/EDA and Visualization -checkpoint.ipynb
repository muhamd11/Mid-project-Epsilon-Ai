{
 "cells": [
  {
   "cell_type": "markdown",
   "id": "040ba0c7",
   "metadata": {},
   "source": [
    "# Amazon EDA & Visualiztaion "
   ]
  },
  {
   "cell_type": "markdown",
   "id": "298d7e73",
   "metadata": {},
   "source": [
    " ### About Dataset\n",
    " \n",
    "###### This dataset is having the data of  Amazon Product's Ratings & Prices and Reviews as per their details listed on the official website of Amazon\n",
    "\n",
    "##### Link Data set : https://www.kaggle.com/datasets/karkavelrajaj/amazon-sales-dataset\n",
    "\n",
    "###### Features:\n",
    "###### 1) product_id                     : Product ID\n",
    "###### 2) product_name              : Name of the Product\n",
    "###### 3) main category              : Main category of the Product\n",
    "###### 4) sub category                : Sub category of the Product\n",
    "###### 5) discounted_price        : Discounted Price of the Product\n",
    "###### 6) actual_price                 : Actual Price of the Product\n",
    "###### 7) discount_percentage : Percentage of Discount for the Product\n",
    "###### 8) rating                           : Rating of the Product\n",
    "###### 9) rating_count               : Number of people who voted for the Amazon rating\n",
    "###### 10) quality of product      : Quality of product depending on rating "
   ]
  },
  {
   "cell_type": "markdown",
   "id": "f643a5f9",
   "metadata": {},
   "source": [
    "## Importing libraries "
   ]
  },
  {
   "cell_type": "code",
   "execution_count": 1,
   "id": "2bd757b6",
   "metadata": {},
   "outputs": [],
   "source": [
    "import numpy as np \n",
    "import pandas as pd\n",
    "import seaborn as sns \n",
    "import matplotlib.pyplot as plt \n",
    "import plotly.express as px "
   ]
  },
  {
   "cell_type": "markdown",
   "id": "b2d8971d",
   "metadata": {},
   "source": [
    "## Importing Data set "
   ]
  },
  {
   "cell_type": "code",
   "execution_count": 2,
   "id": "90742a44",
   "metadata": {},
   "outputs": [],
   "source": [
    "df = pd.read_csv('cleaned data.csv')"
   ]
  },
  {
   "cell_type": "code",
   "execution_count": 3,
   "id": "96c62ced",
   "metadata": {},
   "outputs": [],
   "source": [
    "df.drop('Unnamed: 0',axis=1,inplace=True)"
   ]
  },
  {
   "cell_type": "code",
   "execution_count": 4,
   "id": "09e2a4d7",
   "metadata": {},
   "outputs": [
    {
     "data": {
      "text/html": [
       "<div>\n",
       "<style scoped>\n",
       "    .dataframe tbody tr th:only-of-type {\n",
       "        vertical-align: middle;\n",
       "    }\n",
       "\n",
       "    .dataframe tbody tr th {\n",
       "        vertical-align: top;\n",
       "    }\n",
       "\n",
       "    .dataframe thead th {\n",
       "        text-align: right;\n",
       "    }\n",
       "</style>\n",
       "<table border=\"1\" class=\"dataframe\">\n",
       "  <thead>\n",
       "    <tr style=\"text-align: right;\">\n",
       "      <th></th>\n",
       "      <th>product_id</th>\n",
       "      <th>product_name</th>\n",
       "      <th>discounted_price</th>\n",
       "      <th>actual_price</th>\n",
       "      <th>rating</th>\n",
       "      <th>rating_count</th>\n",
       "      <th>main category</th>\n",
       "      <th>sub category</th>\n",
       "      <th>discount_percentage %</th>\n",
       "      <th>quality of product</th>\n",
       "    </tr>\n",
       "  </thead>\n",
       "  <tbody>\n",
       "    <tr>\n",
       "      <th>0</th>\n",
       "      <td>B07JW9H4J1</td>\n",
       "      <td>Wayona Nylon Braided USB to Lightning Fast Cha...</td>\n",
       "      <td>399.00</td>\n",
       "      <td>1099.0</td>\n",
       "      <td>4.2</td>\n",
       "      <td>24269.0</td>\n",
       "      <td>Computers&amp;Accessories</td>\n",
       "      <td>Cables</td>\n",
       "      <td>64.0</td>\n",
       "      <td>excellent</td>\n",
       "    </tr>\n",
       "    <tr>\n",
       "      <th>1</th>\n",
       "      <td>B096MSW6CT</td>\n",
       "      <td>Sounce Fast Phone Charging Cable &amp; Data Sync U...</td>\n",
       "      <td>199.00</td>\n",
       "      <td>1899.0</td>\n",
       "      <td>3.9</td>\n",
       "      <td>7928.0</td>\n",
       "      <td>Computers&amp;Accessories</td>\n",
       "      <td>Cables</td>\n",
       "      <td>90.0</td>\n",
       "      <td>very good</td>\n",
       "    </tr>\n",
       "    <tr>\n",
       "      <th>2</th>\n",
       "      <td>B08CF3B7N1</td>\n",
       "      <td>Portronics Konnect L 1.2M Fast Charging 3A 8 P...</td>\n",
       "      <td>154.00</td>\n",
       "      <td>399.0</td>\n",
       "      <td>4.2</td>\n",
       "      <td>16905.0</td>\n",
       "      <td>Computers&amp;Accessories</td>\n",
       "      <td>Cables</td>\n",
       "      <td>61.0</td>\n",
       "      <td>excellent</td>\n",
       "    </tr>\n",
       "    <tr>\n",
       "      <th>3</th>\n",
       "      <td>B08Y1TFSP6</td>\n",
       "      <td>pTron Solero TB301 3A Type-C Data and Fast Cha...</td>\n",
       "      <td>149.00</td>\n",
       "      <td>1000.0</td>\n",
       "      <td>3.9</td>\n",
       "      <td>24871.0</td>\n",
       "      <td>Computers&amp;Accessories</td>\n",
       "      <td>Cables</td>\n",
       "      <td>85.0</td>\n",
       "      <td>very good</td>\n",
       "    </tr>\n",
       "    <tr>\n",
       "      <th>4</th>\n",
       "      <td>B08WRWPM22</td>\n",
       "      <td>boAt Micro USB 55 Tangle-free, Sturdy Micro US...</td>\n",
       "      <td>176.63</td>\n",
       "      <td>499.0</td>\n",
       "      <td>4.1</td>\n",
       "      <td>15188.0</td>\n",
       "      <td>Computers&amp;Accessories</td>\n",
       "      <td>Cables</td>\n",
       "      <td>65.0</td>\n",
       "      <td>excellent</td>\n",
       "    </tr>\n",
       "  </tbody>\n",
       "</table>\n",
       "</div>"
      ],
      "text/plain": [
       "   product_id                                       product_name  \\\n",
       "0  B07JW9H4J1  Wayona Nylon Braided USB to Lightning Fast Cha...   \n",
       "1  B096MSW6CT  Sounce Fast Phone Charging Cable & Data Sync U...   \n",
       "2  B08CF3B7N1  Portronics Konnect L 1.2M Fast Charging 3A 8 P...   \n",
       "3  B08Y1TFSP6  pTron Solero TB301 3A Type-C Data and Fast Cha...   \n",
       "4  B08WRWPM22  boAt Micro USB 55 Tangle-free, Sturdy Micro US...   \n",
       "\n",
       "   discounted_price  actual_price  rating  rating_count  \\\n",
       "0            399.00        1099.0     4.2       24269.0   \n",
       "1            199.00        1899.0     3.9        7928.0   \n",
       "2            154.00         399.0     4.2       16905.0   \n",
       "3            149.00        1000.0     3.9       24871.0   \n",
       "4            176.63         499.0     4.1       15188.0   \n",
       "\n",
       "           main category sub category  discount_percentage %  \\\n",
       "0  Computers&Accessories       Cables                   64.0   \n",
       "1  Computers&Accessories       Cables                   90.0   \n",
       "2  Computers&Accessories       Cables                   61.0   \n",
       "3  Computers&Accessories       Cables                   85.0   \n",
       "4  Computers&Accessories       Cables                   65.0   \n",
       "\n",
       "  quality of product  \n",
       "0          excellent  \n",
       "1          very good  \n",
       "2          excellent  \n",
       "3          very good  \n",
       "4          excellent  "
      ]
     },
     "execution_count": 4,
     "metadata": {},
     "output_type": "execute_result"
    }
   ],
   "source": [
    "df.head(5)"
   ]
  },
  {
   "cell_type": "markdown",
   "id": "93f3dd73",
   "metadata": {},
   "source": [
    "#### 1] Uni-variate Analysis "
   ]
  },
  {
   "cell_type": "markdown",
   "id": "8fd967b9",
   "metadata": {},
   "source": [
    "#### How many product in each category ?"
   ]
  },
  {
   "cell_type": "code",
   "execution_count": 5,
   "id": "fc3393a8",
   "metadata": {},
   "outputs": [
    {
     "data": {
      "text/plain": [
       "Home&Kitchen             351\n",
       "Computers&Accessories    305\n",
       "Electronics              201\n",
       "OfficeProducts            31\n",
       "Toys&Games                 1\n",
       "Car&Motorbike              1\n",
       "Health&PersonalCare        1\n",
       "Name: main category, dtype: int64"
      ]
     },
     "execution_count": 5,
     "metadata": {},
     "output_type": "execute_result"
    }
   ],
   "source": [
    "df['main category'].value_counts()"
   ]
  },
  {
   "cell_type": "code",
   "execution_count": 6,
   "id": "11dc8e7f",
   "metadata": {},
   "outputs": [
    {
     "data": {
      "text/plain": [
       "<AxesSubplot:>"
      ]
     },
     "execution_count": 6,
     "metadata": {},
     "output_type": "execute_result"
    },
    {
     "data": {
      "image/png": "[encoded data removed]",
      "text/plain": [
       "<Figure size 640x480 with 1 Axes>"
      ]
     },
     "metadata": {},
     "output_type": "display_data"
    }
   ],
   "source": [
    "df['main category'].value_counts().plot(kind='bar')"
   ]
  },
  {
   "cell_type": "code",
   "execution_count": 7,
   "id": "2414047c",
   "metadata": {},
   "outputs": [
    {
     "data": {
      "text/plain": [
       "(array([0, 1, 2, 3, 4, 5, 6]),\n",
       " [Text(0, 0, 'Computers&Accessories'),\n",
       "  Text(1, 0, 'Electronics'),\n",
       "  Text(2, 0, 'OfficeProducts'),\n",
       "  Text(3, 0, 'Home&Kitchen'),\n",
       "  Text(4, 0, 'Toys&Games'),\n",
       "  Text(5, 0, 'Car&Motorbike'),\n",
       "  Text(6, 0, 'Health&PersonalCare')])"
      ]
     },
     "execution_count": 7,
     "metadata": {},
     "output_type": "execute_result"
    },
    {
     "data": {
      "image/png": "[encoded data removed]",
      "text/plain": [
       "<Figure size 1000x500 with 1 Axes>"
      ]
     },
     "metadata": {},
     "output_type": "display_data"
    }
   ],
   "source": [
    "plt.figure(figsize=(10,5))\n",
    "sns.countplot(data=df , x=df['main category'],palette='flare')\n",
    "plt.xticks(rotation=90)"
   ]
  },
  {
   "cell_type": "markdown",
   "id": "ab5d962b",
   "metadata": {},
   "source": [
    "#### Top 10 sub categories have products ?"
   ]
  },
  {
   "cell_type": "code",
   "execution_count": 10,
   "id": "2e1c97e5",
   "metadata": {},
   "outputs": [
    {
     "data": {
      "text/plain": [
       "Cables                        179\n",
       "Irons,Steamers&Accessories     53\n",
       "RemoteControls                 47\n",
       "Kettles&HotWaterDispensers     29\n",
       "Stationery                     26\n",
       "Chargers                       26\n",
       "In-Ear                         22\n",
       "InstantWaterHeaters            21\n",
       "Mice                           20\n",
       "ElectricHeaters                19\n",
       "Name: sub category, dtype: int64"
      ]
     },
     "execution_count": 10,
     "metadata": {},
     "output_type": "execute_result"
    }
   ],
   "source": [
    "df['sub category'].value_counts().nlargest(10)"
   ]
  },
  {
   "cell_type": "code",
   "execution_count": 12,
   "id": "546ffa1a",
   "metadata": {},
   "outputs": [
    {
     "data": {
      "text/plain": [
       "(array([0, 1, 2, 3, 4, 5, 6, 7, 8, 9]),\n",
       " [Text(0, 0, 'Cables'),\n",
       "  Text(1, 0, 'Irons,Steamers&Accessories'),\n",
       "  Text(2, 0, 'RemoteControls'),\n",
       "  Text(3, 0, 'Kettles&HotWaterDispensers'),\n",
       "  Text(4, 0, 'Stationery'),\n",
       "  Text(5, 0, 'Chargers'),\n",
       "  Text(6, 0, 'In-Ear'),\n",
       "  Text(7, 0, 'InstantWaterHeaters'),\n",
       "  Text(8, 0, 'Mice'),\n",
       "  Text(9, 0, 'ElectricHeaters')])"
      ]
     },
     "execution_count": 12,
     "metadata": {},
     "output_type": "execute_result"
    },
    {
     "data": {
      "image/png": "[encoded data removed]",
      "text/plain": [
       "<Figure size 1000x500 with 1 Axes>"
      ]
     },
     "metadata": {},
     "output_type": "display_data"
    }
   ],
   "source": [
    "plt.figure(figsize=(10,5))\n",
    "sns.barplot(data=df ,\n",
    "              x=df['sub category'].value_counts().nlargest(10).index,\n",
    "              y=df['sub category'].value_counts().nlargest(10).values\n",
    "              ,palette='flare')\n",
    "plt.xticks(rotation=90)\n"
   ]
  },
  {
   "cell_type": "code",
   "execution_count": 57,
   "id": "74539d65",
   "metadata": {},
   "outputs": [
    {
     "data": {
      "application/vnd.plotly.v1+json": {
       "config": {
        "plotlyServerURL": "https://plot.ly"
       },
       "data": [
        {
         "alignmentgroup": "True",
         "hovertemplate": "x=%{x}<br>y=%{y}<extra></extra>",
         "legendgroup": "",
         "marker": {
          "color": "#636efa",
          "pattern": {
           "shape": ""
          }
         },
         "name": "",
         "offsetgroup": "",
         "orientation": "v",
         "showlegend": false,
         "textposition": "auto",
         "type": "bar",
         "x": [
          "Cables",
          "Irons,Steamers&Accessories",
          "RemoteControls",
          "Kettles&HotWaterDispensers",
          "Stationery",
          "Chargers",
          "In-Ear",
          "InstantWaterHeaters",
          "Mice",
          "ElectricHeaters"
         ],
         "xaxis": "x",
         "y": [
          179,
          53,
          47,
          29,
          26,
          26,
          22,
          21,
          20,
          19
         ],
         "yaxis": "y"
        }
       ],
       "layout": {
        "barmode": "relative",
        "legend": {
         "tracegroupgap": 0
        },
        "template": {
         "data": {
          "bar": [
           {
            "error_x": {
             "color": "#2a3f5f"
            },
            "error_y": {
             "color": "#2a3f5f"
            },
            "marker": {
             "line": {
              "color": "#E5ECF6",
              "width": 0.5
             },
             "pattern": {
              "fillmode": "overlay",
              "size": 10,
              "solidity": 0.2
             }
            },
            "type": "bar"
           }
          ],
          "barpolar": [
           {
            "marker": {
             "line": {
              "color": "#E5ECF6",
              "width": 0.5
             },
             "pattern": {
              "fillmode": "overlay",
              "size": 10,
              "solidity": 0.2
             }
            },
            "type": "barpolar"
           }
          ],
          "carpet": [
           {
            "aaxis": {
             "endlinecolor": "#2a3f5f",
             "gridcolor": "white",
             "linecolor": "white",
             "minorgridcolor": "white",
             "startlinecolor": "#2a3f5f"
            },
            "baxis": {
             "endlinecolor": "#2a3f5f",
             "gridcolor": "white",
             "linecolor": "white",
             "minorgridcolor": "white",
             "startlinecolor": "#2a3f5f"
            },
            "type": "carpet"
           }
          ],
          "choropleth": [
           {
            "colorbar": {
             "outlinewidth": 0,
             "ticks": ""
            },
            "type": "choropleth"
           }
          ],
          "contour": [
           {
            "colorbar": {
             "outlinewidth": 0,
             "ticks": ""
            },
            "colorscale": [
             [
              0,
              "#0d0887"
             ],
             [
              0.1111111111111111,
              "#46039f"
             ],
             [
              0.2222222222222222,
              "#7201a8"
             ],
             [
              0.3333333333333333,
              "#9c179e"
             ],
             [
              0.4444444444444444,
              "#bd3786"
             ],
             [
              0.5555555555555556,
              "#d8576b"
             ],
             [
              0.6666666666666666,
              "#ed7953"
             ],
             [
              0.7777777777777778,
              "#fb9f3a"
             ],
             [
              0.8888888888888888,
              "#fdca26"
             ],
             [
              1,
              "#f0f921"
             ]
            ],
            "type": "contour"
           }
          ],
          "contourcarpet": [
           {
            "colorbar": {
             "outlinewidth": 0,
             "ticks": ""
            },
            "type": "contourcarpet"
           }
          ],
          "heatmap": [
           {
            "colorbar": {
             "outlinewidth": 0,
             "ticks": ""
            },
            "colorscale": [
             [
              0,
              "#0d0887"
             ],
             [
              0.1111111111111111,
              "#46039f"
             ],
             [
              0.2222222222222222,
              "#7201a8"
             ],
             [
              0.3333333333333333,
              "#9c179e"
             ],
             [
              0.4444444444444444,
              "#bd3786"
             ],
             [
              0.5555555555555556,
              "#d8576b"
             ],
             [
              0.6666666666666666,
              "#ed7953"
             ],
             [
              0.7777777777777778,
              "#fb9f3a"
             ],
             [
              0.8888888888888888,
              "#fdca26"
             ],
             [
              1,
              "#f0f921"
             ]
            ],
            "type": "heatmap"
           }
          ],
          "heatmapgl": [
           {
            "colorbar": {
             "outlinewidth": 0,
             "ticks": ""
            },
            "colorscale": [
             [
              0,
              "#0d0887"
             ],
             [
              0.1111111111111111,
              "#46039f"
             ],
             [
              0.2222222222222222,
              "#7201a8"
             ],
             [
              0.3333333333333333,
              "#9c179e"
             ],
             [
              0.4444444444444444,
              "#bd3786"
             ],
             [
              0.5555555555555556,
              "#d8576b"
             ],
             [
              0.6666666666666666,
              "#ed7953"
             ],
             [
              0.7777777777777778,
              "#fb9f3a"
             ],
             [
              0.8888888888888888,
              "#fdca26"
             ],
             [
              1,
              "#f0f921"
             ]
            ],
            "type": "heatmapgl"
           }
          ],
          "histogram": [
           {
            "marker": {
             "pattern": {
              "fillmode": "overlay",
              "size": 10,
              "solidity": 0.2
             }
            },
            "type": "histogram"
           }
          ],
          "histogram2d": [
           {
            "colorbar": {
             "outlinewidth": 0,
             "ticks": ""
            },
            "colorscale": [
             [
              0,
              "#0d0887"
             ],
             [
              0.1111111111111111,
              "#46039f"
             ],
             [
              0.2222222222222222,
              "#7201a8"
             ],
             [
              0.3333333333333333,
              "#9c179e"
             ],
             [
              0.4444444444444444,
              "#bd3786"
             ],
             [
              0.5555555555555556,
              "#d8576b"
             ],
             [
              0.6666666666666666,
              "#ed7953"
             ],
             [
              0.7777777777777778,
              "#fb9f3a"
             ],
             [
              0.8888888888888888,
              "#fdca26"
             ],
             [
              1,
              "#f0f921"
             ]
            ],
            "type": "histogram2d"
           }
          ],
          "histogram2dcontour": [
           {
            "colorbar": {
             "outlinewidth": 0,
             "ticks": ""
            },
            "colorscale": [
             [
              0,
              "#0d0887"
             ],
             [
              0.1111111111111111,
              "#46039f"
             ],
             [
              0.2222222222222222,
              "#7201a8"
             ],
             [
              0.3333333333333333,
              "#9c179e"
             ],
             [
              0.4444444444444444,
              "#bd3786"
             ],
             [
              0.5555555555555556,
              "#d8576b"
             ],
             [
              0.6666666666666666,
              "#ed7953"
             ],
             [
              0.7777777777777778,
              "#fb9f3a"
             ],
             [
              0.8888888888888888,
              "#fdca26"
             ],
             [
              1,
              "#f0f921"
             ]
            ],
            "type": "histogram2dcontour"
           }
          ],
          "mesh3d": [
           {
            "colorbar": {
             "outlinewidth": 0,
             "ticks": ""
            },
            "type": "mesh3d"
           }
          ],
          "parcoords": [
           {
            "line": {
             "colorbar": {
              "outlinewidth": 0,
              "ticks": ""
             }
            },
            "type": "parcoords"
           }
          ],
          "pie": [
           {
            "automargin": true,
            "type": "pie"
           }
          ],
          "scatter": [
           {
            "fillpattern": {
             "fillmode": "overlay",
             "size": 10,
             "solidity": 0.2
            },
            "type": "scatter"
           }
          ],
          "scatter3d": [
           {
            "line": {
             "colorbar": {
              "outlinewidth": 0,
              "ticks": ""
             }
            },
            "marker": {
             "colorbar": {
              "outlinewidth": 0,
              "ticks": ""
             }
            },
            "type": "scatter3d"
           }
          ],
          "scattercarpet": [
           {
            "marker": {
             "colorbar": {
              "outlinewidth": 0,
              "ticks": ""
             }
            },
            "type": "scattercarpet"
           }
          ],
          "scattergeo": [
           {
            "marker": {
             "colorbar": {
              "outlinewidth": 0,
              "ticks": ""
             }
            },
            "type": "scattergeo"
           }
          ],
          "scattergl": [
           {
            "marker": {
             "colorbar": {
              "outlinewidth": 0,
              "ticks": ""
             }
            },
            "type": "scattergl"
           }
          ],
          "scattermapbox": [
           {
            "marker": {
             "colorbar": {
              "outlinewidth": 0,
              "ticks": ""
             }
            },
            "type": "scattermapbox"
           }
          ],
          "scatterpolar": [
           {
            "marker": {
             "colorbar": {
              "outlinewidth": 0,
              "ticks": ""
             }
            },
            "type": "scatterpolar"
           }
          ],
          "scatterpolargl": [
           {
            "marker": {
             "colorbar": {
              "outlinewidth": 0,
              "ticks": ""
             }
            },
            "type": "scatterpolargl"
           }
          ],
          "scatterternary": [
           {
            "marker": {
             "colorbar": {
              "outlinewidth": 0,
              "ticks": ""
             }
            },
            "type": "scatterternary"
           }
          ],
          "surface": [
           {
            "colorbar": {
             "outlinewidth": 0,
             "ticks": ""
            },
            "colorscale": [
             [
              0,
              "#0d0887"
             ],
             [
              0.1111111111111111,
              "#46039f"
             ],
             [
              0.2222222222222222,
              "#7201a8"
             ],
             [
              0.3333333333333333,
              "#9c179e"
             ],
             [
              0.4444444444444444,
              "#bd3786"
             ],
             [
              0.5555555555555556,
              "#d8576b"
             ],
             [
              0.6666666666666666,
              "#ed7953"
             ],
             [
              0.7777777777777778,
              "#fb9f3a"
             ],
             [
              0.8888888888888888,
              "#fdca26"
             ],
             [
              1,
              "#f0f921"
             ]
            ],
            "type": "surface"
           }
          ],
          "table": [
           {
            "cells": {
             "fill": {
              "color": "#EBF0F8"
             },
             "line": {
              "color": "white"
             }
            },
            "header": {
             "fill": {
              "color": "#C8D4E3"
             },
             "line": {
              "color": "white"
             }
            },
            "type": "table"
           }
          ]
         },
         "layout": {
          "annotationdefaults": {
           "arrowcolor": "#2a3f5f",
           "arrowhead": 0,
           "arrowwidth": 1
          },
          "autotypenumbers": "strict",
          "coloraxis": {
           "colorbar": {
            "outlinewidth": 0,
            "ticks": ""
           }
          },
          "colorscale": {
           "diverging": [
            [
             0,
             "#8e0152"
            ],
            [
             0.1,
             "#c51b7d"
            ],
            [
             0.2,
             "#de77ae"
            ],
            [
             0.3,
             "#f1b6da"
            ],
            [
             0.4,
             "#fde0ef"
            ],
            [
             0.5,
             "#f7f7f7"
            ],
            [
             0.6,
             "#e6f5d0"
            ],
            [
             0.7,
             "#b8e186"
            ],
            [
             0.8,
             "#7fbc41"
            ],
            [
             0.9,
             "#4d9221"
            ],
            [
             1,
             "#276419"
            ]
           ],
           "sequential": [
            [
             0,
             "#0d0887"
            ],
            [
             0.1111111111111111,
             "#46039f"
            ],
            [
             0.2222222222222222,
             "#7201a8"
            ],
            [
             0.3333333333333333,
             "#9c179e"
            ],
            [
             0.4444444444444444,
             "#bd3786"
            ],
            [
             0.5555555555555556,
             "#d8576b"
            ],
            [
             0.6666666666666666,
             "#ed7953"
            ],
            [
             0.7777777777777778,
             "#fb9f3a"
            ],
            [
             0.8888888888888888,
             "#fdca26"
            ],
            [
             1,
             "#f0f921"
            ]
           ],
           "sequentialminus": [
            [
             0,
             "#0d0887"
            ],
            [
             0.1111111111111111,
             "#46039f"
            ],
            [
             0.2222222222222222,
             "#7201a8"
            ],
            [
             0.3333333333333333,
             "#9c179e"
            ],
            [
             0.4444444444444444,
             "#bd3786"
            ],
            [
             0.5555555555555556,
             "#d8576b"
            ],
            [
             0.6666666666666666,
             "#ed7953"
            ],
            [
             0.7777777777777778,
             "#fb9f3a"
            ],
            [
             0.8888888888888888,
             "#fdca26"
            ],
            [
             1,
             "#f0f921"
            ]
           ]
          },
          "colorway": [
           "#636efa",
           "#EF553B",
           "#00cc96",
           "#ab63fa",
           "#FFA15A",
           "#19d3f3",
           "#FF6692",
           "#B6E880",
           "#FF97FF",
           "#FECB52"
          ],
          "font": {
           "color": "#2a3f5f"
          },
          "geo": {
           "bgcolor": "white",
           "lakecolor": "white",
           "landcolor": "#E5ECF6",
           "showlakes": true,
           "showland": true,
           "subunitcolor": "white"
          },
          "hoverlabel": {
           "align": "left"
          },
          "hovermode": "closest",
          "mapbox": {
           "style": "light"
          },
          "paper_bgcolor": "white",
          "plot_bgcolor": "#E5ECF6",
          "polar": {
           "angularaxis": {
            "gridcolor": "white",
            "linecolor": "white",
            "ticks": ""
           },
           "bgcolor": "#E5ECF6",
           "radialaxis": {
            "gridcolor": "white",
            "linecolor": "white",
            "ticks": ""
           }
          },
          "scene": {
           "xaxis": {
            "backgroundcolor": "#E5ECF6",
            "gridcolor": "white",
            "gridwidth": 2,
            "linecolor": "white",
            "showbackground": true,
            "ticks": "",
            "zerolinecolor": "white"
           },
           "yaxis": {
            "backgroundcolor": "#E5ECF6",
            "gridcolor": "white",
            "gridwidth": 2,
            "linecolor": "white",
            "showbackground": true,
            "ticks": "",
            "zerolinecolor": "white"
           },
           "zaxis": {
            "backgroundcolor": "#E5ECF6",
            "gridcolor": "white",
            "gridwidth": 2,
            "linecolor": "white",
            "showbackground": true,
            "ticks": "",
            "zerolinecolor": "white"
           }
          },
          "shapedefaults": {
           "line": {
            "color": "#2a3f5f"
           }
          },
          "ternary": {
           "aaxis": {
            "gridcolor": "white",
            "linecolor": "white",
            "ticks": ""
           },
           "baxis": {
            "gridcolor": "white",
            "linecolor": "white",
            "ticks": ""
           },
           "bgcolor": "#E5ECF6",
           "caxis": {
            "gridcolor": "white",
            "linecolor": "white",
            "ticks": ""
           }
          },
          "title": {
           "x": 0.05
          },
          "xaxis": {
           "automargin": true,
           "gridcolor": "white",
           "linecolor": "white",
           "ticks": "",
           "title": {
            "standoff": 15
           },
           "zerolinecolor": "white",
           "zerolinewidth": 2
          },
          "yaxis": {
           "automargin": true,
           "gridcolor": "white",
           "linecolor": "white",
           "ticks": "",
           "title": {
            "standoff": 15
           },
           "zerolinecolor": "white",
           "zerolinewidth": 2
          }
         }
        },
        "title": {
         "text": "Top 10 sub categories have products"
        },
        "xaxis": {
         "anchor": "y",
         "domain": [
          0,
          1
         ],
         "title": {
          "text": "x"
         }
        },
        "yaxis": {
         "anchor": "x",
         "domain": [
          0,
          1
         ],
         "title": {
          "text": "Number of product"
         }
        }
       }
      },
      "text/html": [
       "<div>                            <div id=\"0da69639-f266-42e2-b703-a34dd7575d45\" class=\"plotly-graph-div\" style=\"height:525px; width:100%;\"></div>            <script type=\"text/javascript\">                require([\"plotly\"], function(Plotly) {                    window.PLOTLYENV=window.PLOTLYENV || {};                                    if (document.getElementById(\"0da69639-f266-42e2-b703-a34dd7575d45\")) {                    Plotly.newPlot(                        \"0da69639-f266-42e2-b703-a34dd7575d45\",                        [{\"alignmentgroup\":\"True\",\"hovertemplate\":\"x=%{x}<br>y=%{y}<extra></extra>\",\"legendgroup\":\"\",\"marker\":{\"color\":\"#636efa\",\"pattern\":{\"shape\":\"\"}},\"name\":\"\",\"offsetgroup\":\"\",\"orientation\":\"v\",\"showlegend\":false,\"textposition\":\"auto\",\"x\":[\"Cables\",\"Irons,Steamers&Accessories\",\"RemoteControls\",\"Kettles&HotWaterDispensers\",\"Stationery\",\"Chargers\",\"In-Ear\",\"InstantWaterHeaters\",\"Mice\",\"ElectricHeaters\"],\"xaxis\":\"x\",\"y\":[179,53,47,29,26,26,22,21,20,19],\"yaxis\":\"y\",\"type\":\"bar\"}],                        {\"template\":{\"data\":{\"histogram2dcontour\":[{\"type\":\"histogram2dcontour\",\"colorbar\":{\"outlinewidth\":0,\"ticks\":\"\"},\"colorscale\":[[0.0,\"#0d0887\"],[0.1111111111111111,\"#46039f\"],[0.2222222222222222,\"#7201a8\"],[0.3333333333333333,\"#9c179e\"],[0.4444444444444444,\"#bd3786\"],[0.5555555555555556,\"#d8576b\"],[0.6666666666666666,\"#ed7953\"],[0.7777777777777778,\"#fb9f3a\"],[0.8888888888888888,\"#fdca26\"],[1.0,\"#f0f921\"]]}],\"choropleth\":[{\"type\":\"choropleth\",\"colorbar\":{\"outlinewidth\":0,\"ticks\":\"\"}}],\"histogram2d\":[{\"type\":\"histogram2d\",\"colorbar\":{\"outlinewidth\":0,\"ticks\":\"\"},\"colorscale\":[[0.0,\"#0d0887\"],[0.1111111111111111,\"#46039f\"],[0.2222222222222222,\"#7201a8\"],[0.3333333333333333,\"#9c179e\"],[0.4444444444444444,\"#bd3786\"],[0.5555555555555556,\"#d8576b\"],[0.6666666666666666,\"#ed7953\"],[0.7777777777777778,\"#fb9f3a\"],[0.8888888888888888,\"#fdca26\"],[1.0,\"#f0f921\"]]}],\"heatmap\":[{\"type\":\"heatmap\",\"colorbar\":{\"outlinewidth\":0,\"ticks\":\"\"},\"colorscale\":[[0.0,\"#0d0887\"],[0.1111111111111111,\"#46039f\"],[0.2222222222222222,\"#7201a8\"],[0.3333333333333333,\"#9c179e\"],[0.4444444444444444,\"#bd3786\"],[0.5555555555555556,\"#d8576b\"],[0.6666666666666666,\"#ed7953\"],[0.7777777777777778,\"#fb9f3a\"],[0.8888888888888888,\"#fdca26\"],[1.0,\"#f0f921\"]]}],\"heatmapgl\":[{\"type\":\"heatmapgl\",\"colorbar\":{\"outlinewidth\":0,\"ticks\":\"\"},\"colorscale\":[[0.0,\"#0d0887\"],[0.1111111111111111,\"#46039f\"],[0.2222222222222222,\"#7201a8\"],[0.3333333333333333,\"#9c179e\"],[0.4444444444444444,\"#bd3786\"],[0.5555555555555556,\"#d8576b\"],[0.6666666666666666,\"#ed7953\"],[0.7777777777777778,\"#fb9f3a\"],[0.8888888888888888,\"#fdca26\"],[1.0,\"#f0f921\"]]}],\"contourcarpet\":[{\"type\":\"contourcarpet\",\"colorbar\":{\"outlinewidth\":0,\"ticks\":\"\"}}],\"contour\":[{\"type\":\"contour\",\"colorbar\":{\"outlinewidth\":0,\"ticks\":\"\"},\"colorscale\":[[0.0,\"#0d0887\"],[0.1111111111111111,\"#46039f\"],[0.2222222222222222,\"#7201a8\"],[0.3333333333333333,\"#9c179e\"],[0.4444444444444444,\"#bd3786\"],[0.5555555555555556,\"#d8576b\"],[0.6666666666666666,\"#ed7953\"],[0.7777777777777778,\"#fb9f3a\"],[0.8888888888888888,\"#fdca26\"],[1.0,\"#f0f921\"]]}],\"surface\":[{\"type\":\"surface\",\"colorbar\":{\"outlinewidth\":0,\"ticks\":\"\"},\"colorscale\":[[0.0,\"#0d0887\"],[0.1111111111111111,\"#46039f\"],[0.2222222222222222,\"#7201a8\"],[0.3333333333333333,\"#9c179e\"],[0.4444444444444444,\"#bd3786\"],[0.5555555555555556,\"#d8576b\"],[0.6666666666666666,\"#ed7953\"],[0.7777777777777778,\"#fb9f3a\"],[0.8888888888888888,\"#fdca26\"],[1.0,\"#f0f921\"]]}],\"mesh3d\":[{\"type\":\"mesh3d\",\"colorbar\":{\"outlinewidth\":0,\"ticks\":\"\"}}],\"scatter\":[{\"fillpattern\":{\"fillmode\":\"overlay\",\"size\":10,\"solidity\":0.2},\"type\":\"scatter\"}],\"parcoords\":[{\"type\":\"parcoords\",\"line\":{\"colorbar\":{\"outlinewidth\":0,\"ticks\":\"\"}}}],\"scatterpolargl\":[{\"type\":\"scatterpolargl\",\"marker\":{\"colorbar\":{\"outlinewidth\":0,\"ticks\":\"\"}}}],\"bar\":[{\"error_x\":{\"color\":\"#2a3f5f\"},\"error_y\":{\"color\":\"#2a3f5f\"},\"marker\":{\"line\":{\"color\":\"#E5ECF6\",\"width\":0.5},\"pattern\":{\"fillmode\":\"overlay\",\"size\":10,\"solidity\":0.2}},\"type\":\"bar\"}],\"scattergeo\":[{\"type\":\"scattergeo\",\"marker\":{\"colorbar\":{\"outlinewidth\":0,\"ticks\":\"\"}}}],\"scatterpolar\":[{\"type\":\"scatterpolar\",\"marker\":{\"colorbar\":{\"outlinewidth\":0,\"ticks\":\"\"}}}],\"histogram\":[{\"marker\":{\"pattern\":{\"fillmode\":\"overlay\",\"size\":10,\"solidity\":0.2}},\"type\":\"histogram\"}],\"scattergl\":[{\"type\":\"scattergl\",\"marker\":{\"colorbar\":{\"outlinewidth\":0,\"ticks\":\"\"}}}],\"scatter3d\":[{\"type\":\"scatter3d\",\"line\":{\"colorbar\":{\"outlinewidth\":0,\"ticks\":\"\"}},\"marker\":{\"colorbar\":{\"outlinewidth\":0,\"ticks\":\"\"}}}],\"scattermapbox\":[{\"type\":\"scattermapbox\",\"marker\":{\"colorbar\":{\"outlinewidth\":0,\"ticks\":\"\"}}}],\"scatterternary\":[{\"type\":\"scatterternary\",\"marker\":{\"colorbar\":{\"outlinewidth\":0,\"ticks\":\"\"}}}],\"scattercarpet\":[{\"type\":\"scattercarpet\",\"marker\":{\"colorbar\":{\"outlinewidth\":0,\"ticks\":\"\"}}}],\"carpet\":[{\"aaxis\":{\"endlinecolor\":\"#2a3f5f\",\"gridcolor\":\"white\",\"linecolor\":\"white\",\"minorgridcolor\":\"white\",\"startlinecolor\":\"#2a3f5f\"},\"baxis\":{\"endlinecolor\":\"#2a3f5f\",\"gridcolor\":\"white\",\"linecolor\":\"white\",\"minorgridcolor\":\"white\",\"startlinecolor\":\"#2a3f5f\"},\"type\":\"carpet\"}],\"table\":[{\"cells\":{\"fill\":{\"color\":\"#EBF0F8\"},\"line\":{\"color\":\"white\"}},\"header\":{\"fill\":{\"color\":\"#C8D4E3\"},\"line\":{\"color\":\"white\"}},\"type\":\"table\"}],\"barpolar\":[{\"marker\":{\"line\":{\"color\":\"#E5ECF6\",\"width\":0.5},\"pattern\":{\"fillmode\":\"overlay\",\"size\":10,\"solidity\":0.2}},\"type\":\"barpolar\"}],\"pie\":[{\"automargin\":true,\"type\":\"pie\"}]},\"layout\":{\"autotypenumbers\":\"strict\",\"colorway\":[\"#636efa\",\"#EF553B\",\"#00cc96\",\"#ab63fa\",\"#FFA15A\",\"#19d3f3\",\"#FF6692\",\"#B6E880\",\"#FF97FF\",\"#FECB52\"],\"font\":{\"color\":\"#2a3f5f\"},\"hovermode\":\"closest\",\"hoverlabel\":{\"align\":\"left\"},\"paper_bgcolor\":\"white\",\"plot_bgcolor\":\"#E5ECF6\",\"polar\":{\"bgcolor\":\"#E5ECF6\",\"angularaxis\":{\"gridcolor\":\"white\",\"linecolor\":\"white\",\"ticks\":\"\"},\"radialaxis\":{\"gridcolor\":\"white\",\"linecolor\":\"white\",\"ticks\":\"\"}},\"ternary\":{\"bgcolor\":\"#E5ECF6\",\"aaxis\":{\"gridcolor\":\"white\",\"linecolor\":\"white\",\"ticks\":\"\"},\"baxis\":{\"gridcolor\":\"white\",\"linecolor\":\"white\",\"ticks\":\"\"},\"caxis\":{\"gridcolor\":\"white\",\"linecolor\":\"white\",\"ticks\":\"\"}},\"coloraxis\":{\"colorbar\":{\"outlinewidth\":0,\"ticks\":\"\"}},\"colorscale\":{\"sequential\":[[0.0,\"#0d0887\"],[0.1111111111111111,\"#46039f\"],[0.2222222222222222,\"#7201a8\"],[0.3333333333333333,\"#9c179e\"],[0.4444444444444444,\"#bd3786\"],[0.5555555555555556,\"#d8576b\"],[0.6666666666666666,\"#ed7953\"],[0.7777777777777778,\"#fb9f3a\"],[0.8888888888888888,\"#fdca26\"],[1.0,\"#f0f921\"]],\"sequentialminus\":[[0.0,\"#0d0887\"],[0.1111111111111111,\"#46039f\"],[0.2222222222222222,\"#7201a8\"],[0.3333333333333333,\"#9c179e\"],[0.4444444444444444,\"#bd3786\"],[0.5555555555555556,\"#d8576b\"],[0.6666666666666666,\"#ed7953\"],[0.7777777777777778,\"#fb9f3a\"],[0.8888888888888888,\"#fdca26\"],[1.0,\"#f0f921\"]],\"diverging\":[[0,\"#8e0152\"],[0.1,\"#c51b7d\"],[0.2,\"#de77ae\"],[0.3,\"#f1b6da\"],[0.4,\"#fde0ef\"],[0.5,\"#f7f7f7\"],[0.6,\"#e6f5d0\"],[0.7,\"#b8e186\"],[0.8,\"#7fbc41\"],[0.9,\"#4d9221\"],[1,\"#276419\"]]},\"xaxis\":{\"gridcolor\":\"white\",\"linecolor\":\"white\",\"ticks\":\"\",\"title\":{\"standoff\":15},\"zerolinecolor\":\"white\",\"automargin\":true,\"zerolinewidth\":2},\"yaxis\":{\"gridcolor\":\"white\",\"linecolor\":\"white\",\"ticks\":\"\",\"title\":{\"standoff\":15},\"zerolinecolor\":\"white\",\"automargin\":true,\"zerolinewidth\":2},\"scene\":{\"xaxis\":{\"backgroundcolor\":\"#E5ECF6\",\"gridcolor\":\"white\",\"linecolor\":\"white\",\"showbackground\":true,\"ticks\":\"\",\"zerolinecolor\":\"white\",\"gridwidth\":2},\"yaxis\":{\"backgroundcolor\":\"#E5ECF6\",\"gridcolor\":\"white\",\"linecolor\":\"white\",\"showbackground\":true,\"ticks\":\"\",\"zerolinecolor\":\"white\",\"gridwidth\":2},\"zaxis\":{\"backgroundcolor\":\"#E5ECF6\",\"gridcolor\":\"white\",\"linecolor\":\"white\",\"showbackground\":true,\"ticks\":\"\",\"zerolinecolor\":\"white\",\"gridwidth\":2}},\"shapedefaults\":{\"line\":{\"color\":\"#2a3f5f\"}},\"annotationdefaults\":{\"arrowcolor\":\"#2a3f5f\",\"arrowhead\":0,\"arrowwidth\":1},\"geo\":{\"bgcolor\":\"white\",\"landcolor\":\"#E5ECF6\",\"subunitcolor\":\"white\",\"showland\":true,\"showlakes\":true,\"lakecolor\":\"white\"},\"title\":{\"x\":0.05},\"mapbox\":{\"style\":\"light\"}}},\"xaxis\":{\"anchor\":\"y\",\"domain\":[0.0,1.0],\"title\":{\"text\":\"x\"}},\"yaxis\":{\"anchor\":\"x\",\"domain\":[0.0,1.0],\"title\":{\"text\":\"Number of product\"}},\"legend\":{\"tracegroupgap\":0},\"title\":{\"text\":\"Top 10 sub categories have products\"},\"barmode\":\"relative\"},                        {\"responsive\": true}                    ).then(function(){\n",
       "                            \n",
       "var gd = document.getElementById('0da69639-f266-42e2-b703-a34dd7575d45');\n",
       "var x = new MutationObserver(function (mutations, observer) {{\n",
       "        var display = window.getComputedStyle(gd).display;\n",
       "        if (!display || display === 'none') {{\n",
       "            console.log([gd, 'removed!']);\n",
       "            Plotly.purge(gd);\n",
       "            observer.disconnect();\n",
       "        }}\n",
       "}});\n",
       "\n",
       "// Listen for the removal of the full notebook cells\n",
       "var notebookContainer = gd.closest('#notebook-container');\n",
       "if (notebookContainer) {{\n",
       "    x.observe(notebookContainer, {childList: true});\n",
       "}}\n",
       "\n",
       "// Listen for the clearing of the current output cell\n",
       "var outputEl = gd.closest('.output');\n",
       "if (outputEl) {{\n",
       "    x.observe(outputEl, {childList: true});\n",
       "}}\n",
       "\n",
       "                        })                };                });            </script>        </div>"
      ]
     },
     "metadata": {},
     "output_type": "display_data"
    }
   ],
   "source": [
    "fig = px.bar(data_frame=df,x=df['sub category'].value_counts().nlargest(10).index,\n",
    "                           y=df['sub category'].value_counts().nlargest(10).values,\n",
    "                            title='Top 10 sub categories have products')\n",
    "fig.update_layout(yaxis_title=\"Number of product\")"
   ]
  },
  {
   "cell_type": "code",
   "execution_count": 13,
   "id": "43e107a1",
   "metadata": {},
   "outputs": [
    {
     "data": {
      "text/html": [
       "<div>\n",
       "<style scoped>\n",
       "    .dataframe tbody tr th:only-of-type {\n",
       "        vertical-align: middle;\n",
       "    }\n",
       "\n",
       "    .dataframe tbody tr th {\n",
       "        vertical-align: top;\n",
       "    }\n",
       "\n",
       "    .dataframe thead th {\n",
       "        text-align: right;\n",
       "    }\n",
       "</style>\n",
       "<table border=\"1\" class=\"dataframe\">\n",
       "  <thead>\n",
       "    <tr style=\"text-align: right;\">\n",
       "      <th></th>\n",
       "      <th>product_id</th>\n",
       "      <th>product_name</th>\n",
       "      <th>discounted_price</th>\n",
       "      <th>actual_price</th>\n",
       "      <th>rating</th>\n",
       "      <th>rating_count</th>\n",
       "      <th>main category</th>\n",
       "      <th>sub category</th>\n",
       "      <th>discount_percentage %</th>\n",
       "      <th>quality of product</th>\n",
       "    </tr>\n",
       "  </thead>\n",
       "  <tbody>\n",
       "    <tr>\n",
       "      <th>0</th>\n",
       "      <td>B07JW9H4J1</td>\n",
       "      <td>Wayona Nylon Braided USB to Lightning Fast Cha...</td>\n",
       "      <td>399.00</td>\n",
       "      <td>1099.0</td>\n",
       "      <td>4.2</td>\n",
       "      <td>24269.0</td>\n",
       "      <td>Computers&amp;Accessories</td>\n",
       "      <td>Cables</td>\n",
       "      <td>64.0</td>\n",
       "      <td>excellent</td>\n",
       "    </tr>\n",
       "    <tr>\n",
       "      <th>1</th>\n",
       "      <td>B096MSW6CT</td>\n",
       "      <td>Sounce Fast Phone Charging Cable &amp; Data Sync U...</td>\n",
       "      <td>199.00</td>\n",
       "      <td>1899.0</td>\n",
       "      <td>3.9</td>\n",
       "      <td>7928.0</td>\n",
       "      <td>Computers&amp;Accessories</td>\n",
       "      <td>Cables</td>\n",
       "      <td>90.0</td>\n",
       "      <td>very good</td>\n",
       "    </tr>\n",
       "    <tr>\n",
       "      <th>2</th>\n",
       "      <td>B08CF3B7N1</td>\n",
       "      <td>Portronics Konnect L 1.2M Fast Charging 3A 8 P...</td>\n",
       "      <td>154.00</td>\n",
       "      <td>399.0</td>\n",
       "      <td>4.2</td>\n",
       "      <td>16905.0</td>\n",
       "      <td>Computers&amp;Accessories</td>\n",
       "      <td>Cables</td>\n",
       "      <td>61.0</td>\n",
       "      <td>excellent</td>\n",
       "    </tr>\n",
       "    <tr>\n",
       "      <th>3</th>\n",
       "      <td>B08Y1TFSP6</td>\n",
       "      <td>pTron Solero TB301 3A Type-C Data and Fast Cha...</td>\n",
       "      <td>149.00</td>\n",
       "      <td>1000.0</td>\n",
       "      <td>3.9</td>\n",
       "      <td>24871.0</td>\n",
       "      <td>Computers&amp;Accessories</td>\n",
       "      <td>Cables</td>\n",
       "      <td>85.0</td>\n",
       "      <td>very good</td>\n",
       "    </tr>\n",
       "    <tr>\n",
       "      <th>4</th>\n",
       "      <td>B08WRWPM22</td>\n",
       "      <td>boAt Micro USB 55 Tangle-free, Sturdy Micro US...</td>\n",
       "      <td>176.63</td>\n",
       "      <td>499.0</td>\n",
       "      <td>4.1</td>\n",
       "      <td>15188.0</td>\n",
       "      <td>Computers&amp;Accessories</td>\n",
       "      <td>Cables</td>\n",
       "      <td>65.0</td>\n",
       "      <td>excellent</td>\n",
       "    </tr>\n",
       "  </tbody>\n",
       "</table>\n",
       "</div>"
      ],
      "text/plain": [
       "   product_id                                       product_name  \\\n",
       "0  B07JW9H4J1  Wayona Nylon Braided USB to Lightning Fast Cha...   \n",
       "1  B096MSW6CT  Sounce Fast Phone Charging Cable & Data Sync U...   \n",
       "2  B08CF3B7N1  Portronics Konnect L 1.2M Fast Charging 3A 8 P...   \n",
       "3  B08Y1TFSP6  pTron Solero TB301 3A Type-C Data and Fast Cha...   \n",
       "4  B08WRWPM22  boAt Micro USB 55 Tangle-free, Sturdy Micro US...   \n",
       "\n",
       "   discounted_price  actual_price  rating  rating_count  \\\n",
       "0            399.00        1099.0     4.2       24269.0   \n",
       "1            199.00        1899.0     3.9        7928.0   \n",
       "2            154.00         399.0     4.2       16905.0   \n",
       "3            149.00        1000.0     3.9       24871.0   \n",
       "4            176.63         499.0     4.1       15188.0   \n",
       "\n",
       "           main category sub category  discount_percentage %  \\\n",
       "0  Computers&Accessories       Cables                   64.0   \n",
       "1  Computers&Accessories       Cables                   90.0   \n",
       "2  Computers&Accessories       Cables                   61.0   \n",
       "3  Computers&Accessories       Cables                   85.0   \n",
       "4  Computers&Accessories       Cables                   65.0   \n",
       "\n",
       "  quality of product  \n",
       "0          excellent  \n",
       "1          very good  \n",
       "2          excellent  \n",
       "3          very good  \n",
       "4          excellent  "
      ]
     },
     "execution_count": 13,
     "metadata": {},
     "output_type": "execute_result"
    }
   ],
   "source": [
    "df.head(5)"
   ]
  },
  {
   "cell_type": "markdown",
   "id": "2290a99f",
   "metadata": {},
   "source": [
    "#### Distribution of discount percentge "
   ]
  },
  {
   "cell_type": "code",
   "execution_count": 24,
   "id": "34248196",
   "metadata": {},
   "outputs": [
    {
     "data": {
      "application/vnd.plotly.v1+json": {
       "config": {
        "plotlyServerURL": "https://plot.ly"
       },
       "data": [
        {
         "alignmentgroup": "True",
         "bingroup": "x",
         "hovertemplate": "variable=discount_percentage %<br>value=%{x}<br>count=%{y}<extra></extra>",
         "legendgroup": "discount_percentage %",
         "marker": {
          "color": "#636efa",
          "pattern": {
           "shape": ""
          }
         },
         "name": "discount_percentage %",
         "offsetgroup": "discount_percentage %",
         "orientation": "v",
         "showlegend": true,
         "type": "histogram",
         "x": [
          64,
          90,
          61,
          85,
          65,
          23,
          55,
          61,
          60,
          13,
          60,
          46,
          44,
          70,
          72,
          25,
          51,
          70,
          64,
          65,
          0,
          80,
          85,
          53,
          80,
          51,
          64,
          38,
          70,
          67,
          58,
          60,
          45,
          62,
          43,
          54,
          77,
          56,
          78,
          86,
          61,
          62,
          47,
          69,
          61,
          42,
          77,
          60,
          60,
          55,
          58,
          64,
          64,
          44,
          63,
          75,
          80,
          68,
          66,
          80,
          17,
          69,
          65,
          42,
          52,
          77,
          53,
          67,
          65,
          60,
          65,
          70,
          88,
          73,
          60,
          80,
          47,
          35,
          65,
          85,
          75,
          20,
          63,
          53,
          62,
          42,
          60,
          73,
          40,
          73,
          58,
          0,
          50,
          64,
          43,
          61,
          52,
          44,
          31,
          47,
          69,
          62,
          38,
          50,
          25,
          58,
          56,
          32,
          66,
          70,
          63,
          29,
          75,
          69,
          83,
          38,
          44,
          63,
          67,
          60,
          71,
          64,
          71,
          60,
          59,
          57,
          15,
          53,
          58,
          38,
          53,
          66,
          76,
          75,
          47,
          75,
          48,
          41,
          55,
          82,
          63,
          66,
          65,
          25,
          42,
          75,
          66,
          61,
          60,
          70,
          83,
          65,
          43,
          68,
          67,
          50,
          50,
          46,
          57,
          58,
          88,
          54,
          73,
          55,
          75,
          77,
          29,
          56,
          59,
          68,
          50,
          55,
          66,
          60,
          50,
          83,
          63,
          89,
          45,
          87,
          56,
          44,
          63,
          70,
          76,
          42,
          70,
          61,
          57,
          70,
          35,
          80,
          43,
          65,
          52,
          60,
          60,
          60,
          50,
          38,
          57,
          88,
          75,
          59,
          48,
          59,
          70,
          61,
          50,
          50,
          59,
          71,
          62,
          63,
          78,
          80,
          45,
          15,
          66,
          63,
          23,
          78,
          61,
          59,
          63,
          38,
          54,
          60,
          50,
          57,
          65,
          61,
          48,
          20,
          63,
          73,
          40,
          28,
          64,
          72,
          80,
          49,
          66,
          37,
          80,
          65,
          85,
          90,
          84,
          60,
          38,
          28,
          65,
          35,
          60,
          62,
          42,
          76,
          77,
          81,
          38,
          66,
          50,
          61,
          14,
          66,
          65,
          52,
          0,
          66,
          75,
          81,
          82,
          70,
          65,
          65,
          17,
          81,
          44,
          85,
          40,
          82,
          67,
          85,
          14,
          58,
          75,
          84,
          5,
          80,
          66,
          74,
          70,
          58,
          46,
          13,
          80,
          0,
          28,
          90,
          50,
          38,
          42,
          90,
          16,
          75,
          69,
          74,
          60,
          55,
          56,
          57,
          17,
          82,
          79,
          72,
          63,
          8,
          62,
          77,
          63,
          90,
          73,
          50,
          69,
          54,
          0,
          21,
          69,
          44,
          33,
          30,
          80,
          75,
          0,
          60,
          6,
          87,
          76,
          56,
          27,
          15,
          87,
          78,
          5,
          60,
          43,
          80,
          18,
          54,
          52,
          54,
          56,
          43,
          24,
          50,
          55,
          38,
          2,
          33,
          47,
          94,
          4,
          6,
          38,
          75,
          0,
          63,
          0,
          36,
          40,
          26,
          14,
          55,
          73,
          58,
          25,
          83,
          0,
          85,
          63,
          71,
          43,
          25,
          53,
          54,
          55,
          55,
          0,
          80,
          28,
          20,
          19,
          20,
          60,
          66,
          39,
          60,
          80,
          31,
          66,
          85,
          85,
          73,
          10,
          57,
          77,
          51,
          22,
          51,
          70,
          23,
          55,
          50,
          77,
          40,
          70,
          60,
          62,
          0,
          11,
          30,
          67,
          50,
          38,
          59,
          64,
          46,
          55,
          21,
          49,
          0,
          64,
          41,
          65,
          42,
          60,
          80,
          85,
          69,
          43,
          18,
          62,
          63,
          5,
          0,
          35,
          0,
          40,
          79,
          15,
          54,
          62,
          60,
          50,
          82,
          2,
          88,
          65,
          57,
          70,
          30,
          66,
          10,
          43,
          40,
          53,
          78,
          21,
          0,
          23,
          62,
          76,
          0,
          10,
          66,
          25,
          25,
          65,
          38,
          13,
          55,
          35,
          24,
          18,
          74,
          23,
          15,
          10,
          55,
          0,
          53,
          76,
          78,
          75,
          50,
          40,
          56,
          36,
          73,
          58,
          66,
          80,
          75,
          53,
          46,
          0,
          50,
          0,
          76,
          24,
          42,
          59,
          31,
          17,
          34,
          0,
          51,
          69,
          0,
          80,
          50,
          79,
          14,
          48,
          73,
          62,
          47,
          10,
          55,
          36,
          50,
          0,
          70,
          27,
          0,
          57,
          0,
          0,
          75,
          64,
          60,
          70,
          50,
          29,
          40,
          54,
          90,
          40,
          10,
          22,
          50,
          11,
          50,
          55,
          48,
          42,
          46,
          56,
          40,
          24,
          45,
          50,
          80,
          56,
          41,
          55,
          65,
          44,
          55,
          48,
          61,
          12,
          37,
          21,
          50,
          26,
          34,
          40,
          62,
          54,
          42,
          50,
          55,
          14,
          45,
          24,
          60,
          46,
          39,
          27,
          37,
          48,
          65,
          47,
          60,
          0,
          44,
          61,
          34,
          26,
          28,
          51,
          20,
          36,
          14,
          16,
          71,
          42,
          23,
          0,
          35,
          26,
          14,
          11,
          54,
          51,
          18,
          57,
          16,
          71,
          39,
          33,
          35,
          41,
          46,
          0,
          0,
          47,
          36,
          45,
          20,
          29,
          60,
          26,
          33,
          55,
          59,
          31,
          20,
          62,
          48,
          38,
          41,
          52,
          18,
          78,
          31,
          48,
          48,
          42,
          51,
          55,
          0,
          47,
          43,
          52,
          0,
          32,
          47,
          39,
          49,
          49,
          0,
          31,
          60,
          40,
          20,
          47,
          79,
          0,
          11,
          35,
          49,
          60,
          42,
          55,
          26,
          41,
          36,
          49,
          74,
          58,
          29,
          37,
          38,
          60,
          64,
          44,
          58,
          35,
          53,
          29,
          15,
          12,
          43,
          77,
          11,
          46,
          61,
          50,
          49,
          29,
          41,
          0,
          56,
          46,
          62,
          20,
          50,
          43,
          66,
          62,
          39,
          70,
          41,
          4,
          20,
          47,
          34,
          68,
          53,
          27,
          31,
          12,
          39,
          39,
          33,
          7,
          55,
          58,
          51,
          50,
          55,
          41,
          15,
          6,
          17,
          73,
          0,
          61,
          54,
          16,
          40,
          56,
          18,
          55,
          14,
          37,
          46,
          57,
          55,
          24,
          50,
          38,
          44,
          67,
          22,
          45,
          52,
          3,
          21,
          0,
          48,
          3,
          52,
          28,
          58,
          43,
          49,
          50,
          45,
          40,
          58,
          28,
          45,
          68,
          40,
          62,
          25,
          27,
          62,
          41,
          53,
          21,
          33,
          55,
          18,
          37,
          37,
          51,
          9,
          30,
          58,
          14,
          53,
          60,
          43,
          41,
          43,
          0,
          54,
          8,
          45,
          29,
          55,
          64,
          51,
          76,
          39,
          34,
          41,
          54,
          50,
          29,
          38,
          69,
          22,
          60,
          86,
          31,
          71,
          53,
          8,
          45,
          44,
          33,
          35,
          31,
          57,
          62,
          17,
          29,
          50,
          53,
          45,
          57,
          62,
          45,
          27,
          26,
          48,
          33,
          54,
          30,
          37,
          78,
          50,
          3,
          49,
          27,
          40,
          51,
          33,
          35,
          59,
          55,
          59,
          59,
          11,
          38,
          59,
          60,
          31,
          15,
          46,
          50,
          12,
          33,
          40,
          50,
          18,
          28,
          17,
          49,
          39,
          43,
          43,
          55,
          32,
          57,
          29,
          50,
          30,
          0,
          59,
          59,
          25,
          28,
          26,
          22
         ],
         "xaxis": "x",
         "yaxis": "y"
        }
       ],
       "layout": {
        "barmode": "relative",
        "legend": {
         "title": {
          "text": "variable"
         },
         "tracegroupgap": 0
        },
        "margin": {
         "t": 60
        },
        "template": {
         "data": {
          "bar": [
           {
            "error_x": {
             "color": "#2a3f5f"
            },
            "error_y": {
             "color": "#2a3f5f"
            },
            "marker": {
             "line": {
              "color": "#E5ECF6",
              "width": 0.5
             },
             "pattern": {
              "fillmode": "overlay",
              "size": 10,
              "solidity": 0.2
             }
            },
            "type": "bar"
           }
          ],
          "barpolar": [
           {
            "marker": {
             "line": {
              "color": "#E5ECF6",
              "width": 0.5
             },
             "pattern": {
              "fillmode": "overlay",
              "size": 10,
              "solidity": 0.2
             }
            },
            "type": "barpolar"
           }
          ],
          "carpet": [
           {
            "aaxis": {
             "endlinecolor": "#2a3f5f",
             "gridcolor": "white",
             "linecolor": "white",
             "minorgridcolor": "white",
             "startlinecolor": "#2a3f5f"
            },
            "baxis": {
             "endlinecolor": "#2a3f5f",
             "gridcolor": "white",
             "linecolor": "white",
             "minorgridcolor": "white",
             "startlinecolor": "#2a3f5f"
            },
            "type": "carpet"
           }
          ],
          "choropleth": [
           {
            "colorbar": {
             "outlinewidth": 0,
             "ticks": ""
            },
            "type": "choropleth"
           }
          ],
          "contour": [
           {
            "colorbar": {
             "outlinewidth": 0,
             "ticks": ""
            },
            "colorscale": [
             [
              0,
              "#0d0887"
             ],
             [
              0.1111111111111111,
              "#46039f"
             ],
             [
              0.2222222222222222,
              "#7201a8"
             ],
             [
              0.3333333333333333,
              "#9c179e"
             ],
             [
              0.4444444444444444,
              "#bd3786"
             ],
             [
              0.5555555555555556,
              "#d8576b"
             ],
             [
              0.6666666666666666,
              "#ed7953"
             ],
             [
              0.7777777777777778,
              "#fb9f3a"
             ],
             [
              0.8888888888888888,
              "#fdca26"
             ],
             [
              1,
              "#f0f921"
             ]
            ],
            "type": "contour"
           }
          ],
          "contourcarpet": [
           {
            "colorbar": {
             "outlinewidth": 0,
             "ticks": ""
            },
            "type": "contourcarpet"
           }
          ],
          "heatmap": [
           {
            "colorbar": {
             "outlinewidth": 0,
             "ticks": ""
            },
            "colorscale": [
             [
              0,
              "#0d0887"
             ],
             [
              0.1111111111111111,
              "#46039f"
             ],
             [
              0.2222222222222222,
              "#7201a8"
             ],
             [
              0.3333333333333333,
              "#9c179e"
             ],
             [
              0.4444444444444444,
              "#bd3786"
             ],
             [
              0.5555555555555556,
              "#d8576b"
             ],
             [
              0.6666666666666666,
              "#ed7953"
             ],
             [
              0.7777777777777778,
              "#fb9f3a"
             ],
             [
              0.8888888888888888,
              "#fdca26"
             ],
             [
              1,
              "#f0f921"
             ]
            ],
            "type": "heatmap"
           }
          ],
          "heatmapgl": [
           {
            "colorbar": {
             "outlinewidth": 0,
             "ticks": ""
            },
            "colorscale": [
             [
              0,
              "#0d0887"
             ],
             [
              0.1111111111111111,
              "#46039f"
             ],
             [
              0.2222222222222222,
              "#7201a8"
             ],
             [
              0.3333333333333333,
              "#9c179e"
             ],
             [
              0.4444444444444444,
              "#bd3786"
             ],
             [
              0.5555555555555556,
              "#d8576b"
             ],
             [
              0.6666666666666666,
              "#ed7953"
             ],
             [
              0.7777777777777778,
              "#fb9f3a"
             ],
             [
              0.8888888888888888,
              "#fdca26"
             ],
             [
              1,
              "#f0f921"
             ]
            ],
            "type": "heatmapgl"
           }
          ],
          "histogram": [
           {
            "marker": {
             "pattern": {
              "fillmode": "overlay",
              "size": 10,
              "solidity": 0.2
             }
            },
            "type": "histogram"
           }
          ],
          "histogram2d": [
           {
            "colorbar": {
             "outlinewidth": 0,
             "ticks": ""
            },
            "colorscale": [
             [
              0,
              "#0d0887"
             ],
             [
              0.1111111111111111,
              "#46039f"
             ],
             [
              0.2222222222222222,
              "#7201a8"
             ],
             [
              0.3333333333333333,
              "#9c179e"
             ],
             [
              0.4444444444444444,
              "#bd3786"
             ],
             [
              0.5555555555555556,
              "#d8576b"
             ],
             [
              0.6666666666666666,
              "#ed7953"
             ],
             [
              0.7777777777777778,
              "#fb9f3a"
             ],
             [
              0.8888888888888888,
              "#fdca26"
             ],
             [
              1,
              "#f0f921"
             ]
            ],
            "type": "histogram2d"
           }
          ],
          "histogram2dcontour": [
           {
            "colorbar": {
             "outlinewidth": 0,
             "ticks": ""
            },
            "colorscale": [
             [
              0,
              "#0d0887"
             ],
             [
              0.1111111111111111,
              "#46039f"
             ],
             [
              0.2222222222222222,
              "#7201a8"
             ],
             [
              0.3333333333333333,
              "#9c179e"
             ],
             [
              0.4444444444444444,
              "#bd3786"
             ],
             [
              0.5555555555555556,
              "#d8576b"
             ],
             [
              0.6666666666666666,
              "#ed7953"
             ],
             [
              0.7777777777777778,
              "#fb9f3a"
             ],
             [
              0.8888888888888888,
              "#fdca26"
             ],
             [
              1,
              "#f0f921"
             ]
            ],
            "type": "histogram2dcontour"
           }
          ],
          "mesh3d": [
           {
            "colorbar": {
             "outlinewidth": 0,
             "ticks": ""
            },
            "type": "mesh3d"
           }
          ],
          "parcoords": [
           {
            "line": {
             "colorbar": {
              "outlinewidth": 0,
              "ticks": ""
             }
            },
            "type": "parcoords"
           }
          ],
          "pie": [
           {
            "automargin": true,
            "type": "pie"
           }
          ],
          "scatter": [
           {
            "fillpattern": {
             "fillmode": "overlay",
             "size": 10,
             "solidity": 0.2
            },
            "type": "scatter"
           }
          ],
          "scatter3d": [
           {
            "line": {
             "colorbar": {
              "outlinewidth": 0,
              "ticks": ""
             }
            },
            "marker": {
             "colorbar": {
              "outlinewidth": 0,
              "ticks": ""
             }
            },
            "type": "scatter3d"
           }
          ],
          "scattercarpet": [
           {
            "marker": {
             "colorbar": {
              "outlinewidth": 0,
              "ticks": ""
             }
            },
            "type": "scattercarpet"
           }
          ],
          "scattergeo": [
           {
            "marker": {
             "colorbar": {
              "outlinewidth": 0,
              "ticks": ""
             }
            },
            "type": "scattergeo"
           }
          ],
          "scattergl": [
           {
            "marker": {
             "colorbar": {
              "outlinewidth": 0,
              "ticks": ""
             }
            },
            "type": "scattergl"
           }
          ],
          "scattermapbox": [
           {
            "marker": {
             "colorbar": {
              "outlinewidth": 0,
              "ticks": ""
             }
            },
            "type": "scattermapbox"
           }
          ],
          "scatterpolar": [
           {
            "marker": {
             "colorbar": {
              "outlinewidth": 0,
              "ticks": ""
             }
            },
            "type": "scatterpolar"
           }
          ],
          "scatterpolargl": [
           {
            "marker": {
             "colorbar": {
              "outlinewidth": 0,
              "ticks": ""
             }
            },
            "type": "scatterpolargl"
           }
          ],
          "scatterternary": [
           {
            "marker": {
             "colorbar": {
              "outlinewidth": 0,
              "ticks": ""
             }
            },
            "type": "scatterternary"
           }
          ],
          "surface": [
           {
            "colorbar": {
             "outlinewidth": 0,
             "ticks": ""
            },
            "colorscale": [
             [
              0,
              "#0d0887"
             ],
             [
              0.1111111111111111,
              "#46039f"
             ],
             [
              0.2222222222222222,
              "#7201a8"
             ],
             [
              0.3333333333333333,
              "#9c179e"
             ],
             [
              0.4444444444444444,
              "#bd3786"
             ],
             [
              0.5555555555555556,
              "#d8576b"
             ],
             [
              0.6666666666666666,
              "#ed7953"
             ],
             [
              0.7777777777777778,
              "#fb9f3a"
             ],
             [
              0.8888888888888888,
              "#fdca26"
             ],
             [
              1,
              "#f0f921"
             ]
            ],
            "type": "surface"
           }
          ],
          "table": [
           {
            "cells": {
             "fill": {
              "color": "#EBF0F8"
             },
             "line": {
              "color": "white"
             }
            },
            "header": {
             "fill": {
              "color": "#C8D4E3"
             },
             "line": {
              "color": "white"
             }
            },
            "type": "table"
           }
          ]
         },
         "layout": {
          "annotationdefaults": {
           "arrowcolor": "#2a3f5f",
           "arrowhead": 0,
           "arrowwidth": 1
          },
          "autotypenumbers": "strict",
          "coloraxis": {
           "colorbar": {
            "outlinewidth": 0,
            "ticks": ""
           }
          },
          "colorscale": {
           "diverging": [
            [
             0,
             "#8e0152"
            ],
            [
             0.1,
             "#c51b7d"
            ],
            [
             0.2,
             "#de77ae"
            ],
            [
             0.3,
             "#f1b6da"
            ],
            [
             0.4,
             "#fde0ef"
            ],
            [
             0.5,
             "#f7f7f7"
            ],
            [
             0.6,
             "#e6f5d0"
            ],
            [
             0.7,
             "#b8e186"
            ],
            [
             0.8,
             "#7fbc41"
            ],
            [
             0.9,
             "#4d9221"
            ],
            [
             1,
             "#276419"
            ]
           ],
           "sequential": [
            [
             0,
             "#0d0887"
            ],
            [
             0.1111111111111111,
             "#46039f"
            ],
            [
             0.2222222222222222,
             "#7201a8"
            ],
            [
             0.3333333333333333,
             "#9c179e"
            ],
            [
             0.4444444444444444,
             "#bd3786"
            ],
            [
             0.5555555555555556,
             "#d8576b"
            ],
            [
             0.6666666666666666,
             "#ed7953"
            ],
            [
             0.7777777777777778,
             "#fb9f3a"
            ],
            [
             0.8888888888888888,
             "#fdca26"
            ],
            [
             1,
             "#f0f921"
            ]
           ],
           "sequentialminus": [
            [
             0,
             "#0d0887"
            ],
            [
             0.1111111111111111,
             "#46039f"
            ],
            [
             0.2222222222222222,
             "#7201a8"
            ],
            [
             0.3333333333333333,
             "#9c179e"
            ],
            [
             0.4444444444444444,
             "#bd3786"
            ],
            [
             0.5555555555555556,
             "#d8576b"
            ],
            [
             0.6666666666666666,
             "#ed7953"
            ],
            [
             0.7777777777777778,
             "#fb9f3a"
            ],
            [
             0.8888888888888888,
             "#fdca26"
            ],
            [
             1,
             "#f0f921"
            ]
           ]
          },
          "colorway": [
           "#636efa",
           "#EF553B",
           "#00cc96",
           "#ab63fa",
           "#FFA15A",
           "#19d3f3",
           "#FF6692",
           "#B6E880",
           "#FF97FF",
           "#FECB52"
          ],
          "font": {
           "color": "#2a3f5f"
          },
          "geo": {
           "bgcolor": "white",
           "lakecolor": "white",
           "landcolor": "#E5ECF6",
           "showlakes": true,
           "showland": true,
           "subunitcolor": "white"
          },
          "hoverlabel": {
           "align": "left"
          },
          "hovermode": "closest",
          "mapbox": {
           "style": "light"
          },
          "paper_bgcolor": "white",
          "plot_bgcolor": "#E5ECF6",
          "polar": {
           "angularaxis": {
            "gridcolor": "white",
            "linecolor": "white",
            "ticks": ""
           },
           "bgcolor": "#E5ECF6",
           "radialaxis": {
            "gridcolor": "white",
            "linecolor": "white",
            "ticks": ""
           }
          },
          "scene": {
           "xaxis": {
            "backgroundcolor": "#E5ECF6",
            "gridcolor": "white",
            "gridwidth": 2,
            "linecolor": "white",
            "showbackground": true,
            "ticks": "",
            "zerolinecolor": "white"
           },
           "yaxis": {
            "backgroundcolor": "#E5ECF6",
            "gridcolor": "white",
            "gridwidth": 2,
            "linecolor": "white",
            "showbackground": true,
            "ticks": "",
            "zerolinecolor": "white"
           },
           "zaxis": {
            "backgroundcolor": "#E5ECF6",
            "gridcolor": "white",
            "gridwidth": 2,
            "linecolor": "white",
            "showbackground": true,
            "ticks": "",
            "zerolinecolor": "white"
           }
          },
          "shapedefaults": {
           "line": {
            "color": "#2a3f5f"
           }
          },
          "ternary": {
           "aaxis": {
            "gridcolor": "white",
            "linecolor": "white",
            "ticks": ""
           },
           "baxis": {
            "gridcolor": "white",
            "linecolor": "white",
            "ticks": ""
           },
           "bgcolor": "#E5ECF6",
           "caxis": {
            "gridcolor": "white",
            "linecolor": "white",
            "ticks": ""
           }
          },
          "title": {
           "x": 0.05
          },
          "xaxis": {
           "automargin": true,
           "gridcolor": "white",
           "linecolor": "white",
           "ticks": "",
           "title": {
            "standoff": 15
           },
           "zerolinecolor": "white",
           "zerolinewidth": 2
          },
          "yaxis": {
           "automargin": true,
           "gridcolor": "white",
           "linecolor": "white",
           "ticks": "",
           "title": {
            "standoff": 15
           },
           "zerolinecolor": "white",
           "zerolinewidth": 2
          }
         }
        },
        "xaxis": {
         "anchor": "y",
         "domain": [
          0,
          1
         ],
         "title": {
          "text": "value"
         }
        },
        "yaxis": {
         "anchor": "x",
         "domain": [
          0,
          1
         ],
         "title": {
          "text": "count"
         }
        }
       }
      },
      "text/html": [
       "<div>                            <div id=\"4a6a9020-1ea5-46b7-81e5-1f3d4776f94a\" class=\"plotly-graph-div\" style=\"height:525px; width:100%;\"></div>            <script type=\"text/javascript\">                require([\"plotly\"], function(Plotly) {                    window.PLOTLYENV=window.PLOTLYENV || {};                                    if (document.getElementById(\"4a6a9020-1ea5-46b7-81e5-1f3d4776f94a\")) {                    Plotly.newPlot(                        \"4a6a9020-1ea5-46b7-81e5-1f3d4776f94a\",                        [{\"alignmentgroup\":\"True\",\"bingroup\":\"x\",\"hovertemplate\":\"variable=discount_percentage %<br>value=%{x}<br>count=%{y}<extra></extra>\",\"legendgroup\":\"discount_percentage %\",\"marker\":{\"color\":\"#636efa\",\"pattern\":{\"shape\":\"\"}},\"name\":\"discount_percentage %\",\"offsetgroup\":\"discount_percentage %\",\"orientation\":\"v\",\"showlegend\":true,\"x\":[64.0,90.0,61.0,85.0,65.0,23.0,55.0,61.0,60.0,13.0,60.0,46.0,44.0,70.0,72.0,25.0,51.0,70.0,64.0,65.0,0.0,80.0,85.0,53.0,80.0,51.0,64.0,38.0,70.0,67.0,58.0,60.0,45.0,62.0,43.0,54.0,77.0,56.0,78.0,86.0,61.0,62.0,47.0,69.0,61.0,42.0,77.0,60.0,60.0,55.0,58.0,64.0,64.0,44.0,63.0,75.0,80.0,68.0,66.0,80.0,17.0,69.0,65.0,42.0,52.0,77.0,53.0,67.0,65.0,60.0,65.0,70.0,88.0,73.0,60.0,80.0,47.0,35.0,65.0,85.0,75.0,20.0,63.0,53.0,62.0,42.0,60.0,73.0,40.0,73.0,58.0,0.0,50.0,64.0,43.0,61.0,52.0,44.0,31.0,47.0,69.0,62.0,38.0,50.0,25.0,58.0,56.0,32.0,66.0,70.0,63.0,29.0,75.0,69.0,83.0,38.0,44.0,63.0,67.0,60.0,71.0,64.0,71.0,60.0,59.0,57.0,15.0,53.0,58.0,38.0,53.0,66.0,76.0,75.0,47.0,75.0,48.0,41.0,55.0,82.0,63.0,66.0,65.0,25.0,42.0,75.0,66.0,61.0,60.0,70.0,83.0,65.0,43.0,68.0,67.0,50.0,50.0,46.0,57.0,58.0,88.0,54.0,73.0,55.0,75.0,77.0,29.0,56.0,59.0,68.0,50.0,55.0,66.0,60.0,50.0,83.0,63.0,89.0,45.0,87.0,56.0,44.0,63.0,70.0,76.0,42.0,70.0,61.0,57.0,70.0,35.0,80.0,43.0,65.0,52.0,60.0,60.0,60.0,50.0,38.0,57.0,88.0,75.0,59.0,48.0,59.0,70.0,61.0,50.0,50.0,59.0,71.0,62.0,63.0,78.0,80.0,45.0,15.0,66.0,63.0,23.0,78.0,61.0,59.0,63.0,38.0,54.0,60.0,50.0,57.0,65.0,61.0,48.0,20.0,63.0,73.0,40.0,28.0,64.0,72.0,80.0,49.0,66.0,37.0,80.0,65.0,85.0,90.0,84.0,60.0,38.0,28.0,65.0,35.0,60.0,62.0,42.0,76.0,77.0,81.0,38.0,66.0,50.0,61.0,14.0,66.0,65.0,52.0,0.0,66.0,75.0,81.0,82.0,70.0,65.0,65.0,17.0,81.0,44.0,85.0,40.0,82.0,67.0,85.0,14.0,58.0,75.0,84.0,5.0,80.0,66.0,74.0,70.0,58.0,46.0,13.0,80.0,0.0,28.0,90.0,50.0,38.0,42.0,90.0,16.0,75.0,69.0,74.0,60.0,55.0,56.0,57.0,17.0,82.0,79.0,72.0,63.0,8.0,62.0,77.0,63.0,90.0,73.0,50.0,69.0,54.0,0.0,21.0,69.0,44.0,33.0,30.0,80.0,75.0,0.0,60.0,6.0,87.0,76.0,56.0,27.0,15.0,87.0,78.0,5.0,60.0,43.0,80.0,18.0,54.0,52.0,54.0,56.0,43.0,24.0,50.0,55.0,38.0,2.0,33.0,47.0,94.0,4.0,6.0,38.0,75.0,0.0,63.0,0.0,36.0,40.0,26.0,14.0,55.0,73.0,58.0,25.0,83.0,0.0,85.0,63.0,71.0,43.0,25.0,53.0,54.0,55.0,55.0,0.0,80.0,28.0,20.0,19.0,20.0,60.0,66.0,39.0,60.0,80.0,31.0,66.0,85.0,85.0,73.0,10.0,57.0,77.0,51.0,22.0,51.0,70.0,23.0,55.0,50.0,77.0,40.0,70.0,60.0,62.0,0.0,11.0,30.0,67.0,50.0,38.0,59.0,64.0,46.0,55.0,21.0,49.0,0.0,64.0,41.0,65.0,42.0,60.0,80.0,85.0,69.0,43.0,18.0,62.0,63.0,5.0,0.0,35.0,0.0,40.0,79.0,15.0,54.0,62.0,60.0,50.0,82.0,2.0,88.0,65.0,57.0,70.0,30.0,66.0,10.0,43.0,40.0,53.0,78.0,21.0,0.0,23.0,62.0,76.0,0.0,10.0,66.0,25.0,25.0,65.0,38.0,13.0,55.0,35.0,24.0,18.0,74.0,23.0,15.0,10.0,55.0,0.0,53.0,76.0,78.0,75.0,50.0,40.0,56.0,36.0,73.0,58.0,66.0,80.0,75.0,53.0,46.0,0.0,50.0,0.0,76.0,24.0,42.0,59.0,31.0,17.0,34.0,0.0,51.0,69.0,0.0,80.0,50.0,79.0,14.0,48.0,73.0,62.0,47.0,10.0,55.0,36.0,50.0,0.0,70.0,27.0,0.0,57.0,0.0,0.0,75.0,64.0,60.0,70.0,50.0,29.0,40.0,54.0,90.0,40.0,10.0,22.0,50.0,11.0,50.0,55.0,48.0,42.0,46.0,56.0,40.0,24.0,45.0,50.0,80.0,56.0,41.0,55.0,65.0,44.0,55.0,48.0,61.0,12.0,37.0,21.0,50.0,26.0,34.0,40.0,62.0,54.0,42.0,50.0,55.0,14.0,45.0,24.0,60.0,46.0,39.0,27.0,37.0,48.0,65.0,47.0,60.0,0.0,44.0,61.0,34.0,26.0,28.0,51.0,20.0,36.0,14.0,16.0,71.0,42.0,23.0,0.0,35.0,26.0,14.0,11.0,54.0,51.0,18.0,57.0,16.0,71.0,39.0,33.0,35.0,41.0,46.0,0.0,0.0,47.0,36.0,45.0,20.0,29.0,60.0,26.0,33.0,55.0,59.0,31.0,20.0,62.0,48.0,38.0,41.0,52.0,18.0,78.0,31.0,48.0,48.0,42.0,51.0,55.0,0.0,47.0,43.0,52.0,0.0,32.0,47.0,39.0,49.0,49.0,0.0,31.0,60.0,40.0,20.0,47.0,79.0,0.0,11.0,35.0,49.0,60.0,42.0,55.0,26.0,41.0,36.0,49.0,74.0,58.0,29.0,37.0,38.0,60.0,64.0,44.0,58.0,35.0,53.0,29.0,15.0,12.0,43.0,77.0,11.0,46.0,61.0,50.0,49.0,29.0,41.0,0.0,56.0,46.0,62.0,20.0,50.0,43.0,66.0,62.0,39.0,70.0,41.0,4.0,20.0,47.0,34.0,68.0,53.0,27.0,31.0,12.0,39.0,39.0,33.0,7.0,55.0,58.0,51.0,50.0,55.0,41.0,15.0,6.0,17.0,73.0,0.0,61.0,54.0,16.0,40.0,56.0,18.0,55.0,14.0,37.0,46.0,57.0,55.0,24.0,50.0,38.0,44.0,67.0,22.0,45.0,52.0,3.0,21.0,0.0,48.0,3.0,52.0,28.0,58.0,43.0,49.0,50.0,45.0,40.0,58.0,28.0,45.0,68.0,40.0,62.0,25.0,27.0,62.0,41.0,53.0,21.0,33.0,55.0,18.0,37.0,37.0,51.0,9.0,30.0,58.0,14.0,53.0,60.0,43.0,41.0,43.0,0.0,54.0,8.0,45.0,29.0,55.0,64.0,51.0,76.0,39.0,34.0,41.0,54.0,50.0,29.0,38.0,69.0,22.0,60.0,86.0,31.0,71.0,53.0,8.0,45.0,44.0,33.0,35.0,31.0,57.0,62.0,17.0,29.0,50.0,53.0,45.0,57.0,62.0,45.0,27.0,26.0,48.0,33.0,54.0,30.0,37.0,78.0,50.0,3.0,49.0,27.0,40.0,51.0,33.0,35.0,59.0,55.0,59.0,59.0,11.0,38.0,59.0,60.0,31.0,15.0,46.0,50.0,12.0,33.0,40.0,50.0,18.0,28.0,17.0,49.0,39.0,43.0,43.0,55.0,32.0,57.0,29.0,50.0,30.0,0.0,59.0,59.0,25.0,28.0,26.0,22.0],\"xaxis\":\"x\",\"yaxis\":\"y\",\"type\":\"histogram\"}],                        {\"template\":{\"data\":{\"histogram2dcontour\":[{\"type\":\"histogram2dcontour\",\"colorbar\":{\"outlinewidth\":0,\"ticks\":\"\"},\"colorscale\":[[0.0,\"#0d0887\"],[0.1111111111111111,\"#46039f\"],[0.2222222222222222,\"#7201a8\"],[0.3333333333333333,\"#9c179e\"],[0.4444444444444444,\"#bd3786\"],[0.5555555555555556,\"#d8576b\"],[0.6666666666666666,\"#ed7953\"],[0.7777777777777778,\"#fb9f3a\"],[0.8888888888888888,\"#fdca26\"],[1.0,\"#f0f921\"]]}],\"choropleth\":[{\"type\":\"choropleth\",\"colorbar\":{\"outlinewidth\":0,\"ticks\":\"\"}}],\"histogram2d\":[{\"type\":\"histogram2d\",\"colorbar\":{\"outlinewidth\":0,\"ticks\":\"\"},\"colorscale\":[[0.0,\"#0d0887\"],[0.1111111111111111,\"#46039f\"],[0.2222222222222222,\"#7201a8\"],[0.3333333333333333,\"#9c179e\"],[0.4444444444444444,\"#bd3786\"],[0.5555555555555556,\"#d8576b\"],[0.6666666666666666,\"#ed7953\"],[0.7777777777777778,\"#fb9f3a\"],[0.8888888888888888,\"#fdca26\"],[1.0,\"#f0f921\"]]}],\"heatmap\":[{\"type\":\"heatmap\",\"colorbar\":{\"outlinewidth\":0,\"ticks\":\"\"},\"colorscale\":[[0.0,\"#0d0887\"],[0.1111111111111111,\"#46039f\"],[0.2222222222222222,\"#7201a8\"],[0.3333333333333333,\"#9c179e\"],[0.4444444444444444,\"#bd3786\"],[0.5555555555555556,\"#d8576b\"],[0.6666666666666666,\"#ed7953\"],[0.7777777777777778,\"#fb9f3a\"],[0.8888888888888888,\"#fdca26\"],[1.0,\"#f0f921\"]]}],\"heatmapgl\":[{\"type\":\"heatmapgl\",\"colorbar\":{\"outlinewidth\":0,\"ticks\":\"\"},\"colorscale\":[[0.0,\"#0d0887\"],[0.1111111111111111,\"#46039f\"],[0.2222222222222222,\"#7201a8\"],[0.3333333333333333,\"#9c179e\"],[0.4444444444444444,\"#bd3786\"],[0.5555555555555556,\"#d8576b\"],[0.6666666666666666,\"#ed7953\"],[0.7777777777777778,\"#fb9f3a\"],[0.8888888888888888,\"#fdca26\"],[1.0,\"#f0f921\"]]}],\"contourcarpet\":[{\"type\":\"contourcarpet\",\"colorbar\":{\"outlinewidth\":0,\"ticks\":\"\"}}],\"contour\":[{\"type\":\"contour\",\"colorbar\":{\"outlinewidth\":0,\"ticks\":\"\"},\"colorscale\":[[0.0,\"#0d0887\"],[0.1111111111111111,\"#46039f\"],[0.2222222222222222,\"#7201a8\"],[0.3333333333333333,\"#9c179e\"],[0.4444444444444444,\"#bd3786\"],[0.5555555555555556,\"#d8576b\"],[0.6666666666666666,\"#ed7953\"],[0.7777777777777778,\"#fb9f3a\"],[0.8888888888888888,\"#fdca26\"],[1.0,\"#f0f921\"]]}],\"surface\":[{\"type\":\"surface\",\"colorbar\":{\"outlinewidth\":0,\"ticks\":\"\"},\"colorscale\":[[0.0,\"#0d0887\"],[0.1111111111111111,\"#46039f\"],[0.2222222222222222,\"#7201a8\"],[0.3333333333333333,\"#9c179e\"],[0.4444444444444444,\"#bd3786\"],[0.5555555555555556,\"#d8576b\"],[0.6666666666666666,\"#ed7953\"],[0.7777777777777778,\"#fb9f3a\"],[0.8888888888888888,\"#fdca26\"],[1.0,\"#f0f921\"]]}],\"mesh3d\":[{\"type\":\"mesh3d\",\"colorbar\":{\"outlinewidth\":0,\"ticks\":\"\"}}],\"scatter\":[{\"fillpattern\":{\"fillmode\":\"overlay\",\"size\":10,\"solidity\":0.2},\"type\":\"scatter\"}],\"parcoords\":[{\"type\":\"parcoords\",\"line\":{\"colorbar\":{\"outlinewidth\":0,\"ticks\":\"\"}}}],\"scatterpolargl\":[{\"type\":\"scatterpolargl\",\"marker\":{\"colorbar\":{\"outlinewidth\":0,\"ticks\":\"\"}}}],\"bar\":[{\"error_x\":{\"color\":\"#2a3f5f\"},\"error_y\":{\"color\":\"#2a3f5f\"},\"marker\":{\"line\":{\"color\":\"#E5ECF6\",\"width\":0.5},\"pattern\":{\"fillmode\":\"overlay\",\"size\":10,\"solidity\":0.2}},\"type\":\"bar\"}],\"scattergeo\":[{\"type\":\"scattergeo\",\"marker\":{\"colorbar\":{\"outlinewidth\":0,\"ticks\":\"\"}}}],\"scatterpolar\":[{\"type\":\"scatterpolar\",\"marker\":{\"colorbar\":{\"outlinewidth\":0,\"ticks\":\"\"}}}],\"histogram\":[{\"marker\":{\"pattern\":{\"fillmode\":\"overlay\",\"size\":10,\"solidity\":0.2}},\"type\":\"histogram\"}],\"scattergl\":[{\"type\":\"scattergl\",\"marker\":{\"colorbar\":{\"outlinewidth\":0,\"ticks\":\"\"}}}],\"scatter3d\":[{\"type\":\"scatter3d\",\"line\":{\"colorbar\":{\"outlinewidth\":0,\"ticks\":\"\"}},\"marker\":{\"colorbar\":{\"outlinewidth\":0,\"ticks\":\"\"}}}],\"scattermapbox\":[{\"type\":\"scattermapbox\",\"marker\":{\"colorbar\":{\"outlinewidth\":0,\"ticks\":\"\"}}}],\"scatterternary\":[{\"type\":\"scatterternary\",\"marker\":{\"colorbar\":{\"outlinewidth\":0,\"ticks\":\"\"}}}],\"scattercarpet\":[{\"type\":\"scattercarpet\",\"marker\":{\"colorbar\":{\"outlinewidth\":0,\"ticks\":\"\"}}}],\"carpet\":[{\"aaxis\":{\"endlinecolor\":\"#2a3f5f\",\"gridcolor\":\"white\",\"linecolor\":\"white\",\"minorgridcolor\":\"white\",\"startlinecolor\":\"#2a3f5f\"},\"baxis\":{\"endlinecolor\":\"#2a3f5f\",\"gridcolor\":\"white\",\"linecolor\":\"white\",\"minorgridcolor\":\"white\",\"startlinecolor\":\"#2a3f5f\"},\"type\":\"carpet\"}],\"table\":[{\"cells\":{\"fill\":{\"color\":\"#EBF0F8\"},\"line\":{\"color\":\"white\"}},\"header\":{\"fill\":{\"color\":\"#C8D4E3\"},\"line\":{\"color\":\"white\"}},\"type\":\"table\"}],\"barpolar\":[{\"marker\":{\"line\":{\"color\":\"#E5ECF6\",\"width\":0.5},\"pattern\":{\"fillmode\":\"overlay\",\"size\":10,\"solidity\":0.2}},\"type\":\"barpolar\"}],\"pie\":[{\"automargin\":true,\"type\":\"pie\"}]},\"layout\":{\"autotypenumbers\":\"strict\",\"colorway\":[\"#636efa\",\"#EF553B\",\"#00cc96\",\"#ab63fa\",\"#FFA15A\",\"#19d3f3\",\"#FF6692\",\"#B6E880\",\"#FF97FF\",\"#FECB52\"],\"font\":{\"color\":\"#2a3f5f\"},\"hovermode\":\"closest\",\"hoverlabel\":{\"align\":\"left\"},\"paper_bgcolor\":\"white\",\"plot_bgcolor\":\"#E5ECF6\",\"polar\":{\"bgcolor\":\"#E5ECF6\",\"angularaxis\":{\"gridcolor\":\"white\",\"linecolor\":\"white\",\"ticks\":\"\"},\"radialaxis\":{\"gridcolor\":\"white\",\"linecolor\":\"white\",\"ticks\":\"\"}},\"ternary\":{\"bgcolor\":\"#E5ECF6\",\"aaxis\":{\"gridcolor\":\"white\",\"linecolor\":\"white\",\"ticks\":\"\"},\"baxis\":{\"gridcolor\":\"white\",\"linecolor\":\"white\",\"ticks\":\"\"},\"caxis\":{\"gridcolor\":\"white\",\"linecolor\":\"white\",\"ticks\":\"\"}},\"coloraxis\":{\"colorbar\":{\"outlinewidth\":0,\"ticks\":\"\"}},\"colorscale\":{\"sequential\":[[0.0,\"#0d0887\"],[0.1111111111111111,\"#46039f\"],[0.2222222222222222,\"#7201a8\"],[0.3333333333333333,\"#9c179e\"],[0.4444444444444444,\"#bd3786\"],[0.5555555555555556,\"#d8576b\"],[0.6666666666666666,\"#ed7953\"],[0.7777777777777778,\"#fb9f3a\"],[0.8888888888888888,\"#fdca26\"],[1.0,\"#f0f921\"]],\"sequentialminus\":[[0.0,\"#0d0887\"],[0.1111111111111111,\"#46039f\"],[0.2222222222222222,\"#7201a8\"],[0.3333333333333333,\"#9c179e\"],[0.4444444444444444,\"#bd3786\"],[0.5555555555555556,\"#d8576b\"],[0.6666666666666666,\"#ed7953\"],[0.7777777777777778,\"#fb9f3a\"],[0.8888888888888888,\"#fdca26\"],[1.0,\"#f0f921\"]],\"diverging\":[[0,\"#8e0152\"],[0.1,\"#c51b7d\"],[0.2,\"#de77ae\"],[0.3,\"#f1b6da\"],[0.4,\"#fde0ef\"],[0.5,\"#f7f7f7\"],[0.6,\"#e6f5d0\"],[0.7,\"#b8e186\"],[0.8,\"#7fbc41\"],[0.9,\"#4d9221\"],[1,\"#276419\"]]},\"xaxis\":{\"gridcolor\":\"white\",\"linecolor\":\"white\",\"ticks\":\"\",\"title\":{\"standoff\":15},\"zerolinecolor\":\"white\",\"automargin\":true,\"zerolinewidth\":2},\"yaxis\":{\"gridcolor\":\"white\",\"linecolor\":\"white\",\"ticks\":\"\",\"title\":{\"standoff\":15},\"zerolinecolor\":\"white\",\"automargin\":true,\"zerolinewidth\":2},\"scene\":{\"xaxis\":{\"backgroundcolor\":\"#E5ECF6\",\"gridcolor\":\"white\",\"linecolor\":\"white\",\"showbackground\":true,\"ticks\":\"\",\"zerolinecolor\":\"white\",\"gridwidth\":2},\"yaxis\":{\"backgroundcolor\":\"#E5ECF6\",\"gridcolor\":\"white\",\"linecolor\":\"white\",\"showbackground\":true,\"ticks\":\"\",\"zerolinecolor\":\"white\",\"gridwidth\":2},\"zaxis\":{\"backgroundcolor\":\"#E5ECF6\",\"gridcolor\":\"white\",\"linecolor\":\"white\",\"showbackground\":true,\"ticks\":\"\",\"zerolinecolor\":\"white\",\"gridwidth\":2}},\"shapedefaults\":{\"line\":{\"color\":\"#2a3f5f\"}},\"annotationdefaults\":{\"arrowcolor\":\"#2a3f5f\",\"arrowhead\":0,\"arrowwidth\":1},\"geo\":{\"bgcolor\":\"white\",\"landcolor\":\"#E5ECF6\",\"subunitcolor\":\"white\",\"showland\":true,\"showlakes\":true,\"lakecolor\":\"white\"},\"title\":{\"x\":0.05},\"mapbox\":{\"style\":\"light\"}}},\"xaxis\":{\"anchor\":\"y\",\"domain\":[0.0,1.0],\"title\":{\"text\":\"value\"}},\"yaxis\":{\"anchor\":\"x\",\"domain\":[0.0,1.0],\"title\":{\"text\":\"count\"}},\"legend\":{\"title\":{\"text\":\"variable\"},\"tracegroupgap\":0},\"margin\":{\"t\":60},\"barmode\":\"relative\"},                        {\"responsive\": true}                    ).then(function(){\n",
       "                            \n",
       "var gd = document.getElementById('4a6a9020-1ea5-46b7-81e5-1f3d4776f94a');\n",
       "var x = new MutationObserver(function (mutations, observer) {{\n",
       "        var display = window.getComputedStyle(gd).display;\n",
       "        if (!display || display === 'none') {{\n",
       "            console.log([gd, 'removed!']);\n",
       "            Plotly.purge(gd);\n",
       "            observer.disconnect();\n",
       "        }}\n",
       "}});\n",
       "\n",
       "// Listen for the removal of the full notebook cells\n",
       "var notebookContainer = gd.closest('#notebook-container');\n",
       "if (notebookContainer) {{\n",
       "    x.observe(notebookContainer, {childList: true});\n",
       "}}\n",
       "\n",
       "// Listen for the clearing of the current output cell\n",
       "var outputEl = gd.closest('.output');\n",
       "if (outputEl) {{\n",
       "    x.observe(outputEl, {childList: true});\n",
       "}}\n",
       "\n",
       "                        })                };                });            </script>        </div>"
      ]
     },
     "metadata": {},
     "output_type": "display_data"
    }
   ],
   "source": [
    "px.histogram(df['discount_percentage %'])"
   ]
  },
  {
   "cell_type": "code",
   "execution_count": 32,
   "id": "be6192d3",
   "metadata": {},
   "outputs": [
    {
     "data": {
      "text/plain": [
       "<seaborn.axisgrid.FacetGrid at 0x1a283c65190>"
      ]
     },
     "execution_count": 32,
     "metadata": {},
     "output_type": "execute_result"
    },
    {
     "data": {
      "text/plain": [
       "<Figure size 1000x500 with 0 Axes>"
      ]
     },
     "metadata": {},
     "output_type": "display_data"
    },
    {
     "data": {
      "image/png": "[encoded data removed]",
      "text/plain": [
       "<Figure size 500x500 with 1 Axes>"
      ]
     },
     "metadata": {},
     "output_type": "display_data"
    }
   ],
   "source": [
    "sns.displot(df['discount_percentage %'],kde=True)"
   ]
  },
  {
   "cell_type": "markdown",
   "id": "90bfb7c5",
   "metadata": {},
   "source": [
    "#### Distribution of discounted price"
   ]
  },
  {
   "cell_type": "code",
   "execution_count": 33,
   "id": "769825ce",
   "metadata": {},
   "outputs": [
    {
     "data": {
      "text/plain": [
       "<seaborn.axisgrid.FacetGrid at 0x1a283895e20>"
      ]
     },
     "execution_count": 33,
     "metadata": {},
     "output_type": "execute_result"
    },
    {
     "data": {
      "text/plain": [
       "<Figure size 1000x500 with 0 Axes>"
      ]
     },
     "metadata": {},
     "output_type": "display_data"
    },
    {
     "data": {
      "image/png": "[encoded data removed]",
      "text/plain": [
       "<Figure size 500x500 with 1 Axes>"
      ]
     },
     "metadata": {},
     "output_type": "display_data"
    }
   ],
   "source": [
    "sns.displot(df['discounted_price'],kde=True)"
   ]
  },
  {
   "cell_type": "code",
   "execution_count": 30,
   "id": "d79d905f",
   "metadata": {},
   "outputs": [
    {
     "data": {
      "application/vnd.plotly.v1+json": {
       "config": {
        "plotlyServerURL": "https://plot.ly"
       },
       "data": [
        {
         "alignmentgroup": "True",
         "bingroup": "x",
         "hovertemplate": "variable=discounted_price<br>value=%{x}<br>count=%{y}<extra></extra>",
         "legendgroup": "discounted_price",
         "marker": {
          "color": "#636efa",
          "pattern": {
           "shape": ""
          }
         },
         "name": "discounted_price",
         "offsetgroup": "discounted_price",
         "orientation": "v",
         "showlegend": true,
         "type": "histogram",
         "x": [
          399,
          199,
          154,
          149,
          176.63,
          229,
          154,
          350,
          159,
          349,
          199,
          970,
          279,
          59,
          199,
          299,
          970,
          299,
          179,
          389,
          599,
          199,
          99,
          899,
          199,
          970,
          399,
          999,
          59,
          333,
          507,
          399,
          1199,
          799,
          199,
          230,
          348,
          154,
          179,
          139,
          329,
          263,
          1599,
          219,
          349,
          349,
          115,
          399,
          199,
          179,
          209,
          1434,
          399,
          139,
          299,
          325,
          199,
          649,
          269,
          199,
          290,
          249,
          345,
          1099,
          719,
          349,
          849,
          299,
          349,
          399,
          449,
          299,
          99,
          273.1,
          399,
          399,
          210,
          1299,
          347,
          149,
          228,
          1599,
          1499,
          799,
          229,
          349,
          399,
          349,
          179,
          249,
          999,
          399,
          349,
          399,
          1699,
          195,
          999,
          499,
          416,
          368,
          339,
          499,
          249,
          399,
          1499,
          637,
          399,
          1089,
          339,
          149,
          149,
          599,
          299,
          399,
          339,
          249,
          1399,
          149,
          325,
          199,
          88,
          399,
          57.89,
          799,
          205,
          299,
          849,
          949,
          499,
          299,
          949,
          379,
          486,
          299,
          320,
          139,
          129,
          999,
          225,
          547,
          259,
          239,
          349,
          449,
          350,
          252,
          204,
          235,
          799,
          299,
          173,
          209,
          848.99,
          649,
          299,
          399,
          249,
          1249,
          213,
          209,
          598,
          799,
          159,
          499,
          299,
          128.31,
          599,
          399,
          449,
          254,
          399,
          179,
          339,
          399,
          199,
          349,
          299,
          89,
          549,
          129,
          349,
          499,
          299,
          182,
          96,
          439,
          299,
          789,
          299,
          325,
          1299,
          199,
          2299,
          349,
          719,
          917,
          399,
          119,
          299,
          417.44,
          215,
          99,
          249,
          649,
          1289,
          609,
          599,
          349,
          199,
          349,
          1850,
          129,
          379,
          185,
          218,
          199,
          499,
          893,
          379,
          699,
          2699,
          129,
          389,
          246,
          299,
          247,
          1369,
          199,
          299,
          299,
          349,
          197,
          1299,
          1519,
          299,
          349,
          1499,
          1219,
          399,
          139,
          199,
          873,
          539,
          1075,
          399,
          529,
          149,
          99,
          299,
          199,
          999,
          1799,
          176.63,
          649,
          119,
          249,
          99,
          489,
          369,
          134,
          999,
          999,
          999,
          350,
          1399,
          999,
          2099,
          337,
          499,
          999,
          251,
          279,
          269,
          59,
          349,
          349,
          499,
          95,
          139,
          89,
          599,
          199,
          329,
          99,
          1399,
          249,
          299,
          79,
          949,
          99,
          689,
          499,
          299,
          209,
          2179,
          2599,
          799,
          149,
          3799,
          199,
          299,
          1599,
          699,
          99,
          1055,
          150,
          219,
          474,
          239,
          1799,
          219,
          599,
          2499,
          89,
          314,
          139,
          2599,
          217,
          263,
          349,
          149,
          99,
          349,
          299,
          549,
          299,
          50,
          130,
          399,
          1399,
          299,
          699,
          799,
          1399,
          1295,
          399,
          717,
          39,
          1199,
          569,
          399,
          191,
          129,
          999,
          522,
          799,
          681,
          100,
          329,
          139,
          1199,
          1049,
          656,
          169,
          309,
          299,
          449,
          799,
          157,
          599,
          1598,
          294,
          828,
          745,
          1549,
          198,
          549,
          1299,
          59,
          448,
          299,
          279,
          137,
          1799,
          399,
          1699,
          1495,
          849,
          440,
          599,
          149,
          289,
          399,
          599,
          949,
          1329,
          899,
          449,
          100,
          299,
          1295,
          252,
          1299,
          480,
          999,
          238,
          1349,
          199,
          99,
          125,
          399,
          1199,
          235,
          549,
          89,
          1299,
          230,
          1699,
          561,
          289,
          599,
          1990,
          449,
          999,
          69,
          899,
          149,
          999,
          378,
          99,
          67,
          1889,
          499,
          499,
          499,
          249,
          179,
          299,
          629,
          2595,
          90,
          599,
          179,
          1345,
          349,
          287,
          199,
          199,
          149,
          469,
          849,
          328,
          269,
          549,
          114,
          120,
          1490,
          99,
          149,
          575,
          178,
          1599,
          499,
          199,
          1439,
          1099,
          157,
          115,
          175,
          1999,
          299,
          3303,
          1890,
          90,
          1599,
          599,
          425,
          549,
          1295,
          310,
          1149,
          499,
          999,
          250,
          90,
          2025,
          1495,
          899,
          349,
          2490,
          200,
          1249,
          649,
          2649,
          596,
          649,
          1234,
          272,
          3498,
          449,
          150,
          699,
          354,
          1199,
          379,
          649,
          1199,
          889,
          1409,
          549,
          749,
          379,
          299,
          379,
          1399,
          699,
          300,
          999,
          535,
          269,
          341,
          699,
          326,
          1995,
          2640,
          1990,
          165,
          1699,
          2299,
          39,
          398,
          770,
          279,
          599,
          598,
          399,
          499,
          579,
          90,
          899,
          1149,
          249,
          39,
          1199,
          1099,
          120,
          1519,
          420,
          225,
          199,
          499,
          799,
          298,
          1499,
          1199,
          1199,
          455,
          199,
          749,
          1399,
          1043,
          499,
          1464,
          249,
          625,
          1290,
          3600,
          1625,
          2599,
          1199,
          599,
          549,
          999,
          398,
          699,
          2148,
          3599,
          351,
          719,
          678,
          809,
          1969,
          1490,
          2499,
          1665,
          1799,
          1260,
          749,
          3499,
          379,
          1099,
          749,
          549,
          899,
          1321,
          1099,
          3190,
          799,
          2699,
          599,
          1819,
          1199,
          3249,
          349,
          799,
          799,
          89,
          1400,
          355,
          2169,
          2799,
          899,
          3599,
          499,
          653,
          1409,
          753,
          353,
          1099,
          1345,
          2095,
          1498,
          2199,
          3699,
          177,
          1149,
          244,
          1959,
          319,
          1499,
          469,
          1099,
          999,
          1299,
          292,
          160,
          600,
          1130,
          368,
          3199,
          1599,
          1999,
          1499,
          199,
          610,
          999,
          453,
          2464,
          2719,
          2799,
          2088,
          2399,
          308,
          2599,
          479,
          245,
          179,
          3569,
          699,
          2089,
          2339,
          784,
          899,
          1695,
          499,
          2699,
          1448,
          79,
          2698,
          3199,
          1199,
          1414,
          999,
          698,
          2199,
          320,
          298,
          1199,
          1399,
          599,
          1499,
          1699,
          649,
          3249,
          199,
          1099,
          664,
          260,
          1484,
          999,
          3299,
          259,
          3249,
          4280,
          189,
          1449,
          199,
          474,
          279,
          1999,
          799,
          949,
          3657.66,
          1699,
          1849,
          1099,
          499,
          1595,
          1049,
          1182,
          499,
          1529,
          1199,
          1052,
          239,
          699,
          1547,
          499,
          510,
          1899,
          2599,
          1199,
          999,
          1999,
          210,
          950,
          2439,
          1599,
          2899,
          3299,
          351,
          899,
          1349,
          2742,
          2903,
          1656,
          1399,
          2079,
          999,
          3179,
          1049,
          3599,
          1699,
          664,
          948,
          850,
          600,
          3711,
          799,
          980,
          351,
          229,
          3349,
          299,
          699,
          1235,
          1349,
          1699,
          1069,
          1349,
          1499,
          2092,
          1804,
          1189,
          2590,
          899,
          998,
          998.06,
          1099,
          475,
          949,
          395,
          635,
          717,
          649,
          193,
          2449,
          1049,
          2399,
          2286,
          299,
          559,
          660,
          419,
          2899,
          1799,
          1474,
          3645,
          375,
          2976,
          1099,
          2575,
          1649,
          799,
          765,
          999,
          587,
          699,
          3799,
          640,
          979,
          3199,
          979,
          929,
          3710,
          2033,
          949,
          2790,
          645,
          2237.81,
          825,
          697,
          688,
          2199,
          2699,
          899,
          1090,
          295,
          479,
          2949,
          335,
          293,
          599,
          499,
          849,
          249,
          185,
          778,
          279,
          215,
          889,
          1449,
          1190,
          1799,
          1799,
          2199,
          3685,
          649,
          1110,
          1499,
          759,
          2669,
          929,
          199,
          279,
          549,
          85,
          499,
          1260,
          1099,
          1928,
          3249,
          1199,
          1456,
          3349,
          1199,
          179,
          149,
          379,
          3041.67,
          1745,
          3180,
          390,
          1999,
          1624,
          184,
          445,
          699,
          1601,
          231,
          369,
          809,
          1199,
          1799,
          1999,
          2599,
          1199,
          219,
          799,
          1982.84,
          199,
          1180,
          2199,
          2999,
          253,
          1149,
          457,
          229,
          899,
          1499,
          426,
          2320,
          1563,
          3487.77,
          2695,
          949,
          379,
          2280,
          2219,
          1399,
          2863
         ],
         "xaxis": "x",
         "yaxis": "y"
        }
       ],
       "layout": {
        "barmode": "relative",
        "legend": {
         "title": {
          "text": "variable"
         },
         "tracegroupgap": 0
        },
        "margin": {
         "t": 60
        },
        "template": {
         "data": {
          "bar": [
           {
            "error_x": {
             "color": "#2a3f5f"
            },
            "error_y": {
             "color": "#2a3f5f"
            },
            "marker": {
             "line": {
              "color": "#E5ECF6",
              "width": 0.5
             },
             "pattern": {
              "fillmode": "overlay",
              "size": 10,
              "solidity": 0.2
             }
            },
            "type": "bar"
           }
          ],
          "barpolar": [
           {
            "marker": {
             "line": {
              "color": "#E5ECF6",
              "width": 0.5
             },
             "pattern": {
              "fillmode": "overlay",
              "size": 10,
              "solidity": 0.2
             }
            },
            "type": "barpolar"
           }
          ],
          "carpet": [
           {
            "aaxis": {
             "endlinecolor": "#2a3f5f",
             "gridcolor": "white",
             "linecolor": "white",
             "minorgridcolor": "white",
             "startlinecolor": "#2a3f5f"
            },
            "baxis": {
             "endlinecolor": "#2a3f5f",
             "gridcolor": "white",
             "linecolor": "white",
             "minorgridcolor": "white",
             "startlinecolor": "#2a3f5f"
            },
            "type": "carpet"
           }
          ],
          "choropleth": [
           {
            "colorbar": {
             "outlinewidth": 0,
             "ticks": ""
            },
            "type": "choropleth"
           }
          ],
          "contour": [
           {
            "colorbar": {
             "outlinewidth": 0,
             "ticks": ""
            },
            "colorscale": [
             [
              0,
              "#0d0887"
             ],
             [
              0.1111111111111111,
              "#46039f"
             ],
             [
              0.2222222222222222,
              "#7201a8"
             ],
             [
              0.3333333333333333,
              "#9c179e"
             ],
             [
              0.4444444444444444,
              "#bd3786"
             ],
             [
              0.5555555555555556,
              "#d8576b"
             ],
             [
              0.6666666666666666,
              "#ed7953"
             ],
             [
              0.7777777777777778,
              "#fb9f3a"
             ],
             [
              0.8888888888888888,
              "#fdca26"
             ],
             [
              1,
              "#f0f921"
             ]
            ],
            "type": "contour"
           }
          ],
          "contourcarpet": [
           {
            "colorbar": {
             "outlinewidth": 0,
             "ticks": ""
            },
            "type": "contourcarpet"
           }
          ],
          "heatmap": [
           {
            "colorbar": {
             "outlinewidth": 0,
             "ticks": ""
            },
            "colorscale": [
             [
              0,
              "#0d0887"
             ],
             [
              0.1111111111111111,
              "#46039f"
             ],
             [
              0.2222222222222222,
              "#7201a8"
             ],
             [
              0.3333333333333333,
              "#9c179e"
             ],
             [
              0.4444444444444444,
              "#bd3786"
             ],
             [
              0.5555555555555556,
              "#d8576b"
             ],
             [
              0.6666666666666666,
              "#ed7953"
             ],
             [
              0.7777777777777778,
              "#fb9f3a"
             ],
             [
              0.8888888888888888,
              "#fdca26"
             ],
             [
              1,
              "#f0f921"
             ]
            ],
            "type": "heatmap"
           }
          ],
          "heatmapgl": [
           {
            "colorbar": {
             "outlinewidth": 0,
             "ticks": ""
            },
            "colorscale": [
             [
              0,
              "#0d0887"
             ],
             [
              0.1111111111111111,
              "#46039f"
             ],
             [
              0.2222222222222222,
              "#7201a8"
             ],
             [
              0.3333333333333333,
              "#9c179e"
             ],
             [
              0.4444444444444444,
              "#bd3786"
             ],
             [
              0.5555555555555556,
              "#d8576b"
             ],
             [
              0.6666666666666666,
              "#ed7953"
             ],
             [
              0.7777777777777778,
              "#fb9f3a"
             ],
             [
              0.8888888888888888,
              "#fdca26"
             ],
             [
              1,
              "#f0f921"
             ]
            ],
            "type": "heatmapgl"
           }
          ],
          "histogram": [
           {
            "marker": {
             "pattern": {
              "fillmode": "overlay",
              "size": 10,
              "solidity": 0.2
             }
            },
            "type": "histogram"
           }
          ],
          "histogram2d": [
           {
            "colorbar": {
             "outlinewidth": 0,
             "ticks": ""
            },
            "colorscale": [
             [
              0,
              "#0d0887"
             ],
             [
              0.1111111111111111,
              "#46039f"
             ],
             [
              0.2222222222222222,
              "#7201a8"
             ],
             [
              0.3333333333333333,
              "#9c179e"
             ],
             [
              0.4444444444444444,
              "#bd3786"
             ],
             [
              0.5555555555555556,
              "#d8576b"
             ],
             [
              0.6666666666666666,
              "#ed7953"
             ],
             [
              0.7777777777777778,
              "#fb9f3a"
             ],
             [
              0.8888888888888888,
              "#fdca26"
             ],
             [
              1,
              "#f0f921"
             ]
            ],
            "type": "histogram2d"
           }
          ],
          "histogram2dcontour": [
           {
            "colorbar": {
             "outlinewidth": 0,
             "ticks": ""
            },
            "colorscale": [
             [
              0,
              "#0d0887"
             ],
             [
              0.1111111111111111,
              "#46039f"
             ],
             [
              0.2222222222222222,
              "#7201a8"
             ],
             [
              0.3333333333333333,
              "#9c179e"
             ],
             [
              0.4444444444444444,
              "#bd3786"
             ],
             [
              0.5555555555555556,
              "#d8576b"
             ],
             [
              0.6666666666666666,
              "#ed7953"
             ],
             [
              0.7777777777777778,
              "#fb9f3a"
             ],
             [
              0.8888888888888888,
              "#fdca26"
             ],
             [
              1,
              "#f0f921"
             ]
            ],
            "type": "histogram2dcontour"
           }
          ],
          "mesh3d": [
           {
            "colorbar": {
             "outlinewidth": 0,
             "ticks": ""
            },
            "type": "mesh3d"
           }
          ],
          "parcoords": [
           {
            "line": {
             "colorbar": {
              "outlinewidth": 0,
              "ticks": ""
             }
            },
            "type": "parcoords"
           }
          ],
          "pie": [
           {
            "automargin": true,
            "type": "pie"
           }
          ],
          "scatter": [
           {
            "fillpattern": {
             "fillmode": "overlay",
             "size": 10,
             "solidity": 0.2
            },
            "type": "scatter"
           }
          ],
          "scatter3d": [
           {
            "line": {
             "colorbar": {
              "outlinewidth": 0,
              "ticks": ""
             }
            },
            "marker": {
             "colorbar": {
              "outlinewidth": 0,
              "ticks": ""
             }
            },
            "type": "scatter3d"
           }
          ],
          "scattercarpet": [
           {
            "marker": {
             "colorbar": {
              "outlinewidth": 0,
              "ticks": ""
             }
            },
            "type": "scattercarpet"
           }
          ],
          "scattergeo": [
           {
            "marker": {
             "colorbar": {
              "outlinewidth": 0,
              "ticks": ""
             }
            },
            "type": "scattergeo"
           }
          ],
          "scattergl": [
           {
            "marker": {
             "colorbar": {
              "outlinewidth": 0,
              "ticks": ""
             }
            },
            "type": "scattergl"
           }
          ],
          "scattermapbox": [
           {
            "marker": {
             "colorbar": {
              "outlinewidth": 0,
              "ticks": ""
             }
            },
            "type": "scattermapbox"
           }
          ],
          "scatterpolar": [
           {
            "marker": {
             "colorbar": {
              "outlinewidth": 0,
              "ticks": ""
             }
            },
            "type": "scatterpolar"
           }
          ],
          "scatterpolargl": [
           {
            "marker": {
             "colorbar": {
              "outlinewidth": 0,
              "ticks": ""
             }
            },
            "type": "scatterpolargl"
           }
          ],
          "scatterternary": [
           {
            "marker": {
             "colorbar": {
              "outlinewidth": 0,
              "ticks": ""
             }
            },
            "type": "scatterternary"
           }
          ],
          "surface": [
           {
            "colorbar": {
             "outlinewidth": 0,
             "ticks": ""
            },
            "colorscale": [
             [
              0,
              "#0d0887"
             ],
             [
              0.1111111111111111,
              "#46039f"
             ],
             [
              0.2222222222222222,
              "#7201a8"
             ],
             [
              0.3333333333333333,
              "#9c179e"
             ],
             [
              0.4444444444444444,
              "#bd3786"
             ],
             [
              0.5555555555555556,
              "#d8576b"
             ],
             [
              0.6666666666666666,
              "#ed7953"
             ],
             [
              0.7777777777777778,
              "#fb9f3a"
             ],
             [
              0.8888888888888888,
              "#fdca26"
             ],
             [
              1,
              "#f0f921"
             ]
            ],
            "type": "surface"
           }
          ],
          "table": [
           {
            "cells": {
             "fill": {
              "color": "#EBF0F8"
             },
             "line": {
              "color": "white"
             }
            },
            "header": {
             "fill": {
              "color": "#C8D4E3"
             },
             "line": {
              "color": "white"
             }
            },
            "type": "table"
           }
          ]
         },
         "layout": {
          "annotationdefaults": {
           "arrowcolor": "#2a3f5f",
           "arrowhead": 0,
           "arrowwidth": 1
          },
          "autotypenumbers": "strict",
          "coloraxis": {
           "colorbar": {
            "outlinewidth": 0,
            "ticks": ""
           }
          },
          "colorscale": {
           "diverging": [
            [
             0,
             "#8e0152"
            ],
            [
             0.1,
             "#c51b7d"
            ],
            [
             0.2,
             "#de77ae"
            ],
            [
             0.3,
             "#f1b6da"
            ],
            [
             0.4,
             "#fde0ef"
            ],
            [
             0.5,
             "#f7f7f7"
            ],
            [
             0.6,
             "#e6f5d0"
            ],
            [
             0.7,
             "#b8e186"
            ],
            [
             0.8,
             "#7fbc41"
            ],
            [
             0.9,
             "#4d9221"
            ],
            [
             1,
             "#276419"
            ]
           ],
           "sequential": [
            [
             0,
             "#0d0887"
            ],
            [
             0.1111111111111111,
             "#46039f"
            ],
            [
             0.2222222222222222,
             "#7201a8"
            ],
            [
             0.3333333333333333,
             "#9c179e"
            ],
            [
             0.4444444444444444,
             "#bd3786"
            ],
            [
             0.5555555555555556,
             "#d8576b"
            ],
            [
             0.6666666666666666,
             "#ed7953"
            ],
            [
             0.7777777777777778,
             "#fb9f3a"
            ],
            [
             0.8888888888888888,
             "#fdca26"
            ],
            [
             1,
             "#f0f921"
            ]
           ],
           "sequentialminus": [
            [
             0,
             "#0d0887"
            ],
            [
             0.1111111111111111,
             "#46039f"
            ],
            [
             0.2222222222222222,
             "#7201a8"
            ],
            [
             0.3333333333333333,
             "#9c179e"
            ],
            [
             0.4444444444444444,
             "#bd3786"
            ],
            [
             0.5555555555555556,
             "#d8576b"
            ],
            [
             0.6666666666666666,
             "#ed7953"
            ],
            [
             0.7777777777777778,
             "#fb9f3a"
            ],
            [
             0.8888888888888888,
             "#fdca26"
            ],
            [
             1,
             "#f0f921"
            ]
           ]
          },
          "colorway": [
           "#636efa",
           "#EF553B",
           "#00cc96",
           "#ab63fa",
           "#FFA15A",
           "#19d3f3",
           "#FF6692",
           "#B6E880",
           "#FF97FF",
           "#FECB52"
          ],
          "font": {
           "color": "#2a3f5f"
          },
          "geo": {
           "bgcolor": "white",
           "lakecolor": "white",
           "landcolor": "#E5ECF6",
           "showlakes": true,
           "showland": true,
           "subunitcolor": "white"
          },
          "hoverlabel": {
           "align": "left"
          },
          "hovermode": "closest",
          "mapbox": {
           "style": "light"
          },
          "paper_bgcolor": "white",
          "plot_bgcolor": "#E5ECF6",
          "polar": {
           "angularaxis": {
            "gridcolor": "white",
            "linecolor": "white",
            "ticks": ""
           },
           "bgcolor": "#E5ECF6",
           "radialaxis": {
            "gridcolor": "white",
            "linecolor": "white",
            "ticks": ""
           }
          },
          "scene": {
           "xaxis": {
            "backgroundcolor": "#E5ECF6",
            "gridcolor": "white",
            "gridwidth": 2,
            "linecolor": "white",
            "showbackground": true,
            "ticks": "",
            "zerolinecolor": "white"
           },
           "yaxis": {
            "backgroundcolor": "#E5ECF6",
            "gridcolor": "white",
            "gridwidth": 2,
            "linecolor": "white",
            "showbackground": true,
            "ticks": "",
            "zerolinecolor": "white"
           },
           "zaxis": {
            "backgroundcolor": "#E5ECF6",
            "gridcolor": "white",
            "gridwidth": 2,
            "linecolor": "white",
            "showbackground": true,
            "ticks": "",
            "zerolinecolor": "white"
           }
          },
          "shapedefaults": {
           "line": {
            "color": "#2a3f5f"
           }
          },
          "ternary": {
           "aaxis": {
            "gridcolor": "white",
            "linecolor": "white",
            "ticks": ""
           },
           "baxis": {
            "gridcolor": "white",
            "linecolor": "white",
            "ticks": ""
           },
           "bgcolor": "#E5ECF6",
           "caxis": {
            "gridcolor": "white",
            "linecolor": "white",
            "ticks": ""
           }
          },
          "title": {
           "x": 0.05
          },
          "xaxis": {
           "automargin": true,
           "gridcolor": "white",
           "linecolor": "white",
           "ticks": "",
           "title": {
            "standoff": 15
           },
           "zerolinecolor": "white",
           "zerolinewidth": 2
          },
          "yaxis": {
           "automargin": true,
           "gridcolor": "white",
           "linecolor": "white",
           "ticks": "",
           "title": {
            "standoff": 15
           },
           "zerolinecolor": "white",
           "zerolinewidth": 2
          }
         }
        },
        "xaxis": {
         "anchor": "y",
         "domain": [
          0,
          1
         ],
         "title": {
          "text": "value"
         }
        },
        "yaxis": {
         "anchor": "x",
         "domain": [
          0,
          1
         ],
         "title": {
          "text": "count"
         }
        }
       }
      },
      "text/html": [
       "<div>                            <div id=\"9692ea2f-6c7a-4fc7-a6b2-d6fea43d4425\" class=\"plotly-graph-div\" style=\"height:525px; width:100%;\"></div>            <script type=\"text/javascript\">                require([\"plotly\"], function(Plotly) {                    window.PLOTLYENV=window.PLOTLYENV || {};                                    if (document.getElementById(\"9692ea2f-6c7a-4fc7-a6b2-d6fea43d4425\")) {                    Plotly.newPlot(                        \"9692ea2f-6c7a-4fc7-a6b2-d6fea43d4425\",                        [{\"alignmentgroup\":\"True\",\"bingroup\":\"x\",\"hovertemplate\":\"variable=discounted_price<br>value=%{x}<br>count=%{y}<extra></extra>\",\"legendgroup\":\"discounted_price\",\"marker\":{\"color\":\"#636efa\",\"pattern\":{\"shape\":\"\"}},\"name\":\"discounted_price\",\"offsetgroup\":\"discounted_price\",\"orientation\":\"v\",\"showlegend\":true,\"x\":[399.0,199.0,154.0,149.0,176.63,229.0,154.0,350.0,159.0,349.0,199.0,970.0,279.0,59.0,199.0,299.0,970.0,299.0,179.0,389.0,599.0,199.0,99.0,899.0,199.0,970.0,399.0,999.0,59.0,333.0,507.0,399.0,1199.0,799.0,199.0,230.0,348.0,154.0,179.0,139.0,329.0,263.0,1599.0,219.0,349.0,349.0,115.0,399.0,199.0,179.0,209.0,1434.0,399.0,139.0,299.0,325.0,199.0,649.0,269.0,199.0,290.0,249.0,345.0,1099.0,719.0,349.0,849.0,299.0,349.0,399.0,449.0,299.0,99.0,273.1,399.0,399.0,210.0,1299.0,347.0,149.0,228.0,1599.0,1499.0,799.0,229.0,349.0,399.0,349.0,179.0,249.0,999.0,399.0,349.0,399.0,1699.0,195.0,999.0,499.0,416.0,368.0,339.0,499.0,249.0,399.0,1499.0,637.0,399.0,1089.0,339.0,149.0,149.0,599.0,299.0,399.0,339.0,249.0,1399.0,149.0,325.0,199.0,88.0,399.0,57.89,799.0,205.0,299.0,849.0,949.0,499.0,299.0,949.0,379.0,486.0,299.0,320.0,139.0,129.0,999.0,225.0,547.0,259.0,239.0,349.0,449.0,350.0,252.0,204.0,235.0,799.0,299.0,173.0,209.0,848.99,649.0,299.0,399.0,249.0,1249.0,213.0,209.0,598.0,799.0,159.0,499.0,299.0,128.31,599.0,399.0,449.0,254.0,399.0,179.0,339.0,399.0,199.0,349.0,299.0,89.0,549.0,129.0,349.0,499.0,299.0,182.0,96.0,439.0,299.0,789.0,299.0,325.0,1299.0,199.0,2299.0,349.0,719.0,917.0,399.0,119.0,299.0,417.44,215.0,99.0,249.0,649.0,1289.0,609.0,599.0,349.0,199.0,349.0,1850.0,129.0,379.0,185.0,218.0,199.0,499.0,893.0,379.0,699.0,2699.0,129.0,389.0,246.0,299.0,247.0,1369.0,199.0,299.0,299.0,349.0,197.0,1299.0,1519.0,299.0,349.0,1499.0,1219.0,399.0,139.0,199.0,873.0,539.0,1075.0,399.0,529.0,149.0,99.0,299.0,199.0,999.0,1799.0,176.63,649.0,119.0,249.0,99.0,489.0,369.0,134.0,999.0,999.0,999.0,350.0,1399.0,999.0,2099.0,337.0,499.0,999.0,251.0,279.0,269.0,59.0,349.0,349.0,499.0,95.0,139.0,89.0,599.0,199.0,329.0,99.0,1399.0,249.0,299.0,79.0,949.0,99.0,689.0,499.0,299.0,209.0,2179.0,2599.0,799.0,149.0,3799.0,199.0,299.0,1599.0,699.0,99.0,1055.0,150.0,219.0,474.0,239.0,1799.0,219.0,599.0,2499.0,89.0,314.0,139.0,2599.0,217.0,263.0,349.0,149.0,99.0,349.0,299.0,549.0,299.0,50.0,130.0,399.0,1399.0,299.0,699.0,799.0,1399.0,1295.0,399.0,717.0,39.0,1199.0,569.0,399.0,191.0,129.0,999.0,522.0,799.0,681.0,100.0,329.0,139.0,1199.0,1049.0,656.0,169.0,309.0,299.0,449.0,799.0,157.0,599.0,1598.0,294.0,828.0,745.0,1549.0,198.0,549.0,1299.0,59.0,448.0,299.0,279.0,137.0,1799.0,399.0,1699.0,1495.0,849.0,440.0,599.0,149.0,289.0,399.0,599.0,949.0,1329.0,899.0,449.0,100.0,299.0,1295.0,252.0,1299.0,480.0,999.0,238.0,1349.0,199.0,99.0,125.0,399.0,1199.0,235.0,549.0,89.0,1299.0,230.0,1699.0,561.0,289.0,599.0,1990.0,449.0,999.0,69.0,899.0,149.0,999.0,378.0,99.0,67.0,1889.0,499.0,499.0,499.0,249.0,179.0,299.0,629.0,2595.0,90.0,599.0,179.0,1345.0,349.0,287.0,199.0,199.0,149.0,469.0,849.0,328.0,269.0,549.0,114.0,120.0,1490.0,99.0,149.0,575.0,178.0,1599.0,499.0,199.0,1439.0,1099.0,157.0,115.0,175.0,1999.0,299.0,3303.0,1890.0,90.0,1599.0,599.0,425.0,549.0,1295.0,310.0,1149.0,499.0,999.0,250.0,90.0,2025.0,1495.0,899.0,349.0,2490.0,200.0,1249.0,649.0,2649.0,596.0,649.0,1234.0,272.0,3498.0,449.0,150.0,699.0,354.0,1199.0,379.0,649.0,1199.0,889.0,1409.0,549.0,749.0,379.0,299.0,379.0,1399.0,699.0,300.0,999.0,535.0,269.0,341.0,699.0,326.0,1995.0,2640.0,1990.0,165.0,1699.0,2299.0,39.0,398.0,770.0,279.0,599.0,598.0,399.0,499.0,579.0,90.0,899.0,1149.0,249.0,39.0,1199.0,1099.0,120.0,1519.0,420.0,225.0,199.0,499.0,799.0,298.0,1499.0,1199.0,1199.0,455.0,199.0,749.0,1399.0,1043.0,499.0,1464.0,249.0,625.0,1290.0,3600.0,1625.0,2599.0,1199.0,599.0,549.0,999.0,398.0,699.0,2148.0,3599.0,351.0,719.0,678.0,809.0,1969.0,1490.0,2499.0,1665.0,1799.0,1260.0,749.0,3499.0,379.0,1099.0,749.0,549.0,899.0,1321.0,1099.0,3190.0,799.0,2699.0,599.0,1819.0,1199.0,3249.0,349.0,799.0,799.0,89.0,1400.0,355.0,2169.0,2799.0,899.0,3599.0,499.0,653.0,1409.0,753.0,353.0,1099.0,1345.0,2095.0,1498.0,2199.0,3699.0,177.0,1149.0,244.0,1959.0,319.0,1499.0,469.0,1099.0,999.0,1299.0,292.0,160.0,600.0,1130.0,368.0,3199.0,1599.0,1999.0,1499.0,199.0,610.0,999.0,453.0,2464.0,2719.0,2799.0,2088.0,2399.0,308.0,2599.0,479.0,245.0,179.0,3569.0,699.0,2089.0,2339.0,784.0,899.0,1695.0,499.0,2699.0,1448.0,79.0,2698.0,3199.0,1199.0,1414.0,999.0,698.0,2199.0,320.0,298.0,1199.0,1399.0,599.0,1499.0,1699.0,649.0,3249.0,199.0,1099.0,664.0,260.0,1484.0,999.0,3299.0,259.0,3249.0,4280.0,189.0,1449.0,199.0,474.0,279.0,1999.0,799.0,949.0,3657.66,1699.0,1849.0,1099.0,499.0,1595.0,1049.0,1182.0,499.0,1529.0,1199.0,1052.0,239.0,699.0,1547.0,499.0,510.0,1899.0,2599.0,1199.0,999.0,1999.0,210.0,950.0,2439.0,1599.0,2899.0,3299.0,351.0,899.0,1349.0,2742.0,2903.0,1656.0,1399.0,2079.0,999.0,3179.0,1049.0,3599.0,1699.0,664.0,948.0,850.0,600.0,3711.0,799.0,980.0,351.0,229.0,3349.0,299.0,699.0,1235.0,1349.0,1699.0,1069.0,1349.0,1499.0,2092.0,1804.0,1189.0,2590.0,899.0,998.0,998.06,1099.0,475.0,949.0,395.0,635.0,717.0,649.0,193.0,2449.0,1049.0,2399.0,2286.0,299.0,559.0,660.0,419.0,2899.0,1799.0,1474.0,3645.0,375.0,2976.0,1099.0,2575.0,1649.0,799.0,765.0,999.0,587.0,699.0,3799.0,640.0,979.0,3199.0,979.0,929.0,3710.0,2033.0,949.0,2790.0,645.0,2237.81,825.0,697.0,688.0,2199.0,2699.0,899.0,1090.0,295.0,479.0,2949.0,335.0,293.0,599.0,499.0,849.0,249.0,185.0,778.0,279.0,215.0,889.0,1449.0,1190.0,1799.0,1799.0,2199.0,3685.0,649.0,1110.0,1499.0,759.0,2669.0,929.0,199.0,279.0,549.0,85.0,499.0,1260.0,1099.0,1928.0,3249.0,1199.0,1456.0,3349.0,1199.0,179.0,149.0,379.0,3041.67,1745.0,3180.0,390.0,1999.0,1624.0,184.0,445.0,699.0,1601.0,231.0,369.0,809.0,1199.0,1799.0,1999.0,2599.0,1199.0,219.0,799.0,1982.84,199.0,1180.0,2199.0,2999.0,253.0,1149.0,457.0,229.0,899.0,1499.0,426.0,2320.0,1563.0,3487.77,2695.0,949.0,379.0,2280.0,2219.0,1399.0,2863.0],\"xaxis\":\"x\",\"yaxis\":\"y\",\"type\":\"histogram\"}],                        {\"template\":{\"data\":{\"histogram2dcontour\":[{\"type\":\"histogram2dcontour\",\"colorbar\":{\"outlinewidth\":0,\"ticks\":\"\"},\"colorscale\":[[0.0,\"#0d0887\"],[0.1111111111111111,\"#46039f\"],[0.2222222222222222,\"#7201a8\"],[0.3333333333333333,\"#9c179e\"],[0.4444444444444444,\"#bd3786\"],[0.5555555555555556,\"#d8576b\"],[0.6666666666666666,\"#ed7953\"],[0.7777777777777778,\"#fb9f3a\"],[0.8888888888888888,\"#fdca26\"],[1.0,\"#f0f921\"]]}],\"choropleth\":[{\"type\":\"choropleth\",\"colorbar\":{\"outlinewidth\":0,\"ticks\":\"\"}}],\"histogram2d\":[{\"type\":\"histogram2d\",\"colorbar\":{\"outlinewidth\":0,\"ticks\":\"\"},\"colorscale\":[[0.0,\"#0d0887\"],[0.1111111111111111,\"#46039f\"],[0.2222222222222222,\"#7201a8\"],[0.3333333333333333,\"#9c179e\"],[0.4444444444444444,\"#bd3786\"],[0.5555555555555556,\"#d8576b\"],[0.6666666666666666,\"#ed7953\"],[0.7777777777777778,\"#fb9f3a\"],[0.8888888888888888,\"#fdca26\"],[1.0,\"#f0f921\"]]}],\"heatmap\":[{\"type\":\"heatmap\",\"colorbar\":{\"outlinewidth\":0,\"ticks\":\"\"},\"colorscale\":[[0.0,\"#0d0887\"],[0.1111111111111111,\"#46039f\"],[0.2222222222222222,\"#7201a8\"],[0.3333333333333333,\"#9c179e\"],[0.4444444444444444,\"#bd3786\"],[0.5555555555555556,\"#d8576b\"],[0.6666666666666666,\"#ed7953\"],[0.7777777777777778,\"#fb9f3a\"],[0.8888888888888888,\"#fdca26\"],[1.0,\"#f0f921\"]]}],\"heatmapgl\":[{\"type\":\"heatmapgl\",\"colorbar\":{\"outlinewidth\":0,\"ticks\":\"\"},\"colorscale\":[[0.0,\"#0d0887\"],[0.1111111111111111,\"#46039f\"],[0.2222222222222222,\"#7201a8\"],[0.3333333333333333,\"#9c179e\"],[0.4444444444444444,\"#bd3786\"],[0.5555555555555556,\"#d8576b\"],[0.6666666666666666,\"#ed7953\"],[0.7777777777777778,\"#fb9f3a\"],[0.8888888888888888,\"#fdca26\"],[1.0,\"#f0f921\"]]}],\"contourcarpet\":[{\"type\":\"contourcarpet\",\"colorbar\":{\"outlinewidth\":0,\"ticks\":\"\"}}],\"contour\":[{\"type\":\"contour\",\"colorbar\":{\"outlinewidth\":0,\"ticks\":\"\"},\"colorscale\":[[0.0,\"#0d0887\"],[0.1111111111111111,\"#46039f\"],[0.2222222222222222,\"#7201a8\"],[0.3333333333333333,\"#9c179e\"],[0.4444444444444444,\"#bd3786\"],[0.5555555555555556,\"#d8576b\"],[0.6666666666666666,\"#ed7953\"],[0.7777777777777778,\"#fb9f3a\"],[0.8888888888888888,\"#fdca26\"],[1.0,\"#f0f921\"]]}],\"surface\":[{\"type\":\"surface\",\"colorbar\":{\"outlinewidth\":0,\"ticks\":\"\"},\"colorscale\":[[0.0,\"#0d0887\"],[0.1111111111111111,\"#46039f\"],[0.2222222222222222,\"#7201a8\"],[0.3333333333333333,\"#9c179e\"],[0.4444444444444444,\"#bd3786\"],[0.5555555555555556,\"#d8576b\"],[0.6666666666666666,\"#ed7953\"],[0.7777777777777778,\"#fb9f3a\"],[0.8888888888888888,\"#fdca26\"],[1.0,\"#f0f921\"]]}],\"mesh3d\":[{\"type\":\"mesh3d\",\"colorbar\":{\"outlinewidth\":0,\"ticks\":\"\"}}],\"scatter\":[{\"fillpattern\":{\"fillmode\":\"overlay\",\"size\":10,\"solidity\":0.2},\"type\":\"scatter\"}],\"parcoords\":[{\"type\":\"parcoords\",\"line\":{\"colorbar\":{\"outlinewidth\":0,\"ticks\":\"\"}}}],\"scatterpolargl\":[{\"type\":\"scatterpolargl\",\"marker\":{\"colorbar\":{\"outlinewidth\":0,\"ticks\":\"\"}}}],\"bar\":[{\"error_x\":{\"color\":\"#2a3f5f\"},\"error_y\":{\"color\":\"#2a3f5f\"},\"marker\":{\"line\":{\"color\":\"#E5ECF6\",\"width\":0.5},\"pattern\":{\"fillmode\":\"overlay\",\"size\":10,\"solidity\":0.2}},\"type\":\"bar\"}],\"scattergeo\":[{\"type\":\"scattergeo\",\"marker\":{\"colorbar\":{\"outlinewidth\":0,\"ticks\":\"\"}}}],\"scatterpolar\":[{\"type\":\"scatterpolar\",\"marker\":{\"colorbar\":{\"outlinewidth\":0,\"ticks\":\"\"}}}],\"histogram\":[{\"marker\":{\"pattern\":{\"fillmode\":\"overlay\",\"size\":10,\"solidity\":0.2}},\"type\":\"histogram\"}],\"scattergl\":[{\"type\":\"scattergl\",\"marker\":{\"colorbar\":{\"outlinewidth\":0,\"ticks\":\"\"}}}],\"scatter3d\":[{\"type\":\"scatter3d\",\"line\":{\"colorbar\":{\"outlinewidth\":0,\"ticks\":\"\"}},\"marker\":{\"colorbar\":{\"outlinewidth\":0,\"ticks\":\"\"}}}],\"scattermapbox\":[{\"type\":\"scattermapbox\",\"marker\":{\"colorbar\":{\"outlinewidth\":0,\"ticks\":\"\"}}}],\"scatterternary\":[{\"type\":\"scatterternary\",\"marker\":{\"colorbar\":{\"outlinewidth\":0,\"ticks\":\"\"}}}],\"scattercarpet\":[{\"type\":\"scattercarpet\",\"marker\":{\"colorbar\":{\"outlinewidth\":0,\"ticks\":\"\"}}}],\"carpet\":[{\"aaxis\":{\"endlinecolor\":\"#2a3f5f\",\"gridcolor\":\"white\",\"linecolor\":\"white\",\"minorgridcolor\":\"white\",\"startlinecolor\":\"#2a3f5f\"},\"baxis\":{\"endlinecolor\":\"#2a3f5f\",\"gridcolor\":\"white\",\"linecolor\":\"white\",\"minorgridcolor\":\"white\",\"startlinecolor\":\"#2a3f5f\"},\"type\":\"carpet\"}],\"table\":[{\"cells\":{\"fill\":{\"color\":\"#EBF0F8\"},\"line\":{\"color\":\"white\"}},\"header\":{\"fill\":{\"color\":\"#C8D4E3\"},\"line\":{\"color\":\"white\"}},\"type\":\"table\"}],\"barpolar\":[{\"marker\":{\"line\":{\"color\":\"#E5ECF6\",\"width\":0.5},\"pattern\":{\"fillmode\":\"overlay\",\"size\":10,\"solidity\":0.2}},\"type\":\"barpolar\"}],\"pie\":[{\"automargin\":true,\"type\":\"pie\"}]},\"layout\":{\"autotypenumbers\":\"strict\",\"colorway\":[\"#636efa\",\"#EF553B\",\"#00cc96\",\"#ab63fa\",\"#FFA15A\",\"#19d3f3\",\"#FF6692\",\"#B6E880\",\"#FF97FF\",\"#FECB52\"],\"font\":{\"color\":\"#2a3f5f\"},\"hovermode\":\"closest\",\"hoverlabel\":{\"align\":\"left\"},\"paper_bgcolor\":\"white\",\"plot_bgcolor\":\"#E5ECF6\",\"polar\":{\"bgcolor\":\"#E5ECF6\",\"angularaxis\":{\"gridcolor\":\"white\",\"linecolor\":\"white\",\"ticks\":\"\"},\"radialaxis\":{\"gridcolor\":\"white\",\"linecolor\":\"white\",\"ticks\":\"\"}},\"ternary\":{\"bgcolor\":\"#E5ECF6\",\"aaxis\":{\"gridcolor\":\"white\",\"linecolor\":\"white\",\"ticks\":\"\"},\"baxis\":{\"gridcolor\":\"white\",\"linecolor\":\"white\",\"ticks\":\"\"},\"caxis\":{\"gridcolor\":\"white\",\"linecolor\":\"white\",\"ticks\":\"\"}},\"coloraxis\":{\"colorbar\":{\"outlinewidth\":0,\"ticks\":\"\"}},\"colorscale\":{\"sequential\":[[0.0,\"#0d0887\"],[0.1111111111111111,\"#46039f\"],[0.2222222222222222,\"#7201a8\"],[0.3333333333333333,\"#9c179e\"],[0.4444444444444444,\"#bd3786\"],[0.5555555555555556,\"#d8576b\"],[0.6666666666666666,\"#ed7953\"],[0.7777777777777778,\"#fb9f3a\"],[0.8888888888888888,\"#fdca26\"],[1.0,\"#f0f921\"]],\"sequentialminus\":[[0.0,\"#0d0887\"],[0.1111111111111111,\"#46039f\"],[0.2222222222222222,\"#7201a8\"],[0.3333333333333333,\"#9c179e\"],[0.4444444444444444,\"#bd3786\"],[0.5555555555555556,\"#d8576b\"],[0.6666666666666666,\"#ed7953\"],[0.7777777777777778,\"#fb9f3a\"],[0.8888888888888888,\"#fdca26\"],[1.0,\"#f0f921\"]],\"diverging\":[[0,\"#8e0152\"],[0.1,\"#c51b7d\"],[0.2,\"#de77ae\"],[0.3,\"#f1b6da\"],[0.4,\"#fde0ef\"],[0.5,\"#f7f7f7\"],[0.6,\"#e6f5d0\"],[0.7,\"#b8e186\"],[0.8,\"#7fbc41\"],[0.9,\"#4d9221\"],[1,\"#276419\"]]},\"xaxis\":{\"gridcolor\":\"white\",\"linecolor\":\"white\",\"ticks\":\"\",\"title\":{\"standoff\":15},\"zerolinecolor\":\"white\",\"automargin\":true,\"zerolinewidth\":2},\"yaxis\":{\"gridcolor\":\"white\",\"linecolor\":\"white\",\"ticks\":\"\",\"title\":{\"standoff\":15},\"zerolinecolor\":\"white\",\"automargin\":true,\"zerolinewidth\":2},\"scene\":{\"xaxis\":{\"backgroundcolor\":\"#E5ECF6\",\"gridcolor\":\"white\",\"linecolor\":\"white\",\"showbackground\":true,\"ticks\":\"\",\"zerolinecolor\":\"white\",\"gridwidth\":2},\"yaxis\":{\"backgroundcolor\":\"#E5ECF6\",\"gridcolor\":\"white\",\"linecolor\":\"white\",\"showbackground\":true,\"ticks\":\"\",\"zerolinecolor\":\"white\",\"gridwidth\":2},\"zaxis\":{\"backgroundcolor\":\"#E5ECF6\",\"gridcolor\":\"white\",\"linecolor\":\"white\",\"showbackground\":true,\"ticks\":\"\",\"zerolinecolor\":\"white\",\"gridwidth\":2}},\"shapedefaults\":{\"line\":{\"color\":\"#2a3f5f\"}},\"annotationdefaults\":{\"arrowcolor\":\"#2a3f5f\",\"arrowhead\":0,\"arrowwidth\":1},\"geo\":{\"bgcolor\":\"white\",\"landcolor\":\"#E5ECF6\",\"subunitcolor\":\"white\",\"showland\":true,\"showlakes\":true,\"lakecolor\":\"white\"},\"title\":{\"x\":0.05},\"mapbox\":{\"style\":\"light\"}}},\"xaxis\":{\"anchor\":\"y\",\"domain\":[0.0,1.0],\"title\":{\"text\":\"value\"}},\"yaxis\":{\"anchor\":\"x\",\"domain\":[0.0,1.0],\"title\":{\"text\":\"count\"}},\"legend\":{\"title\":{\"text\":\"variable\"},\"tracegroupgap\":0},\"margin\":{\"t\":60},\"barmode\":\"relative\"},                        {\"responsive\": true}                    ).then(function(){\n",
       "                            \n",
       "var gd = document.getElementById('9692ea2f-6c7a-4fc7-a6b2-d6fea43d4425');\n",
       "var x = new MutationObserver(function (mutations, observer) {{\n",
       "        var display = window.getComputedStyle(gd).display;\n",
       "        if (!display || display === 'none') {{\n",
       "            console.log([gd, 'removed!']);\n",
       "            Plotly.purge(gd);\n",
       "            observer.disconnect();\n",
       "        }}\n",
       "}});\n",
       "\n",
       "// Listen for the removal of the full notebook cells\n",
       "var notebookContainer = gd.closest('#notebook-container');\n",
       "if (notebookContainer) {{\n",
       "    x.observe(notebookContainer, {childList: true});\n",
       "}}\n",
       "\n",
       "// Listen for the clearing of the current output cell\n",
       "var outputEl = gd.closest('.output');\n",
       "if (outputEl) {{\n",
       "    x.observe(outputEl, {childList: true});\n",
       "}}\n",
       "\n",
       "                        })                };                });            </script>        </div>"
      ]
     },
     "metadata": {},
     "output_type": "display_data"
    }
   ],
   "source": [
    "px.histogram(df['discounted_price'])"
   ]
  },
  {
   "cell_type": "markdown",
   "id": "7e577d10",
   "metadata": {},
   "source": [
    "#### Distribution of actual price"
   ]
  },
  {
   "cell_type": "code",
   "execution_count": 37,
   "id": "32860a85",
   "metadata": {},
   "outputs": [
    {
     "data": {
      "text/plain": [
       "<Figure size 2000x1000 with 0 Axes>"
      ]
     },
     "execution_count": 37,
     "metadata": {},
     "output_type": "execute_result"
    },
    {
     "data": {
      "text/plain": [
       "<Figure size 2000x1000 with 0 Axes>"
      ]
     },
     "metadata": {},
     "output_type": "display_data"
    },
    {
     "data": {
      "image/png": "[encoded data removed]",
      "text/plain": [
       "<Figure size 500x500 with 1 Axes>"
      ]
     },
     "metadata": {},
     "output_type": "display_data"
    },
    {
     "data": {
      "text/plain": [
       "<Figure size 2000x1000 with 0 Axes>"
      ]
     },
     "metadata": {},
     "output_type": "display_data"
    }
   ],
   "source": [
    "sns.displot(df['actual_price'],kde=True)"
   ]
  },
  {
   "cell_type": "code",
   "execution_count": 38,
   "id": "49244513",
   "metadata": {},
   "outputs": [
    {
     "data": {
      "application/vnd.plotly.v1+json": {
       "config": {
        "plotlyServerURL": "https://plot.ly"
       },
       "data": [
        {
         "alignmentgroup": "True",
         "bingroup": "x",
         "hovertemplate": "variable=actual_price<br>value=%{x}<br>count=%{y}<extra></extra>",
         "legendgroup": "actual_price",
         "marker": {
          "color": "#636efa",
          "pattern": {
           "shape": ""
          }
         },
         "name": "actual_price",
         "offsetgroup": "actual_price",
         "orientation": "v",
         "showlegend": true,
         "type": "histogram",
         "x": [
          1099,
          1899,
          399,
          1000,
          499,
          299,
          339,
          899,
          399,
          399,
          499,
          1799,
          499,
          199,
          699,
          399,
          1999,
          999,
          499,
          1099,
          599,
          999,
          666.66,
          1900,
          999,
          1999,
          1099,
          1599,
          199,
          999,
          1208,
          999,
          2199,
          2100,
          349,
          499,
          1499,
          349,
          799,
          999,
          845,
          699,
          2999,
          700,
          899,
          599,
          499,
          999,
          499,
          399,
          499,
          3999,
          1099,
          249,
          799,
          1299,
          999,
          1999,
          800,
          999,
          349,
          799,
          999,
          1899,
          1499,
          1499,
          1809,
          899,
          999,
          999,
          1299,
          999,
          800,
          999,
          999,
          1999,
          399,
          1999,
          999,
          999,
          899,
          1999,
          3999,
          1700,
          595,
          599,
          999,
          1299,
          299,
          931,
          2399,
          399,
          699,
          1099,
          2999,
          499,
          2100,
          899,
          599,
          699,
          1099,
          1299,
          399,
          799,
          1999,
          1499,
          899,
          1600,
          999,
          499,
          399,
          849,
          1199,
          1299,
          1999,
          399,
          2499,
          399,
          999,
          499,
          299,
          1099,
          199,
          1999,
          499,
          699,
          999,
          1999,
          1200,
          485,
          1999,
          1099,
          1999,
          1199,
          599,
          549,
          249,
          1699,
          499,
          2999,
          699,
          699,
          999,
          599,
          599,
          999,
          599,
          599,
          1999,
          999,
          999,
          600,
          1490,
          1999,
          899,
          799,
          499,
          2299,
          499,
          499,
          4999,
          1749,
          595,
          1100,
          1199,
          549,
          849,
          899,
          1099,
          799,
          795,
          399,
          999,
          999,
          399,
          1999,
          798,
          800,
          995,
          1000,
          799,
          899,
          799,
          599,
          399,
          758,
          999,
          1999,
          700,
          1099,
          1999,
          999,
          3999,
          999,
          1499,
          2299,
          999,
          299,
          599,
          670,
          499,
          800,
          999,
          1600,
          2499,
          1500,
          1999,
          899,
          399,
          699,
          4500,
          449,
          999,
          499,
          999,
          999,
          900,
          1052,
          1099,
          1899,
          3500,
          599,
          999,
          600,
          799,
          399,
          2999,
          499,
          599,
          699,
          999,
          499,
          2499,
          1899,
          799,
          1299,
          2499,
          1699,
          1099,
          495,
          999,
          1699,
          1599,
          1699,
          1999,
          1499,
          1000,
          999,
          1900,
          499,
          1599,
          2499,
          499,
          999,
          299,
          649,
          171,
          1999,
          1600,
          699,
          1599,
          2899,
          1999,
          899,
          1630,
          2899,
          5999,
          699,
          499,
          2899,
          999,
          1499,
          1499,
          199,
          999,
          999,
          599,
          499,
          249,
          599,
          999,
          1099,
          999,
          666.66,
          1630,
          599,
          1199,
          499,
          999,
          499,
          1999,
          1899,
          999,
          499,
          3999,
          2999,
          3990,
          149,
          5299,
          1899,
          599,
          2599,
          1199,
          999,
          1249,
          599,
          700,
          1799,
          599,
          3999,
          499,
          1399,
          2999,
          499,
          1499,
          499,
          6999,
          237,
          699,
          1499,
          399,
          999,
          1299,
          599,
          1799,
          650,
          50,
          165,
          1290,
          2498,
          449,
          999,
          3990,
          5499,
          1295,
          995,
          761,
          299,
          4999,
          1299,
          549,
          225,
          999,
          4499,
          550,
          1999,
          1199,
          499,
          399,
          299,
          2499,
          2299,
          1499,
          299,
          404,
          599,
          999,
          1295,
          160,
          899,
          2990,
          4999,
          861,
          795,
          2495,
          800,
          549,
          3499,
          59,
          699,
          499,
          375,
          160,
          3999,
          1499,
          3999,
          1995,
          4999,
          440,
          3999,
          399,
          999,
          699,
          799,
          2000,
          2900,
          1999,
          999,
          100,
          1499,
          1795,
          315,
          1599,
          600,
          2499,
          699,
          2198,
          499,
          499,
          180,
          1190,
          7999,
          1599,
          1999,
          99,
          2999,
          999,
          3495,
          720,
          590,
          1999,
          2595,
          999,
          1999,
          299,
          1499,
          499,
          2490,
          999,
          99,
          75,
          2699,
          1499,
          999,
          799,
          600,
          499,
          550,
          1390,
          3295,
          175,
          599,
          499,
          2295,
          995,
          499,
          499,
          999,
          999,
          1499,
          1499,
          399,
          699,
          1499,
          120,
          120,
          2295,
          99,
          249,
          2799,
          210,
          3490,
          1299,
          499,
          2890,
          5999,
          160,
          999,
          499,
          4700,
          990,
          4699,
          5490,
          100,
          2790,
          999,
          899,
          2499,
          1645,
          310,
          1499,
          1299,
          4199,
          250,
          100,
          5999,
          1995,
          1199,
          999,
          3990,
          230,
          2796,
          999,
          3499,
          723,
          2499,
          1599,
          320,
          3875,
          999,
          150,
          1490,
          1500,
          5499,
          1499,
          1300,
          1999,
          1999,
          2199,
          1999,
          1799,
          1099,
          1499,
          1499,
          2999,
          1299,
          300,
          1995,
          535,
          1099,
          450,
          1199,
          799,
          2895,
          3195,
          2999,
          165,
          3499,
          7500,
          39,
          1949,
          1547,
          1299,
          700,
          1150,
          1499,
          1299,
          1090,
          100,
          1999,
          1800,
          499,
          39,
          3990,
          1499,
          120,
          3499,
          420,
          225,
          799,
          1399,
          1999,
          999,
          2999,
          1695,
          2000,
          999,
          1999,
          1245,
          1549,
          1345,
          999,
          1650,
          499,
          1400,
          2500,
          6190,
          2995,
          5890,
          2000,
          785,
          1000,
          2000,
          1999,
          1595,
          3645,
          7950,
          999,
          1295,
          1499,
          1545,
          5000,
          1695,
          3945,
          2099,
          3595,
          1699,
          1129,
          5795,
          999,
          2400,
          1299,
          1090,
          2000,
          1545,
          1999,
          4195,
          1989,
          5000,
          990,
          2490,
          1900,
          6295,
          999,
          1500,
          1999,
          89,
          2485,
          899,
          3279,
          3799,
          1249,
          7299,
          625,
          1020,
          1639,
          899,
          1199,
          1899,
          1750,
          2095,
          2300,
          2990,
          4295,
          199,
          2499,
          499,
          2400,
          749,
          1775,
          1599,
          1795,
          1490,
          1999,
          499,
          299,
          600,
          1130,
          699,
          4999,
          2900,
          2499,
          2100,
          499,
          825,
          1499,
          999,
          6000,
          3945,
          3499,
          5550,
          4590,
          499,
          4400,
          1000,
          299,
          799,
          5190,
          1345,
          4000,
          4000,
          1599,
          1990,
          1695,
          940,
          4700,
          2999,
          79,
          3945,
          5999,
          1950,
          2799,
          1950,
          699,
          3190,
          799,
          499,
          1499,
          2660,
          2799,
          1499,
          1900,
          999,
          6375,
          499,
          1899,
          1490,
          350,
          2499,
          1560,
          6500,
          999,
          7795,
          5995,
          299,
          2349,
          499,
          1299,
          499,
          4775,
          1230,
          1999,
          5156,
          1999,
          2095,
          1920,
          2199,
          1799,
          1950,
          2995,
          999,
          2999,
          1690,
          1790,
          239,
          1599,
          2890,
          1299,
          640,
          3790,
          4560,
          3500,
          2600,
          3300,
          699,
          1599,
          2545,
          1999,
          5500,
          4995,
          1099,
          1900,
          1850,
          3995,
          3295,
          2695,
          2290,
          3099,
          1075,
          6999,
          2499,
          7290,
          3398,
          1490,
          1620,
          1000,
          640,
          4495,
          2999,
          980,
          899,
          499,
          3995,
          499,
          1599,
          1499,
          2999,
          1975,
          1699,
          2495,
          3500,
          4600,
          2380,
          2400,
          4200,
          1599,
          2999,
          1282,
          1990,
          999,
          975,
          499,
          635,
          1390,
          670,
          399,
          3390,
          2499,
          4200,
          4495,
          595,
          1010,
          1100,
          999,
          4005,
          3295,
          4650,
          6070,
          999,
          3945,
          1499,
          6700,
          2800,
          1699,
          970,
          1500,
          1295,
          850,
          6000,
          1020,
          1999,
          3500,
          1395,
          2199,
          4330,
          4295,
          2385,
          4890,
          1100,
          3899,
          825,
          1499,
          747,
          3999,
          3799,
          1999,
          2999,
          599,
          1999,
          4849,
          510,
          499,
          1299,
          999,
          1190,
          400,
          599,
          999,
          699,
          1499,
          1295,
          4999,
          2550,
          1950,
          3299,
          3895,
          5495,
          999,
          1599,
          3500,
          1999,
          3199,
          1300,
          399,
          599,
          999,
          199,
          1299,
          2299,
          1500,
          2590,
          6299,
          1795,
          3190,
          4799,
          1899,
          799,
          300,
          389,
          5999,
          2400,
          5295,
          799,
          2999,
          2495,
          450,
          999,
          1690,
          3890,
          260,
          599,
          1950,
          2990,
          2599,
          2360,
          4780,
          2400,
          249,
          1199,
          3300,
          400,
          1440,
          3045,
          3595,
          500,
          1899,
          799,
          399,
          1999,
          2199,
          999,
          3290,
          3098,
          4990,
          2695,
          2299,
          919,
          3045,
          3080,
          1890,
          3690
         ],
         "xaxis": "x",
         "yaxis": "y"
        }
       ],
       "layout": {
        "barmode": "relative",
        "legend": {
         "title": {
          "text": "variable"
         },
         "tracegroupgap": 0
        },
        "margin": {
         "t": 60
        },
        "template": {
         "data": {
          "bar": [
           {
            "error_x": {
             "color": "#2a3f5f"
            },
            "error_y": {
             "color": "#2a3f5f"
            },
            "marker": {
             "line": {
              "color": "#E5ECF6",
              "width": 0.5
             },
             "pattern": {
              "fillmode": "overlay",
              "size": 10,
              "solidity": 0.2
             }
            },
            "type": "bar"
           }
          ],
          "barpolar": [
           {
            "marker": {
             "line": {
              "color": "#E5ECF6",
              "width": 0.5
             },
             "pattern": {
              "fillmode": "overlay",
              "size": 10,
              "solidity": 0.2
             }
            },
            "type": "barpolar"
           }
          ],
          "carpet": [
           {
            "aaxis": {
             "endlinecolor": "#2a3f5f",
             "gridcolor": "white",
             "linecolor": "white",
             "minorgridcolor": "white",
             "startlinecolor": "#2a3f5f"
            },
            "baxis": {
             "endlinecolor": "#2a3f5f",
             "gridcolor": "white",
             "linecolor": "white",
             "minorgridcolor": "white",
             "startlinecolor": "#2a3f5f"
            },
            "type": "carpet"
           }
          ],
          "choropleth": [
           {
            "colorbar": {
             "outlinewidth": 0,
             "ticks": ""
            },
            "type": "choropleth"
           }
          ],
          "contour": [
           {
            "colorbar": {
             "outlinewidth": 0,
             "ticks": ""
            },
            "colorscale": [
             [
              0,
              "#0d0887"
             ],
             [
              0.1111111111111111,
              "#46039f"
             ],
             [
              0.2222222222222222,
              "#7201a8"
             ],
             [
              0.3333333333333333,
              "#9c179e"
             ],
             [
              0.4444444444444444,
              "#bd3786"
             ],
             [
              0.5555555555555556,
              "#d8576b"
             ],
             [
              0.6666666666666666,
              "#ed7953"
             ],
             [
              0.7777777777777778,
              "#fb9f3a"
             ],
             [
              0.8888888888888888,
              "#fdca26"
             ],
             [
              1,
              "#f0f921"
             ]
            ],
            "type": "contour"
           }
          ],
          "contourcarpet": [
           {
            "colorbar": {
             "outlinewidth": 0,
             "ticks": ""
            },
            "type": "contourcarpet"
           }
          ],
          "heatmap": [
           {
            "colorbar": {
             "outlinewidth": 0,
             "ticks": ""
            },
            "colorscale": [
             [
              0,
              "#0d0887"
             ],
             [
              0.1111111111111111,
              "#46039f"
             ],
             [
              0.2222222222222222,
              "#7201a8"
             ],
             [
              0.3333333333333333,
              "#9c179e"
             ],
             [
              0.4444444444444444,
              "#bd3786"
             ],
             [
              0.5555555555555556,
              "#d8576b"
             ],
             [
              0.6666666666666666,
              "#ed7953"
             ],
             [
              0.7777777777777778,
              "#fb9f3a"
             ],
             [
              0.8888888888888888,
              "#fdca26"
             ],
             [
              1,
              "#f0f921"
             ]
            ],
            "type": "heatmap"
           }
          ],
          "heatmapgl": [
           {
            "colorbar": {
             "outlinewidth": 0,
             "ticks": ""
            },
            "colorscale": [
             [
              0,
              "#0d0887"
             ],
             [
              0.1111111111111111,
              "#46039f"
             ],
             [
              0.2222222222222222,
              "#7201a8"
             ],
             [
              0.3333333333333333,
              "#9c179e"
             ],
             [
              0.4444444444444444,
              "#bd3786"
             ],
             [
              0.5555555555555556,
              "#d8576b"
             ],
             [
              0.6666666666666666,
              "#ed7953"
             ],
             [
              0.7777777777777778,
              "#fb9f3a"
             ],
             [
              0.8888888888888888,
              "#fdca26"
             ],
             [
              1,
              "#f0f921"
             ]
            ],
            "type": "heatmapgl"
           }
          ],
          "histogram": [
           {
            "marker": {
             "pattern": {
              "fillmode": "overlay",
              "size": 10,
              "solidity": 0.2
             }
            },
            "type": "histogram"
           }
          ],
          "histogram2d": [
           {
            "colorbar": {
             "outlinewidth": 0,
             "ticks": ""
            },
            "colorscale": [
             [
              0,
              "#0d0887"
             ],
             [
              0.1111111111111111,
              "#46039f"
             ],
             [
              0.2222222222222222,
              "#7201a8"
             ],
             [
              0.3333333333333333,
              "#9c179e"
             ],
             [
              0.4444444444444444,
              "#bd3786"
             ],
             [
              0.5555555555555556,
              "#d8576b"
             ],
             [
              0.6666666666666666,
              "#ed7953"
             ],
             [
              0.7777777777777778,
              "#fb9f3a"
             ],
             [
              0.8888888888888888,
              "#fdca26"
             ],
             [
              1,
              "#f0f921"
             ]
            ],
            "type": "histogram2d"
           }
          ],
          "histogram2dcontour": [
           {
            "colorbar": {
             "outlinewidth": 0,
             "ticks": ""
            },
            "colorscale": [
             [
              0,
              "#0d0887"
             ],
             [
              0.1111111111111111,
              "#46039f"
             ],
             [
              0.2222222222222222,
              "#7201a8"
             ],
             [
              0.3333333333333333,
              "#9c179e"
             ],
             [
              0.4444444444444444,
              "#bd3786"
             ],
             [
              0.5555555555555556,
              "#d8576b"
             ],
             [
              0.6666666666666666,
              "#ed7953"
             ],
             [
              0.7777777777777778,
              "#fb9f3a"
             ],
             [
              0.8888888888888888,
              "#fdca26"
             ],
             [
              1,
              "#f0f921"
             ]
            ],
            "type": "histogram2dcontour"
           }
          ],
          "mesh3d": [
           {
            "colorbar": {
             "outlinewidth": 0,
             "ticks": ""
            },
            "type": "mesh3d"
           }
          ],
          "parcoords": [
           {
            "line": {
             "colorbar": {
              "outlinewidth": 0,
              "ticks": ""
             }
            },
            "type": "parcoords"
           }
          ],
          "pie": [
           {
            "automargin": true,
            "type": "pie"
           }
          ],
          "scatter": [
           {
            "fillpattern": {
             "fillmode": "overlay",
             "size": 10,
             "solidity": 0.2
            },
            "type": "scatter"
           }
          ],
          "scatter3d": [
           {
            "line": {
             "colorbar": {
              "outlinewidth": 0,
              "ticks": ""
             }
            },
            "marker": {
             "colorbar": {
              "outlinewidth": 0,
              "ticks": ""
             }
            },
            "type": "scatter3d"
           }
          ],
          "scattercarpet": [
           {
            "marker": {
             "colorbar": {
              "outlinewidth": 0,
              "ticks": ""
             }
            },
            "type": "scattercarpet"
           }
          ],
          "scattergeo": [
           {
            "marker": {
             "colorbar": {
              "outlinewidth": 0,
              "ticks": ""
             }
            },
            "type": "scattergeo"
           }
          ],
          "scattergl": [
           {
            "marker": {
             "colorbar": {
              "outlinewidth": 0,
              "ticks": ""
             }
            },
            "type": "scattergl"
           }
          ],
          "scattermapbox": [
           {
            "marker": {
             "colorbar": {
              "outlinewidth": 0,
              "ticks": ""
             }
            },
            "type": "scattermapbox"
           }
          ],
          "scatterpolar": [
           {
            "marker": {
             "colorbar": {
              "outlinewidth": 0,
              "ticks": ""
             }
            },
            "type": "scatterpolar"
           }
          ],
          "scatterpolargl": [
           {
            "marker": {
             "colorbar": {
              "outlinewidth": 0,
              "ticks": ""
             }
            },
            "type": "scatterpolargl"
           }
          ],
          "scatterternary": [
           {
            "marker": {
             "colorbar": {
              "outlinewidth": 0,
              "ticks": ""
             }
            },
            "type": "scatterternary"
           }
          ],
          "surface": [
           {
            "colorbar": {
             "outlinewidth": 0,
             "ticks": ""
            },
            "colorscale": [
             [
              0,
              "#0d0887"
             ],
             [
              0.1111111111111111,
              "#46039f"
             ],
             [
              0.2222222222222222,
              "#7201a8"
             ],
             [
              0.3333333333333333,
              "#9c179e"
             ],
             [
              0.4444444444444444,
              "#bd3786"
             ],
             [
              0.5555555555555556,
              "#d8576b"
             ],
             [
              0.6666666666666666,
              "#ed7953"
             ],
             [
              0.7777777777777778,
              "#fb9f3a"
             ],
             [
              0.8888888888888888,
              "#fdca26"
             ],
             [
              1,
              "#f0f921"
             ]
            ],
            "type": "surface"
           }
          ],
          "table": [
           {
            "cells": {
             "fill": {
              "color": "#EBF0F8"
             },
             "line": {
              "color": "white"
             }
            },
            "header": {
             "fill": {
              "color": "#C8D4E3"
             },
             "line": {
              "color": "white"
             }
            },
            "type": "table"
           }
          ]
         },
         "layout": {
          "annotationdefaults": {
           "arrowcolor": "#2a3f5f",
           "arrowhead": 0,
           "arrowwidth": 1
          },
          "autotypenumbers": "strict",
          "coloraxis": {
           "colorbar": {
            "outlinewidth": 0,
            "ticks": ""
           }
          },
          "colorscale": {
           "diverging": [
            [
             0,
             "#8e0152"
            ],
            [
             0.1,
             "#c51b7d"
            ],
            [
             0.2,
             "#de77ae"
            ],
            [
             0.3,
             "#f1b6da"
            ],
            [
             0.4,
             "#fde0ef"
            ],
            [
             0.5,
             "#f7f7f7"
            ],
            [
             0.6,
             "#e6f5d0"
            ],
            [
             0.7,
             "#b8e186"
            ],
            [
             0.8,
             "#7fbc41"
            ],
            [
             0.9,
             "#4d9221"
            ],
            [
             1,
             "#276419"
            ]
           ],
           "sequential": [
            [
             0,
             "#0d0887"
            ],
            [
             0.1111111111111111,
             "#46039f"
            ],
            [
             0.2222222222222222,
             "#7201a8"
            ],
            [
             0.3333333333333333,
             "#9c179e"
            ],
            [
             0.4444444444444444,
             "#bd3786"
            ],
            [
             0.5555555555555556,
             "#d8576b"
            ],
            [
             0.6666666666666666,
             "#ed7953"
            ],
            [
             0.7777777777777778,
             "#fb9f3a"
            ],
            [
             0.8888888888888888,
             "#fdca26"
            ],
            [
             1,
             "#f0f921"
            ]
           ],
           "sequentialminus": [
            [
             0,
             "#0d0887"
            ],
            [
             0.1111111111111111,
             "#46039f"
            ],
            [
             0.2222222222222222,
             "#7201a8"
            ],
            [
             0.3333333333333333,
             "#9c179e"
            ],
            [
             0.4444444444444444,
             "#bd3786"
            ],
            [
             0.5555555555555556,
             "#d8576b"
            ],
            [
             0.6666666666666666,
             "#ed7953"
            ],
            [
             0.7777777777777778,
             "#fb9f3a"
            ],
            [
             0.8888888888888888,
             "#fdca26"
            ],
            [
             1,
             "#f0f921"
            ]
           ]
          },
          "colorway": [
           "#636efa",
           "#EF553B",
           "#00cc96",
           "#ab63fa",
           "#FFA15A",
           "#19d3f3",
           "#FF6692",
           "#B6E880",
           "#FF97FF",
           "#FECB52"
          ],
          "font": {
           "color": "#2a3f5f"
          },
          "geo": {
           "bgcolor": "white",
           "lakecolor": "white",
           "landcolor": "#E5ECF6",
           "showlakes": true,
           "showland": true,
           "subunitcolor": "white"
          },
          "hoverlabel": {
           "align": "left"
          },
          "hovermode": "closest",
          "mapbox": {
           "style": "light"
          },
          "paper_bgcolor": "white",
          "plot_bgcolor": "#E5ECF6",
          "polar": {
           "angularaxis": {
            "gridcolor": "white",
            "linecolor": "white",
            "ticks": ""
           },
           "bgcolor": "#E5ECF6",
           "radialaxis": {
            "gridcolor": "white",
            "linecolor": "white",
            "ticks": ""
           }
          },
          "scene": {
           "xaxis": {
            "backgroundcolor": "#E5ECF6",
            "gridcolor": "white",
            "gridwidth": 2,
            "linecolor": "white",
            "showbackground": true,
            "ticks": "",
            "zerolinecolor": "white"
           },
           "yaxis": {
            "backgroundcolor": "#E5ECF6",
            "gridcolor": "white",
            "gridwidth": 2,
            "linecolor": "white",
            "showbackground": true,
            "ticks": "",
            "zerolinecolor": "white"
           },
           "zaxis": {
            "backgroundcolor": "#E5ECF6",
            "gridcolor": "white",
            "gridwidth": 2,
            "linecolor": "white",
            "showbackground": true,
            "ticks": "",
            "zerolinecolor": "white"
           }
          },
          "shapedefaults": {
           "line": {
            "color": "#2a3f5f"
           }
          },
          "ternary": {
           "aaxis": {
            "gridcolor": "white",
            "linecolor": "white",
            "ticks": ""
           },
           "baxis": {
            "gridcolor": "white",
            "linecolor": "white",
            "ticks": ""
           },
           "bgcolor": "#E5ECF6",
           "caxis": {
            "gridcolor": "white",
            "linecolor": "white",
            "ticks": ""
           }
          },
          "title": {
           "x": 0.05
          },
          "xaxis": {
           "automargin": true,
           "gridcolor": "white",
           "linecolor": "white",
           "ticks": "",
           "title": {
            "standoff": 15
           },
           "zerolinecolor": "white",
           "zerolinewidth": 2
          },
          "yaxis": {
           "automargin": true,
           "gridcolor": "white",
           "linecolor": "white",
           "ticks": "",
           "title": {
            "standoff": 15
           },
           "zerolinecolor": "white",
           "zerolinewidth": 2
          }
         }
        },
        "xaxis": {
         "anchor": "y",
         "domain": [
          0,
          1
         ],
         "title": {
          "text": "value"
         }
        },
        "yaxis": {
         "anchor": "x",
         "domain": [
          0,
          1
         ],
         "title": {
          "text": "count"
         }
        }
       }
      },
      "text/html": [
       "<div>                            <div id=\"0c4175c4-e563-4793-929d-5c77618c02a3\" class=\"plotly-graph-div\" style=\"height:525px; width:100%;\"></div>            <script type=\"text/javascript\">                require([\"plotly\"], function(Plotly) {                    window.PLOTLYENV=window.PLOTLYENV || {};                                    if (document.getElementById(\"0c4175c4-e563-4793-929d-5c77618c02a3\")) {                    Plotly.newPlot(                        \"0c4175c4-e563-4793-929d-5c77618c02a3\",                        [{\"alignmentgroup\":\"True\",\"bingroup\":\"x\",\"hovertemplate\":\"variable=actual_price<br>value=%{x}<br>count=%{y}<extra></extra>\",\"legendgroup\":\"actual_price\",\"marker\":{\"color\":\"#636efa\",\"pattern\":{\"shape\":\"\"}},\"name\":\"actual_price\",\"offsetgroup\":\"actual_price\",\"orientation\":\"v\",\"showlegend\":true,\"x\":[1099.0,1899.0,399.0,1000.0,499.0,299.0,339.0,899.0,399.0,399.0,499.0,1799.0,499.0,199.0,699.0,399.0,1999.0,999.0,499.0,1099.0,599.0,999.0,666.66,1900.0,999.0,1999.0,1099.0,1599.0,199.0,999.0,1208.0,999.0,2199.0,2100.0,349.0,499.0,1499.0,349.0,799.0,999.0,845.0,699.0,2999.0,700.0,899.0,599.0,499.0,999.0,499.0,399.0,499.0,3999.0,1099.0,249.0,799.0,1299.0,999.0,1999.0,800.0,999.0,349.0,799.0,999.0,1899.0,1499.0,1499.0,1809.0,899.0,999.0,999.0,1299.0,999.0,800.0,999.0,999.0,1999.0,399.0,1999.0,999.0,999.0,899.0,1999.0,3999.0,1700.0,595.0,599.0,999.0,1299.0,299.0,931.0,2399.0,399.0,699.0,1099.0,2999.0,499.0,2100.0,899.0,599.0,699.0,1099.0,1299.0,399.0,799.0,1999.0,1499.0,899.0,1600.0,999.0,499.0,399.0,849.0,1199.0,1299.0,1999.0,399.0,2499.0,399.0,999.0,499.0,299.0,1099.0,199.0,1999.0,499.0,699.0,999.0,1999.0,1200.0,485.0,1999.0,1099.0,1999.0,1199.0,599.0,549.0,249.0,1699.0,499.0,2999.0,699.0,699.0,999.0,599.0,599.0,999.0,599.0,599.0,1999.0,999.0,999.0,600.0,1490.0,1999.0,899.0,799.0,499.0,2299.0,499.0,499.0,4999.0,1749.0,595.0,1100.0,1199.0,549.0,849.0,899.0,1099.0,799.0,795.0,399.0,999.0,999.0,399.0,1999.0,798.0,800.0,995.0,1000.0,799.0,899.0,799.0,599.0,399.0,758.0,999.0,1999.0,700.0,1099.0,1999.0,999.0,3999.0,999.0,1499.0,2299.0,999.0,299.0,599.0,670.0,499.0,800.0,999.0,1600.0,2499.0,1500.0,1999.0,899.0,399.0,699.0,4500.0,449.0,999.0,499.0,999.0,999.0,900.0,1052.0,1099.0,1899.0,3500.0,599.0,999.0,600.0,799.0,399.0,2999.0,499.0,599.0,699.0,999.0,499.0,2499.0,1899.0,799.0,1299.0,2499.0,1699.0,1099.0,495.0,999.0,1699.0,1599.0,1699.0,1999.0,1499.0,1000.0,999.0,1900.0,499.0,1599.0,2499.0,499.0,999.0,299.0,649.0,171.0,1999.0,1600.0,699.0,1599.0,2899.0,1999.0,899.0,1630.0,2899.0,5999.0,699.0,499.0,2899.0,999.0,1499.0,1499.0,199.0,999.0,999.0,599.0,499.0,249.0,599.0,999.0,1099.0,999.0,666.66,1630.0,599.0,1199.0,499.0,999.0,499.0,1999.0,1899.0,999.0,499.0,3999.0,2999.0,3990.0,149.0,5299.0,1899.0,599.0,2599.0,1199.0,999.0,1249.0,599.0,700.0,1799.0,599.0,3999.0,499.0,1399.0,2999.0,499.0,1499.0,499.0,6999.0,237.0,699.0,1499.0,399.0,999.0,1299.0,599.0,1799.0,650.0,50.0,165.0,1290.0,2498.0,449.0,999.0,3990.0,5499.0,1295.0,995.0,761.0,299.0,4999.0,1299.0,549.0,225.0,999.0,4499.0,550.0,1999.0,1199.0,499.0,399.0,299.0,2499.0,2299.0,1499.0,299.0,404.0,599.0,999.0,1295.0,160.0,899.0,2990.0,4999.0,861.0,795.0,2495.0,800.0,549.0,3499.0,59.0,699.0,499.0,375.0,160.0,3999.0,1499.0,3999.0,1995.0,4999.0,440.0,3999.0,399.0,999.0,699.0,799.0,2000.0,2900.0,1999.0,999.0,100.0,1499.0,1795.0,315.0,1599.0,600.0,2499.0,699.0,2198.0,499.0,499.0,180.0,1190.0,7999.0,1599.0,1999.0,99.0,2999.0,999.0,3495.0,720.0,590.0,1999.0,2595.0,999.0,1999.0,299.0,1499.0,499.0,2490.0,999.0,99.0,75.0,2699.0,1499.0,999.0,799.0,600.0,499.0,550.0,1390.0,3295.0,175.0,599.0,499.0,2295.0,995.0,499.0,499.0,999.0,999.0,1499.0,1499.0,399.0,699.0,1499.0,120.0,120.0,2295.0,99.0,249.0,2799.0,210.0,3490.0,1299.0,499.0,2890.0,5999.0,160.0,999.0,499.0,4700.0,990.0,4699.0,5490.0,100.0,2790.0,999.0,899.0,2499.0,1645.0,310.0,1499.0,1299.0,4199.0,250.0,100.0,5999.0,1995.0,1199.0,999.0,3990.0,230.0,2796.0,999.0,3499.0,723.0,2499.0,1599.0,320.0,3875.0,999.0,150.0,1490.0,1500.0,5499.0,1499.0,1300.0,1999.0,1999.0,2199.0,1999.0,1799.0,1099.0,1499.0,1499.0,2999.0,1299.0,300.0,1995.0,535.0,1099.0,450.0,1199.0,799.0,2895.0,3195.0,2999.0,165.0,3499.0,7500.0,39.0,1949.0,1547.0,1299.0,700.0,1150.0,1499.0,1299.0,1090.0,100.0,1999.0,1800.0,499.0,39.0,3990.0,1499.0,120.0,3499.0,420.0,225.0,799.0,1399.0,1999.0,999.0,2999.0,1695.0,2000.0,999.0,1999.0,1245.0,1549.0,1345.0,999.0,1650.0,499.0,1400.0,2500.0,6190.0,2995.0,5890.0,2000.0,785.0,1000.0,2000.0,1999.0,1595.0,3645.0,7950.0,999.0,1295.0,1499.0,1545.0,5000.0,1695.0,3945.0,2099.0,3595.0,1699.0,1129.0,5795.0,999.0,2400.0,1299.0,1090.0,2000.0,1545.0,1999.0,4195.0,1989.0,5000.0,990.0,2490.0,1900.0,6295.0,999.0,1500.0,1999.0,89.0,2485.0,899.0,3279.0,3799.0,1249.0,7299.0,625.0,1020.0,1639.0,899.0,1199.0,1899.0,1750.0,2095.0,2300.0,2990.0,4295.0,199.0,2499.0,499.0,2400.0,749.0,1775.0,1599.0,1795.0,1490.0,1999.0,499.0,299.0,600.0,1130.0,699.0,4999.0,2900.0,2499.0,2100.0,499.0,825.0,1499.0,999.0,6000.0,3945.0,3499.0,5550.0,4590.0,499.0,4400.0,1000.0,299.0,799.0,5190.0,1345.0,4000.0,4000.0,1599.0,1990.0,1695.0,940.0,4700.0,2999.0,79.0,3945.0,5999.0,1950.0,2799.0,1950.0,699.0,3190.0,799.0,499.0,1499.0,2660.0,2799.0,1499.0,1900.0,999.0,6375.0,499.0,1899.0,1490.0,350.0,2499.0,1560.0,6500.0,999.0,7795.0,5995.0,299.0,2349.0,499.0,1299.0,499.0,4775.0,1230.0,1999.0,5156.0,1999.0,2095.0,1920.0,2199.0,1799.0,1950.0,2995.0,999.0,2999.0,1690.0,1790.0,239.0,1599.0,2890.0,1299.0,640.0,3790.0,4560.0,3500.0,2600.0,3300.0,699.0,1599.0,2545.0,1999.0,5500.0,4995.0,1099.0,1900.0,1850.0,3995.0,3295.0,2695.0,2290.0,3099.0,1075.0,6999.0,2499.0,7290.0,3398.0,1490.0,1620.0,1000.0,640.0,4495.0,2999.0,980.0,899.0,499.0,3995.0,499.0,1599.0,1499.0,2999.0,1975.0,1699.0,2495.0,3500.0,4600.0,2380.0,2400.0,4200.0,1599.0,2999.0,1282.0,1990.0,999.0,975.0,499.0,635.0,1390.0,670.0,399.0,3390.0,2499.0,4200.0,4495.0,595.0,1010.0,1100.0,999.0,4005.0,3295.0,4650.0,6070.0,999.0,3945.0,1499.0,6700.0,2800.0,1699.0,970.0,1500.0,1295.0,850.0,6000.0,1020.0,1999.0,3500.0,1395.0,2199.0,4330.0,4295.0,2385.0,4890.0,1100.0,3899.0,825.0,1499.0,747.0,3999.0,3799.0,1999.0,2999.0,599.0,1999.0,4849.0,510.0,499.0,1299.0,999.0,1190.0,400.0,599.0,999.0,699.0,1499.0,1295.0,4999.0,2550.0,1950.0,3299.0,3895.0,5495.0,999.0,1599.0,3500.0,1999.0,3199.0,1300.0,399.0,599.0,999.0,199.0,1299.0,2299.0,1500.0,2590.0,6299.0,1795.0,3190.0,4799.0,1899.0,799.0,300.0,389.0,5999.0,2400.0,5295.0,799.0,2999.0,2495.0,450.0,999.0,1690.0,3890.0,260.0,599.0,1950.0,2990.0,2599.0,2360.0,4780.0,2400.0,249.0,1199.0,3300.0,400.0,1440.0,3045.0,3595.0,500.0,1899.0,799.0,399.0,1999.0,2199.0,999.0,3290.0,3098.0,4990.0,2695.0,2299.0,919.0,3045.0,3080.0,1890.0,3690.0],\"xaxis\":\"x\",\"yaxis\":\"y\",\"type\":\"histogram\"}],                        {\"template\":{\"data\":{\"histogram2dcontour\":[{\"type\":\"histogram2dcontour\",\"colorbar\":{\"outlinewidth\":0,\"ticks\":\"\"},\"colorscale\":[[0.0,\"#0d0887\"],[0.1111111111111111,\"#46039f\"],[0.2222222222222222,\"#7201a8\"],[0.3333333333333333,\"#9c179e\"],[0.4444444444444444,\"#bd3786\"],[0.5555555555555556,\"#d8576b\"],[0.6666666666666666,\"#ed7953\"],[0.7777777777777778,\"#fb9f3a\"],[0.8888888888888888,\"#fdca26\"],[1.0,\"#f0f921\"]]}],\"choropleth\":[{\"type\":\"choropleth\",\"colorbar\":{\"outlinewidth\":0,\"ticks\":\"\"}}],\"histogram2d\":[{\"type\":\"histogram2d\",\"colorbar\":{\"outlinewidth\":0,\"ticks\":\"\"},\"colorscale\":[[0.0,\"#0d0887\"],[0.1111111111111111,\"#46039f\"],[0.2222222222222222,\"#7201a8\"],[0.3333333333333333,\"#9c179e\"],[0.4444444444444444,\"#bd3786\"],[0.5555555555555556,\"#d8576b\"],[0.6666666666666666,\"#ed7953\"],[0.7777777777777778,\"#fb9f3a\"],[0.8888888888888888,\"#fdca26\"],[1.0,\"#f0f921\"]]}],\"heatmap\":[{\"type\":\"heatmap\",\"colorbar\":{\"outlinewidth\":0,\"ticks\":\"\"},\"colorscale\":[[0.0,\"#0d0887\"],[0.1111111111111111,\"#46039f\"],[0.2222222222222222,\"#7201a8\"],[0.3333333333333333,\"#9c179e\"],[0.4444444444444444,\"#bd3786\"],[0.5555555555555556,\"#d8576b\"],[0.6666666666666666,\"#ed7953\"],[0.7777777777777778,\"#fb9f3a\"],[0.8888888888888888,\"#fdca26\"],[1.0,\"#f0f921\"]]}],\"heatmapgl\":[{\"type\":\"heatmapgl\",\"colorbar\":{\"outlinewidth\":0,\"ticks\":\"\"},\"colorscale\":[[0.0,\"#0d0887\"],[0.1111111111111111,\"#46039f\"],[0.2222222222222222,\"#7201a8\"],[0.3333333333333333,\"#9c179e\"],[0.4444444444444444,\"#bd3786\"],[0.5555555555555556,\"#d8576b\"],[0.6666666666666666,\"#ed7953\"],[0.7777777777777778,\"#fb9f3a\"],[0.8888888888888888,\"#fdca26\"],[1.0,\"#f0f921\"]]}],\"contourcarpet\":[{\"type\":\"contourcarpet\",\"colorbar\":{\"outlinewidth\":0,\"ticks\":\"\"}}],\"contour\":[{\"type\":\"contour\",\"colorbar\":{\"outlinewidth\":0,\"ticks\":\"\"},\"colorscale\":[[0.0,\"#0d0887\"],[0.1111111111111111,\"#46039f\"],[0.2222222222222222,\"#7201a8\"],[0.3333333333333333,\"#9c179e\"],[0.4444444444444444,\"#bd3786\"],[0.5555555555555556,\"#d8576b\"],[0.6666666666666666,\"#ed7953\"],[0.7777777777777778,\"#fb9f3a\"],[0.8888888888888888,\"#fdca26\"],[1.0,\"#f0f921\"]]}],\"surface\":[{\"type\":\"surface\",\"colorbar\":{\"outlinewidth\":0,\"ticks\":\"\"},\"colorscale\":[[0.0,\"#0d0887\"],[0.1111111111111111,\"#46039f\"],[0.2222222222222222,\"#7201a8\"],[0.3333333333333333,\"#9c179e\"],[0.4444444444444444,\"#bd3786\"],[0.5555555555555556,\"#d8576b\"],[0.6666666666666666,\"#ed7953\"],[0.7777777777777778,\"#fb9f3a\"],[0.8888888888888888,\"#fdca26\"],[1.0,\"#f0f921\"]]}],\"mesh3d\":[{\"type\":\"mesh3d\",\"colorbar\":{\"outlinewidth\":0,\"ticks\":\"\"}}],\"scatter\":[{\"fillpattern\":{\"fillmode\":\"overlay\",\"size\":10,\"solidity\":0.2},\"type\":\"scatter\"}],\"parcoords\":[{\"type\":\"parcoords\",\"line\":{\"colorbar\":{\"outlinewidth\":0,\"ticks\":\"\"}}}],\"scatterpolargl\":[{\"type\":\"scatterpolargl\",\"marker\":{\"colorbar\":{\"outlinewidth\":0,\"ticks\":\"\"}}}],\"bar\":[{\"error_x\":{\"color\":\"#2a3f5f\"},\"error_y\":{\"color\":\"#2a3f5f\"},\"marker\":{\"line\":{\"color\":\"#E5ECF6\",\"width\":0.5},\"pattern\":{\"fillmode\":\"overlay\",\"size\":10,\"solidity\":0.2}},\"type\":\"bar\"}],\"scattergeo\":[{\"type\":\"scattergeo\",\"marker\":{\"colorbar\":{\"outlinewidth\":0,\"ticks\":\"\"}}}],\"scatterpolar\":[{\"type\":\"scatterpolar\",\"marker\":{\"colorbar\":{\"outlinewidth\":0,\"ticks\":\"\"}}}],\"histogram\":[{\"marker\":{\"pattern\":{\"fillmode\":\"overlay\",\"size\":10,\"solidity\":0.2}},\"type\":\"histogram\"}],\"scattergl\":[{\"type\":\"scattergl\",\"marker\":{\"colorbar\":{\"outlinewidth\":0,\"ticks\":\"\"}}}],\"scatter3d\":[{\"type\":\"scatter3d\",\"line\":{\"colorbar\":{\"outlinewidth\":0,\"ticks\":\"\"}},\"marker\":{\"colorbar\":{\"outlinewidth\":0,\"ticks\":\"\"}}}],\"scattermapbox\":[{\"type\":\"scattermapbox\",\"marker\":{\"colorbar\":{\"outlinewidth\":0,\"ticks\":\"\"}}}],\"scatterternary\":[{\"type\":\"scatterternary\",\"marker\":{\"colorbar\":{\"outlinewidth\":0,\"ticks\":\"\"}}}],\"scattercarpet\":[{\"type\":\"scattercarpet\",\"marker\":{\"colorbar\":{\"outlinewidth\":0,\"ticks\":\"\"}}}],\"carpet\":[{\"aaxis\":{\"endlinecolor\":\"#2a3f5f\",\"gridcolor\":\"white\",\"linecolor\":\"white\",\"minorgridcolor\":\"white\",\"startlinecolor\":\"#2a3f5f\"},\"baxis\":{\"endlinecolor\":\"#2a3f5f\",\"gridcolor\":\"white\",\"linecolor\":\"white\",\"minorgridcolor\":\"white\",\"startlinecolor\":\"#2a3f5f\"},\"type\":\"carpet\"}],\"table\":[{\"cells\":{\"fill\":{\"color\":\"#EBF0F8\"},\"line\":{\"color\":\"white\"}},\"header\":{\"fill\":{\"color\":\"#C8D4E3\"},\"line\":{\"color\":\"white\"}},\"type\":\"table\"}],\"barpolar\":[{\"marker\":{\"line\":{\"color\":\"#E5ECF6\",\"width\":0.5},\"pattern\":{\"fillmode\":\"overlay\",\"size\":10,\"solidity\":0.2}},\"type\":\"barpolar\"}],\"pie\":[{\"automargin\":true,\"type\":\"pie\"}]},\"layout\":{\"autotypenumbers\":\"strict\",\"colorway\":[\"#636efa\",\"#EF553B\",\"#00cc96\",\"#ab63fa\",\"#FFA15A\",\"#19d3f3\",\"#FF6692\",\"#B6E880\",\"#FF97FF\",\"#FECB52\"],\"font\":{\"color\":\"#2a3f5f\"},\"hovermode\":\"closest\",\"hoverlabel\":{\"align\":\"left\"},\"paper_bgcolor\":\"white\",\"plot_bgcolor\":\"#E5ECF6\",\"polar\":{\"bgcolor\":\"#E5ECF6\",\"angularaxis\":{\"gridcolor\":\"white\",\"linecolor\":\"white\",\"ticks\":\"\"},\"radialaxis\":{\"gridcolor\":\"white\",\"linecolor\":\"white\",\"ticks\":\"\"}},\"ternary\":{\"bgcolor\":\"#E5ECF6\",\"aaxis\":{\"gridcolor\":\"white\",\"linecolor\":\"white\",\"ticks\":\"\"},\"baxis\":{\"gridcolor\":\"white\",\"linecolor\":\"white\",\"ticks\":\"\"},\"caxis\":{\"gridcolor\":\"white\",\"linecolor\":\"white\",\"ticks\":\"\"}},\"coloraxis\":{\"colorbar\":{\"outlinewidth\":0,\"ticks\":\"\"}},\"colorscale\":{\"sequential\":[[0.0,\"#0d0887\"],[0.1111111111111111,\"#46039f\"],[0.2222222222222222,\"#7201a8\"],[0.3333333333333333,\"#9c179e\"],[0.4444444444444444,\"#bd3786\"],[0.5555555555555556,\"#d8576b\"],[0.6666666666666666,\"#ed7953\"],[0.7777777777777778,\"#fb9f3a\"],[0.8888888888888888,\"#fdca26\"],[1.0,\"#f0f921\"]],\"sequentialminus\":[[0.0,\"#0d0887\"],[0.1111111111111111,\"#46039f\"],[0.2222222222222222,\"#7201a8\"],[0.3333333333333333,\"#9c179e\"],[0.4444444444444444,\"#bd3786\"],[0.5555555555555556,\"#d8576b\"],[0.6666666666666666,\"#ed7953\"],[0.7777777777777778,\"#fb9f3a\"],[0.8888888888888888,\"#fdca26\"],[1.0,\"#f0f921\"]],\"diverging\":[[0,\"#8e0152\"],[0.1,\"#c51b7d\"],[0.2,\"#de77ae\"],[0.3,\"#f1b6da\"],[0.4,\"#fde0ef\"],[0.5,\"#f7f7f7\"],[0.6,\"#e6f5d0\"],[0.7,\"#b8e186\"],[0.8,\"#7fbc41\"],[0.9,\"#4d9221\"],[1,\"#276419\"]]},\"xaxis\":{\"gridcolor\":\"white\",\"linecolor\":\"white\",\"ticks\":\"\",\"title\":{\"standoff\":15},\"zerolinecolor\":\"white\",\"automargin\":true,\"zerolinewidth\":2},\"yaxis\":{\"gridcolor\":\"white\",\"linecolor\":\"white\",\"ticks\":\"\",\"title\":{\"standoff\":15},\"zerolinecolor\":\"white\",\"automargin\":true,\"zerolinewidth\":2},\"scene\":{\"xaxis\":{\"backgroundcolor\":\"#E5ECF6\",\"gridcolor\":\"white\",\"linecolor\":\"white\",\"showbackground\":true,\"ticks\":\"\",\"zerolinecolor\":\"white\",\"gridwidth\":2},\"yaxis\":{\"backgroundcolor\":\"#E5ECF6\",\"gridcolor\":\"white\",\"linecolor\":\"white\",\"showbackground\":true,\"ticks\":\"\",\"zerolinecolor\":\"white\",\"gridwidth\":2},\"zaxis\":{\"backgroundcolor\":\"#E5ECF6\",\"gridcolor\":\"white\",\"linecolor\":\"white\",\"showbackground\":true,\"ticks\":\"\",\"zerolinecolor\":\"white\",\"gridwidth\":2}},\"shapedefaults\":{\"line\":{\"color\":\"#2a3f5f\"}},\"annotationdefaults\":{\"arrowcolor\":\"#2a3f5f\",\"arrowhead\":0,\"arrowwidth\":1},\"geo\":{\"bgcolor\":\"white\",\"landcolor\":\"#E5ECF6\",\"subunitcolor\":\"white\",\"showland\":true,\"showlakes\":true,\"lakecolor\":\"white\"},\"title\":{\"x\":0.05},\"mapbox\":{\"style\":\"light\"}}},\"xaxis\":{\"anchor\":\"y\",\"domain\":[0.0,1.0],\"title\":{\"text\":\"value\"}},\"yaxis\":{\"anchor\":\"x\",\"domain\":[0.0,1.0],\"title\":{\"text\":\"count\"}},\"legend\":{\"title\":{\"text\":\"variable\"},\"tracegroupgap\":0},\"margin\":{\"t\":60},\"barmode\":\"relative\"},                        {\"responsive\": true}                    ).then(function(){\n",
       "                            \n",
       "var gd = document.getElementById('0c4175c4-e563-4793-929d-5c77618c02a3');\n",
       "var x = new MutationObserver(function (mutations, observer) {{\n",
       "        var display = window.getComputedStyle(gd).display;\n",
       "        if (!display || display === 'none') {{\n",
       "            console.log([gd, 'removed!']);\n",
       "            Plotly.purge(gd);\n",
       "            observer.disconnect();\n",
       "        }}\n",
       "}});\n",
       "\n",
       "// Listen for the removal of the full notebook cells\n",
       "var notebookContainer = gd.closest('#notebook-container');\n",
       "if (notebookContainer) {{\n",
       "    x.observe(notebookContainer, {childList: true});\n",
       "}}\n",
       "\n",
       "// Listen for the clearing of the current output cell\n",
       "var outputEl = gd.closest('.output');\n",
       "if (outputEl) {{\n",
       "    x.observe(outputEl, {childList: true});\n",
       "}}\n",
       "\n",
       "                        })                };                });            </script>        </div>"
      ]
     },
     "metadata": {},
     "output_type": "display_data"
    }
   ],
   "source": [
    "px.histogram(df['actual_price'])"
   ]
  },
  {
   "cell_type": "code",
   "execution_count": 42,
   "id": "c1254619",
   "metadata": {},
   "outputs": [
    {
     "data": {
      "text/html": [
       "<div>\n",
       "<style scoped>\n",
       "    .dataframe tbody tr th:only-of-type {\n",
       "        vertical-align: middle;\n",
       "    }\n",
       "\n",
       "    .dataframe tbody tr th {\n",
       "        vertical-align: top;\n",
       "    }\n",
       "\n",
       "    .dataframe thead th {\n",
       "        text-align: right;\n",
       "    }\n",
       "</style>\n",
       "<table border=\"1\" class=\"dataframe\">\n",
       "  <thead>\n",
       "    <tr style=\"text-align: right;\">\n",
       "      <th></th>\n",
       "      <th>product_id</th>\n",
       "      <th>product_name</th>\n",
       "      <th>discounted_price</th>\n",
       "      <th>actual_price</th>\n",
       "      <th>rating</th>\n",
       "      <th>rating_count</th>\n",
       "      <th>main category</th>\n",
       "      <th>sub category</th>\n",
       "      <th>discount_percentage %</th>\n",
       "      <th>quality of product</th>\n",
       "    </tr>\n",
       "  </thead>\n",
       "  <tbody>\n",
       "    <tr>\n",
       "      <th>0</th>\n",
       "      <td>B07JW9H4J1</td>\n",
       "      <td>Wayona Nylon Braided USB to Lightning Fast Cha...</td>\n",
       "      <td>399.00</td>\n",
       "      <td>1099.0</td>\n",
       "      <td>4.2</td>\n",
       "      <td>24269.0</td>\n",
       "      <td>Computers&amp;Accessories</td>\n",
       "      <td>Cables</td>\n",
       "      <td>64.0</td>\n",
       "      <td>excellent</td>\n",
       "    </tr>\n",
       "    <tr>\n",
       "      <th>1</th>\n",
       "      <td>B096MSW6CT</td>\n",
       "      <td>Sounce Fast Phone Charging Cable &amp; Data Sync U...</td>\n",
       "      <td>199.00</td>\n",
       "      <td>1899.0</td>\n",
       "      <td>3.9</td>\n",
       "      <td>7928.0</td>\n",
       "      <td>Computers&amp;Accessories</td>\n",
       "      <td>Cables</td>\n",
       "      <td>90.0</td>\n",
       "      <td>very good</td>\n",
       "    </tr>\n",
       "    <tr>\n",
       "      <th>2</th>\n",
       "      <td>B08CF3B7N1</td>\n",
       "      <td>Portronics Konnect L 1.2M Fast Charging 3A 8 P...</td>\n",
       "      <td>154.00</td>\n",
       "      <td>399.0</td>\n",
       "      <td>4.2</td>\n",
       "      <td>16905.0</td>\n",
       "      <td>Computers&amp;Accessories</td>\n",
       "      <td>Cables</td>\n",
       "      <td>61.0</td>\n",
       "      <td>excellent</td>\n",
       "    </tr>\n",
       "    <tr>\n",
       "      <th>3</th>\n",
       "      <td>B08Y1TFSP6</td>\n",
       "      <td>pTron Solero TB301 3A Type-C Data and Fast Cha...</td>\n",
       "      <td>149.00</td>\n",
       "      <td>1000.0</td>\n",
       "      <td>3.9</td>\n",
       "      <td>24871.0</td>\n",
       "      <td>Computers&amp;Accessories</td>\n",
       "      <td>Cables</td>\n",
       "      <td>85.0</td>\n",
       "      <td>very good</td>\n",
       "    </tr>\n",
       "    <tr>\n",
       "      <th>4</th>\n",
       "      <td>B08WRWPM22</td>\n",
       "      <td>boAt Micro USB 55 Tangle-free, Sturdy Micro US...</td>\n",
       "      <td>176.63</td>\n",
       "      <td>499.0</td>\n",
       "      <td>4.1</td>\n",
       "      <td>15188.0</td>\n",
       "      <td>Computers&amp;Accessories</td>\n",
       "      <td>Cables</td>\n",
       "      <td>65.0</td>\n",
       "      <td>excellent</td>\n",
       "    </tr>\n",
       "  </tbody>\n",
       "</table>\n",
       "</div>"
      ],
      "text/plain": [
       "   product_id                                       product_name  \\\n",
       "0  B07JW9H4J1  Wayona Nylon Braided USB to Lightning Fast Cha...   \n",
       "1  B096MSW6CT  Sounce Fast Phone Charging Cable & Data Sync U...   \n",
       "2  B08CF3B7N1  Portronics Konnect L 1.2M Fast Charging 3A 8 P...   \n",
       "3  B08Y1TFSP6  pTron Solero TB301 3A Type-C Data and Fast Cha...   \n",
       "4  B08WRWPM22  boAt Micro USB 55 Tangle-free, Sturdy Micro US...   \n",
       "\n",
       "   discounted_price  actual_price  rating  rating_count  \\\n",
       "0            399.00        1099.0     4.2       24269.0   \n",
       "1            199.00        1899.0     3.9        7928.0   \n",
       "2            154.00         399.0     4.2       16905.0   \n",
       "3            149.00        1000.0     3.9       24871.0   \n",
       "4            176.63         499.0     4.1       15188.0   \n",
       "\n",
       "           main category sub category  discount_percentage %  \\\n",
       "0  Computers&Accessories       Cables                   64.0   \n",
       "1  Computers&Accessories       Cables                   90.0   \n",
       "2  Computers&Accessories       Cables                   61.0   \n",
       "3  Computers&Accessories       Cables                   85.0   \n",
       "4  Computers&Accessories       Cables                   65.0   \n",
       "\n",
       "  quality of product  \n",
       "0          excellent  \n",
       "1          very good  \n",
       "2          excellent  \n",
       "3          very good  \n",
       "4          excellent  "
      ]
     },
     "execution_count": 42,
     "metadata": {},
     "output_type": "execute_result"
    }
   ],
   "source": [
    "df.head(5)"
   ]
  },
  {
   "cell_type": "markdown",
   "id": "f8a9c13d",
   "metadata": {},
   "source": [
    "#### Distribution of rating"
   ]
  },
  {
   "cell_type": "code",
   "execution_count": 43,
   "id": "4ea353ca",
   "metadata": {},
   "outputs": [
    {
     "data": {
      "application/vnd.plotly.v1+json": {
       "config": {
        "plotlyServerURL": "https://plot.ly"
       },
       "data": [
        {
         "alignmentgroup": "True",
         "bingroup": "x",
         "hovertemplate": "variable=rating<br>value=%{x}<br>count=%{y}<extra></extra>",
         "legendgroup": "rating",
         "marker": {
          "color": "#636efa",
          "pattern": {
           "shape": ""
          }
         },
         "name": "rating",
         "offsetgroup": "rating",
         "orientation": "v",
         "showlegend": true,
         "type": "histogram",
         "x": [
          4.2,
          3.9,
          4.2,
          3.9,
          4.1,
          4.3,
          4.3,
          4.2,
          4.1,
          4.4,
          4.1,
          4.5,
          3.7,
          4,
          4.2,
          4,
          4.4,
          4.3,
          4,
          4.3,
          4.3,
          3.9,
          3.9,
          4.4,
          4,
          4.2,
          4.2,
          4.3,
          4,
          3.3,
          4.1,
          3.6,
          4.4,
          4.3,
          4.1,
          3.7,
          4.2,
          4.3,
          3.7,
          4,
          4.2,
          4.1,
          4.2,
          4.3,
          4.5,
          4.1,
          4,
          4.1,
          4.1,
          4,
          3.9,
          4,
          4.2,
          4,
          4.4,
          4.2,
          4.5,
          4.2,
          3.6,
          4.1,
          3.7,
          3.8,
          3.7,
          4.5,
          4.1,
          4.3,
          4.3,
          4,
          4.2,
          4.3,
          4.2,
          4.3,
          3.9,
          4.3,
          4.1,
          4.5,
          4.1,
          3.6,
          3.5,
          4,
          3.8,
          4.4,
          3.7,
          4.1,
          4.3,
          4.2,
          4.3,
          4,
          3.9,
          3.9,
          4.6,
          3.9,
          4.3,
          4.1,
          4.4,
          3.7,
          4.5,
          4.2,
          4.2,
          4.2,
          4.3,
          4.3,
          3.4,
          4.3,
          4.4,
          4.1,
          3.9,
          4,
          4.3,
          4,
          3.9,
          4.5,
          3.9,
          4.2,
          4,
          4,
          4.4,
          4,
          4.3,
          3.7,
          4,
          4.1,
          4,
          3.3,
          3.8,
          4.1,
          4.1,
          4.4,
          4.3,
          4.3,
          4.4,
          4.3,
          4.2,
          3.7,
          4.1,
          3.9,
          4,
          4.4,
          4.1,
          4.3,
          3.8,
          4.4,
          4,
          4,
          3.9,
          3.7,
          3.6,
          3.5,
          4.2,
          3.8,
          4.3,
          4.4,
          3.9,
          4.2,
          3.8,
          4.1,
          4.1,
          4.3,
          3.7,
          4,
          4.2,
          4.1,
          4.3,
          4.4,
          3.5,
          3.9,
          4.5,
          3.4,
          4,
          4,
          4.4,
          4,
          4.3,
          4,
          4.2,
          3.8,
          4.4,
          3.9,
          4.2,
          3.9,
          3.6,
          3.7,
          4.2,
          4,
          3.6,
          4.2,
          4.3,
          4.2,
          4.4,
          4.2,
          4.4,
          4.2,
          3.8,
          4.2,
          4.1,
          4.2,
          3.3,
          3.8,
          3.7,
          3.9,
          3.5,
          3.9,
          4.3,
          4.3,
          3.3,
          4.5,
          4.2,
          4.1,
          4.2,
          3.9,
          4,
          3.7,
          4.2,
          4.2,
          4.2,
          4.3,
          4.4,
          4.3,
          4.3,
          4.4,
          3.5,
          4.1,
          4.3,
          4.2,
          4,
          3.9,
          3.3,
          3.8,
          4,
          3.9,
          4.3,
          3.8,
          4.3,
          4.4,
          4.3,
          4,
          4.3,
          4.4,
          4.2,
          4.3,
          3.9,
          4.4,
          3.8,
          4.4,
          4,
          4.1,
          3.9,
          4,
          3.6,
          4.1,
          4,
          4.1,
          4.1,
          4.2,
          4.1,
          4,
          4.5,
          4,
          4,
          4.1,
          4,
          4.6,
          4.3,
          4.2,
          4,
          4.7,
          4.3,
          4.2,
          4.2,
          4.6,
          3.7,
          4.2,
          4.5,
          4,
          3.8,
          3.8,
          4.2,
          4.2,
          4,
          4.3,
          4,
          4,
          4.2,
          3.9,
          4,
          3.9,
          4.5,
          4.2,
          4.2,
          4.1,
          4.3,
          4.1,
          4.3,
          3.6,
          4,
          3.9,
          3.8,
          4.3,
          3.5,
          4,
          4.3,
          4.3,
          4,
          4.4,
          3.8,
          4.3,
          4.3,
          4.3,
          3.9,
          4.6,
          4.4,
          4.1,
          4.1,
          4.1,
          4.5,
          4.2,
          4.5,
          3.8,
          3.5,
          4.3,
          3.5,
          4.1,
          4,
          4.1,
          4.3,
          4.5,
          4.3,
          3.9,
          4.2,
          4.2,
          3.5,
          3.5,
          4.3,
          3.9,
          4.5,
          3.9,
          4,
          3.5,
          3.8,
          4.4,
          4.4,
          4.4,
          4.2,
          3.8,
          4.4,
          3.8,
          4.2,
          3.5,
          3.6,
          3.8,
          4,
          3.9,
          4.3,
          4.4,
          4.4,
          3.8,
          4,
          4.4,
          4.5,
          4,
          3.8,
          4.3,
          4.2,
          4,
          4.4,
          4.1,
          4.5,
          3.9,
          3.8,
          3.9,
          4.2,
          4.3,
          4.4,
          3.9,
          4.1,
          4.2,
          4.3,
          4,
          4.5,
          3.9,
          4,
          4.1,
          3.4,
          4.3,
          3.9,
          4.5,
          4.1,
          4.4,
          4.3,
          4.2,
          4.1,
          4.5,
          4.3,
          4.3,
          4.3,
          4.4,
          4,
          3.3,
          4.1,
          4.4,
          4.1,
          3.6,
          3.8,
          3.6,
          4.2,
          3.8,
          4.2,
          4.1,
          4.4,
          4.4,
          4.4,
          4.3,
          4.3,
          4.2,
          4.3,
          4.2,
          4.1,
          4.1,
          4.1,
          4.3,
          4.1,
          4.3,
          3.6,
          4.4,
          3.9,
          4,
          4,
          4.6,
          4.4,
          4.4,
          4.4,
          4,
          4.1,
          4.2,
          4.2,
          4.4,
          3.6,
          4,
          3.5,
          4.1,
          4,
          4.1,
          4,
          4.3,
          4.2,
          4.1,
          4.6,
          4.3,
          4,
          4.2,
          4.3,
          3.7,
          3.9,
          4.3,
          4.5,
          3.5,
          4.5,
          3.3,
          4.1,
          3.8,
          4.5,
          4.4,
          4.1,
          4.3,
          3.6,
          4,
          4.5,
          4.3,
          4.6,
          4.5,
          4.1,
          4.5,
          3.5,
          4.2,
          4.4,
          4.2,
          4.5,
          3.8,
          3.9,
          4.1,
          4.4,
          4.4,
          3.5,
          4.5,
          4.4,
          3.9,
          4.5,
          4,
          3.4,
          4.3,
          4.3,
          4,
          4,
          3.8,
          4.2,
          4.1,
          4.5,
          4.2,
          3.9,
          4.3,
          4,
          4.3,
          4.2,
          4.1,
          4.3,
          4.3,
          4.2,
          4.5,
          4.4,
          4.1,
          4.3,
          4,
          4.4,
          4.6,
          4.5,
          4.3,
          4.5,
          3.6,
          4.1,
          3.8,
          4,
          4.3,
          4,
          4.3,
          4.1,
          4,
          4.1,
          4.4,
          4.1,
          4.4,
          4.3,
          4.2,
          3.6,
          4.2,
          4.2,
          4.5,
          4.3,
          4.2,
          4.1,
          4.1,
          3.9,
          3.7,
          4.3,
          4.1,
          3.6,
          4,
          4.1,
          3.7,
          3.9,
          3.9,
          3.8,
          4.1,
          4.1,
          3.3,
          4.2,
          4,
          4.3,
          4.5,
          4.1,
          4,
          4.2,
          3.6,
          3.8,
          4.1,
          4.1,
          4.1,
          4.2,
          4,
          4.2,
          4.2,
          3.7,
          4.1,
          4.4,
          3.8,
          4,
          3.8,
          4.2,
          4,
          3.9,
          4.3,
          3.8,
          4,
          4.2,
          3.6,
          4.3,
          4,
          4,
          4.3,
          4,
          3.9,
          4.4,
          4,
          3.8,
          4,
          4.3,
          4.1,
          4.2,
          4.1,
          4.1,
          4.1,
          3.9,
          3.9,
          4,
          4.2,
          4.1,
          3.7,
          4.2,
          4.3,
          4.3,
          3.8,
          4.5,
          3.8,
          3.8,
          4.1,
          4.1,
          3.8,
          3.3,
          4,
          4.6,
          3.9,
          3.7,
          4.2,
          4.1,
          3.8,
          4.1,
          4.6,
          4.1,
          4.2,
          4.1,
          4,
          3.7,
          4.1,
          4.1,
          3.3,
          4.1,
          4.1,
          4.3,
          4.1,
          3.7,
          4.5,
          4,
          4.1,
          3.9,
          4.1,
          4.2,
          4.1,
          3.5,
          4.3,
          3.9,
          4.2,
          3.8,
          4.5,
          4.1,
          4.2,
          4.1,
          4.2,
          4.5,
          4,
          4,
          4,
          3.9,
          4,
          3.8,
          4.2,
          4.3,
          4.2,
          4.4,
          3.8,
          4.1,
          3.9,
          4.3,
          3.6,
          3.8,
          4,
          4.1,
          4.3,
          4,
          3.9,
          3.7,
          3.6,
          3.7,
          4,
          4.2,
          3.8,
          4.2,
          3.9,
          4,
          4.1,
          4.8,
          4.2,
          4.1,
          4,
          3.9,
          4.1,
          4.3,
          4.2,
          3.7,
          4,
          3.8,
          4.2,
          4.6,
          3.3,
          4.2,
          4.3,
          4.3,
          4.7,
          3.9,
          4.7,
          4.1,
          3.8,
          4.4,
          4.3,
          3.4,
          4.2,
          3.7,
          4.3,
          4.1,
          4.4,
          3.8,
          3.8,
          3.7,
          4,
          4.4,
          4.4,
          4.3,
          4.4,
          4.4,
          4.1,
          4.1,
          4,
          3.6,
          3.9,
          3.8,
          4.1,
          4.1,
          4.1,
          3.8,
          4.3,
          4.5,
          4.2,
          3.9,
          3.5,
          4.3,
          3.9,
          4.7,
          4.1,
          3.8,
          4.1,
          3.9,
          3.8,
          4.1,
          4.3,
          4,
          4.1,
          4.1,
          3.4,
          4.6,
          4.2,
          3.9,
          4.1,
          4.3,
          4,
          4.3,
          4,
          4.1,
          3.6,
          4,
          3.7,
          3.8,
          3.9,
          4,
          4.1,
          3.6,
          4.4,
          4.3,
          3.8,
          4.1,
          4.2,
          3.6,
          4.2,
          4.1,
          4.2,
          3.9,
          4,
          4.2,
          4.2,
          4.1,
          4.1,
          4.2,
          4.1,
          3.9,
          4.2,
          4.2,
          3.7,
          3.7,
          3.4,
          4.1,
          3.9,
          4,
          3.9,
          4,
          3.8,
          4.5,
          3.5,
          4,
          4,
          3.5,
          4,
          3.4,
          4.2,
          3.8,
          4.1,
          4.2,
          4.3,
          4.2,
          4.1,
          3.9,
          3.3,
          4.3,
          3.9,
          4.3,
          3.6,
          3.8,
          3.9,
          3.8,
          3.9,
          4.1,
          3.6,
          4.3,
          4.7,
          4.3,
          3.9,
          3.9,
          3.7,
          3.5,
          4,
          4.1,
          3.9,
          4.3,
          4.5,
          4,
          3.9,
          4.2,
          4.1,
          3.7,
          4.2,
          3.6,
          4.1,
          4.2,
          4,
          4.2,
          4.2,
          3.8,
          4.4,
          4.1,
          4.2,
          4.3,
          4.1,
          4.2,
          4.1,
          3.9,
          3.9,
          3.8,
          3.6,
          4.2,
          3.9,
          3.9,
          4,
          4.4,
          4.1,
          4.1,
          4.2,
          4.2,
          4,
          4.3,
          3.5,
          4.3,
          3.6,
          4.2,
          4.4,
          4.1,
          3.8,
          3.5,
          4.1,
          4.4,
          3.6,
          4,
          4.1,
          3.6,
          4,
          4.3
         ],
         "xaxis": "x",
         "yaxis": "y"
        }
       ],
       "layout": {
        "barmode": "relative",
        "legend": {
         "title": {
          "text": "variable"
         },
         "tracegroupgap": 0
        },
        "margin": {
         "t": 60
        },
        "template": {
         "data": {
          "bar": [
           {
            "error_x": {
             "color": "#2a3f5f"
            },
            "error_y": {
             "color": "#2a3f5f"
            },
            "marker": {
             "line": {
              "color": "#E5ECF6",
              "width": 0.5
             },
             "pattern": {
              "fillmode": "overlay",
              "size": 10,
              "solidity": 0.2
             }
            },
            "type": "bar"
           }
          ],
          "barpolar": [
           {
            "marker": {
             "line": {
              "color": "#E5ECF6",
              "width": 0.5
             },
             "pattern": {
              "fillmode": "overlay",
              "size": 10,
              "solidity": 0.2
             }
            },
            "type": "barpolar"
           }
          ],
          "carpet": [
           {
            "aaxis": {
             "endlinecolor": "#2a3f5f",
             "gridcolor": "white",
             "linecolor": "white",
             "minorgridcolor": "white",
             "startlinecolor": "#2a3f5f"
            },
            "baxis": {
             "endlinecolor": "#2a3f5f",
             "gridcolor": "white",
             "linecolor": "white",
             "minorgridcolor": "white",
             "startlinecolor": "#2a3f5f"
            },
            "type": "carpet"
           }
          ],
          "choropleth": [
           {
            "colorbar": {
             "outlinewidth": 0,
             "ticks": ""
            },
            "type": "choropleth"
           }
          ],
          "contour": [
           {
            "colorbar": {
             "outlinewidth": 0,
             "ticks": ""
            },
            "colorscale": [
             [
              0,
              "#0d0887"
             ],
             [
              0.1111111111111111,
              "#46039f"
             ],
             [
              0.2222222222222222,
              "#7201a8"
             ],
             [
              0.3333333333333333,
              "#9c179e"
             ],
             [
              0.4444444444444444,
              "#bd3786"
             ],
             [
              0.5555555555555556,
              "#d8576b"
             ],
             [
              0.6666666666666666,
              "#ed7953"
             ],
             [
              0.7777777777777778,
              "#fb9f3a"
             ],
             [
              0.8888888888888888,
              "#fdca26"
             ],
             [
              1,
              "#f0f921"
             ]
            ],
            "type": "contour"
           }
          ],
          "contourcarpet": [
           {
            "colorbar": {
             "outlinewidth": 0,
             "ticks": ""
            },
            "type": "contourcarpet"
           }
          ],
          "heatmap": [
           {
            "colorbar": {
             "outlinewidth": 0,
             "ticks": ""
            },
            "colorscale": [
             [
              0,
              "#0d0887"
             ],
             [
              0.1111111111111111,
              "#46039f"
             ],
             [
              0.2222222222222222,
              "#7201a8"
             ],
             [
              0.3333333333333333,
              "#9c179e"
             ],
             [
              0.4444444444444444,
              "#bd3786"
             ],
             [
              0.5555555555555556,
              "#d8576b"
             ],
             [
              0.6666666666666666,
              "#ed7953"
             ],
             [
              0.7777777777777778,
              "#fb9f3a"
             ],
             [
              0.8888888888888888,
              "#fdca26"
             ],
             [
              1,
              "#f0f921"
             ]
            ],
            "type": "heatmap"
           }
          ],
          "heatmapgl": [
           {
            "colorbar": {
             "outlinewidth": 0,
             "ticks": ""
            },
            "colorscale": [
             [
              0,
              "#0d0887"
             ],
             [
              0.1111111111111111,
              "#46039f"
             ],
             [
              0.2222222222222222,
              "#7201a8"
             ],
             [
              0.3333333333333333,
              "#9c179e"
             ],
             [
              0.4444444444444444,
              "#bd3786"
             ],
             [
              0.5555555555555556,
              "#d8576b"
             ],
             [
              0.6666666666666666,
              "#ed7953"
             ],
             [
              0.7777777777777778,
              "#fb9f3a"
             ],
             [
              0.8888888888888888,
              "#fdca26"
             ],
             [
              1,
              "#f0f921"
             ]
            ],
            "type": "heatmapgl"
           }
          ],
          "histogram": [
           {
            "marker": {
             "pattern": {
              "fillmode": "overlay",
              "size": 10,
              "solidity": 0.2
             }
            },
            "type": "histogram"
           }
          ],
          "histogram2d": [
           {
            "colorbar": {
             "outlinewidth": 0,
             "ticks": ""
            },
            "colorscale": [
             [
              0,
              "#0d0887"
             ],
             [
              0.1111111111111111,
              "#46039f"
             ],
             [
              0.2222222222222222,
              "#7201a8"
             ],
             [
              0.3333333333333333,
              "#9c179e"
             ],
             [
              0.4444444444444444,
              "#bd3786"
             ],
             [
              0.5555555555555556,
              "#d8576b"
             ],
             [
              0.6666666666666666,
              "#ed7953"
             ],
             [
              0.7777777777777778,
              "#fb9f3a"
             ],
             [
              0.8888888888888888,
              "#fdca26"
             ],
             [
              1,
              "#f0f921"
             ]
            ],
            "type": "histogram2d"
           }
          ],
          "histogram2dcontour": [
           {
            "colorbar": {
             "outlinewidth": 0,
             "ticks": ""
            },
            "colorscale": [
             [
              0,
              "#0d0887"
             ],
             [
              0.1111111111111111,
              "#46039f"
             ],
             [
              0.2222222222222222,
              "#7201a8"
             ],
             [
              0.3333333333333333,
              "#9c179e"
             ],
             [
              0.4444444444444444,
              "#bd3786"
             ],
             [
              0.5555555555555556,
              "#d8576b"
             ],
             [
              0.6666666666666666,
              "#ed7953"
             ],
             [
              0.7777777777777778,
              "#fb9f3a"
             ],
             [
              0.8888888888888888,
              "#fdca26"
             ],
             [
              1,
              "#f0f921"
             ]
            ],
            "type": "histogram2dcontour"
           }
          ],
          "mesh3d": [
           {
            "colorbar": {
             "outlinewidth": 0,
             "ticks": ""
            },
            "type": "mesh3d"
           }
          ],
          "parcoords": [
           {
            "line": {
             "colorbar": {
              "outlinewidth": 0,
              "ticks": ""
             }
            },
            "type": "parcoords"
           }
          ],
          "pie": [
           {
            "automargin": true,
            "type": "pie"
           }
          ],
          "scatter": [
           {
            "fillpattern": {
             "fillmode": "overlay",
             "size": 10,
             "solidity": 0.2
            },
            "type": "scatter"
           }
          ],
          "scatter3d": [
           {
            "line": {
             "colorbar": {
              "outlinewidth": 0,
              "ticks": ""
             }
            },
            "marker": {
             "colorbar": {
              "outlinewidth": 0,
              "ticks": ""
             }
            },
            "type": "scatter3d"
           }
          ],
          "scattercarpet": [
           {
            "marker": {
             "colorbar": {
              "outlinewidth": 0,
              "ticks": ""
             }
            },
            "type": "scattercarpet"
           }
          ],
          "scattergeo": [
           {
            "marker": {
             "colorbar": {
              "outlinewidth": 0,
              "ticks": ""
             }
            },
            "type": "scattergeo"
           }
          ],
          "scattergl": [
           {
            "marker": {
             "colorbar": {
              "outlinewidth": 0,
              "ticks": ""
             }
            },
            "type": "scattergl"
           }
          ],
          "scattermapbox": [
           {
            "marker": {
             "colorbar": {
              "outlinewidth": 0,
              "ticks": ""
             }
            },
            "type": "scattermapbox"
           }
          ],
          "scatterpolar": [
           {
            "marker": {
             "colorbar": {
              "outlinewidth": 0,
              "ticks": ""
             }
            },
            "type": "scatterpolar"
           }
          ],
          "scatterpolargl": [
           {
            "marker": {
             "colorbar": {
              "outlinewidth": 0,
              "ticks": ""
             }
            },
            "type": "scatterpolargl"
           }
          ],
          "scatterternary": [
           {
            "marker": {
             "colorbar": {
              "outlinewidth": 0,
              "ticks": ""
             }
            },
            "type": "scatterternary"
           }
          ],
          "surface": [
           {
            "colorbar": {
             "outlinewidth": 0,
             "ticks": ""
            },
            "colorscale": [
             [
              0,
              "#0d0887"
             ],
             [
              0.1111111111111111,
              "#46039f"
             ],
             [
              0.2222222222222222,
              "#7201a8"
             ],
             [
              0.3333333333333333,
              "#9c179e"
             ],
             [
              0.4444444444444444,
              "#bd3786"
             ],
             [
              0.5555555555555556,
              "#d8576b"
             ],
             [
              0.6666666666666666,
              "#ed7953"
             ],
             [
              0.7777777777777778,
              "#fb9f3a"
             ],
             [
              0.8888888888888888,
              "#fdca26"
             ],
             [
              1,
              "#f0f921"
             ]
            ],
            "type": "surface"
           }
          ],
          "table": [
           {
            "cells": {
             "fill": {
              "color": "#EBF0F8"
             },
             "line": {
              "color": "white"
             }
            },
            "header": {
             "fill": {
              "color": "#C8D4E3"
             },
             "line": {
              "color": "white"
             }
            },
            "type": "table"
           }
          ]
         },
         "layout": {
          "annotationdefaults": {
           "arrowcolor": "#2a3f5f",
           "arrowhead": 0,
           "arrowwidth": 1
          },
          "autotypenumbers": "strict",
          "coloraxis": {
           "colorbar": {
            "outlinewidth": 0,
            "ticks": ""
           }
          },
          "colorscale": {
           "diverging": [
            [
             0,
             "#8e0152"
            ],
            [
             0.1,
             "#c51b7d"
            ],
            [
             0.2,
             "#de77ae"
            ],
            [
             0.3,
             "#f1b6da"
            ],
            [
             0.4,
             "#fde0ef"
            ],
            [
             0.5,
             "#f7f7f7"
            ],
            [
             0.6,
             "#e6f5d0"
            ],
            [
             0.7,
             "#b8e186"
            ],
            [
             0.8,
             "#7fbc41"
            ],
            [
             0.9,
             "#4d9221"
            ],
            [
             1,
             "#276419"
            ]
           ],
           "sequential": [
            [
             0,
             "#0d0887"
            ],
            [
             0.1111111111111111,
             "#46039f"
            ],
            [
             0.2222222222222222,
             "#7201a8"
            ],
            [
             0.3333333333333333,
             "#9c179e"
            ],
            [
             0.4444444444444444,
             "#bd3786"
            ],
            [
             0.5555555555555556,
             "#d8576b"
            ],
            [
             0.6666666666666666,
             "#ed7953"
            ],
            [
             0.7777777777777778,
             "#fb9f3a"
            ],
            [
             0.8888888888888888,
             "#fdca26"
            ],
            [
             1,
             "#f0f921"
            ]
           ],
           "sequentialminus": [
            [
             0,
             "#0d0887"
            ],
            [
             0.1111111111111111,
             "#46039f"
            ],
            [
             0.2222222222222222,
             "#7201a8"
            ],
            [
             0.3333333333333333,
             "#9c179e"
            ],
            [
             0.4444444444444444,
             "#bd3786"
            ],
            [
             0.5555555555555556,
             "#d8576b"
            ],
            [
             0.6666666666666666,
             "#ed7953"
            ],
            [
             0.7777777777777778,
             "#fb9f3a"
            ],
            [
             0.8888888888888888,
             "#fdca26"
            ],
            [
             1,
             "#f0f921"
            ]
           ]
          },
          "colorway": [
           "#636efa",
           "#EF553B",
           "#00cc96",
           "#ab63fa",
           "#FFA15A",
           "#19d3f3",
           "#FF6692",
           "#B6E880",
           "#FF97FF",
           "#FECB52"
          ],
          "font": {
           "color": "#2a3f5f"
          },
          "geo": {
           "bgcolor": "white",
           "lakecolor": "white",
           "landcolor": "#E5ECF6",
           "showlakes": true,
           "showland": true,
           "subunitcolor": "white"
          },
          "hoverlabel": {
           "align": "left"
          },
          "hovermode": "closest",
          "mapbox": {
           "style": "light"
          },
          "paper_bgcolor": "white",
          "plot_bgcolor": "#E5ECF6",
          "polar": {
           "angularaxis": {
            "gridcolor": "white",
            "linecolor": "white",
            "ticks": ""
           },
           "bgcolor": "#E5ECF6",
           "radialaxis": {
            "gridcolor": "white",
            "linecolor": "white",
            "ticks": ""
           }
          },
          "scene": {
           "xaxis": {
            "backgroundcolor": "#E5ECF6",
            "gridcolor": "white",
            "gridwidth": 2,
            "linecolor": "white",
            "showbackground": true,
            "ticks": "",
            "zerolinecolor": "white"
           },
           "yaxis": {
            "backgroundcolor": "#E5ECF6",
            "gridcolor": "white",
            "gridwidth": 2,
            "linecolor": "white",
            "showbackground": true,
            "ticks": "",
            "zerolinecolor": "white"
           },
           "zaxis": {
            "backgroundcolor": "#E5ECF6",
            "gridcolor": "white",
            "gridwidth": 2,
            "linecolor": "white",
            "showbackground": true,
            "ticks": "",
            "zerolinecolor": "white"
           }
          },
          "shapedefaults": {
           "line": {
            "color": "#2a3f5f"
           }
          },
          "ternary": {
           "aaxis": {
            "gridcolor": "white",
            "linecolor": "white",
            "ticks": ""
           },
           "baxis": {
            "gridcolor": "white",
            "linecolor": "white",
            "ticks": ""
           },
           "bgcolor": "#E5ECF6",
           "caxis": {
            "gridcolor": "white",
            "linecolor": "white",
            "ticks": ""
           }
          },
          "title": {
           "x": 0.05
          },
          "xaxis": {
           "automargin": true,
           "gridcolor": "white",
           "linecolor": "white",
           "ticks": "",
           "title": {
            "standoff": 15
           },
           "zerolinecolor": "white",
           "zerolinewidth": 2
          },
          "yaxis": {
           "automargin": true,
           "gridcolor": "white",
           "linecolor": "white",
           "ticks": "",
           "title": {
            "standoff": 15
           },
           "zerolinecolor": "white",
           "zerolinewidth": 2
          }
         }
        },
        "xaxis": {
         "anchor": "y",
         "domain": [
          0,
          1
         ],
         "title": {
          "text": "value"
         }
        },
        "yaxis": {
         "anchor": "x",
         "domain": [
          0,
          1
         ],
         "title": {
          "text": "count"
         }
        }
       }
      },
      "text/html": [
       "<div>                            <div id=\"ad773cd6-3415-4d81-bf36-2ecf92375bd3\" class=\"plotly-graph-div\" style=\"height:525px; width:100%;\"></div>            <script type=\"text/javascript\">                require([\"plotly\"], function(Plotly) {                    window.PLOTLYENV=window.PLOTLYENV || {};                                    if (document.getElementById(\"ad773cd6-3415-4d81-bf36-2ecf92375bd3\")) {                    Plotly.newPlot(                        \"ad773cd6-3415-4d81-bf36-2ecf92375bd3\",                        [{\"alignmentgroup\":\"True\",\"bingroup\":\"x\",\"hovertemplate\":\"variable=rating<br>value=%{x}<br>count=%{y}<extra></extra>\",\"legendgroup\":\"rating\",\"marker\":{\"color\":\"#636efa\",\"pattern\":{\"shape\":\"\"}},\"name\":\"rating\",\"offsetgroup\":\"rating\",\"orientation\":\"v\",\"showlegend\":true,\"x\":[4.2,3.9,4.2,3.9,4.1,4.3,4.3,4.2,4.1,4.4,4.1,4.5,3.7,4.0,4.2,4.0,4.4,4.3,4.0,4.3,4.3,3.9,3.9,4.4,4.0,4.2,4.2,4.3,4.0,3.3,4.1,3.6,4.4,4.3,4.1,3.7,4.2,4.3,3.7,4.0,4.2,4.1,4.2,4.3,4.5,4.1,4.0,4.1,4.1,4.0,3.9,4.0,4.2,4.0,4.4,4.2,4.5,4.2,3.6,4.1,3.7,3.8,3.7,4.5,4.1,4.3,4.3,4.0,4.2,4.3,4.2,4.3,3.9,4.3,4.1,4.5,4.1,3.6,3.5,4.0,3.8,4.4,3.7,4.1,4.3,4.2,4.3,4.0,3.9,3.9,4.6,3.9,4.3,4.1,4.4,3.7,4.5,4.2,4.2,4.2,4.3,4.3,3.4,4.3,4.4,4.1,3.9,4.0,4.3,4.0,3.9,4.5,3.9,4.2,4.0,4.0,4.4,4.0,4.3,3.7,4.0,4.1,4.0,3.3,3.8,4.1,4.1,4.4,4.3,4.3,4.4,4.3,4.2,3.7,4.1,3.9,4.0,4.4,4.1,4.3,3.8,4.4,4.0,4.0,3.9,3.7,3.6,3.5,4.2,3.8,4.3,4.4,3.9,4.2,3.8,4.1,4.1,4.3,3.7,4.0,4.2,4.1,4.3,4.4,3.5,3.9,4.5,3.4,4.0,4.0,4.4,4.0,4.3,4.0,4.2,3.8,4.4,3.9,4.2,3.9,3.6,3.7,4.2,4.0,3.6,4.2,4.3,4.2,4.4,4.2,4.4,4.2,3.8,4.2,4.1,4.2,3.3,3.8,3.7,3.9,3.5,3.9,4.3,4.3,3.3,4.5,4.2,4.1,4.2,3.9,4.0,3.7,4.2,4.2,4.2,4.3,4.4,4.3,4.3,4.4,3.5,4.1,4.3,4.2,4.0,3.9,3.3,3.8,4.0,3.9,4.3,3.8,4.3,4.4,4.3,4.0,4.3,4.4,4.2,4.3,3.9,4.4,3.8,4.4,4.0,4.1,3.9,4.0,3.6,4.1,4.0,4.1,4.1,4.2,4.1,4.0,4.5,4.0,4.0,4.1,4.0,4.6,4.3,4.2,4.0,4.7,4.3,4.2,4.2,4.6,3.7,4.2,4.5,4.0,3.8,3.8,4.2,4.2,4.0,4.3,4.0,4.0,4.2,3.9,4.0,3.9,4.5,4.2,4.2,4.1,4.3,4.1,4.3,3.6,4.0,3.9,3.8,4.3,3.5,4.0,4.3,4.3,4.0,4.4,3.8,4.3,4.3,4.3,3.9,4.6,4.4,4.1,4.1,4.1,4.5,4.2,4.5,3.8,3.5,4.3,3.5,4.1,4.0,4.1,4.3,4.5,4.3,3.9,4.2,4.2,3.5,3.5,4.3,3.9,4.5,3.9,4.0,3.5,3.8,4.4,4.4,4.4,4.2,3.8,4.4,3.8,4.2,3.5,3.6,3.8,4.0,3.9,4.3,4.4,4.4,3.8,4.0,4.4,4.5,4.0,3.8,4.3,4.2,4.0,4.4,4.1,4.5,3.9,3.8,3.9,4.2,4.3,4.4,3.9,4.1,4.2,4.3,4.0,4.5,3.9,4.0,4.1,3.4,4.3,3.9,4.5,4.1,4.4,4.3,4.2,4.1,4.5,4.3,4.3,4.3,4.4,4.0,3.3,4.1,4.4,4.1,3.6,3.8,3.6,4.2,3.8,4.2,4.1,4.4,4.4,4.4,4.3,4.3,4.2,4.3,4.2,4.1,4.1,4.1,4.3,4.1,4.3,3.6,4.4,3.9,4.0,4.0,4.6,4.4,4.4,4.4,4.0,4.1,4.2,4.2,4.4,3.6,4.0,3.5,4.1,4.0,4.1,4.0,4.3,4.2,4.1,4.6,4.3,4.0,4.2,4.3,3.7,3.9,4.3,4.5,3.5,4.5,3.3,4.1,3.8,4.5,4.4,4.1,4.3,3.6,4.0,4.5,4.3,4.6,4.5,4.1,4.5,3.5,4.2,4.4,4.2,4.5,3.8,3.9,4.1,4.4,4.4,3.5,4.5,4.4,3.9,4.5,4.0,3.4,4.3,4.3,4.0,4.0,3.8,4.2,4.1,4.5,4.2,3.9,4.3,4.0,4.3,4.2,4.1,4.3,4.3,4.2,4.5,4.4,4.1,4.3,4.0,4.4,4.6,4.5,4.3,4.5,3.6,4.1,3.8,4.0,4.3,4.0,4.3,4.1,4.0,4.1,4.4,4.1,4.4,4.3,4.2,3.6,4.2,4.2,4.5,4.3,4.2,4.1,4.1,3.9,3.7,4.3,4.1,3.6,4.0,4.1,3.7,3.9,3.9,3.8,4.1,4.1,3.3,4.2,4.0,4.3,4.5,4.1,4.0,4.2,3.6,3.8,4.1,4.1,4.1,4.2,4.0,4.2,4.2,3.7,4.1,4.4,3.8,4.0,3.8,4.2,4.0,3.9,4.3,3.8,4.0,4.2,3.6,4.3,4.0,4.0,4.3,4.0,3.9,4.4,4.0,3.8,4.0,4.3,4.1,4.2,4.1,4.1,4.1,3.9,3.9,4.0,4.2,4.1,3.7,4.2,4.3,4.3,3.8,4.5,3.8,3.8,4.1,4.1,3.8,3.3,4.0,4.6,3.9,3.7,4.2,4.1,3.8,4.1,4.6,4.1,4.2,4.1,4.0,3.7,4.1,4.1,3.3,4.1,4.1,4.3,4.1,3.7,4.5,4.0,4.1,3.9,4.1,4.2,4.1,3.5,4.3,3.9,4.2,3.8,4.5,4.1,4.2,4.1,4.2,4.5,4.0,4.0,4.0,3.9,4.0,3.8,4.2,4.3,4.2,4.4,3.8,4.1,3.9,4.3,3.6,3.8,4.0,4.1,4.3,4.0,3.9,3.7,3.6,3.7,4.0,4.2,3.8,4.2,3.9,4.0,4.1,4.8,4.2,4.1,4.0,3.9,4.1,4.3,4.2,3.7,4.0,3.8,4.2,4.6,3.3,4.2,4.3,4.3,4.7,3.9,4.7,4.1,3.8,4.4,4.3,3.4,4.2,3.7,4.3,4.1,4.4,3.8,3.8,3.7,4.0,4.4,4.4,4.3,4.4,4.4,4.1,4.1,4.0,3.6,3.9,3.8,4.1,4.1,4.1,3.8,4.3,4.5,4.2,3.9,3.5,4.3,3.9,4.7,4.1,3.8,4.1,3.9,3.8,4.1,4.3,4.0,4.1,4.1,3.4,4.6,4.2,3.9,4.1,4.3,4.0,4.3,4.0,4.1,3.6,4.0,3.7,3.8,3.9,4.0,4.1,3.6,4.4,4.3,3.8,4.1,4.2,3.6,4.2,4.1,4.2,3.9,4.0,4.2,4.2,4.1,4.1,4.2,4.1,3.9,4.2,4.2,3.7,3.7,3.4,4.1,3.9,4.0,3.9,4.0,3.8,4.5,3.5,4.0,4.0,3.5,4.0,3.4,4.2,3.8,4.1,4.2,4.3,4.2,4.1,3.9,3.3,4.3,3.9,4.3,3.6,3.8,3.9,3.8,3.9,4.1,3.6,4.3,4.7,4.3,3.9,3.9,3.7,3.5,4.0,4.1,3.9,4.3,4.5,4.0,3.9,4.2,4.1,3.7,4.2,3.6,4.1,4.2,4.0,4.2,4.2,3.8,4.4,4.1,4.2,4.3,4.1,4.2,4.1,3.9,3.9,3.8,3.6,4.2,3.9,3.9,4.0,4.4,4.1,4.1,4.2,4.2,4.0,4.3,3.5,4.3,3.6,4.2,4.4,4.1,3.8,3.5,4.1,4.4,3.6,4.0,4.1,3.6,4.0,4.3],\"xaxis\":\"x\",\"yaxis\":\"y\",\"type\":\"histogram\"}],                        {\"template\":{\"data\":{\"histogram2dcontour\":[{\"type\":\"histogram2dcontour\",\"colorbar\":{\"outlinewidth\":0,\"ticks\":\"\"},\"colorscale\":[[0.0,\"#0d0887\"],[0.1111111111111111,\"#46039f\"],[0.2222222222222222,\"#7201a8\"],[0.3333333333333333,\"#9c179e\"],[0.4444444444444444,\"#bd3786\"],[0.5555555555555556,\"#d8576b\"],[0.6666666666666666,\"#ed7953\"],[0.7777777777777778,\"#fb9f3a\"],[0.8888888888888888,\"#fdca26\"],[1.0,\"#f0f921\"]]}],\"choropleth\":[{\"type\":\"choropleth\",\"colorbar\":{\"outlinewidth\":0,\"ticks\":\"\"}}],\"histogram2d\":[{\"type\":\"histogram2d\",\"colorbar\":{\"outlinewidth\":0,\"ticks\":\"\"},\"colorscale\":[[0.0,\"#0d0887\"],[0.1111111111111111,\"#46039f\"],[0.2222222222222222,\"#7201a8\"],[0.3333333333333333,\"#9c179e\"],[0.4444444444444444,\"#bd3786\"],[0.5555555555555556,\"#d8576b\"],[0.6666666666666666,\"#ed7953\"],[0.7777777777777778,\"#fb9f3a\"],[0.8888888888888888,\"#fdca26\"],[1.0,\"#f0f921\"]]}],\"heatmap\":[{\"type\":\"heatmap\",\"colorbar\":{\"outlinewidth\":0,\"ticks\":\"\"},\"colorscale\":[[0.0,\"#0d0887\"],[0.1111111111111111,\"#46039f\"],[0.2222222222222222,\"#7201a8\"],[0.3333333333333333,\"#9c179e\"],[0.4444444444444444,\"#bd3786\"],[0.5555555555555556,\"#d8576b\"],[0.6666666666666666,\"#ed7953\"],[0.7777777777777778,\"#fb9f3a\"],[0.8888888888888888,\"#fdca26\"],[1.0,\"#f0f921\"]]}],\"heatmapgl\":[{\"type\":\"heatmapgl\",\"colorbar\":{\"outlinewidth\":0,\"ticks\":\"\"},\"colorscale\":[[0.0,\"#0d0887\"],[0.1111111111111111,\"#46039f\"],[0.2222222222222222,\"#7201a8\"],[0.3333333333333333,\"#9c179e\"],[0.4444444444444444,\"#bd3786\"],[0.5555555555555556,\"#d8576b\"],[0.6666666666666666,\"#ed7953\"],[0.7777777777777778,\"#fb9f3a\"],[0.8888888888888888,\"#fdca26\"],[1.0,\"#f0f921\"]]}],\"contourcarpet\":[{\"type\":\"contourcarpet\",\"colorbar\":{\"outlinewidth\":0,\"ticks\":\"\"}}],\"contour\":[{\"type\":\"contour\",\"colorbar\":{\"outlinewidth\":0,\"ticks\":\"\"},\"colorscale\":[[0.0,\"#0d0887\"],[0.1111111111111111,\"#46039f\"],[0.2222222222222222,\"#7201a8\"],[0.3333333333333333,\"#9c179e\"],[0.4444444444444444,\"#bd3786\"],[0.5555555555555556,\"#d8576b\"],[0.6666666666666666,\"#ed7953\"],[0.7777777777777778,\"#fb9f3a\"],[0.8888888888888888,\"#fdca26\"],[1.0,\"#f0f921\"]]}],\"surface\":[{\"type\":\"surface\",\"colorbar\":{\"outlinewidth\":0,\"ticks\":\"\"},\"colorscale\":[[0.0,\"#0d0887\"],[0.1111111111111111,\"#46039f\"],[0.2222222222222222,\"#7201a8\"],[0.3333333333333333,\"#9c179e\"],[0.4444444444444444,\"#bd3786\"],[0.5555555555555556,\"#d8576b\"],[0.6666666666666666,\"#ed7953\"],[0.7777777777777778,\"#fb9f3a\"],[0.8888888888888888,\"#fdca26\"],[1.0,\"#f0f921\"]]}],\"mesh3d\":[{\"type\":\"mesh3d\",\"colorbar\":{\"outlinewidth\":0,\"ticks\":\"\"}}],\"scatter\":[{\"fillpattern\":{\"fillmode\":\"overlay\",\"size\":10,\"solidity\":0.2},\"type\":\"scatter\"}],\"parcoords\":[{\"type\":\"parcoords\",\"line\":{\"colorbar\":{\"outlinewidth\":0,\"ticks\":\"\"}}}],\"scatterpolargl\":[{\"type\":\"scatterpolargl\",\"marker\":{\"colorbar\":{\"outlinewidth\":0,\"ticks\":\"\"}}}],\"bar\":[{\"error_x\":{\"color\":\"#2a3f5f\"},\"error_y\":{\"color\":\"#2a3f5f\"},\"marker\":{\"line\":{\"color\":\"#E5ECF6\",\"width\":0.5},\"pattern\":{\"fillmode\":\"overlay\",\"size\":10,\"solidity\":0.2}},\"type\":\"bar\"}],\"scattergeo\":[{\"type\":\"scattergeo\",\"marker\":{\"colorbar\":{\"outlinewidth\":0,\"ticks\":\"\"}}}],\"scatterpolar\":[{\"type\":\"scatterpolar\",\"marker\":{\"colorbar\":{\"outlinewidth\":0,\"ticks\":\"\"}}}],\"histogram\":[{\"marker\":{\"pattern\":{\"fillmode\":\"overlay\",\"size\":10,\"solidity\":0.2}},\"type\":\"histogram\"}],\"scattergl\":[{\"type\":\"scattergl\",\"marker\":{\"colorbar\":{\"outlinewidth\":0,\"ticks\":\"\"}}}],\"scatter3d\":[{\"type\":\"scatter3d\",\"line\":{\"colorbar\":{\"outlinewidth\":0,\"ticks\":\"\"}},\"marker\":{\"colorbar\":{\"outlinewidth\":0,\"ticks\":\"\"}}}],\"scattermapbox\":[{\"type\":\"scattermapbox\",\"marker\":{\"colorbar\":{\"outlinewidth\":0,\"ticks\":\"\"}}}],\"scatterternary\":[{\"type\":\"scatterternary\",\"marker\":{\"colorbar\":{\"outlinewidth\":0,\"ticks\":\"\"}}}],\"scattercarpet\":[{\"type\":\"scattercarpet\",\"marker\":{\"colorbar\":{\"outlinewidth\":0,\"ticks\":\"\"}}}],\"carpet\":[{\"aaxis\":{\"endlinecolor\":\"#2a3f5f\",\"gridcolor\":\"white\",\"linecolor\":\"white\",\"minorgridcolor\":\"white\",\"startlinecolor\":\"#2a3f5f\"},\"baxis\":{\"endlinecolor\":\"#2a3f5f\",\"gridcolor\":\"white\",\"linecolor\":\"white\",\"minorgridcolor\":\"white\",\"startlinecolor\":\"#2a3f5f\"},\"type\":\"carpet\"}],\"table\":[{\"cells\":{\"fill\":{\"color\":\"#EBF0F8\"},\"line\":{\"color\":\"white\"}},\"header\":{\"fill\":{\"color\":\"#C8D4E3\"},\"line\":{\"color\":\"white\"}},\"type\":\"table\"}],\"barpolar\":[{\"marker\":{\"line\":{\"color\":\"#E5ECF6\",\"width\":0.5},\"pattern\":{\"fillmode\":\"overlay\",\"size\":10,\"solidity\":0.2}},\"type\":\"barpolar\"}],\"pie\":[{\"automargin\":true,\"type\":\"pie\"}]},\"layout\":{\"autotypenumbers\":\"strict\",\"colorway\":[\"#636efa\",\"#EF553B\",\"#00cc96\",\"#ab63fa\",\"#FFA15A\",\"#19d3f3\",\"#FF6692\",\"#B6E880\",\"#FF97FF\",\"#FECB52\"],\"font\":{\"color\":\"#2a3f5f\"},\"hovermode\":\"closest\",\"hoverlabel\":{\"align\":\"left\"},\"paper_bgcolor\":\"white\",\"plot_bgcolor\":\"#E5ECF6\",\"polar\":{\"bgcolor\":\"#E5ECF6\",\"angularaxis\":{\"gridcolor\":\"white\",\"linecolor\":\"white\",\"ticks\":\"\"},\"radialaxis\":{\"gridcolor\":\"white\",\"linecolor\":\"white\",\"ticks\":\"\"}},\"ternary\":{\"bgcolor\":\"#E5ECF6\",\"aaxis\":{\"gridcolor\":\"white\",\"linecolor\":\"white\",\"ticks\":\"\"},\"baxis\":{\"gridcolor\":\"white\",\"linecolor\":\"white\",\"ticks\":\"\"},\"caxis\":{\"gridcolor\":\"white\",\"linecolor\":\"white\",\"ticks\":\"\"}},\"coloraxis\":{\"colorbar\":{\"outlinewidth\":0,\"ticks\":\"\"}},\"colorscale\":{\"sequential\":[[0.0,\"#0d0887\"],[0.1111111111111111,\"#46039f\"],[0.2222222222222222,\"#7201a8\"],[0.3333333333333333,\"#9c179e\"],[0.4444444444444444,\"#bd3786\"],[0.5555555555555556,\"#d8576b\"],[0.6666666666666666,\"#ed7953\"],[0.7777777777777778,\"#fb9f3a\"],[0.8888888888888888,\"#fdca26\"],[1.0,\"#f0f921\"]],\"sequentialminus\":[[0.0,\"#0d0887\"],[0.1111111111111111,\"#46039f\"],[0.2222222222222222,\"#7201a8\"],[0.3333333333333333,\"#9c179e\"],[0.4444444444444444,\"#bd3786\"],[0.5555555555555556,\"#d8576b\"],[0.6666666666666666,\"#ed7953\"],[0.7777777777777778,\"#fb9f3a\"],[0.8888888888888888,\"#fdca26\"],[1.0,\"#f0f921\"]],\"diverging\":[[0,\"#8e0152\"],[0.1,\"#c51b7d\"],[0.2,\"#de77ae\"],[0.3,\"#f1b6da\"],[0.4,\"#fde0ef\"],[0.5,\"#f7f7f7\"],[0.6,\"#e6f5d0\"],[0.7,\"#b8e186\"],[0.8,\"#7fbc41\"],[0.9,\"#4d9221\"],[1,\"#276419\"]]},\"xaxis\":{\"gridcolor\":\"white\",\"linecolor\":\"white\",\"ticks\":\"\",\"title\":{\"standoff\":15},\"zerolinecolor\":\"white\",\"automargin\":true,\"zerolinewidth\":2},\"yaxis\":{\"gridcolor\":\"white\",\"linecolor\":\"white\",\"ticks\":\"\",\"title\":{\"standoff\":15},\"zerolinecolor\":\"white\",\"automargin\":true,\"zerolinewidth\":2},\"scene\":{\"xaxis\":{\"backgroundcolor\":\"#E5ECF6\",\"gridcolor\":\"white\",\"linecolor\":\"white\",\"showbackground\":true,\"ticks\":\"\",\"zerolinecolor\":\"white\",\"gridwidth\":2},\"yaxis\":{\"backgroundcolor\":\"#E5ECF6\",\"gridcolor\":\"white\",\"linecolor\":\"white\",\"showbackground\":true,\"ticks\":\"\",\"zerolinecolor\":\"white\",\"gridwidth\":2},\"zaxis\":{\"backgroundcolor\":\"#E5ECF6\",\"gridcolor\":\"white\",\"linecolor\":\"white\",\"showbackground\":true,\"ticks\":\"\",\"zerolinecolor\":\"white\",\"gridwidth\":2}},\"shapedefaults\":{\"line\":{\"color\":\"#2a3f5f\"}},\"annotationdefaults\":{\"arrowcolor\":\"#2a3f5f\",\"arrowhead\":0,\"arrowwidth\":1},\"geo\":{\"bgcolor\":\"white\",\"landcolor\":\"#E5ECF6\",\"subunitcolor\":\"white\",\"showland\":true,\"showlakes\":true,\"lakecolor\":\"white\"},\"title\":{\"x\":0.05},\"mapbox\":{\"style\":\"light\"}}},\"xaxis\":{\"anchor\":\"y\",\"domain\":[0.0,1.0],\"title\":{\"text\":\"value\"}},\"yaxis\":{\"anchor\":\"x\",\"domain\":[0.0,1.0],\"title\":{\"text\":\"count\"}},\"legend\":{\"title\":{\"text\":\"variable\"},\"tracegroupgap\":0},\"margin\":{\"t\":60},\"barmode\":\"relative\"},                        {\"responsive\": true}                    ).then(function(){\n",
       "                            \n",
       "var gd = document.getElementById('ad773cd6-3415-4d81-bf36-2ecf92375bd3');\n",
       "var x = new MutationObserver(function (mutations, observer) {{\n",
       "        var display = window.getComputedStyle(gd).display;\n",
       "        if (!display || display === 'none') {{\n",
       "            console.log([gd, 'removed!']);\n",
       "            Plotly.purge(gd);\n",
       "            observer.disconnect();\n",
       "        }}\n",
       "}});\n",
       "\n",
       "// Listen for the removal of the full notebook cells\n",
       "var notebookContainer = gd.closest('#notebook-container');\n",
       "if (notebookContainer) {{\n",
       "    x.observe(notebookContainer, {childList: true});\n",
       "}}\n",
       "\n",
       "// Listen for the clearing of the current output cell\n",
       "var outputEl = gd.closest('.output');\n",
       "if (outputEl) {{\n",
       "    x.observe(outputEl, {childList: true});\n",
       "}}\n",
       "\n",
       "                        })                };                });            </script>        </div>"
      ]
     },
     "metadata": {},
     "output_type": "display_data"
    }
   ],
   "source": [
    "px.histogram(df['rating'])"
   ]
  },
  {
   "cell_type": "code",
   "execution_count": 44,
   "id": "af69fb22",
   "metadata": {},
   "outputs": [
    {
     "data": {
      "text/plain": [
       "<seaborn.axisgrid.FacetGrid at 0x1a2871f9b80>"
      ]
     },
     "execution_count": 44,
     "metadata": {},
     "output_type": "execute_result"
    },
    {
     "data": {
      "image/png": "[encoded data removed]",
      "text/plain": [
       "<Figure size 500x500 with 1 Axes>"
      ]
     },
     "metadata": {},
     "output_type": "display_data"
    }
   ],
   "source": [
    "sns.displot(df['rating'],kde=True)"
   ]
  },
  {
   "cell_type": "code",
   "execution_count": 50,
   "id": "29535afe",
   "metadata": {},
   "outputs": [
    {
     "data": {
      "text/plain": [
       "excellent    639\n",
       "very good    252\n",
       "Name: quality of product, dtype: int64"
      ]
     },
     "execution_count": 50,
     "metadata": {},
     "output_type": "execute_result"
    }
   ],
   "source": [
    "df['quality of product'].value_counts()"
   ]
  },
  {
   "cell_type": "code",
   "execution_count": 52,
   "id": "83d4c434",
   "metadata": {},
   "outputs": [
    {
     "data": {
      "application/vnd.plotly.v1+json": {
       "config": {
        "plotlyServerURL": "https://plot.ly"
       },
       "data": [
        {
         "domain": {
          "x": [
           0,
           1
          ],
          "y": [
           0,
           1
          ]
         },
         "hole": 0.5,
         "hovertemplate": "label=%{label}<br>value=%{value}<extra></extra>",
         "labels": [
          "excellent",
          "very good"
         ],
         "legendgroup": "",
         "name": "",
         "showlegend": true,
         "type": "pie",
         "values": [
          639,
          252
         ]
        }
       ],
       "layout": {
        "legend": {
         "tracegroupgap": 0
        },
        "margin": {
         "t": 60
        },
        "template": {
         "data": {
          "bar": [
           {
            "error_x": {
             "color": "#2a3f5f"
            },
            "error_y": {
             "color": "#2a3f5f"
            },
            "marker": {
             "line": {
              "color": "#E5ECF6",
              "width": 0.5
             },
             "pattern": {
              "fillmode": "overlay",
              "size": 10,
              "solidity": 0.2
             }
            },
            "type": "bar"
           }
          ],
          "barpolar": [
           {
            "marker": {
             "line": {
              "color": "#E5ECF6",
              "width": 0.5
             },
             "pattern": {
              "fillmode": "overlay",
              "size": 10,
              "solidity": 0.2
             }
            },
            "type": "barpolar"
           }
          ],
          "carpet": [
           {
            "aaxis": {
             "endlinecolor": "#2a3f5f",
             "gridcolor": "white",
             "linecolor": "white",
             "minorgridcolor": "white",
             "startlinecolor": "#2a3f5f"
            },
            "baxis": {
             "endlinecolor": "#2a3f5f",
             "gridcolor": "white",
             "linecolor": "white",
             "minorgridcolor": "white",
             "startlinecolor": "#2a3f5f"
            },
            "type": "carpet"
           }
          ],
          "choropleth": [
           {
            "colorbar": {
             "outlinewidth": 0,
             "ticks": ""
            },
            "type": "choropleth"
           }
          ],
          "contour": [
           {
            "colorbar": {
             "outlinewidth": 0,
             "ticks": ""
            },
            "colorscale": [
             [
              0,
              "#0d0887"
             ],
             [
              0.1111111111111111,
              "#46039f"
             ],
             [
              0.2222222222222222,
              "#7201a8"
             ],
             [
              0.3333333333333333,
              "#9c179e"
             ],
             [
              0.4444444444444444,
              "#bd3786"
             ],
             [
              0.5555555555555556,
              "#d8576b"
             ],
             [
              0.6666666666666666,
              "#ed7953"
             ],
             [
              0.7777777777777778,
              "#fb9f3a"
             ],
             [
              0.8888888888888888,
              "#fdca26"
             ],
             [
              1,
              "#f0f921"
             ]
            ],
            "type": "contour"
           }
          ],
          "contourcarpet": [
           {
            "colorbar": {
             "outlinewidth": 0,
             "ticks": ""
            },
            "type": "contourcarpet"
           }
          ],
          "heatmap": [
           {
            "colorbar": {
             "outlinewidth": 0,
             "ticks": ""
            },
            "colorscale": [
             [
              0,
              "#0d0887"
             ],
             [
              0.1111111111111111,
              "#46039f"
             ],
             [
              0.2222222222222222,
              "#7201a8"
             ],
             [
              0.3333333333333333,
              "#9c179e"
             ],
             [
              0.4444444444444444,
              "#bd3786"
             ],
             [
              0.5555555555555556,
              "#d8576b"
             ],
             [
              0.6666666666666666,
              "#ed7953"
             ],
             [
              0.7777777777777778,
              "#fb9f3a"
             ],
             [
              0.8888888888888888,
              "#fdca26"
             ],
             [
              1,
              "#f0f921"
             ]
            ],
            "type": "heatmap"
           }
          ],
          "heatmapgl": [
           {
            "colorbar": {
             "outlinewidth": 0,
             "ticks": ""
            },
            "colorscale": [
             [
              0,
              "#0d0887"
             ],
             [
              0.1111111111111111,
              "#46039f"
             ],
             [
              0.2222222222222222,
              "#7201a8"
             ],
             [
              0.3333333333333333,
              "#9c179e"
             ],
             [
              0.4444444444444444,
              "#bd3786"
             ],
             [
              0.5555555555555556,
              "#d8576b"
             ],
             [
              0.6666666666666666,
              "#ed7953"
             ],
             [
              0.7777777777777778,
              "#fb9f3a"
             ],
             [
              0.8888888888888888,
              "#fdca26"
             ],
             [
              1,
              "#f0f921"
             ]
            ],
            "type": "heatmapgl"
           }
          ],
          "histogram": [
           {
            "marker": {
             "pattern": {
              "fillmode": "overlay",
              "size": 10,
              "solidity": 0.2
             }
            },
            "type": "histogram"
           }
          ],
          "histogram2d": [
           {
            "colorbar": {
             "outlinewidth": 0,
             "ticks": ""
            },
            "colorscale": [
             [
              0,
              "#0d0887"
             ],
             [
              0.1111111111111111,
              "#46039f"
             ],
             [
              0.2222222222222222,
              "#7201a8"
             ],
             [
              0.3333333333333333,
              "#9c179e"
             ],
             [
              0.4444444444444444,
              "#bd3786"
             ],
             [
              0.5555555555555556,
              "#d8576b"
             ],
             [
              0.6666666666666666,
              "#ed7953"
             ],
             [
              0.7777777777777778,
              "#fb9f3a"
             ],
             [
              0.8888888888888888,
              "#fdca26"
             ],
             [
              1,
              "#f0f921"
             ]
            ],
            "type": "histogram2d"
           }
          ],
          "histogram2dcontour": [
           {
            "colorbar": {
             "outlinewidth": 0,
             "ticks": ""
            },
            "colorscale": [
             [
              0,
              "#0d0887"
             ],
             [
              0.1111111111111111,
              "#46039f"
             ],
             [
              0.2222222222222222,
              "#7201a8"
             ],
             [
              0.3333333333333333,
              "#9c179e"
             ],
             [
              0.4444444444444444,
              "#bd3786"
             ],
             [
              0.5555555555555556,
              "#d8576b"
             ],
             [
              0.6666666666666666,
              "#ed7953"
             ],
             [
              0.7777777777777778,
              "#fb9f3a"
             ],
             [
              0.8888888888888888,
              "#fdca26"
             ],
             [
              1,
              "#f0f921"
             ]
            ],
            "type": "histogram2dcontour"
           }
          ],
          "mesh3d": [
           {
            "colorbar": {
             "outlinewidth": 0,
             "ticks": ""
            },
            "type": "mesh3d"
           }
          ],
          "parcoords": [
           {
            "line": {
             "colorbar": {
              "outlinewidth": 0,
              "ticks": ""
             }
            },
            "type": "parcoords"
           }
          ],
          "pie": [
           {
            "automargin": true,
            "type": "pie"
           }
          ],
          "scatter": [
           {
            "fillpattern": {
             "fillmode": "overlay",
             "size": 10,
             "solidity": 0.2
            },
            "type": "scatter"
           }
          ],
          "scatter3d": [
           {
            "line": {
             "colorbar": {
              "outlinewidth": 0,
              "ticks": ""
             }
            },
            "marker": {
             "colorbar": {
              "outlinewidth": 0,
              "ticks": ""
             }
            },
            "type": "scatter3d"
           }
          ],
          "scattercarpet": [
           {
            "marker": {
             "colorbar": {
              "outlinewidth": 0,
              "ticks": ""
             }
            },
            "type": "scattercarpet"
           }
          ],
          "scattergeo": [
           {
            "marker": {
             "colorbar": {
              "outlinewidth": 0,
              "ticks": ""
             }
            },
            "type": "scattergeo"
           }
          ],
          "scattergl": [
           {
            "marker": {
             "colorbar": {
              "outlinewidth": 0,
              "ticks": ""
             }
            },
            "type": "scattergl"
           }
          ],
          "scattermapbox": [
           {
            "marker": {
             "colorbar": {
              "outlinewidth": 0,
              "ticks": ""
             }
            },
            "type": "scattermapbox"
           }
          ],
          "scatterpolar": [
           {
            "marker": {
             "colorbar": {
              "outlinewidth": 0,
              "ticks": ""
             }
            },
            "type": "scatterpolar"
           }
          ],
          "scatterpolargl": [
           {
            "marker": {
             "colorbar": {
              "outlinewidth": 0,
              "ticks": ""
             }
            },
            "type": "scatterpolargl"
           }
          ],
          "scatterternary": [
           {
            "marker": {
             "colorbar": {
              "outlinewidth": 0,
              "ticks": ""
             }
            },
            "type": "scatterternary"
           }
          ],
          "surface": [
           {
            "colorbar": {
             "outlinewidth": 0,
             "ticks": ""
            },
            "colorscale": [
             [
              0,
              "#0d0887"
             ],
             [
              0.1111111111111111,
              "#46039f"
             ],
             [
              0.2222222222222222,
              "#7201a8"
             ],
             [
              0.3333333333333333,
              "#9c179e"
             ],
             [
              0.4444444444444444,
              "#bd3786"
             ],
             [
              0.5555555555555556,
              "#d8576b"
             ],
             [
              0.6666666666666666,
              "#ed7953"
             ],
             [
              0.7777777777777778,
              "#fb9f3a"
             ],
             [
              0.8888888888888888,
              "#fdca26"
             ],
             [
              1,
              "#f0f921"
             ]
            ],
            "type": "surface"
           }
          ],
          "table": [
           {
            "cells": {
             "fill": {
              "color": "#EBF0F8"
             },
             "line": {
              "color": "white"
             }
            },
            "header": {
             "fill": {
              "color": "#C8D4E3"
             },
             "line": {
              "color": "white"
             }
            },
            "type": "table"
           }
          ]
         },
         "layout": {
          "annotationdefaults": {
           "arrowcolor": "#2a3f5f",
           "arrowhead": 0,
           "arrowwidth": 1
          },
          "autotypenumbers": "strict",
          "coloraxis": {
           "colorbar": {
            "outlinewidth": 0,
            "ticks": ""
           }
          },
          "colorscale": {
           "diverging": [
            [
             0,
             "#8e0152"
            ],
            [
             0.1,
             "#c51b7d"
            ],
            [
             0.2,
             "#de77ae"
            ],
            [
             0.3,
             "#f1b6da"
            ],
            [
             0.4,
             "#fde0ef"
            ],
            [
             0.5,
             "#f7f7f7"
            ],
            [
             0.6,
             "#e6f5d0"
            ],
            [
             0.7,
             "#b8e186"
            ],
            [
             0.8,
             "#7fbc41"
            ],
            [
             0.9,
             "#4d9221"
            ],
            [
             1,
             "#276419"
            ]
           ],
           "sequential": [
            [
             0,
             "#0d0887"
            ],
            [
             0.1111111111111111,
             "#46039f"
            ],
            [
             0.2222222222222222,
             "#7201a8"
            ],
            [
             0.3333333333333333,
             "#9c179e"
            ],
            [
             0.4444444444444444,
             "#bd3786"
            ],
            [
             0.5555555555555556,
             "#d8576b"
            ],
            [
             0.6666666666666666,
             "#ed7953"
            ],
            [
             0.7777777777777778,
             "#fb9f3a"
            ],
            [
             0.8888888888888888,
             "#fdca26"
            ],
            [
             1,
             "#f0f921"
            ]
           ],
           "sequentialminus": [
            [
             0,
             "#0d0887"
            ],
            [
             0.1111111111111111,
             "#46039f"
            ],
            [
             0.2222222222222222,
             "#7201a8"
            ],
            [
             0.3333333333333333,
             "#9c179e"
            ],
            [
             0.4444444444444444,
             "#bd3786"
            ],
            [
             0.5555555555555556,
             "#d8576b"
            ],
            [
             0.6666666666666666,
             "#ed7953"
            ],
            [
             0.7777777777777778,
             "#fb9f3a"
            ],
            [
             0.8888888888888888,
             "#fdca26"
            ],
            [
             1,
             "#f0f921"
            ]
           ]
          },
          "colorway": [
           "#636efa",
           "#EF553B",
           "#00cc96",
           "#ab63fa",
           "#FFA15A",
           "#19d3f3",
           "#FF6692",
           "#B6E880",
           "#FF97FF",
           "#FECB52"
          ],
          "font": {
           "color": "#2a3f5f"
          },
          "geo": {
           "bgcolor": "white",
           "lakecolor": "white",
           "landcolor": "#E5ECF6",
           "showlakes": true,
           "showland": true,
           "subunitcolor": "white"
          },
          "hoverlabel": {
           "align": "left"
          },
          "hovermode": "closest",
          "mapbox": {
           "style": "light"
          },
          "paper_bgcolor": "white",
          "plot_bgcolor": "#E5ECF6",
          "polar": {
           "angularaxis": {
            "gridcolor": "white",
            "linecolor": "white",
            "ticks": ""
           },
           "bgcolor": "#E5ECF6",
           "radialaxis": {
            "gridcolor": "white",
            "linecolor": "white",
            "ticks": ""
           }
          },
          "scene": {
           "xaxis": {
            "backgroundcolor": "#E5ECF6",
            "gridcolor": "white",
            "gridwidth": 2,
            "linecolor": "white",
            "showbackground": true,
            "ticks": "",
            "zerolinecolor": "white"
           },
           "yaxis": {
            "backgroundcolor": "#E5ECF6",
            "gridcolor": "white",
            "gridwidth": 2,
            "linecolor": "white",
            "showbackground": true,
            "ticks": "",
            "zerolinecolor": "white"
           },
           "zaxis": {
            "backgroundcolor": "#E5ECF6",
            "gridcolor": "white",
            "gridwidth": 2,
            "linecolor": "white",
            "showbackground": true,
            "ticks": "",
            "zerolinecolor": "white"
           }
          },
          "shapedefaults": {
           "line": {
            "color": "#2a3f5f"
           }
          },
          "ternary": {
           "aaxis": {
            "gridcolor": "white",
            "linecolor": "white",
            "ticks": ""
           },
           "baxis": {
            "gridcolor": "white",
            "linecolor": "white",
            "ticks": ""
           },
           "bgcolor": "#E5ECF6",
           "caxis": {
            "gridcolor": "white",
            "linecolor": "white",
            "ticks": ""
           }
          },
          "title": {
           "x": 0.05
          },
          "xaxis": {
           "automargin": true,
           "gridcolor": "white",
           "linecolor": "white",
           "ticks": "",
           "title": {
            "standoff": 15
           },
           "zerolinecolor": "white",
           "zerolinewidth": 2
          },
          "yaxis": {
           "automargin": true,
           "gridcolor": "white",
           "linecolor": "white",
           "ticks": "",
           "title": {
            "standoff": 15
           },
           "zerolinecolor": "white",
           "zerolinewidth": 2
          }
         }
        }
       }
      },
      "text/html": [
       "<div>                            <div id=\"f15f9e1c-68f6-42a6-ab02-cf6f59708ca0\" class=\"plotly-graph-div\" style=\"height:525px; width:100%;\"></div>            <script type=\"text/javascript\">                require([\"plotly\"], function(Plotly) {                    window.PLOTLYENV=window.PLOTLYENV || {};                                    if (document.getElementById(\"f15f9e1c-68f6-42a6-ab02-cf6f59708ca0\")) {                    Plotly.newPlot(                        \"f15f9e1c-68f6-42a6-ab02-cf6f59708ca0\",                        [{\"domain\":{\"x\":[0.0,1.0],\"y\":[0.0,1.0]},\"hole\":0.5,\"hovertemplate\":\"label=%{label}<br>value=%{value}<extra></extra>\",\"labels\":[\"excellent\",\"very good\"],\"legendgroup\":\"\",\"name\":\"\",\"showlegend\":true,\"values\":[639,252],\"type\":\"pie\"}],                        {\"template\":{\"data\":{\"histogram2dcontour\":[{\"type\":\"histogram2dcontour\",\"colorbar\":{\"outlinewidth\":0,\"ticks\":\"\"},\"colorscale\":[[0.0,\"#0d0887\"],[0.1111111111111111,\"#46039f\"],[0.2222222222222222,\"#7201a8\"],[0.3333333333333333,\"#9c179e\"],[0.4444444444444444,\"#bd3786\"],[0.5555555555555556,\"#d8576b\"],[0.6666666666666666,\"#ed7953\"],[0.7777777777777778,\"#fb9f3a\"],[0.8888888888888888,\"#fdca26\"],[1.0,\"#f0f921\"]]}],\"choropleth\":[{\"type\":\"choropleth\",\"colorbar\":{\"outlinewidth\":0,\"ticks\":\"\"}}],\"histogram2d\":[{\"type\":\"histogram2d\",\"colorbar\":{\"outlinewidth\":0,\"ticks\":\"\"},\"colorscale\":[[0.0,\"#0d0887\"],[0.1111111111111111,\"#46039f\"],[0.2222222222222222,\"#7201a8\"],[0.3333333333333333,\"#9c179e\"],[0.4444444444444444,\"#bd3786\"],[0.5555555555555556,\"#d8576b\"],[0.6666666666666666,\"#ed7953\"],[0.7777777777777778,\"#fb9f3a\"],[0.8888888888888888,\"#fdca26\"],[1.0,\"#f0f921\"]]}],\"heatmap\":[{\"type\":\"heatmap\",\"colorbar\":{\"outlinewidth\":0,\"ticks\":\"\"},\"colorscale\":[[0.0,\"#0d0887\"],[0.1111111111111111,\"#46039f\"],[0.2222222222222222,\"#7201a8\"],[0.3333333333333333,\"#9c179e\"],[0.4444444444444444,\"#bd3786\"],[0.5555555555555556,\"#d8576b\"],[0.6666666666666666,\"#ed7953\"],[0.7777777777777778,\"#fb9f3a\"],[0.8888888888888888,\"#fdca26\"],[1.0,\"#f0f921\"]]}],\"heatmapgl\":[{\"type\":\"heatmapgl\",\"colorbar\":{\"outlinewidth\":0,\"ticks\":\"\"},\"colorscale\":[[0.0,\"#0d0887\"],[0.1111111111111111,\"#46039f\"],[0.2222222222222222,\"#7201a8\"],[0.3333333333333333,\"#9c179e\"],[0.4444444444444444,\"#bd3786\"],[0.5555555555555556,\"#d8576b\"],[0.6666666666666666,\"#ed7953\"],[0.7777777777777778,\"#fb9f3a\"],[0.8888888888888888,\"#fdca26\"],[1.0,\"#f0f921\"]]}],\"contourcarpet\":[{\"type\":\"contourcarpet\",\"colorbar\":{\"outlinewidth\":0,\"ticks\":\"\"}}],\"contour\":[{\"type\":\"contour\",\"colorbar\":{\"outlinewidth\":0,\"ticks\":\"\"},\"colorscale\":[[0.0,\"#0d0887\"],[0.1111111111111111,\"#46039f\"],[0.2222222222222222,\"#7201a8\"],[0.3333333333333333,\"#9c179e\"],[0.4444444444444444,\"#bd3786\"],[0.5555555555555556,\"#d8576b\"],[0.6666666666666666,\"#ed7953\"],[0.7777777777777778,\"#fb9f3a\"],[0.8888888888888888,\"#fdca26\"],[1.0,\"#f0f921\"]]}],\"surface\":[{\"type\":\"surface\",\"colorbar\":{\"outlinewidth\":0,\"ticks\":\"\"},\"colorscale\":[[0.0,\"#0d0887\"],[0.1111111111111111,\"#46039f\"],[0.2222222222222222,\"#7201a8\"],[0.3333333333333333,\"#9c179e\"],[0.4444444444444444,\"#bd3786\"],[0.5555555555555556,\"#d8576b\"],[0.6666666666666666,\"#ed7953\"],[0.7777777777777778,\"#fb9f3a\"],[0.8888888888888888,\"#fdca26\"],[1.0,\"#f0f921\"]]}],\"mesh3d\":[{\"type\":\"mesh3d\",\"colorbar\":{\"outlinewidth\":0,\"ticks\":\"\"}}],\"scatter\":[{\"fillpattern\":{\"fillmode\":\"overlay\",\"size\":10,\"solidity\":0.2},\"type\":\"scatter\"}],\"parcoords\":[{\"type\":\"parcoords\",\"line\":{\"colorbar\":{\"outlinewidth\":0,\"ticks\":\"\"}}}],\"scatterpolargl\":[{\"type\":\"scatterpolargl\",\"marker\":{\"colorbar\":{\"outlinewidth\":0,\"ticks\":\"\"}}}],\"bar\":[{\"error_x\":{\"color\":\"#2a3f5f\"},\"error_y\":{\"color\":\"#2a3f5f\"},\"marker\":{\"line\":{\"color\":\"#E5ECF6\",\"width\":0.5},\"pattern\":{\"fillmode\":\"overlay\",\"size\":10,\"solidity\":0.2}},\"type\":\"bar\"}],\"scattergeo\":[{\"type\":\"scattergeo\",\"marker\":{\"colorbar\":{\"outlinewidth\":0,\"ticks\":\"\"}}}],\"scatterpolar\":[{\"type\":\"scatterpolar\",\"marker\":{\"colorbar\":{\"outlinewidth\":0,\"ticks\":\"\"}}}],\"histogram\":[{\"marker\":{\"pattern\":{\"fillmode\":\"overlay\",\"size\":10,\"solidity\":0.2}},\"type\":\"histogram\"}],\"scattergl\":[{\"type\":\"scattergl\",\"marker\":{\"colorbar\":{\"outlinewidth\":0,\"ticks\":\"\"}}}],\"scatter3d\":[{\"type\":\"scatter3d\",\"line\":{\"colorbar\":{\"outlinewidth\":0,\"ticks\":\"\"}},\"marker\":{\"colorbar\":{\"outlinewidth\":0,\"ticks\":\"\"}}}],\"scattermapbox\":[{\"type\":\"scattermapbox\",\"marker\":{\"colorbar\":{\"outlinewidth\":0,\"ticks\":\"\"}}}],\"scatterternary\":[{\"type\":\"scatterternary\",\"marker\":{\"colorbar\":{\"outlinewidth\":0,\"ticks\":\"\"}}}],\"scattercarpet\":[{\"type\":\"scattercarpet\",\"marker\":{\"colorbar\":{\"outlinewidth\":0,\"ticks\":\"\"}}}],\"carpet\":[{\"aaxis\":{\"endlinecolor\":\"#2a3f5f\",\"gridcolor\":\"white\",\"linecolor\":\"white\",\"minorgridcolor\":\"white\",\"startlinecolor\":\"#2a3f5f\"},\"baxis\":{\"endlinecolor\":\"#2a3f5f\",\"gridcolor\":\"white\",\"linecolor\":\"white\",\"minorgridcolor\":\"white\",\"startlinecolor\":\"#2a3f5f\"},\"type\":\"carpet\"}],\"table\":[{\"cells\":{\"fill\":{\"color\":\"#EBF0F8\"},\"line\":{\"color\":\"white\"}},\"header\":{\"fill\":{\"color\":\"#C8D4E3\"},\"line\":{\"color\":\"white\"}},\"type\":\"table\"}],\"barpolar\":[{\"marker\":{\"line\":{\"color\":\"#E5ECF6\",\"width\":0.5},\"pattern\":{\"fillmode\":\"overlay\",\"size\":10,\"solidity\":0.2}},\"type\":\"barpolar\"}],\"pie\":[{\"automargin\":true,\"type\":\"pie\"}]},\"layout\":{\"autotypenumbers\":\"strict\",\"colorway\":[\"#636efa\",\"#EF553B\",\"#00cc96\",\"#ab63fa\",\"#FFA15A\",\"#19d3f3\",\"#FF6692\",\"#B6E880\",\"#FF97FF\",\"#FECB52\"],\"font\":{\"color\":\"#2a3f5f\"},\"hovermode\":\"closest\",\"hoverlabel\":{\"align\":\"left\"},\"paper_bgcolor\":\"white\",\"plot_bgcolor\":\"#E5ECF6\",\"polar\":{\"bgcolor\":\"#E5ECF6\",\"angularaxis\":{\"gridcolor\":\"white\",\"linecolor\":\"white\",\"ticks\":\"\"},\"radialaxis\":{\"gridcolor\":\"white\",\"linecolor\":\"white\",\"ticks\":\"\"}},\"ternary\":{\"bgcolor\":\"#E5ECF6\",\"aaxis\":{\"gridcolor\":\"white\",\"linecolor\":\"white\",\"ticks\":\"\"},\"baxis\":{\"gridcolor\":\"white\",\"linecolor\":\"white\",\"ticks\":\"\"},\"caxis\":{\"gridcolor\":\"white\",\"linecolor\":\"white\",\"ticks\":\"\"}},\"coloraxis\":{\"colorbar\":{\"outlinewidth\":0,\"ticks\":\"\"}},\"colorscale\":{\"sequential\":[[0.0,\"#0d0887\"],[0.1111111111111111,\"#46039f\"],[0.2222222222222222,\"#7201a8\"],[0.3333333333333333,\"#9c179e\"],[0.4444444444444444,\"#bd3786\"],[0.5555555555555556,\"#d8576b\"],[0.6666666666666666,\"#ed7953\"],[0.7777777777777778,\"#fb9f3a\"],[0.8888888888888888,\"#fdca26\"],[1.0,\"#f0f921\"]],\"sequentialminus\":[[0.0,\"#0d0887\"],[0.1111111111111111,\"#46039f\"],[0.2222222222222222,\"#7201a8\"],[0.3333333333333333,\"#9c179e\"],[0.4444444444444444,\"#bd3786\"],[0.5555555555555556,\"#d8576b\"],[0.6666666666666666,\"#ed7953\"],[0.7777777777777778,\"#fb9f3a\"],[0.8888888888888888,\"#fdca26\"],[1.0,\"#f0f921\"]],\"diverging\":[[0,\"#8e0152\"],[0.1,\"#c51b7d\"],[0.2,\"#de77ae\"],[0.3,\"#f1b6da\"],[0.4,\"#fde0ef\"],[0.5,\"#f7f7f7\"],[0.6,\"#e6f5d0\"],[0.7,\"#b8e186\"],[0.8,\"#7fbc41\"],[0.9,\"#4d9221\"],[1,\"#276419\"]]},\"xaxis\":{\"gridcolor\":\"white\",\"linecolor\":\"white\",\"ticks\":\"\",\"title\":{\"standoff\":15},\"zerolinecolor\":\"white\",\"automargin\":true,\"zerolinewidth\":2},\"yaxis\":{\"gridcolor\":\"white\",\"linecolor\":\"white\",\"ticks\":\"\",\"title\":{\"standoff\":15},\"zerolinecolor\":\"white\",\"automargin\":true,\"zerolinewidth\":2},\"scene\":{\"xaxis\":{\"backgroundcolor\":\"#E5ECF6\",\"gridcolor\":\"white\",\"linecolor\":\"white\",\"showbackground\":true,\"ticks\":\"\",\"zerolinecolor\":\"white\",\"gridwidth\":2},\"yaxis\":{\"backgroundcolor\":\"#E5ECF6\",\"gridcolor\":\"white\",\"linecolor\":\"white\",\"showbackground\":true,\"ticks\":\"\",\"zerolinecolor\":\"white\",\"gridwidth\":2},\"zaxis\":{\"backgroundcolor\":\"#E5ECF6\",\"gridcolor\":\"white\",\"linecolor\":\"white\",\"showbackground\":true,\"ticks\":\"\",\"zerolinecolor\":\"white\",\"gridwidth\":2}},\"shapedefaults\":{\"line\":{\"color\":\"#2a3f5f\"}},\"annotationdefaults\":{\"arrowcolor\":\"#2a3f5f\",\"arrowhead\":0,\"arrowwidth\":1},\"geo\":{\"bgcolor\":\"white\",\"landcolor\":\"#E5ECF6\",\"subunitcolor\":\"white\",\"showland\":true,\"showlakes\":true,\"lakecolor\":\"white\"},\"title\":{\"x\":0.05},\"mapbox\":{\"style\":\"light\"}}},\"legend\":{\"tracegroupgap\":0},\"margin\":{\"t\":60}},                        {\"responsive\": true}                    ).then(function(){\n",
       "                            \n",
       "var gd = document.getElementById('f15f9e1c-68f6-42a6-ab02-cf6f59708ca0');\n",
       "var x = new MutationObserver(function (mutations, observer) {{\n",
       "        var display = window.getComputedStyle(gd).display;\n",
       "        if (!display || display === 'none') {{\n",
       "            console.log([gd, 'removed!']);\n",
       "            Plotly.purge(gd);\n",
       "            observer.disconnect();\n",
       "        }}\n",
       "}});\n",
       "\n",
       "// Listen for the removal of the full notebook cells\n",
       "var notebookContainer = gd.closest('#notebook-container');\n",
       "if (notebookContainer) {{\n",
       "    x.observe(notebookContainer, {childList: true});\n",
       "}}\n",
       "\n",
       "// Listen for the clearing of the current output cell\n",
       "var outputEl = gd.closest('.output');\n",
       "if (outputEl) {{\n",
       "    x.observe(outputEl, {childList: true});\n",
       "}}\n",
       "\n",
       "                        })                };                });            </script>        </div>"
      ]
     },
     "metadata": {},
     "output_type": "display_data"
    }
   ],
   "source": [
    "px.pie(data_frame=df,\n",
    "       names=df['quality of product'].value_counts().index,\n",
    "       values=df['quality of product'].value_counts().values,\n",
    "       hole=0.5)"
   ]
  },
  {
   "cell_type": "markdown",
   "id": "dc8e4090",
   "metadata": {},
   "source": [
    "###### what are the main categories that have highest discount price ?"
   ]
  },
  {
   "cell_type": "code",
   "execution_count": 58,
   "id": "246dc05f",
   "metadata": {},
   "outputs": [
    {
     "data": {
      "text/html": [
       "<div>\n",
       "<style scoped>\n",
       "    .dataframe tbody tr th:only-of-type {\n",
       "        vertical-align: middle;\n",
       "    }\n",
       "\n",
       "    .dataframe tbody tr th {\n",
       "        vertical-align: top;\n",
       "    }\n",
       "\n",
       "    .dataframe thead th {\n",
       "        text-align: right;\n",
       "    }\n",
       "</style>\n",
       "<table border=\"1\" class=\"dataframe\">\n",
       "  <thead>\n",
       "    <tr style=\"text-align: right;\">\n",
       "      <th></th>\n",
       "      <th>product_id</th>\n",
       "      <th>product_name</th>\n",
       "      <th>discounted_price</th>\n",
       "      <th>actual_price</th>\n",
       "      <th>rating</th>\n",
       "      <th>rating_count</th>\n",
       "      <th>main category</th>\n",
       "      <th>sub category</th>\n",
       "      <th>discount_percentage %</th>\n",
       "      <th>quality of product</th>\n",
       "    </tr>\n",
       "  </thead>\n",
       "  <tbody>\n",
       "    <tr>\n",
       "      <th>0</th>\n",
       "      <td>B07JW9H4J1</td>\n",
       "      <td>Wayona Nylon Braided USB to Lightning Fast Cha...</td>\n",
       "      <td>399.00</td>\n",
       "      <td>1099.0</td>\n",
       "      <td>4.2</td>\n",
       "      <td>24269.0</td>\n",
       "      <td>Computers&amp;Accessories</td>\n",
       "      <td>Cables</td>\n",
       "      <td>64.0</td>\n",
       "      <td>excellent</td>\n",
       "    </tr>\n",
       "    <tr>\n",
       "      <th>1</th>\n",
       "      <td>B096MSW6CT</td>\n",
       "      <td>Sounce Fast Phone Charging Cable &amp; Data Sync U...</td>\n",
       "      <td>199.00</td>\n",
       "      <td>1899.0</td>\n",
       "      <td>3.9</td>\n",
       "      <td>7928.0</td>\n",
       "      <td>Computers&amp;Accessories</td>\n",
       "      <td>Cables</td>\n",
       "      <td>90.0</td>\n",
       "      <td>very good</td>\n",
       "    </tr>\n",
       "    <tr>\n",
       "      <th>2</th>\n",
       "      <td>B08CF3B7N1</td>\n",
       "      <td>Portronics Konnect L 1.2M Fast Charging 3A 8 P...</td>\n",
       "      <td>154.00</td>\n",
       "      <td>399.0</td>\n",
       "      <td>4.2</td>\n",
       "      <td>16905.0</td>\n",
       "      <td>Computers&amp;Accessories</td>\n",
       "      <td>Cables</td>\n",
       "      <td>61.0</td>\n",
       "      <td>excellent</td>\n",
       "    </tr>\n",
       "    <tr>\n",
       "      <th>3</th>\n",
       "      <td>B08Y1TFSP6</td>\n",
       "      <td>pTron Solero TB301 3A Type-C Data and Fast Cha...</td>\n",
       "      <td>149.00</td>\n",
       "      <td>1000.0</td>\n",
       "      <td>3.9</td>\n",
       "      <td>24871.0</td>\n",
       "      <td>Computers&amp;Accessories</td>\n",
       "      <td>Cables</td>\n",
       "      <td>85.0</td>\n",
       "      <td>very good</td>\n",
       "    </tr>\n",
       "    <tr>\n",
       "      <th>4</th>\n",
       "      <td>B08WRWPM22</td>\n",
       "      <td>boAt Micro USB 55 Tangle-free, Sturdy Micro US...</td>\n",
       "      <td>176.63</td>\n",
       "      <td>499.0</td>\n",
       "      <td>4.1</td>\n",
       "      <td>15188.0</td>\n",
       "      <td>Computers&amp;Accessories</td>\n",
       "      <td>Cables</td>\n",
       "      <td>65.0</td>\n",
       "      <td>excellent</td>\n",
       "    </tr>\n",
       "  </tbody>\n",
       "</table>\n",
       "</div>"
      ],
      "text/plain": [
       "   product_id                                       product_name  \\\n",
       "0  B07JW9H4J1  Wayona Nylon Braided USB to Lightning Fast Cha...   \n",
       "1  B096MSW6CT  Sounce Fast Phone Charging Cable & Data Sync U...   \n",
       "2  B08CF3B7N1  Portronics Konnect L 1.2M Fast Charging 3A 8 P...   \n",
       "3  B08Y1TFSP6  pTron Solero TB301 3A Type-C Data and Fast Cha...   \n",
       "4  B08WRWPM22  boAt Micro USB 55 Tangle-free, Sturdy Micro US...   \n",
       "\n",
       "   discounted_price  actual_price  rating  rating_count  \\\n",
       "0            399.00        1099.0     4.2       24269.0   \n",
       "1            199.00        1899.0     3.9        7928.0   \n",
       "2            154.00         399.0     4.2       16905.0   \n",
       "3            149.00        1000.0     3.9       24871.0   \n",
       "4            176.63         499.0     4.1       15188.0   \n",
       "\n",
       "           main category sub category  discount_percentage %  \\\n",
       "0  Computers&Accessories       Cables                   64.0   \n",
       "1  Computers&Accessories       Cables                   90.0   \n",
       "2  Computers&Accessories       Cables                   61.0   \n",
       "3  Computers&Accessories       Cables                   85.0   \n",
       "4  Computers&Accessories       Cables                   65.0   \n",
       "\n",
       "  quality of product  \n",
       "0          excellent  \n",
       "1          very good  \n",
       "2          excellent  \n",
       "3          very good  \n",
       "4          excellent  "
      ]
     },
     "execution_count": 58,
     "metadata": {},
     "output_type": "execute_result"
    }
   ],
   "source": [
    "df.head(5)"
   ]
  },
  {
   "cell_type": "code",
   "execution_count": 81,
   "id": "a5787a27",
   "metadata": {},
   "outputs": [
    {
     "data": {
      "text/plain": [
       "main category\n",
       "Home&Kitchen             4280.0\n",
       "Electronics              3799.0\n",
       "Computers&Accessories    3498.0\n",
       "Car&Motorbike            2339.0\n",
       "OfficeProducts           1399.0\n",
       "Name: discounted_price, dtype: float64"
      ]
     },
     "execution_count": 81,
     "metadata": {},
     "output_type": "execute_result"
    }
   ],
   "source": [
    "df['discounted_price'].groupby(df['main category']).max().nlargest()"
   ]
  },
  {
   "cell_type": "code",
   "execution_count": 94,
   "id": "91929e3b",
   "metadata": {},
   "outputs": [
    {
     "data": {
      "application/vnd.plotly.v1+json": {
       "config": {
        "plotlyServerURL": "https://plot.ly"
       },
       "data": [
        {
         "alignmentgroup": "True",
         "hovertemplate": "main category=%{x}<br>discounted_price=%{y}<extra></extra>",
         "legendgroup": "",
         "marker": {
          "color": "#636efa"
         },
         "name": "",
         "notched": false,
         "offsetgroup": "",
         "orientation": "v",
         "showlegend": false,
         "type": "box",
         "x": [
          "Computers&Accessories",
          "Computers&Accessories",
          "Computers&Accessories",
          "Computers&Accessories",
          "Computers&Accessories",
          "Computers&Accessories",
          "Computers&Accessories",
          "Computers&Accessories",
          "Computers&Accessories",
          "Computers&Accessories",
          "Computers&Accessories",
          "Computers&Accessories",
          "Electronics",
          "Computers&Accessories",
          "Electronics",
          "Computers&Accessories",
          "Computers&Accessories",
          "Computers&Accessories",
          "Computers&Accessories",
          "Computers&Accessories",
          "Computers&Accessories",
          "Computers&Accessories",
          "Computers&Accessories",
          "Computers&Accessories",
          "Computers&Accessories",
          "Computers&Accessories",
          "Computers&Accessories",
          "Computers&Accessories",
          "Computers&Accessories",
          "Computers&Accessories",
          "Computers&Accessories",
          "Electronics",
          "Computers&Accessories",
          "Computers&Accessories",
          "Computers&Accessories",
          "Electronics",
          "Computers&Accessories",
          "Computers&Accessories",
          "Electronics",
          "Computers&Accessories",
          "Computers&Accessories",
          "Computers&Accessories",
          "Electronics",
          "Computers&Accessories",
          "Computers&Accessories",
          "Computers&Accessories",
          "Computers&Accessories",
          "Computers&Accessories",
          "Computers&Accessories",
          "Computers&Accessories",
          "Computers&Accessories",
          "Electronics",
          "Computers&Accessories",
          "Computers&Accessories",
          "Computers&Accessories",
          "Computers&Accessories",
          "Computers&Accessories",
          "Computers&Accessories",
          "Computers&Accessories",
          "Computers&Accessories",
          "Computers&Accessories",
          "Electronics",
          "Computers&Accessories",
          "Computers&Accessories",
          "Computers&Accessories",
          "Electronics",
          "Computers&Accessories",
          "Electronics",
          "Computers&Accessories",
          "Computers&Accessories",
          "Computers&Accessories",
          "Computers&Accessories",
          "Computers&Accessories",
          "Computers&Accessories",
          "Computers&Accessories",
          "Electronics",
          "Computers&Accessories",
          "Electronics",
          "Computers&Accessories",
          "Computers&Accessories",
          "Computers&Accessories",
          "Computers&Accessories",
          "Electronics",
          "Electronics",
          "Electronics",
          "Electronics",
          "Computers&Accessories",
          "Electronics",
          "Computers&Accessories",
          "Computers&Accessories",
          "Electronics",
          "Electronics",
          "Computers&Accessories",
          "Computers&Accessories",
          "Computers&Accessories",
          "Electronics",
          "Computers&Accessories",
          "Computers&Accessories",
          "Electronics",
          "Computers&Accessories",
          "Computers&Accessories",
          "Computers&Accessories",
          "Computers&Accessories",
          "Electronics",
          "Computers&Accessories",
          "Electronics",
          "Electronics",
          "Electronics",
          "Computers&Accessories",
          "Computers&Accessories",
          "Computers&Accessories",
          "Computers&Accessories",
          "Electronics",
          "Computers&Accessories",
          "Electronics",
          "Computers&Accessories",
          "Computers&Accessories",
          "Computers&Accessories",
          "Computers&Accessories",
          "Computers&Accessories",
          "Computers&Accessories",
          "Computers&Accessories",
          "Computers&Accessories",
          "Electronics",
          "Electronics",
          "Computers&Accessories",
          "Computers&Accessories",
          "Computers&Accessories",
          "Computers&Accessories",
          "Computers&Accessories",
          "Computers&Accessories",
          "Computers&Accessories",
          "Electronics",
          "Electronics",
          "Computers&Accessories",
          "Computers&Accessories",
          "Computers&Accessories",
          "Computers&Accessories",
          "Computers&Accessories",
          "Electronics",
          "Computers&Accessories",
          "Electronics",
          "Electronics",
          "Computers&Accessories",
          "Computers&Accessories",
          "Computers&Accessories",
          "Electronics",
          "Electronics",
          "Computers&Accessories",
          "Electronics",
          "Electronics",
          "Electronics",
          "Computers&Accessories",
          "Computers&Accessories",
          "Electronics",
          "Electronics",
          "Computers&Accessories",
          "Electronics",
          "Electronics",
          "Electronics",
          "Electronics",
          "Computers&Accessories",
          "Computers&Accessories",
          "Computers&Accessories",
          "Electronics",
          "Computers&Accessories",
          "Computers&Accessories",
          "Electronics",
          "Computers&Accessories",
          "Computers&Accessories",
          "Electronics",
          "Computers&Accessories",
          "Computers&Accessories",
          "Electronics",
          "Electronics",
          "Electronics",
          "Computers&Accessories",
          "Computers&Accessories",
          "Computers&Accessories",
          "Computers&Accessories",
          "Electronics",
          "Electronics",
          "Computers&Accessories",
          "Computers&Accessories",
          "Electronics",
          "Electronics",
          "Computers&Accessories",
          "Computers&Accessories",
          "Electronics",
          "Computers&Accessories",
          "Computers&Accessories",
          "Computers&Accessories",
          "Electronics",
          "Electronics",
          "Computers&Accessories",
          "Electronics",
          "Electronics",
          "Computers&Accessories",
          "Electronics",
          "Computers&Accessories",
          "Electronics",
          "Computers&Accessories",
          "Computers&Accessories",
          "Computers&Accessories",
          "Electronics",
          "Electronics",
          "Electronics",
          "Computers&Accessories",
          "Electronics",
          "Electronics",
          "Electronics",
          "Computers&Accessories",
          "Electronics",
          "Electronics",
          "Computers&Accessories",
          "Computers&Accessories",
          "Electronics",
          "Electronics",
          "Computers&Accessories",
          "Electronics",
          "Electronics",
          "Computers&Accessories",
          "Computers&Accessories",
          "Electronics",
          "Computers&Accessories",
          "Electronics",
          "Electronics",
          "Electronics",
          "Electronics",
          "Computers&Accessories",
          "Computers&Accessories",
          "Electronics",
          "Electronics",
          "Computers&Accessories",
          "Computers&Accessories",
          "Electronics",
          "Electronics",
          "Electronics",
          "Computers&Accessories",
          "Electronics",
          "Computers&Accessories",
          "Electronics",
          "Electronics",
          "Electronics",
          "Electronics",
          "Electronics",
          "Computers&Accessories",
          "Computers&Accessories",
          "Electronics",
          "Electronics",
          "Electronics",
          "Electronics",
          "Computers&Accessories",
          "Electronics",
          "Electronics",
          "Electronics",
          "Electronics",
          "Electronics",
          "Electronics",
          "Electronics",
          "Electronics",
          "Electronics",
          "Electronics",
          "Computers&Accessories",
          "Electronics",
          "Electronics",
          "Electronics",
          "Electronics",
          "Electronics",
          "Electronics",
          "Electronics",
          "Electronics",
          "Electronics",
          "Computers&Accessories",
          "Electronics",
          "Electronics",
          "Electronics",
          "Electronics",
          "Computers&Accessories",
          "Electronics",
          "Electronics",
          "Electronics",
          "Electronics",
          "Computers&Accessories",
          "Electronics",
          "Electronics",
          "Electronics",
          "Electronics",
          "Electronics",
          "Electronics",
          "Electronics",
          "Electronics",
          "Electronics",
          "Electronics",
          "Electronics",
          "Electronics",
          "Electronics",
          "Computers&Accessories",
          "Electronics",
          "Electronics",
          "Electronics",
          "Electronics",
          "Electronics",
          "Electronics",
          "Electronics",
          "Electronics",
          "Computers&Accessories",
          "Electronics",
          "Electronics",
          "Electronics",
          "Electronics",
          "Electronics",
          "Electronics",
          "Electronics",
          "Electronics",
          "Electronics",
          "Electronics",
          "Computers&Accessories",
          "Computers&Accessories",
          "Computers&Accessories",
          "Electronics",
          "Computers&Accessories",
          "Electronics",
          "Computers&Accessories",
          "Computers&Accessories",
          "Computers&Accessories",
          "OfficeProducts",
          "Home&Kitchen",
          "Electronics",
          "Computers&Accessories",
          "Computers&Accessories",
          "Computers&Accessories",
          "Electronics",
          "Electronics",
          "OfficeProducts",
          "Electronics",
          "Computers&Accessories",
          "Computers&Accessories",
          "Electronics",
          "Computers&Accessories",
          "Computers&Accessories",
          "Home&Kitchen",
          "Computers&Accessories",
          "Electronics",
          "OfficeProducts",
          "Electronics",
          "Computers&Accessories",
          "Computers&Accessories",
          "Computers&Accessories",
          "Computers&Accessories",
          "Electronics",
          "Electronics",
          "Computers&Accessories",
          "Computers&Accessories",
          "Computers&Accessories",
          "Computers&Accessories",
          "Computers&Accessories",
          "Computers&Accessories",
          "OfficeProducts",
          "Computers&Accessories",
          "Electronics",
          "Computers&Accessories",
          "Computers&Accessories",
          "Electronics",
          "Electronics",
          "OfficeProducts",
          "Electronics",
          "Electronics",
          "Computers&Accessories",
          "Computers&Accessories",
          "Electronics",
          "Computers&Accessories",
          "OfficeProducts",
          "Electronics",
          "Computers&Accessories",
          "Computers&Accessories",
          "Computers&Accessories",
          "Computers&Accessories",
          "OfficeProducts",
          "Computers&Accessories",
          "Computers&Accessories",
          "Computers&Accessories",
          "Electronics",
          "Computers&Accessories",
          "Computers&Accessories",
          "Electronics",
          "Electronics",
          "Computers&Accessories",
          "OfficeProducts",
          "Computers&Accessories",
          "Computers&Accessories",
          "OfficeProducts",
          "Computers&Accessories",
          "OfficeProducts",
          "Computers&Accessories",
          "Computers&Accessories",
          "Computers&Accessories",
          "Computers&Accessories",
          "Electronics",
          "OfficeProducts",
          "Computers&Accessories",
          "Electronics",
          "Computers&Accessories",
          "Computers&Accessories",
          "Computers&Accessories",
          "Electronics",
          "Computers&Accessories",
          "Electronics",
          "OfficeProducts",
          "Computers&Accessories",
          "Computers&Accessories",
          "Computers&Accessories",
          "Computers&Accessories",
          "Computers&Accessories",
          "Computers&Accessories",
          "Computers&Accessories",
          "Computers&Accessories",
          "Electronics",
          "Computers&Accessories",
          "OfficeProducts",
          "OfficeProducts",
          "Computers&Accessories",
          "Electronics",
          "Computers&Accessories",
          "Electronics",
          "Computers&Accessories",
          "Computers&Accessories",
          "Computers&Accessories",
          "Computers&Accessories",
          "Computers&Accessories",
          "OfficeProducts",
          "Computers&Accessories",
          "Computers&Accessories",
          "Computers&Accessories",
          "Electronics",
          "Computers&Accessories",
          "Electronics",
          "Computers&Accessories",
          "Computers&Accessories",
          "Computers&Accessories",
          "Computers&Accessories",
          "Computers&Accessories",
          "Computers&Accessories",
          "Computers&Accessories",
          "OfficeProducts",
          "OfficeProducts",
          "Computers&Accessories",
          "Home&Kitchen",
          "Computers&Accessories",
          "Computers&Accessories",
          "OfficeProducts",
          "Electronics",
          "Electronics",
          "Computers&Accessories",
          "Computers&Accessories",
          "Electronics",
          "OfficeProducts",
          "Computers&Accessories",
          "Computers&Accessories",
          "Electronics",
          "Computers&Accessories",
          "Computers&Accessories",
          "Computers&Accessories",
          "OfficeProducts",
          "Electronics",
          "Computers&Accessories",
          "Computers&Accessories",
          "Computers&Accessories",
          "Computers&Accessories",
          "Home&Kitchen",
          "Computers&Accessories",
          "Computers&Accessories",
          "Electronics",
          "OfficeProducts",
          "Home&Kitchen",
          "Electronics",
          "Computers&Accessories",
          "Electronics",
          "Computers&Accessories",
          "Electronics",
          "Home&Kitchen",
          "Computers&Accessories",
          "Computers&Accessories",
          "Computers&Accessories",
          "Computers&Accessories",
          "Electronics",
          "Computers&Accessories",
          "OfficeProducts",
          "Computers&Accessories",
          "Computers&Accessories",
          "Toys&Games",
          "Computers&Accessories",
          "Computers&Accessories",
          "Computers&Accessories",
          "Computers&Accessories",
          "Computers&Accessories",
          "Computers&Accessories",
          "Electronics",
          "Computers&Accessories",
          "Computers&Accessories",
          "Computers&Accessories",
          "Computers&Accessories",
          "Computers&Accessories",
          "Computers&Accessories",
          "OfficeProducts",
          "Electronics",
          "OfficeProducts",
          "Computers&Accessories",
          "OfficeProducts",
          "Computers&Accessories",
          "OfficeProducts",
          "Electronics",
          "Electronics",
          "Computers&Accessories",
          "Computers&Accessories",
          "Computers&Accessories",
          "OfficeProducts",
          "Computers&Accessories",
          "Electronics",
          "Computers&Accessories",
          "Computers&Accessories",
          "Computers&Accessories",
          "Electronics",
          "Computers&Accessories",
          "Computers&Accessories",
          "Computers&Accessories",
          "Computers&Accessories",
          "Computers&Accessories",
          "OfficeProducts",
          "Computers&Accessories",
          "Computers&Accessories",
          "Computers&Accessories",
          "Computers&Accessories",
          "Electronics",
          "Computers&Accessories",
          "OfficeProducts",
          "Computers&Accessories",
          "OfficeProducts",
          "OfficeProducts",
          "Computers&Accessories",
          "Computers&Accessories",
          "Electronics",
          "Computers&Accessories",
          "Electronics",
          "Home&Kitchen",
          "Home&Kitchen",
          "Home&Kitchen",
          "Home&Kitchen",
          "Home&Kitchen",
          "Home&Kitchen",
          "Home&Kitchen",
          "Home&Kitchen",
          "Home&Kitchen",
          "Home&Kitchen",
          "Home&Kitchen",
          "Home&Kitchen",
          "Home&Kitchen",
          "Home&Kitchen",
          "Home&Kitchen",
          "Home&Kitchen",
          "Home&Kitchen",
          "Home&Kitchen",
          "Home&Kitchen",
          "Home&Kitchen",
          "Home&Kitchen",
          "Home&Kitchen",
          "Home&Kitchen",
          "Home&Kitchen",
          "Home&Kitchen",
          "Home&Kitchen",
          "Home&Kitchen",
          "Home&Kitchen",
          "Home&Kitchen",
          "Home&Kitchen",
          "Home&Kitchen",
          "Home&Kitchen",
          "Home&Kitchen",
          "Home&Kitchen",
          "Home&Kitchen",
          "Home&Kitchen",
          "Home&Kitchen",
          "Home&Kitchen",
          "Home&Kitchen",
          "Home&Kitchen",
          "Home&Kitchen",
          "Home&Kitchen",
          "Home&Kitchen",
          "Home&Kitchen",
          "Home&Kitchen",
          "Home&Kitchen",
          "Home&Kitchen",
          "Home&Kitchen",
          "Home&Kitchen",
          "Home&Kitchen",
          "Home&Kitchen",
          "Home&Kitchen",
          "Home&Kitchen",
          "Home&Kitchen",
          "Home&Kitchen",
          "Home&Kitchen",
          "Home&Kitchen",
          "Home&Kitchen",
          "Home&Kitchen",
          "Home&Kitchen",
          "Home&Kitchen",
          "Home&Kitchen",
          "Home&Kitchen",
          "Home&Kitchen",
          "Home&Kitchen",
          "Home&Kitchen",
          "Home&Kitchen",
          "Home&Kitchen",
          "Home&Kitchen",
          "Home&Kitchen",
          "Home&Kitchen",
          "Home&Kitchen",
          "Home&Kitchen",
          "Home&Kitchen",
          "Home&Kitchen",
          "Home&Kitchen",
          "Home&Kitchen",
          "Home&Kitchen",
          "Home&Kitchen",
          "Home&Kitchen",
          "Home&Kitchen",
          "Home&Kitchen",
          "Home&Kitchen",
          "Home&Kitchen",
          "Home&Kitchen",
          "Home&Kitchen",
          "Home&Kitchen",
          "Home&Kitchen",
          "Home&Kitchen",
          "Home&Kitchen",
          "Home&Kitchen",
          "Home&Kitchen",
          "Home&Kitchen",
          "Home&Kitchen",
          "Home&Kitchen",
          "Home&Kitchen",
          "Home&Kitchen",
          "Home&Kitchen",
          "Home&Kitchen",
          "Home&Kitchen",
          "Home&Kitchen",
          "Home&Kitchen",
          "Home&Kitchen",
          "Home&Kitchen",
          "Home&Kitchen",
          "Home&Kitchen",
          "Car&Motorbike",
          "Home&Kitchen",
          "Home&Kitchen",
          "Home&Kitchen",
          "Home&Kitchen",
          "Home&Kitchen",
          "Home&Kitchen",
          "Home&Kitchen",
          "Home&Kitchen",
          "Home&Kitchen",
          "Home&Kitchen",
          "Home&Kitchen",
          "Home&Kitchen",
          "Home&Kitchen",
          "Home&Kitchen",
          "Home&Kitchen",
          "Home&Kitchen",
          "Home&Kitchen",
          "Home&Kitchen",
          "Home&Kitchen",
          "Home&Kitchen",
          "Home&Kitchen",
          "Home&Kitchen",
          "Home&Kitchen",
          "Home&Kitchen",
          "Home&Kitchen",
          "Home&Kitchen",
          "Home&Kitchen",
          "Home&Kitchen",
          "Home&Kitchen",
          "Home&Kitchen",
          "Home&Kitchen",
          "Home&Kitchen",
          "Home&Kitchen",
          "Home&Kitchen",
          "Home&Kitchen",
          "Home&Kitchen",
          "Home&Kitchen",
          "Home&Kitchen",
          "Home&Kitchen",
          "Home&Kitchen",
          "Home&Kitchen",
          "Home&Kitchen",
          "Home&Kitchen",
          "Home&Kitchen",
          "Home&Kitchen",
          "Home&Kitchen",
          "Home&Kitchen",
          "Home&Kitchen",
          "Home&Kitchen",
          "Home&Kitchen",
          "Home&Kitchen",
          "Home&Kitchen",
          "Home&Kitchen",
          "Home&Kitchen",
          "Home&Kitchen",
          "Home&Kitchen",
          "Home&Kitchen",
          "Home&Kitchen",
          "Home&Kitchen",
          "Home&Kitchen",
          "Home&Kitchen",
          "Home&Kitchen",
          "Home&Kitchen",
          "Home&Kitchen",
          "Home&Kitchen",
          "Home&Kitchen",
          "Home&Kitchen",
          "Home&Kitchen",
          "Home&Kitchen",
          "Home&Kitchen",
          "Health&PersonalCare",
          "Home&Kitchen",
          "Home&Kitchen",
          "Home&Kitchen",
          "Home&Kitchen",
          "Home&Kitchen",
          "Home&Kitchen",
          "Home&Kitchen",
          "Home&Kitchen",
          "Home&Kitchen",
          "Home&Kitchen",
          "Home&Kitchen",
          "Home&Kitchen",
          "Home&Kitchen",
          "Home&Kitchen",
          "Home&Kitchen",
          "Home&Kitchen",
          "Home&Kitchen",
          "Home&Kitchen",
          "Home&Kitchen",
          "Home&Kitchen",
          "Home&Kitchen",
          "Home&Kitchen",
          "Home&Kitchen",
          "Home&Kitchen",
          "Home&Kitchen",
          "Home&Kitchen",
          "Home&Kitchen",
          "Home&Kitchen",
          "Home&Kitchen",
          "Home&Kitchen",
          "Home&Kitchen",
          "Home&Kitchen",
          "Home&Kitchen",
          "Home&Kitchen",
          "Home&Kitchen",
          "Home&Kitchen",
          "Home&Kitchen",
          "Home&Kitchen",
          "Home&Kitchen",
          "Home&Kitchen",
          "Home&Kitchen",
          "Home&Kitchen",
          "Home&Kitchen",
          "Home&Kitchen",
          "Home&Kitchen",
          "Home&Kitchen",
          "Home&Kitchen",
          "Home&Kitchen",
          "Home&Kitchen",
          "Home&Kitchen",
          "Home&Kitchen",
          "Home&Kitchen",
          "Home&Kitchen",
          "Home&Kitchen",
          "Home&Kitchen",
          "Home&Kitchen",
          "Home&Kitchen",
          "Home&Kitchen",
          "Home&Kitchen",
          "Home&Kitchen",
          "Home&Kitchen",
          "Home&Kitchen",
          "Home&Kitchen",
          "Home&Kitchen",
          "Home&Kitchen",
          "Home&Kitchen",
          "Home&Kitchen",
          "Home&Kitchen",
          "Home&Kitchen",
          "Home&Kitchen",
          "Home&Kitchen",
          "Home&Kitchen",
          "Home&Kitchen",
          "Home&Kitchen",
          "Home&Kitchen",
          "Home&Kitchen",
          "Home&Kitchen",
          "Home&Kitchen",
          "Home&Kitchen",
          "Home&Kitchen",
          "Home&Kitchen",
          "Home&Kitchen",
          "Home&Kitchen",
          "Home&Kitchen",
          "Home&Kitchen",
          "Home&Kitchen",
          "Home&Kitchen",
          "Home&Kitchen",
          "Home&Kitchen",
          "Home&Kitchen",
          "Home&Kitchen",
          "Home&Kitchen",
          "Home&Kitchen",
          "Home&Kitchen",
          "Home&Kitchen",
          "Home&Kitchen",
          "Home&Kitchen",
          "Home&Kitchen",
          "Home&Kitchen",
          "Home&Kitchen",
          "Home&Kitchen",
          "Home&Kitchen",
          "Home&Kitchen",
          "Home&Kitchen",
          "Home&Kitchen",
          "Home&Kitchen",
          "Home&Kitchen",
          "Home&Kitchen",
          "Home&Kitchen",
          "Home&Kitchen",
          "Home&Kitchen",
          "Home&Kitchen",
          "Home&Kitchen",
          "Home&Kitchen",
          "Home&Kitchen",
          "Home&Kitchen",
          "Home&Kitchen",
          "Home&Kitchen",
          "Home&Kitchen",
          "Home&Kitchen",
          "Home&Kitchen",
          "Home&Kitchen",
          "Home&Kitchen",
          "Home&Kitchen",
          "Home&Kitchen",
          "Home&Kitchen",
          "Home&Kitchen",
          "Home&Kitchen",
          "Home&Kitchen",
          "Home&Kitchen",
          "Home&Kitchen",
          "Home&Kitchen",
          "Home&Kitchen",
          "Home&Kitchen",
          "Home&Kitchen",
          "Home&Kitchen",
          "Home&Kitchen",
          "Home&Kitchen",
          "Home&Kitchen",
          "Home&Kitchen",
          "Home&Kitchen",
          "Home&Kitchen",
          "Home&Kitchen",
          "Home&Kitchen",
          "Home&Kitchen",
          "Home&Kitchen",
          "Home&Kitchen",
          "Home&Kitchen",
          "Home&Kitchen",
          "Home&Kitchen",
          "Home&Kitchen",
          "Home&Kitchen",
          "Home&Kitchen",
          "Home&Kitchen",
          "Home&Kitchen",
          "Home&Kitchen",
          "Home&Kitchen",
          "Home&Kitchen",
          "Home&Kitchen",
          "Home&Kitchen",
          "Home&Kitchen",
          "Home&Kitchen",
          "Home&Kitchen",
          "Home&Kitchen",
          "Home&Kitchen",
          "Home&Kitchen",
          "Home&Kitchen",
          "Home&Kitchen",
          "Home&Kitchen"
         ],
         "x0": " ",
         "xaxis": "x",
         "y": [
          399,
          199,
          154,
          149,
          176.63,
          229,
          154,
          350,
          159,
          349,
          199,
          970,
          279,
          59,
          199,
          299,
          970,
          299,
          179,
          389,
          599,
          199,
          99,
          899,
          199,
          970,
          399,
          999,
          59,
          333,
          507,
          399,
          1199,
          799,
          199,
          230,
          348,
          154,
          179,
          139,
          329,
          263,
          1599,
          219,
          349,
          349,
          115,
          399,
          199,
          179,
          209,
          1434,
          399,
          139,
          299,
          325,
          199,
          649,
          269,
          199,
          290,
          249,
          345,
          1099,
          719,
          349,
          849,
          299,
          349,
          399,
          449,
          299,
          99,
          273.1,
          399,
          399,
          210,
          1299,
          347,
          149,
          228,
          1599,
          1499,
          799,
          229,
          349,
          399,
          349,
          179,
          249,
          999,
          399,
          349,
          399,
          1699,
          195,
          999,
          499,
          416,
          368,
          339,
          499,
          249,
          399,
          1499,
          637,
          399,
          1089,
          339,
          149,
          149,
          599,
          299,
          399,
          339,
          249,
          1399,
          149,
          325,
          199,
          88,
          399,
          57.89,
          799,
          205,
          299,
          849,
          949,
          499,
          299,
          949,
          379,
          486,
          299,
          320,
          139,
          129,
          999,
          225,
          547,
          259,
          239,
          349,
          449,
          350,
          252,
          204,
          235,
          799,
          299,
          173,
          209,
          848.99,
          649,
          299,
          399,
          249,
          1249,
          213,
          209,
          598,
          799,
          159,
          499,
          299,
          128.31,
          599,
          399,
          449,
          254,
          399,
          179,
          339,
          399,
          199,
          349,
          299,
          89,
          549,
          129,
          349,
          499,
          299,
          182,
          96,
          439,
          299,
          789,
          299,
          325,
          1299,
          199,
          2299,
          349,
          719,
          917,
          399,
          119,
          299,
          417.44,
          215,
          99,
          249,
          649,
          1289,
          609,
          599,
          349,
          199,
          349,
          1850,
          129,
          379,
          185,
          218,
          199,
          499,
          893,
          379,
          699,
          2699,
          129,
          389,
          246,
          299,
          247,
          1369,
          199,
          299,
          299,
          349,
          197,
          1299,
          1519,
          299,
          349,
          1499,
          1219,
          399,
          139,
          199,
          873,
          539,
          1075,
          399,
          529,
          149,
          99,
          299,
          199,
          999,
          1799,
          176.63,
          649,
          119,
          249,
          99,
          489,
          369,
          134,
          999,
          999,
          999,
          350,
          1399,
          999,
          2099,
          337,
          499,
          999,
          251,
          279,
          269,
          59,
          349,
          349,
          499,
          95,
          139,
          89,
          599,
          199,
          329,
          99,
          1399,
          249,
          299,
          79,
          949,
          99,
          689,
          499,
          299,
          209,
          2179,
          2599,
          799,
          149,
          3799,
          199,
          299,
          1599,
          699,
          99,
          1055,
          150,
          219,
          474,
          239,
          1799,
          219,
          599,
          2499,
          89,
          314,
          139,
          2599,
          217,
          263,
          349,
          149,
          99,
          349,
          299,
          549,
          299,
          50,
          130,
          399,
          1399,
          299,
          699,
          799,
          1399,
          1295,
          399,
          717,
          39,
          1199,
          569,
          399,
          191,
          129,
          999,
          522,
          799,
          681,
          100,
          329,
          139,
          1199,
          1049,
          656,
          169,
          309,
          299,
          449,
          799,
          157,
          599,
          1598,
          294,
          828,
          745,
          1549,
          198,
          549,
          1299,
          59,
          448,
          299,
          279,
          137,
          1799,
          399,
          1699,
          1495,
          849,
          440,
          599,
          149,
          289,
          399,
          599,
          949,
          1329,
          899,
          449,
          100,
          299,
          1295,
          252,
          1299,
          480,
          999,
          238,
          1349,
          199,
          99,
          125,
          399,
          1199,
          235,
          549,
          89,
          1299,
          230,
          1699,
          561,
          289,
          599,
          1990,
          449,
          999,
          69,
          899,
          149,
          999,
          378,
          99,
          67,
          1889,
          499,
          499,
          499,
          249,
          179,
          299,
          629,
          2595,
          90,
          599,
          179,
          1345,
          349,
          287,
          199,
          199,
          149,
          469,
          849,
          328,
          269,
          549,
          114,
          120,
          1490,
          99,
          149,
          575,
          178,
          1599,
          499,
          199,
          1439,
          1099,
          157,
          115,
          175,
          1999,
          299,
          3303,
          1890,
          90,
          1599,
          599,
          425,
          549,
          1295,
          310,
          1149,
          499,
          999,
          250,
          90,
          2025,
          1495,
          899,
          349,
          2490,
          200,
          1249,
          649,
          2649,
          596,
          649,
          1234,
          272,
          3498,
          449,
          150,
          699,
          354,
          1199,
          379,
          649,
          1199,
          889,
          1409,
          549,
          749,
          379,
          299,
          379,
          1399,
          699,
          300,
          999,
          535,
          269,
          341,
          699,
          326,
          1995,
          2640,
          1990,
          165,
          1699,
          2299,
          39,
          398,
          770,
          279,
          599,
          598,
          399,
          499,
          579,
          90,
          899,
          1149,
          249,
          39,
          1199,
          1099,
          120,
          1519,
          420,
          225,
          199,
          499,
          799,
          298,
          1499,
          1199,
          1199,
          455,
          199,
          749,
          1399,
          1043,
          499,
          1464,
          249,
          625,
          1290,
          3600,
          1625,
          2599,
          1199,
          599,
          549,
          999,
          398,
          699,
          2148,
          3599,
          351,
          719,
          678,
          809,
          1969,
          1490,
          2499,
          1665,
          1799,
          1260,
          749,
          3499,
          379,
          1099,
          749,
          549,
          899,
          1321,
          1099,
          3190,
          799,
          2699,
          599,
          1819,
          1199,
          3249,
          349,
          799,
          799,
          89,
          1400,
          355,
          2169,
          2799,
          899,
          3599,
          499,
          653,
          1409,
          753,
          353,
          1099,
          1345,
          2095,
          1498,
          2199,
          3699,
          177,
          1149,
          244,
          1959,
          319,
          1499,
          469,
          1099,
          999,
          1299,
          292,
          160,
          600,
          1130,
          368,
          3199,
          1599,
          1999,
          1499,
          199,
          610,
          999,
          453,
          2464,
          2719,
          2799,
          2088,
          2399,
          308,
          2599,
          479,
          245,
          179,
          3569,
          699,
          2089,
          2339,
          784,
          899,
          1695,
          499,
          2699,
          1448,
          79,
          2698,
          3199,
          1199,
          1414,
          999,
          698,
          2199,
          320,
          298,
          1199,
          1399,
          599,
          1499,
          1699,
          649,
          3249,
          199,
          1099,
          664,
          260,
          1484,
          999,
          3299,
          259,
          3249,
          4280,
          189,
          1449,
          199,
          474,
          279,
          1999,
          799,
          949,
          3657.66,
          1699,
          1849,
          1099,
          499,
          1595,
          1049,
          1182,
          499,
          1529,
          1199,
          1052,
          239,
          699,
          1547,
          499,
          510,
          1899,
          2599,
          1199,
          999,
          1999,
          210,
          950,
          2439,
          1599,
          2899,
          3299,
          351,
          899,
          1349,
          2742,
          2903,
          1656,
          1399,
          2079,
          999,
          3179,
          1049,
          3599,
          1699,
          664,
          948,
          850,
          600,
          3711,
          799,
          980,
          351,
          229,
          3349,
          299,
          699,
          1235,
          1349,
          1699,
          1069,
          1349,
          1499,
          2092,
          1804,
          1189,
          2590,
          899,
          998,
          998.06,
          1099,
          475,
          949,
          395,
          635,
          717,
          649,
          193,
          2449,
          1049,
          2399,
          2286,
          299,
          559,
          660,
          419,
          2899,
          1799,
          1474,
          3645,
          375,
          2976,
          1099,
          2575,
          1649,
          799,
          765,
          999,
          587,
          699,
          3799,
          640,
          979,
          3199,
          979,
          929,
          3710,
          2033,
          949,
          2790,
          645,
          2237.81,
          825,
          697,
          688,
          2199,
          2699,
          899,
          1090,
          295,
          479,
          2949,
          335,
          293,
          599,
          499,
          849,
          249,
          185,
          778,
          279,
          215,
          889,
          1449,
          1190,
          1799,
          1799,
          2199,
          3685,
          649,
          1110,
          1499,
          759,
          2669,
          929,
          199,
          279,
          549,
          85,
          499,
          1260,
          1099,
          1928,
          3249,
          1199,
          1456,
          3349,
          1199,
          179,
          149,
          379,
          3041.67,
          1745,
          3180,
          390,
          1999,
          1624,
          184,
          445,
          699,
          1601,
          231,
          369,
          809,
          1199,
          1799,
          1999,
          2599,
          1199,
          219,
          799,
          1982.84,
          199,
          1180,
          2199,
          2999,
          253,
          1149,
          457,
          229,
          899,
          1499,
          426,
          2320,
          1563,
          3487.77,
          2695,
          949,
          379,
          2280,
          2219,
          1399,
          2863
         ],
         "y0": " ",
         "yaxis": "y"
        }
       ],
       "layout": {
        "boxmode": "group",
        "legend": {
         "tracegroupgap": 0
        },
        "margin": {
         "t": 60
        },
        "template": {
         "data": {
          "bar": [
           {
            "error_x": {
             "color": "#2a3f5f"
            },
            "error_y": {
             "color": "#2a3f5f"
            },
            "marker": {
             "line": {
              "color": "#E5ECF6",
              "width": 0.5
             },
             "pattern": {
              "fillmode": "overlay",
              "size": 10,
              "solidity": 0.2
             }
            },
            "type": "bar"
           }
          ],
          "barpolar": [
           {
            "marker": {
             "line": {
              "color": "#E5ECF6",
              "width": 0.5
             },
             "pattern": {
              "fillmode": "overlay",
              "size": 10,
              "solidity": 0.2
             }
            },
            "type": "barpolar"
           }
          ],
          "carpet": [
           {
            "aaxis": {
             "endlinecolor": "#2a3f5f",
             "gridcolor": "white",
             "linecolor": "white",
             "minorgridcolor": "white",
             "startlinecolor": "#2a3f5f"
            },
            "baxis": {
             "endlinecolor": "#2a3f5f",
             "gridcolor": "white",
             "linecolor": "white",
             "minorgridcolor": "white",
             "startlinecolor": "#2a3f5f"
            },
            "type": "carpet"
           }
          ],
          "choropleth": [
           {
            "colorbar": {
             "outlinewidth": 0,
             "ticks": ""
            },
            "type": "choropleth"
           }
          ],
          "contour": [
           {
            "colorbar": {
             "outlinewidth": 0,
             "ticks": ""
            },
            "colorscale": [
             [
              0,
              "#0d0887"
             ],
             [
              0.1111111111111111,
              "#46039f"
             ],
             [
              0.2222222222222222,
              "#7201a8"
             ],
             [
              0.3333333333333333,
              "#9c179e"
             ],
             [
              0.4444444444444444,
              "#bd3786"
             ],
             [
              0.5555555555555556,
              "#d8576b"
             ],
             [
              0.6666666666666666,
              "#ed7953"
             ],
             [
              0.7777777777777778,
              "#fb9f3a"
             ],
             [
              0.8888888888888888,
              "#fdca26"
             ],
             [
              1,
              "#f0f921"
             ]
            ],
            "type": "contour"
           }
          ],
          "contourcarpet": [
           {
            "colorbar": {
             "outlinewidth": 0,
             "ticks": ""
            },
            "type": "contourcarpet"
           }
          ],
          "heatmap": [
           {
            "colorbar": {
             "outlinewidth": 0,
             "ticks": ""
            },
            "colorscale": [
             [
              0,
              "#0d0887"
             ],
             [
              0.1111111111111111,
              "#46039f"
             ],
             [
              0.2222222222222222,
              "#7201a8"
             ],
             [
              0.3333333333333333,
              "#9c179e"
             ],
             [
              0.4444444444444444,
              "#bd3786"
             ],
             [
              0.5555555555555556,
              "#d8576b"
             ],
             [
              0.6666666666666666,
              "#ed7953"
             ],
             [
              0.7777777777777778,
              "#fb9f3a"
             ],
             [
              0.8888888888888888,
              "#fdca26"
             ],
             [
              1,
              "#f0f921"
             ]
            ],
            "type": "heatmap"
           }
          ],
          "heatmapgl": [
           {
            "colorbar": {
             "outlinewidth": 0,
             "ticks": ""
            },
            "colorscale": [
             [
              0,
              "#0d0887"
             ],
             [
              0.1111111111111111,
              "#46039f"
             ],
             [
              0.2222222222222222,
              "#7201a8"
             ],
             [
              0.3333333333333333,
              "#9c179e"
             ],
             [
              0.4444444444444444,
              "#bd3786"
             ],
             [
              0.5555555555555556,
              "#d8576b"
             ],
             [
              0.6666666666666666,
              "#ed7953"
             ],
             [
              0.7777777777777778,
              "#fb9f3a"
             ],
             [
              0.8888888888888888,
              "#fdca26"
             ],
             [
              1,
              "#f0f921"
             ]
            ],
            "type": "heatmapgl"
           }
          ],
          "histogram": [
           {
            "marker": {
             "pattern": {
              "fillmode": "overlay",
              "size": 10,
              "solidity": 0.2
             }
            },
            "type": "histogram"
           }
          ],
          "histogram2d": [
           {
            "colorbar": {
             "outlinewidth": 0,
             "ticks": ""
            },
            "colorscale": [
             [
              0,
              "#0d0887"
             ],
             [
              0.1111111111111111,
              "#46039f"
             ],
             [
              0.2222222222222222,
              "#7201a8"
             ],
             [
              0.3333333333333333,
              "#9c179e"
             ],
             [
              0.4444444444444444,
              "#bd3786"
             ],
             [
              0.5555555555555556,
              "#d8576b"
             ],
             [
              0.6666666666666666,
              "#ed7953"
             ],
             [
              0.7777777777777778,
              "#fb9f3a"
             ],
             [
              0.8888888888888888,
              "#fdca26"
             ],
             [
              1,
              "#f0f921"
             ]
            ],
            "type": "histogram2d"
           }
          ],
          "histogram2dcontour": [
           {
            "colorbar": {
             "outlinewidth": 0,
             "ticks": ""
            },
            "colorscale": [
             [
              0,
              "#0d0887"
             ],
             [
              0.1111111111111111,
              "#46039f"
             ],
             [
              0.2222222222222222,
              "#7201a8"
             ],
             [
              0.3333333333333333,
              "#9c179e"
             ],
             [
              0.4444444444444444,
              "#bd3786"
             ],
             [
              0.5555555555555556,
              "#d8576b"
             ],
             [
              0.6666666666666666,
              "#ed7953"
             ],
             [
              0.7777777777777778,
              "#fb9f3a"
             ],
             [
              0.8888888888888888,
              "#fdca26"
             ],
             [
              1,
              "#f0f921"
             ]
            ],
            "type": "histogram2dcontour"
           }
          ],
          "mesh3d": [
           {
            "colorbar": {
             "outlinewidth": 0,
             "ticks": ""
            },
            "type": "mesh3d"
           }
          ],
          "parcoords": [
           {
            "line": {
             "colorbar": {
              "outlinewidth": 0,
              "ticks": ""
             }
            },
            "type": "parcoords"
           }
          ],
          "pie": [
           {
            "automargin": true,
            "type": "pie"
           }
          ],
          "scatter": [
           {
            "fillpattern": {
             "fillmode": "overlay",
             "size": 10,
             "solidity": 0.2
            },
            "type": "scatter"
           }
          ],
          "scatter3d": [
           {
            "line": {
             "colorbar": {
              "outlinewidth": 0,
              "ticks": ""
             }
            },
            "marker": {
             "colorbar": {
              "outlinewidth": 0,
              "ticks": ""
             }
            },
            "type": "scatter3d"
           }
          ],
          "scattercarpet": [
           {
            "marker": {
             "colorbar": {
              "outlinewidth": 0,
              "ticks": ""
             }
            },
            "type": "scattercarpet"
           }
          ],
          "scattergeo": [
           {
            "marker": {
             "colorbar": {
              "outlinewidth": 0,
              "ticks": ""
             }
            },
            "type": "scattergeo"
           }
          ],
          "scattergl": [
           {
            "marker": {
             "colorbar": {
              "outlinewidth": 0,
              "ticks": ""
             }
            },
            "type": "scattergl"
           }
          ],
          "scattermapbox": [
           {
            "marker": {
             "colorbar": {
              "outlinewidth": 0,
              "ticks": ""
             }
            },
            "type": "scattermapbox"
           }
          ],
          "scatterpolar": [
           {
            "marker": {
             "colorbar": {
              "outlinewidth": 0,
              "ticks": ""
             }
            },
            "type": "scatterpolar"
           }
          ],
          "scatterpolargl": [
           {
            "marker": {
             "colorbar": {
              "outlinewidth": 0,
              "ticks": ""
             }
            },
            "type": "scatterpolargl"
           }
          ],
          "scatterternary": [
           {
            "marker": {
             "colorbar": {
              "outlinewidth": 0,
              "ticks": ""
             }
            },
            "type": "scatterternary"
           }
          ],
          "surface": [
           {
            "colorbar": {
             "outlinewidth": 0,
             "ticks": ""
            },
            "colorscale": [
             [
              0,
              "#0d0887"
             ],
             [
              0.1111111111111111,
              "#46039f"
             ],
             [
              0.2222222222222222,
              "#7201a8"
             ],
             [
              0.3333333333333333,
              "#9c179e"
             ],
             [
              0.4444444444444444,
              "#bd3786"
             ],
             [
              0.5555555555555556,
              "#d8576b"
             ],
             [
              0.6666666666666666,
              "#ed7953"
             ],
             [
              0.7777777777777778,
              "#fb9f3a"
             ],
             [
              0.8888888888888888,
              "#fdca26"
             ],
             [
              1,
              "#f0f921"
             ]
            ],
            "type": "surface"
           }
          ],
          "table": [
           {
            "cells": {
             "fill": {
              "color": "#EBF0F8"
             },
             "line": {
              "color": "white"
             }
            },
            "header": {
             "fill": {
              "color": "#C8D4E3"
             },
             "line": {
              "color": "white"
             }
            },
            "type": "table"
           }
          ]
         },
         "layout": {
          "annotationdefaults": {
           "arrowcolor": "#2a3f5f",
           "arrowhead": 0,
           "arrowwidth": 1
          },
          "autotypenumbers": "strict",
          "coloraxis": {
           "colorbar": {
            "outlinewidth": 0,
            "ticks": ""
           }
          },
          "colorscale": {
           "diverging": [
            [
             0,
             "#8e0152"
            ],
            [
             0.1,
             "#c51b7d"
            ],
            [
             0.2,
             "#de77ae"
            ],
            [
             0.3,
             "#f1b6da"
            ],
            [
             0.4,
             "#fde0ef"
            ],
            [
             0.5,
             "#f7f7f7"
            ],
            [
             0.6,
             "#e6f5d0"
            ],
            [
             0.7,
             "#b8e186"
            ],
            [
             0.8,
             "#7fbc41"
            ],
            [
             0.9,
             "#4d9221"
            ],
            [
             1,
             "#276419"
            ]
           ],
           "sequential": [
            [
             0,
             "#0d0887"
            ],
            [
             0.1111111111111111,
             "#46039f"
            ],
            [
             0.2222222222222222,
             "#7201a8"
            ],
            [
             0.3333333333333333,
             "#9c179e"
            ],
            [
             0.4444444444444444,
             "#bd3786"
            ],
            [
             0.5555555555555556,
             "#d8576b"
            ],
            [
             0.6666666666666666,
             "#ed7953"
            ],
            [
             0.7777777777777778,
             "#fb9f3a"
            ],
            [
             0.8888888888888888,
             "#fdca26"
            ],
            [
             1,
             "#f0f921"
            ]
           ],
           "sequentialminus": [
            [
             0,
             "#0d0887"
            ],
            [
             0.1111111111111111,
             "#46039f"
            ],
            [
             0.2222222222222222,
             "#7201a8"
            ],
            [
             0.3333333333333333,
             "#9c179e"
            ],
            [
             0.4444444444444444,
             "#bd3786"
            ],
            [
             0.5555555555555556,
             "#d8576b"
            ],
            [
             0.6666666666666666,
             "#ed7953"
            ],
            [
             0.7777777777777778,
             "#fb9f3a"
            ],
            [
             0.8888888888888888,
             "#fdca26"
            ],
            [
             1,
             "#f0f921"
            ]
           ]
          },
          "colorway": [
           "#636efa",
           "#EF553B",
           "#00cc96",
           "#ab63fa",
           "#FFA15A",
           "#19d3f3",
           "#FF6692",
           "#B6E880",
           "#FF97FF",
           "#FECB52"
          ],
          "font": {
           "color": "#2a3f5f"
          },
          "geo": {
           "bgcolor": "white",
           "lakecolor": "white",
           "landcolor": "#E5ECF6",
           "showlakes": true,
           "showland": true,
           "subunitcolor": "white"
          },
          "hoverlabel": {
           "align": "left"
          },
          "hovermode": "closest",
          "mapbox": {
           "style": "light"
          },
          "paper_bgcolor": "white",
          "plot_bgcolor": "#E5ECF6",
          "polar": {
           "angularaxis": {
            "gridcolor": "white",
            "linecolor": "white",
            "ticks": ""
           },
           "bgcolor": "#E5ECF6",
           "radialaxis": {
            "gridcolor": "white",
            "linecolor": "white",
            "ticks": ""
           }
          },
          "scene": {
           "xaxis": {
            "backgroundcolor": "#E5ECF6",
            "gridcolor": "white",
            "gridwidth": 2,
            "linecolor": "white",
            "showbackground": true,
            "ticks": "",
            "zerolinecolor": "white"
           },
           "yaxis": {
            "backgroundcolor": "#E5ECF6",
            "gridcolor": "white",
            "gridwidth": 2,
            "linecolor": "white",
            "showbackground": true,
            "ticks": "",
            "zerolinecolor": "white"
           },
           "zaxis": {
            "backgroundcolor": "#E5ECF6",
            "gridcolor": "white",
            "gridwidth": 2,
            "linecolor": "white",
            "showbackground": true,
            "ticks": "",
            "zerolinecolor": "white"
           }
          },
          "shapedefaults": {
           "line": {
            "color": "#2a3f5f"
           }
          },
          "ternary": {
           "aaxis": {
            "gridcolor": "white",
            "linecolor": "white",
            "ticks": ""
           },
           "baxis": {
            "gridcolor": "white",
            "linecolor": "white",
            "ticks": ""
           },
           "bgcolor": "#E5ECF6",
           "caxis": {
            "gridcolor": "white",
            "linecolor": "white",
            "ticks": ""
           }
          },
          "title": {
           "x": 0.05
          },
          "xaxis": {
           "automargin": true,
           "gridcolor": "white",
           "linecolor": "white",
           "ticks": "",
           "title": {
            "standoff": 15
           },
           "zerolinecolor": "white",
           "zerolinewidth": 2
          },
          "yaxis": {
           "automargin": true,
           "gridcolor": "white",
           "linecolor": "white",
           "ticks": "",
           "title": {
            "standoff": 15
           },
           "zerolinecolor": "white",
           "zerolinewidth": 2
          }
         }
        },
        "xaxis": {
         "anchor": "y",
         "domain": [
          0,
          1
         ],
         "title": {
          "text": "main category"
         }
        },
        "yaxis": {
         "anchor": "x",
         "domain": [
          0,
          1
         ],
         "title": {
          "text": "discounted_price"
         }
        }
       }
      },
      "text/html": [
       "<div>                            <div id=\"22da064b-9d74-4b17-881f-568dac3a64a0\" class=\"plotly-graph-div\" style=\"height:525px; width:100%;\"></div>            <script type=\"text/javascript\">                require([\"plotly\"], function(Plotly) {                    window.PLOTLYENV=window.PLOTLYENV || {};                                    if (document.getElementById(\"22da064b-9d74-4b17-881f-568dac3a64a0\")) {                    Plotly.newPlot(                        \"22da064b-9d74-4b17-881f-568dac3a64a0\",                        [{\"alignmentgroup\":\"True\",\"hovertemplate\":\"main category=%{x}<br>discounted_price=%{y}<extra></extra>\",\"legendgroup\":\"\",\"marker\":{\"color\":\"#636efa\"},\"name\":\"\",\"notched\":false,\"offsetgroup\":\"\",\"orientation\":\"v\",\"showlegend\":false,\"x\":[\"Computers&Accessories\",\"Computers&Accessories\",\"Computers&Accessories\",\"Computers&Accessories\",\"Computers&Accessories\",\"Computers&Accessories\",\"Computers&Accessories\",\"Computers&Accessories\",\"Computers&Accessories\",\"Computers&Accessories\",\"Computers&Accessories\",\"Computers&Accessories\",\"Electronics\",\"Computers&Accessories\",\"Electronics\",\"Computers&Accessories\",\"Computers&Accessories\",\"Computers&Accessories\",\"Computers&Accessories\",\"Computers&Accessories\",\"Computers&Accessories\",\"Computers&Accessories\",\"Computers&Accessories\",\"Computers&Accessories\",\"Computers&Accessories\",\"Computers&Accessories\",\"Computers&Accessories\",\"Computers&Accessories\",\"Computers&Accessories\",\"Computers&Accessories\",\"Computers&Accessories\",\"Electronics\",\"Computers&Accessories\",\"Computers&Accessories\",\"Computers&Accessories\",\"Electronics\",\"Computers&Accessories\",\"Computers&Accessories\",\"Electronics\",\"Computers&Accessories\",\"Computers&Accessories\",\"Computers&Accessories\",\"Electronics\",\"Computers&Accessories\",\"Computers&Accessories\",\"Computers&Accessories\",\"Computers&Accessories\",\"Computers&Accessories\",\"Computers&Accessories\",\"Computers&Accessories\",\"Computers&Accessories\",\"Electronics\",\"Computers&Accessories\",\"Computers&Accessories\",\"Computers&Accessories\",\"Computers&Accessories\",\"Computers&Accessories\",\"Computers&Accessories\",\"Computers&Accessories\",\"Computers&Accessories\",\"Computers&Accessories\",\"Electronics\",\"Computers&Accessories\",\"Computers&Accessories\",\"Computers&Accessories\",\"Electronics\",\"Computers&Accessories\",\"Electronics\",\"Computers&Accessories\",\"Computers&Accessories\",\"Computers&Accessories\",\"Computers&Accessories\",\"Computers&Accessories\",\"Computers&Accessories\",\"Computers&Accessories\",\"Electronics\",\"Computers&Accessories\",\"Electronics\",\"Computers&Accessories\",\"Computers&Accessories\",\"Computers&Accessories\",\"Computers&Accessories\",\"Electronics\",\"Electronics\",\"Electronics\",\"Electronics\",\"Computers&Accessories\",\"Electronics\",\"Computers&Accessories\",\"Computers&Accessories\",\"Electronics\",\"Electronics\",\"Computers&Accessories\",\"Computers&Accessories\",\"Computers&Accessories\",\"Electronics\",\"Computers&Accessories\",\"Computers&Accessories\",\"Electronics\",\"Computers&Accessories\",\"Computers&Accessories\",\"Computers&Accessories\",\"Computers&Accessories\",\"Electronics\",\"Computers&Accessories\",\"Electronics\",\"Electronics\",\"Electronics\",\"Computers&Accessories\",\"Computers&Accessories\",\"Computers&Accessories\",\"Computers&Accessories\",\"Electronics\",\"Computers&Accessories\",\"Electronics\",\"Computers&Accessories\",\"Computers&Accessories\",\"Computers&Accessories\",\"Computers&Accessories\",\"Computers&Accessories\",\"Computers&Accessories\",\"Computers&Accessories\",\"Computers&Accessories\",\"Electronics\",\"Electronics\",\"Computers&Accessories\",\"Computers&Accessories\",\"Computers&Accessories\",\"Computers&Accessories\",\"Computers&Accessories\",\"Computers&Accessories\",\"Computers&Accessories\",\"Electronics\",\"Electronics\",\"Computers&Accessories\",\"Computers&Accessories\",\"Computers&Accessories\",\"Computers&Accessories\",\"Computers&Accessories\",\"Electronics\",\"Computers&Accessories\",\"Electronics\",\"Electronics\",\"Computers&Accessories\",\"Computers&Accessories\",\"Computers&Accessories\",\"Electronics\",\"Electronics\",\"Computers&Accessories\",\"Electronics\",\"Electronics\",\"Electronics\",\"Computers&Accessories\",\"Computers&Accessories\",\"Electronics\",\"Electronics\",\"Computers&Accessories\",\"Electronics\",\"Electronics\",\"Electronics\",\"Electronics\",\"Computers&Accessories\",\"Computers&Accessories\",\"Computers&Accessories\",\"Electronics\",\"Computers&Accessories\",\"Computers&Accessories\",\"Electronics\",\"Computers&Accessories\",\"Computers&Accessories\",\"Electronics\",\"Computers&Accessories\",\"Computers&Accessories\",\"Electronics\",\"Electronics\",\"Electronics\",\"Computers&Accessories\",\"Computers&Accessories\",\"Computers&Accessories\",\"Computers&Accessories\",\"Electronics\",\"Electronics\",\"Computers&Accessories\",\"Computers&Accessories\",\"Electronics\",\"Electronics\",\"Computers&Accessories\",\"Computers&Accessories\",\"Electronics\",\"Computers&Accessories\",\"Computers&Accessories\",\"Computers&Accessories\",\"Electronics\",\"Electronics\",\"Computers&Accessories\",\"Electronics\",\"Electronics\",\"Computers&Accessories\",\"Electronics\",\"Computers&Accessories\",\"Electronics\",\"Computers&Accessories\",\"Computers&Accessories\",\"Computers&Accessories\",\"Electronics\",\"Electronics\",\"Electronics\",\"Computers&Accessories\",\"Electronics\",\"Electronics\",\"Electronics\",\"Computers&Accessories\",\"Electronics\",\"Electronics\",\"Computers&Accessories\",\"Computers&Accessories\",\"Electronics\",\"Electronics\",\"Computers&Accessories\",\"Electronics\",\"Electronics\",\"Computers&Accessories\",\"Computers&Accessories\",\"Electronics\",\"Computers&Accessories\",\"Electronics\",\"Electronics\",\"Electronics\",\"Electronics\",\"Computers&Accessories\",\"Computers&Accessories\",\"Electronics\",\"Electronics\",\"Computers&Accessories\",\"Computers&Accessories\",\"Electronics\",\"Electronics\",\"Electronics\",\"Computers&Accessories\",\"Electronics\",\"Computers&Accessories\",\"Electronics\",\"Electronics\",\"Electronics\",\"Electronics\",\"Electronics\",\"Computers&Accessories\",\"Computers&Accessories\",\"Electronics\",\"Electronics\",\"Electronics\",\"Electronics\",\"Computers&Accessories\",\"Electronics\",\"Electronics\",\"Electronics\",\"Electronics\",\"Electronics\",\"Electronics\",\"Electronics\",\"Electronics\",\"Electronics\",\"Electronics\",\"Computers&Accessories\",\"Electronics\",\"Electronics\",\"Electronics\",\"Electronics\",\"Electronics\",\"Electronics\",\"Electronics\",\"Electronics\",\"Electronics\",\"Computers&Accessories\",\"Electronics\",\"Electronics\",\"Electronics\",\"Electronics\",\"Computers&Accessories\",\"Electronics\",\"Electronics\",\"Electronics\",\"Electronics\",\"Computers&Accessories\",\"Electronics\",\"Electronics\",\"Electronics\",\"Electronics\",\"Electronics\",\"Electronics\",\"Electronics\",\"Electronics\",\"Electronics\",\"Electronics\",\"Electronics\",\"Electronics\",\"Electronics\",\"Computers&Accessories\",\"Electronics\",\"Electronics\",\"Electronics\",\"Electronics\",\"Electronics\",\"Electronics\",\"Electronics\",\"Electronics\",\"Computers&Accessories\",\"Electronics\",\"Electronics\",\"Electronics\",\"Electronics\",\"Electronics\",\"Electronics\",\"Electronics\",\"Electronics\",\"Electronics\",\"Electronics\",\"Computers&Accessories\",\"Computers&Accessories\",\"Computers&Accessories\",\"Electronics\",\"Computers&Accessories\",\"Electronics\",\"Computers&Accessories\",\"Computers&Accessories\",\"Computers&Accessories\",\"OfficeProducts\",\"Home&Kitchen\",\"Electronics\",\"Computers&Accessories\",\"Computers&Accessories\",\"Computers&Accessories\",\"Electronics\",\"Electronics\",\"OfficeProducts\",\"Electronics\",\"Computers&Accessories\",\"Computers&Accessories\",\"Electronics\",\"Computers&Accessories\",\"Computers&Accessories\",\"Home&Kitchen\",\"Computers&Accessories\",\"Electronics\",\"OfficeProducts\",\"Electronics\",\"Computers&Accessories\",\"Computers&Accessories\",\"Computers&Accessories\",\"Computers&Accessories\",\"Electronics\",\"Electronics\",\"Computers&Accessories\",\"Computers&Accessories\",\"Computers&Accessories\",\"Computers&Accessories\",\"Computers&Accessories\",\"Computers&Accessories\",\"OfficeProducts\",\"Computers&Accessories\",\"Electronics\",\"Computers&Accessories\",\"Computers&Accessories\",\"Electronics\",\"Electronics\",\"OfficeProducts\",\"Electronics\",\"Electronics\",\"Computers&Accessories\",\"Computers&Accessories\",\"Electronics\",\"Computers&Accessories\",\"OfficeProducts\",\"Electronics\",\"Computers&Accessories\",\"Computers&Accessories\",\"Computers&Accessories\",\"Computers&Accessories\",\"OfficeProducts\",\"Computers&Accessories\",\"Computers&Accessories\",\"Computers&Accessories\",\"Electronics\",\"Computers&Accessories\",\"Computers&Accessories\",\"Electronics\",\"Electronics\",\"Computers&Accessories\",\"OfficeProducts\",\"Computers&Accessories\",\"Computers&Accessories\",\"OfficeProducts\",\"Computers&Accessories\",\"OfficeProducts\",\"Computers&Accessories\",\"Computers&Accessories\",\"Computers&Accessories\",\"Computers&Accessories\",\"Electronics\",\"OfficeProducts\",\"Computers&Accessories\",\"Electronics\",\"Computers&Accessories\",\"Computers&Accessories\",\"Computers&Accessories\",\"Electronics\",\"Computers&Accessories\",\"Electronics\",\"OfficeProducts\",\"Computers&Accessories\",\"Computers&Accessories\",\"Computers&Accessories\",\"Computers&Accessories\",\"Computers&Accessories\",\"Computers&Accessories\",\"Computers&Accessories\",\"Computers&Accessories\",\"Electronics\",\"Computers&Accessories\",\"OfficeProducts\",\"OfficeProducts\",\"Computers&Accessories\",\"Electronics\",\"Computers&Accessories\",\"Electronics\",\"Computers&Accessories\",\"Computers&Accessories\",\"Computers&Accessories\",\"Computers&Accessories\",\"Computers&Accessories\",\"OfficeProducts\",\"Computers&Accessories\",\"Computers&Accessories\",\"Computers&Accessories\",\"Electronics\",\"Computers&Accessories\",\"Electronics\",\"Computers&Accessories\",\"Computers&Accessories\",\"Computers&Accessories\",\"Computers&Accessories\",\"Computers&Accessories\",\"Computers&Accessories\",\"Computers&Accessories\",\"OfficeProducts\",\"OfficeProducts\",\"Computers&Accessories\",\"Home&Kitchen\",\"Computers&Accessories\",\"Computers&Accessories\",\"OfficeProducts\",\"Electronics\",\"Electronics\",\"Computers&Accessories\",\"Computers&Accessories\",\"Electronics\",\"OfficeProducts\",\"Computers&Accessories\",\"Computers&Accessories\",\"Electronics\",\"Computers&Accessories\",\"Computers&Accessories\",\"Computers&Accessories\",\"OfficeProducts\",\"Electronics\",\"Computers&Accessories\",\"Computers&Accessories\",\"Computers&Accessories\",\"Computers&Accessories\",\"Home&Kitchen\",\"Computers&Accessories\",\"Computers&Accessories\",\"Electronics\",\"OfficeProducts\",\"Home&Kitchen\",\"Electronics\",\"Computers&Accessories\",\"Electronics\",\"Computers&Accessories\",\"Electronics\",\"Home&Kitchen\",\"Computers&Accessories\",\"Computers&Accessories\",\"Computers&Accessories\",\"Computers&Accessories\",\"Electronics\",\"Computers&Accessories\",\"OfficeProducts\",\"Computers&Accessories\",\"Computers&Accessories\",\"Toys&Games\",\"Computers&Accessories\",\"Computers&Accessories\",\"Computers&Accessories\",\"Computers&Accessories\",\"Computers&Accessories\",\"Computers&Accessories\",\"Electronics\",\"Computers&Accessories\",\"Computers&Accessories\",\"Computers&Accessories\",\"Computers&Accessories\",\"Computers&Accessories\",\"Computers&Accessories\",\"OfficeProducts\",\"Electronics\",\"OfficeProducts\",\"Computers&Accessories\",\"OfficeProducts\",\"Computers&Accessories\",\"OfficeProducts\",\"Electronics\",\"Electronics\",\"Computers&Accessories\",\"Computers&Accessories\",\"Computers&Accessories\",\"OfficeProducts\",\"Computers&Accessories\",\"Electronics\",\"Computers&Accessories\",\"Computers&Accessories\",\"Computers&Accessories\",\"Electronics\",\"Computers&Accessories\",\"Computers&Accessories\",\"Computers&Accessories\",\"Computers&Accessories\",\"Computers&Accessories\",\"OfficeProducts\",\"Computers&Accessories\",\"Computers&Accessories\",\"Computers&Accessories\",\"Computers&Accessories\",\"Electronics\",\"Computers&Accessories\",\"OfficeProducts\",\"Computers&Accessories\",\"OfficeProducts\",\"OfficeProducts\",\"Computers&Accessories\",\"Computers&Accessories\",\"Electronics\",\"Computers&Accessories\",\"Electronics\",\"Home&Kitchen\",\"Home&Kitchen\",\"Home&Kitchen\",\"Home&Kitchen\",\"Home&Kitchen\",\"Home&Kitchen\",\"Home&Kitchen\",\"Home&Kitchen\",\"Home&Kitchen\",\"Home&Kitchen\",\"Home&Kitchen\",\"Home&Kitchen\",\"Home&Kitchen\",\"Home&Kitchen\",\"Home&Kitchen\",\"Home&Kitchen\",\"Home&Kitchen\",\"Home&Kitchen\",\"Home&Kitchen\",\"Home&Kitchen\",\"Home&Kitchen\",\"Home&Kitchen\",\"Home&Kitchen\",\"Home&Kitchen\",\"Home&Kitchen\",\"Home&Kitchen\",\"Home&Kitchen\",\"Home&Kitchen\",\"Home&Kitchen\",\"Home&Kitchen\",\"Home&Kitchen\",\"Home&Kitchen\",\"Home&Kitchen\",\"Home&Kitchen\",\"Home&Kitchen\",\"Home&Kitchen\",\"Home&Kitchen\",\"Home&Kitchen\",\"Home&Kitchen\",\"Home&Kitchen\",\"Home&Kitchen\",\"Home&Kitchen\",\"Home&Kitchen\",\"Home&Kitchen\",\"Home&Kitchen\",\"Home&Kitchen\",\"Home&Kitchen\",\"Home&Kitchen\",\"Home&Kitchen\",\"Home&Kitchen\",\"Home&Kitchen\",\"Home&Kitchen\",\"Home&Kitchen\",\"Home&Kitchen\",\"Home&Kitchen\",\"Home&Kitchen\",\"Home&Kitchen\",\"Home&Kitchen\",\"Home&Kitchen\",\"Home&Kitchen\",\"Home&Kitchen\",\"Home&Kitchen\",\"Home&Kitchen\",\"Home&Kitchen\",\"Home&Kitchen\",\"Home&Kitchen\",\"Home&Kitchen\",\"Home&Kitchen\",\"Home&Kitchen\",\"Home&Kitchen\",\"Home&Kitchen\",\"Home&Kitchen\",\"Home&Kitchen\",\"Home&Kitchen\",\"Home&Kitchen\",\"Home&Kitchen\",\"Home&Kitchen\",\"Home&Kitchen\",\"Home&Kitchen\",\"Home&Kitchen\",\"Home&Kitchen\",\"Home&Kitchen\",\"Home&Kitchen\",\"Home&Kitchen\",\"Home&Kitchen\",\"Home&Kitchen\",\"Home&Kitchen\",\"Home&Kitchen\",\"Home&Kitchen\",\"Home&Kitchen\",\"Home&Kitchen\",\"Home&Kitchen\",\"Home&Kitchen\",\"Home&Kitchen\",\"Home&Kitchen\",\"Home&Kitchen\",\"Home&Kitchen\",\"Home&Kitchen\",\"Home&Kitchen\",\"Home&Kitchen\",\"Home&Kitchen\",\"Home&Kitchen\",\"Home&Kitchen\",\"Home&Kitchen\",\"Home&Kitchen\",\"Home&Kitchen\",\"Car&Motorbike\",\"Home&Kitchen\",\"Home&Kitchen\",\"Home&Kitchen\",\"Home&Kitchen\",\"Home&Kitchen\",\"Home&Kitchen\",\"Home&Kitchen\",\"Home&Kitchen\",\"Home&Kitchen\",\"Home&Kitchen\",\"Home&Kitchen\",\"Home&Kitchen\",\"Home&Kitchen\",\"Home&Kitchen\",\"Home&Kitchen\",\"Home&Kitchen\",\"Home&Kitchen\",\"Home&Kitchen\",\"Home&Kitchen\",\"Home&Kitchen\",\"Home&Kitchen\",\"Home&Kitchen\",\"Home&Kitchen\",\"Home&Kitchen\",\"Home&Kitchen\",\"Home&Kitchen\",\"Home&Kitchen\",\"Home&Kitchen\",\"Home&Kitchen\",\"Home&Kitchen\",\"Home&Kitchen\",\"Home&Kitchen\",\"Home&Kitchen\",\"Home&Kitchen\",\"Home&Kitchen\",\"Home&Kitchen\",\"Home&Kitchen\",\"Home&Kitchen\",\"Home&Kitchen\",\"Home&Kitchen\",\"Home&Kitchen\",\"Home&Kitchen\",\"Home&Kitchen\",\"Home&Kitchen\",\"Home&Kitchen\",\"Home&Kitchen\",\"Home&Kitchen\",\"Home&Kitchen\",\"Home&Kitchen\",\"Home&Kitchen\",\"Home&Kitchen\",\"Home&Kitchen\",\"Home&Kitchen\",\"Home&Kitchen\",\"Home&Kitchen\",\"Home&Kitchen\",\"Home&Kitchen\",\"Home&Kitchen\",\"Home&Kitchen\",\"Home&Kitchen\",\"Home&Kitchen\",\"Home&Kitchen\",\"Home&Kitchen\",\"Home&Kitchen\",\"Home&Kitchen\",\"Home&Kitchen\",\"Home&Kitchen\",\"Home&Kitchen\",\"Home&Kitchen\",\"Home&Kitchen\",\"Health&PersonalCare\",\"Home&Kitchen\",\"Home&Kitchen\",\"Home&Kitchen\",\"Home&Kitchen\",\"Home&Kitchen\",\"Home&Kitchen\",\"Home&Kitchen\",\"Home&Kitchen\",\"Home&Kitchen\",\"Home&Kitchen\",\"Home&Kitchen\",\"Home&Kitchen\",\"Home&Kitchen\",\"Home&Kitchen\",\"Home&Kitchen\",\"Home&Kitchen\",\"Home&Kitchen\",\"Home&Kitchen\",\"Home&Kitchen\",\"Home&Kitchen\",\"Home&Kitchen\",\"Home&Kitchen\",\"Home&Kitchen\",\"Home&Kitchen\",\"Home&Kitchen\",\"Home&Kitchen\",\"Home&Kitchen\",\"Home&Kitchen\",\"Home&Kitchen\",\"Home&Kitchen\",\"Home&Kitchen\",\"Home&Kitchen\",\"Home&Kitchen\",\"Home&Kitchen\",\"Home&Kitchen\",\"Home&Kitchen\",\"Home&Kitchen\",\"Home&Kitchen\",\"Home&Kitchen\",\"Home&Kitchen\",\"Home&Kitchen\",\"Home&Kitchen\",\"Home&Kitchen\",\"Home&Kitchen\",\"Home&Kitchen\",\"Home&Kitchen\",\"Home&Kitchen\",\"Home&Kitchen\",\"Home&Kitchen\",\"Home&Kitchen\",\"Home&Kitchen\",\"Home&Kitchen\",\"Home&Kitchen\",\"Home&Kitchen\",\"Home&Kitchen\",\"Home&Kitchen\",\"Home&Kitchen\",\"Home&Kitchen\",\"Home&Kitchen\",\"Home&Kitchen\",\"Home&Kitchen\",\"Home&Kitchen\",\"Home&Kitchen\",\"Home&Kitchen\",\"Home&Kitchen\",\"Home&Kitchen\",\"Home&Kitchen\",\"Home&Kitchen\",\"Home&Kitchen\",\"Home&Kitchen\",\"Home&Kitchen\",\"Home&Kitchen\",\"Home&Kitchen\",\"Home&Kitchen\",\"Home&Kitchen\",\"Home&Kitchen\",\"Home&Kitchen\",\"Home&Kitchen\",\"Home&Kitchen\",\"Home&Kitchen\",\"Home&Kitchen\",\"Home&Kitchen\",\"Home&Kitchen\",\"Home&Kitchen\",\"Home&Kitchen\",\"Home&Kitchen\",\"Home&Kitchen\",\"Home&Kitchen\",\"Home&Kitchen\",\"Home&Kitchen\",\"Home&Kitchen\",\"Home&Kitchen\",\"Home&Kitchen\",\"Home&Kitchen\",\"Home&Kitchen\",\"Home&Kitchen\",\"Home&Kitchen\",\"Home&Kitchen\",\"Home&Kitchen\",\"Home&Kitchen\",\"Home&Kitchen\",\"Home&Kitchen\",\"Home&Kitchen\",\"Home&Kitchen\",\"Home&Kitchen\",\"Home&Kitchen\",\"Home&Kitchen\",\"Home&Kitchen\",\"Home&Kitchen\",\"Home&Kitchen\",\"Home&Kitchen\",\"Home&Kitchen\",\"Home&Kitchen\",\"Home&Kitchen\",\"Home&Kitchen\",\"Home&Kitchen\",\"Home&Kitchen\",\"Home&Kitchen\",\"Home&Kitchen\",\"Home&Kitchen\",\"Home&Kitchen\",\"Home&Kitchen\",\"Home&Kitchen\",\"Home&Kitchen\",\"Home&Kitchen\",\"Home&Kitchen\",\"Home&Kitchen\",\"Home&Kitchen\",\"Home&Kitchen\",\"Home&Kitchen\",\"Home&Kitchen\",\"Home&Kitchen\",\"Home&Kitchen\",\"Home&Kitchen\",\"Home&Kitchen\",\"Home&Kitchen\",\"Home&Kitchen\",\"Home&Kitchen\",\"Home&Kitchen\",\"Home&Kitchen\",\"Home&Kitchen\",\"Home&Kitchen\",\"Home&Kitchen\",\"Home&Kitchen\",\"Home&Kitchen\",\"Home&Kitchen\",\"Home&Kitchen\",\"Home&Kitchen\",\"Home&Kitchen\",\"Home&Kitchen\",\"Home&Kitchen\",\"Home&Kitchen\",\"Home&Kitchen\",\"Home&Kitchen\",\"Home&Kitchen\",\"Home&Kitchen\",\"Home&Kitchen\",\"Home&Kitchen\",\"Home&Kitchen\",\"Home&Kitchen\",\"Home&Kitchen\",\"Home&Kitchen\",\"Home&Kitchen\",\"Home&Kitchen\",\"Home&Kitchen\",\"Home&Kitchen\",\"Home&Kitchen\",\"Home&Kitchen\",\"Home&Kitchen\"],\"x0\":\" \",\"xaxis\":\"x\",\"y\":[399.0,199.0,154.0,149.0,176.63,229.0,154.0,350.0,159.0,349.0,199.0,970.0,279.0,59.0,199.0,299.0,970.0,299.0,179.0,389.0,599.0,199.0,99.0,899.0,199.0,970.0,399.0,999.0,59.0,333.0,507.0,399.0,1199.0,799.0,199.0,230.0,348.0,154.0,179.0,139.0,329.0,263.0,1599.0,219.0,349.0,349.0,115.0,399.0,199.0,179.0,209.0,1434.0,399.0,139.0,299.0,325.0,199.0,649.0,269.0,199.0,290.0,249.0,345.0,1099.0,719.0,349.0,849.0,299.0,349.0,399.0,449.0,299.0,99.0,273.1,399.0,399.0,210.0,1299.0,347.0,149.0,228.0,1599.0,1499.0,799.0,229.0,349.0,399.0,349.0,179.0,249.0,999.0,399.0,349.0,399.0,1699.0,195.0,999.0,499.0,416.0,368.0,339.0,499.0,249.0,399.0,1499.0,637.0,399.0,1089.0,339.0,149.0,149.0,599.0,299.0,399.0,339.0,249.0,1399.0,149.0,325.0,199.0,88.0,399.0,57.89,799.0,205.0,299.0,849.0,949.0,499.0,299.0,949.0,379.0,486.0,299.0,320.0,139.0,129.0,999.0,225.0,547.0,259.0,239.0,349.0,449.0,350.0,252.0,204.0,235.0,799.0,299.0,173.0,209.0,848.99,649.0,299.0,399.0,249.0,1249.0,213.0,209.0,598.0,799.0,159.0,499.0,299.0,128.31,599.0,399.0,449.0,254.0,399.0,179.0,339.0,399.0,199.0,349.0,299.0,89.0,549.0,129.0,349.0,499.0,299.0,182.0,96.0,439.0,299.0,789.0,299.0,325.0,1299.0,199.0,2299.0,349.0,719.0,917.0,399.0,119.0,299.0,417.44,215.0,99.0,249.0,649.0,1289.0,609.0,599.0,349.0,199.0,349.0,1850.0,129.0,379.0,185.0,218.0,199.0,499.0,893.0,379.0,699.0,2699.0,129.0,389.0,246.0,299.0,247.0,1369.0,199.0,299.0,299.0,349.0,197.0,1299.0,1519.0,299.0,349.0,1499.0,1219.0,399.0,139.0,199.0,873.0,539.0,1075.0,399.0,529.0,149.0,99.0,299.0,199.0,999.0,1799.0,176.63,649.0,119.0,249.0,99.0,489.0,369.0,134.0,999.0,999.0,999.0,350.0,1399.0,999.0,2099.0,337.0,499.0,999.0,251.0,279.0,269.0,59.0,349.0,349.0,499.0,95.0,139.0,89.0,599.0,199.0,329.0,99.0,1399.0,249.0,299.0,79.0,949.0,99.0,689.0,499.0,299.0,209.0,2179.0,2599.0,799.0,149.0,3799.0,199.0,299.0,1599.0,699.0,99.0,1055.0,150.0,219.0,474.0,239.0,1799.0,219.0,599.0,2499.0,89.0,314.0,139.0,2599.0,217.0,263.0,349.0,149.0,99.0,349.0,299.0,549.0,299.0,50.0,130.0,399.0,1399.0,299.0,699.0,799.0,1399.0,1295.0,399.0,717.0,39.0,1199.0,569.0,399.0,191.0,129.0,999.0,522.0,799.0,681.0,100.0,329.0,139.0,1199.0,1049.0,656.0,169.0,309.0,299.0,449.0,799.0,157.0,599.0,1598.0,294.0,828.0,745.0,1549.0,198.0,549.0,1299.0,59.0,448.0,299.0,279.0,137.0,1799.0,399.0,1699.0,1495.0,849.0,440.0,599.0,149.0,289.0,399.0,599.0,949.0,1329.0,899.0,449.0,100.0,299.0,1295.0,252.0,1299.0,480.0,999.0,238.0,1349.0,199.0,99.0,125.0,399.0,1199.0,235.0,549.0,89.0,1299.0,230.0,1699.0,561.0,289.0,599.0,1990.0,449.0,999.0,69.0,899.0,149.0,999.0,378.0,99.0,67.0,1889.0,499.0,499.0,499.0,249.0,179.0,299.0,629.0,2595.0,90.0,599.0,179.0,1345.0,349.0,287.0,199.0,199.0,149.0,469.0,849.0,328.0,269.0,549.0,114.0,120.0,1490.0,99.0,149.0,575.0,178.0,1599.0,499.0,199.0,1439.0,1099.0,157.0,115.0,175.0,1999.0,299.0,3303.0,1890.0,90.0,1599.0,599.0,425.0,549.0,1295.0,310.0,1149.0,499.0,999.0,250.0,90.0,2025.0,1495.0,899.0,349.0,2490.0,200.0,1249.0,649.0,2649.0,596.0,649.0,1234.0,272.0,3498.0,449.0,150.0,699.0,354.0,1199.0,379.0,649.0,1199.0,889.0,1409.0,549.0,749.0,379.0,299.0,379.0,1399.0,699.0,300.0,999.0,535.0,269.0,341.0,699.0,326.0,1995.0,2640.0,1990.0,165.0,1699.0,2299.0,39.0,398.0,770.0,279.0,599.0,598.0,399.0,499.0,579.0,90.0,899.0,1149.0,249.0,39.0,1199.0,1099.0,120.0,1519.0,420.0,225.0,199.0,499.0,799.0,298.0,1499.0,1199.0,1199.0,455.0,199.0,749.0,1399.0,1043.0,499.0,1464.0,249.0,625.0,1290.0,3600.0,1625.0,2599.0,1199.0,599.0,549.0,999.0,398.0,699.0,2148.0,3599.0,351.0,719.0,678.0,809.0,1969.0,1490.0,2499.0,1665.0,1799.0,1260.0,749.0,3499.0,379.0,1099.0,749.0,549.0,899.0,1321.0,1099.0,3190.0,799.0,2699.0,599.0,1819.0,1199.0,3249.0,349.0,799.0,799.0,89.0,1400.0,355.0,2169.0,2799.0,899.0,3599.0,499.0,653.0,1409.0,753.0,353.0,1099.0,1345.0,2095.0,1498.0,2199.0,3699.0,177.0,1149.0,244.0,1959.0,319.0,1499.0,469.0,1099.0,999.0,1299.0,292.0,160.0,600.0,1130.0,368.0,3199.0,1599.0,1999.0,1499.0,199.0,610.0,999.0,453.0,2464.0,2719.0,2799.0,2088.0,2399.0,308.0,2599.0,479.0,245.0,179.0,3569.0,699.0,2089.0,2339.0,784.0,899.0,1695.0,499.0,2699.0,1448.0,79.0,2698.0,3199.0,1199.0,1414.0,999.0,698.0,2199.0,320.0,298.0,1199.0,1399.0,599.0,1499.0,1699.0,649.0,3249.0,199.0,1099.0,664.0,260.0,1484.0,999.0,3299.0,259.0,3249.0,4280.0,189.0,1449.0,199.0,474.0,279.0,1999.0,799.0,949.0,3657.66,1699.0,1849.0,1099.0,499.0,1595.0,1049.0,1182.0,499.0,1529.0,1199.0,1052.0,239.0,699.0,1547.0,499.0,510.0,1899.0,2599.0,1199.0,999.0,1999.0,210.0,950.0,2439.0,1599.0,2899.0,3299.0,351.0,899.0,1349.0,2742.0,2903.0,1656.0,1399.0,2079.0,999.0,3179.0,1049.0,3599.0,1699.0,664.0,948.0,850.0,600.0,3711.0,799.0,980.0,351.0,229.0,3349.0,299.0,699.0,1235.0,1349.0,1699.0,1069.0,1349.0,1499.0,2092.0,1804.0,1189.0,2590.0,899.0,998.0,998.06,1099.0,475.0,949.0,395.0,635.0,717.0,649.0,193.0,2449.0,1049.0,2399.0,2286.0,299.0,559.0,660.0,419.0,2899.0,1799.0,1474.0,3645.0,375.0,2976.0,1099.0,2575.0,1649.0,799.0,765.0,999.0,587.0,699.0,3799.0,640.0,979.0,3199.0,979.0,929.0,3710.0,2033.0,949.0,2790.0,645.0,2237.81,825.0,697.0,688.0,2199.0,2699.0,899.0,1090.0,295.0,479.0,2949.0,335.0,293.0,599.0,499.0,849.0,249.0,185.0,778.0,279.0,215.0,889.0,1449.0,1190.0,1799.0,1799.0,2199.0,3685.0,649.0,1110.0,1499.0,759.0,2669.0,929.0,199.0,279.0,549.0,85.0,499.0,1260.0,1099.0,1928.0,3249.0,1199.0,1456.0,3349.0,1199.0,179.0,149.0,379.0,3041.67,1745.0,3180.0,390.0,1999.0,1624.0,184.0,445.0,699.0,1601.0,231.0,369.0,809.0,1199.0,1799.0,1999.0,2599.0,1199.0,219.0,799.0,1982.84,199.0,1180.0,2199.0,2999.0,253.0,1149.0,457.0,229.0,899.0,1499.0,426.0,2320.0,1563.0,3487.77,2695.0,949.0,379.0,2280.0,2219.0,1399.0,2863.0],\"y0\":\" \",\"yaxis\":\"y\",\"type\":\"box\"}],                        {\"template\":{\"data\":{\"histogram2dcontour\":[{\"type\":\"histogram2dcontour\",\"colorbar\":{\"outlinewidth\":0,\"ticks\":\"\"},\"colorscale\":[[0.0,\"#0d0887\"],[0.1111111111111111,\"#46039f\"],[0.2222222222222222,\"#7201a8\"],[0.3333333333333333,\"#9c179e\"],[0.4444444444444444,\"#bd3786\"],[0.5555555555555556,\"#d8576b\"],[0.6666666666666666,\"#ed7953\"],[0.7777777777777778,\"#fb9f3a\"],[0.8888888888888888,\"#fdca26\"],[1.0,\"#f0f921\"]]}],\"choropleth\":[{\"type\":\"choropleth\",\"colorbar\":{\"outlinewidth\":0,\"ticks\":\"\"}}],\"histogram2d\":[{\"type\":\"histogram2d\",\"colorbar\":{\"outlinewidth\":0,\"ticks\":\"\"},\"colorscale\":[[0.0,\"#0d0887\"],[0.1111111111111111,\"#46039f\"],[0.2222222222222222,\"#7201a8\"],[0.3333333333333333,\"#9c179e\"],[0.4444444444444444,\"#bd3786\"],[0.5555555555555556,\"#d8576b\"],[0.6666666666666666,\"#ed7953\"],[0.7777777777777778,\"#fb9f3a\"],[0.8888888888888888,\"#fdca26\"],[1.0,\"#f0f921\"]]}],\"heatmap\":[{\"type\":\"heatmap\",\"colorbar\":{\"outlinewidth\":0,\"ticks\":\"\"},\"colorscale\":[[0.0,\"#0d0887\"],[0.1111111111111111,\"#46039f\"],[0.2222222222222222,\"#7201a8\"],[0.3333333333333333,\"#9c179e\"],[0.4444444444444444,\"#bd3786\"],[0.5555555555555556,\"#d8576b\"],[0.6666666666666666,\"#ed7953\"],[0.7777777777777778,\"#fb9f3a\"],[0.8888888888888888,\"#fdca26\"],[1.0,\"#f0f921\"]]}],\"heatmapgl\":[{\"type\":\"heatmapgl\",\"colorbar\":{\"outlinewidth\":0,\"ticks\":\"\"},\"colorscale\":[[0.0,\"#0d0887\"],[0.1111111111111111,\"#46039f\"],[0.2222222222222222,\"#7201a8\"],[0.3333333333333333,\"#9c179e\"],[0.4444444444444444,\"#bd3786\"],[0.5555555555555556,\"#d8576b\"],[0.6666666666666666,\"#ed7953\"],[0.7777777777777778,\"#fb9f3a\"],[0.8888888888888888,\"#fdca26\"],[1.0,\"#f0f921\"]]}],\"contourcarpet\":[{\"type\":\"contourcarpet\",\"colorbar\":{\"outlinewidth\":0,\"ticks\":\"\"}}],\"contour\":[{\"type\":\"contour\",\"colorbar\":{\"outlinewidth\":0,\"ticks\":\"\"},\"colorscale\":[[0.0,\"#0d0887\"],[0.1111111111111111,\"#46039f\"],[0.2222222222222222,\"#7201a8\"],[0.3333333333333333,\"#9c179e\"],[0.4444444444444444,\"#bd3786\"],[0.5555555555555556,\"#d8576b\"],[0.6666666666666666,\"#ed7953\"],[0.7777777777777778,\"#fb9f3a\"],[0.8888888888888888,\"#fdca26\"],[1.0,\"#f0f921\"]]}],\"surface\":[{\"type\":\"surface\",\"colorbar\":{\"outlinewidth\":0,\"ticks\":\"\"},\"colorscale\":[[0.0,\"#0d0887\"],[0.1111111111111111,\"#46039f\"],[0.2222222222222222,\"#7201a8\"],[0.3333333333333333,\"#9c179e\"],[0.4444444444444444,\"#bd3786\"],[0.5555555555555556,\"#d8576b\"],[0.6666666666666666,\"#ed7953\"],[0.7777777777777778,\"#fb9f3a\"],[0.8888888888888888,\"#fdca26\"],[1.0,\"#f0f921\"]]}],\"mesh3d\":[{\"type\":\"mesh3d\",\"colorbar\":{\"outlinewidth\":0,\"ticks\":\"\"}}],\"scatter\":[{\"fillpattern\":{\"fillmode\":\"overlay\",\"size\":10,\"solidity\":0.2},\"type\":\"scatter\"}],\"parcoords\":[{\"type\":\"parcoords\",\"line\":{\"colorbar\":{\"outlinewidth\":0,\"ticks\":\"\"}}}],\"scatterpolargl\":[{\"type\":\"scatterpolargl\",\"marker\":{\"colorbar\":{\"outlinewidth\":0,\"ticks\":\"\"}}}],\"bar\":[{\"error_x\":{\"color\":\"#2a3f5f\"},\"error_y\":{\"color\":\"#2a3f5f\"},\"marker\":{\"line\":{\"color\":\"#E5ECF6\",\"width\":0.5},\"pattern\":{\"fillmode\":\"overlay\",\"size\":10,\"solidity\":0.2}},\"type\":\"bar\"}],\"scattergeo\":[{\"type\":\"scattergeo\",\"marker\":{\"colorbar\":{\"outlinewidth\":0,\"ticks\":\"\"}}}],\"scatterpolar\":[{\"type\":\"scatterpolar\",\"marker\":{\"colorbar\":{\"outlinewidth\":0,\"ticks\":\"\"}}}],\"histogram\":[{\"marker\":{\"pattern\":{\"fillmode\":\"overlay\",\"size\":10,\"solidity\":0.2}},\"type\":\"histogram\"}],\"scattergl\":[{\"type\":\"scattergl\",\"marker\":{\"colorbar\":{\"outlinewidth\":0,\"ticks\":\"\"}}}],\"scatter3d\":[{\"type\":\"scatter3d\",\"line\":{\"colorbar\":{\"outlinewidth\":0,\"ticks\":\"\"}},\"marker\":{\"colorbar\":{\"outlinewidth\":0,\"ticks\":\"\"}}}],\"scattermapbox\":[{\"type\":\"scattermapbox\",\"marker\":{\"colorbar\":{\"outlinewidth\":0,\"ticks\":\"\"}}}],\"scatterternary\":[{\"type\":\"scatterternary\",\"marker\":{\"colorbar\":{\"outlinewidth\":0,\"ticks\":\"\"}}}],\"scattercarpet\":[{\"type\":\"scattercarpet\",\"marker\":{\"colorbar\":{\"outlinewidth\":0,\"ticks\":\"\"}}}],\"carpet\":[{\"aaxis\":{\"endlinecolor\":\"#2a3f5f\",\"gridcolor\":\"white\",\"linecolor\":\"white\",\"minorgridcolor\":\"white\",\"startlinecolor\":\"#2a3f5f\"},\"baxis\":{\"endlinecolor\":\"#2a3f5f\",\"gridcolor\":\"white\",\"linecolor\":\"white\",\"minorgridcolor\":\"white\",\"startlinecolor\":\"#2a3f5f\"},\"type\":\"carpet\"}],\"table\":[{\"cells\":{\"fill\":{\"color\":\"#EBF0F8\"},\"line\":{\"color\":\"white\"}},\"header\":{\"fill\":{\"color\":\"#C8D4E3\"},\"line\":{\"color\":\"white\"}},\"type\":\"table\"}],\"barpolar\":[{\"marker\":{\"line\":{\"color\":\"#E5ECF6\",\"width\":0.5},\"pattern\":{\"fillmode\":\"overlay\",\"size\":10,\"solidity\":0.2}},\"type\":\"barpolar\"}],\"pie\":[{\"automargin\":true,\"type\":\"pie\"}]},\"layout\":{\"autotypenumbers\":\"strict\",\"colorway\":[\"#636efa\",\"#EF553B\",\"#00cc96\",\"#ab63fa\",\"#FFA15A\",\"#19d3f3\",\"#FF6692\",\"#B6E880\",\"#FF97FF\",\"#FECB52\"],\"font\":{\"color\":\"#2a3f5f\"},\"hovermode\":\"closest\",\"hoverlabel\":{\"align\":\"left\"},\"paper_bgcolor\":\"white\",\"plot_bgcolor\":\"#E5ECF6\",\"polar\":{\"bgcolor\":\"#E5ECF6\",\"angularaxis\":{\"gridcolor\":\"white\",\"linecolor\":\"white\",\"ticks\":\"\"},\"radialaxis\":{\"gridcolor\":\"white\",\"linecolor\":\"white\",\"ticks\":\"\"}},\"ternary\":{\"bgcolor\":\"#E5ECF6\",\"aaxis\":{\"gridcolor\":\"white\",\"linecolor\":\"white\",\"ticks\":\"\"},\"baxis\":{\"gridcolor\":\"white\",\"linecolor\":\"white\",\"ticks\":\"\"},\"caxis\":{\"gridcolor\":\"white\",\"linecolor\":\"white\",\"ticks\":\"\"}},\"coloraxis\":{\"colorbar\":{\"outlinewidth\":0,\"ticks\":\"\"}},\"colorscale\":{\"sequential\":[[0.0,\"#0d0887\"],[0.1111111111111111,\"#46039f\"],[0.2222222222222222,\"#7201a8\"],[0.3333333333333333,\"#9c179e\"],[0.4444444444444444,\"#bd3786\"],[0.5555555555555556,\"#d8576b\"],[0.6666666666666666,\"#ed7953\"],[0.7777777777777778,\"#fb9f3a\"],[0.8888888888888888,\"#fdca26\"],[1.0,\"#f0f921\"]],\"sequentialminus\":[[0.0,\"#0d0887\"],[0.1111111111111111,\"#46039f\"],[0.2222222222222222,\"#7201a8\"],[0.3333333333333333,\"#9c179e\"],[0.4444444444444444,\"#bd3786\"],[0.5555555555555556,\"#d8576b\"],[0.6666666666666666,\"#ed7953\"],[0.7777777777777778,\"#fb9f3a\"],[0.8888888888888888,\"#fdca26\"],[1.0,\"#f0f921\"]],\"diverging\":[[0,\"#8e0152\"],[0.1,\"#c51b7d\"],[0.2,\"#de77ae\"],[0.3,\"#f1b6da\"],[0.4,\"#fde0ef\"],[0.5,\"#f7f7f7\"],[0.6,\"#e6f5d0\"],[0.7,\"#b8e186\"],[0.8,\"#7fbc41\"],[0.9,\"#4d9221\"],[1,\"#276419\"]]},\"xaxis\":{\"gridcolor\":\"white\",\"linecolor\":\"white\",\"ticks\":\"\",\"title\":{\"standoff\":15},\"zerolinecolor\":\"white\",\"automargin\":true,\"zerolinewidth\":2},\"yaxis\":{\"gridcolor\":\"white\",\"linecolor\":\"white\",\"ticks\":\"\",\"title\":{\"standoff\":15},\"zerolinecolor\":\"white\",\"automargin\":true,\"zerolinewidth\":2},\"scene\":{\"xaxis\":{\"backgroundcolor\":\"#E5ECF6\",\"gridcolor\":\"white\",\"linecolor\":\"white\",\"showbackground\":true,\"ticks\":\"\",\"zerolinecolor\":\"white\",\"gridwidth\":2},\"yaxis\":{\"backgroundcolor\":\"#E5ECF6\",\"gridcolor\":\"white\",\"linecolor\":\"white\",\"showbackground\":true,\"ticks\":\"\",\"zerolinecolor\":\"white\",\"gridwidth\":2},\"zaxis\":{\"backgroundcolor\":\"#E5ECF6\",\"gridcolor\":\"white\",\"linecolor\":\"white\",\"showbackground\":true,\"ticks\":\"\",\"zerolinecolor\":\"white\",\"gridwidth\":2}},\"shapedefaults\":{\"line\":{\"color\":\"#2a3f5f\"}},\"annotationdefaults\":{\"arrowcolor\":\"#2a3f5f\",\"arrowhead\":0,\"arrowwidth\":1},\"geo\":{\"bgcolor\":\"white\",\"landcolor\":\"#E5ECF6\",\"subunitcolor\":\"white\",\"showland\":true,\"showlakes\":true,\"lakecolor\":\"white\"},\"title\":{\"x\":0.05},\"mapbox\":{\"style\":\"light\"}}},\"xaxis\":{\"anchor\":\"y\",\"domain\":[0.0,1.0],\"title\":{\"text\":\"main category\"}},\"yaxis\":{\"anchor\":\"x\",\"domain\":[0.0,1.0],\"title\":{\"text\":\"discounted_price\"}},\"legend\":{\"tracegroupgap\":0},\"margin\":{\"t\":60},\"boxmode\":\"group\"},                        {\"responsive\": true}                    ).then(function(){\n",
       "                            \n",
       "var gd = document.getElementById('22da064b-9d74-4b17-881f-568dac3a64a0');\n",
       "var x = new MutationObserver(function (mutations, observer) {{\n",
       "        var display = window.getComputedStyle(gd).display;\n",
       "        if (!display || display === 'none') {{\n",
       "            console.log([gd, 'removed!']);\n",
       "            Plotly.purge(gd);\n",
       "            observer.disconnect();\n",
       "        }}\n",
       "}});\n",
       "\n",
       "// Listen for the removal of the full notebook cells\n",
       "var notebookContainer = gd.closest('#notebook-container');\n",
       "if (notebookContainer) {{\n",
       "    x.observe(notebookContainer, {childList: true});\n",
       "}}\n",
       "\n",
       "// Listen for the clearing of the current output cell\n",
       "var outputEl = gd.closest('.output');\n",
       "if (outputEl) {{\n",
       "    x.observe(outputEl, {childList: true});\n",
       "}}\n",
       "\n",
       "                        })                };                });            </script>        </div>"
      ]
     },
     "metadata": {},
     "output_type": "display_data"
    }
   ],
   "source": [
    "px.box(data_frame=df,\n",
    "       x=df['main category'],\n",
    "       y=df['discounted_price'])"
   ]
  },
  {
   "cell_type": "code",
   "execution_count": 97,
   "id": "bb4a5a6e",
   "metadata": {},
   "outputs": [
    {
     "data": {
      "text/plain": [
       "sub category\n",
       "Irons,Steamers&Accessories    4280.0\n",
       "BasicMobiles                  3799.0\n",
       "Vacuums&FloorCare             3799.0\n",
       "ElectricHeaters               3711.0\n",
       "Mills&Grinders                3710.0\n",
       "MixerGrinders                 3699.0\n",
       "Rice&PastaCookers             3685.0\n",
       "InstantWaterHeaters           3645.0\n",
       "DeepFatFryers                 3599.0\n",
       "CeilingFans                   3569.0\n",
       "Name: discounted_price, dtype: float64"
      ]
     },
     "execution_count": 97,
     "metadata": {},
     "output_type": "execute_result"
    }
   ],
   "source": [
    "df['discounted_price'].groupby(df['sub category']).max().nlargest(10)"
   ]
  },
  {
   "cell_type": "markdown",
   "id": "42cbb1fe",
   "metadata": {},
   "source": [
    "###### top 10 sub categories have highest dicounted price"
   ]
  },
  {
   "cell_type": "code",
   "execution_count": 103,
   "id": "45c38795",
   "metadata": {},
   "outputs": [
    {
     "data": {
      "application/vnd.plotly.v1+json": {
       "config": {
        "plotlyServerURL": "https://plot.ly"
       },
       "data": [
        {
         "alignmentgroup": "True",
         "hovertemplate": "variable=discounted_price<br>sub category=%{x}<br>value=%{y}<extra></extra>",
         "legendgroup": "discounted_price",
         "marker": {
          "color": "#636efa",
          "pattern": {
           "shape": ""
          }
         },
         "name": "discounted_price",
         "offsetgroup": "discounted_price",
         "orientation": "v",
         "showlegend": true,
         "textposition": "auto",
         "type": "bar",
         "x": [
          "Irons,Steamers&Accessories",
          "BasicMobiles",
          "Vacuums&FloorCare",
          "ElectricHeaters",
          "Mills&Grinders",
          "MixerGrinders",
          "Rice&PastaCookers",
          "InstantWaterHeaters",
          "DeepFatFryers",
          "CeilingFans"
         ],
         "xaxis": "x",
         "y": [
          4280,
          3799,
          3799,
          3711,
          3710,
          3699,
          3685,
          3645,
          3599,
          3569
         ],
         "yaxis": "y"
        }
       ],
       "layout": {
        "barmode": "relative",
        "legend": {
         "title": {
          "text": "variable"
         },
         "tracegroupgap": 0
        },
        "template": {
         "data": {
          "bar": [
           {
            "error_x": {
             "color": "#2a3f5f"
            },
            "error_y": {
             "color": "#2a3f5f"
            },
            "marker": {
             "line": {
              "color": "#E5ECF6",
              "width": 0.5
             },
             "pattern": {
              "fillmode": "overlay",
              "size": 10,
              "solidity": 0.2
             }
            },
            "type": "bar"
           }
          ],
          "barpolar": [
           {
            "marker": {
             "line": {
              "color": "#E5ECF6",
              "width": 0.5
             },
             "pattern": {
              "fillmode": "overlay",
              "size": 10,
              "solidity": 0.2
             }
            },
            "type": "barpolar"
           }
          ],
          "carpet": [
           {
            "aaxis": {
             "endlinecolor": "#2a3f5f",
             "gridcolor": "white",
             "linecolor": "white",
             "minorgridcolor": "white",
             "startlinecolor": "#2a3f5f"
            },
            "baxis": {
             "endlinecolor": "#2a3f5f",
             "gridcolor": "white",
             "linecolor": "white",
             "minorgridcolor": "white",
             "startlinecolor": "#2a3f5f"
            },
            "type": "carpet"
           }
          ],
          "choropleth": [
           {
            "colorbar": {
             "outlinewidth": 0,
             "ticks": ""
            },
            "type": "choropleth"
           }
          ],
          "contour": [
           {
            "colorbar": {
             "outlinewidth": 0,
             "ticks": ""
            },
            "colorscale": [
             [
              0,
              "#0d0887"
             ],
             [
              0.1111111111111111,
              "#46039f"
             ],
             [
              0.2222222222222222,
              "#7201a8"
             ],
             [
              0.3333333333333333,
              "#9c179e"
             ],
             [
              0.4444444444444444,
              "#bd3786"
             ],
             [
              0.5555555555555556,
              "#d8576b"
             ],
             [
              0.6666666666666666,
              "#ed7953"
             ],
             [
              0.7777777777777778,
              "#fb9f3a"
             ],
             [
              0.8888888888888888,
              "#fdca26"
             ],
             [
              1,
              "#f0f921"
             ]
            ],
            "type": "contour"
           }
          ],
          "contourcarpet": [
           {
            "colorbar": {
             "outlinewidth": 0,
             "ticks": ""
            },
            "type": "contourcarpet"
           }
          ],
          "heatmap": [
           {
            "colorbar": {
             "outlinewidth": 0,
             "ticks": ""
            },
            "colorscale": [
             [
              0,
              "#0d0887"
             ],
             [
              0.1111111111111111,
              "#46039f"
             ],
             [
              0.2222222222222222,
              "#7201a8"
             ],
             [
              0.3333333333333333,
              "#9c179e"
             ],
             [
              0.4444444444444444,
              "#bd3786"
             ],
             [
              0.5555555555555556,
              "#d8576b"
             ],
             [
              0.6666666666666666,
              "#ed7953"
             ],
             [
              0.7777777777777778,
              "#fb9f3a"
             ],
             [
              0.8888888888888888,
              "#fdca26"
             ],
             [
              1,
              "#f0f921"
             ]
            ],
            "type": "heatmap"
           }
          ],
          "heatmapgl": [
           {
            "colorbar": {
             "outlinewidth": 0,
             "ticks": ""
            },
            "colorscale": [
             [
              0,
              "#0d0887"
             ],
             [
              0.1111111111111111,
              "#46039f"
             ],
             [
              0.2222222222222222,
              "#7201a8"
             ],
             [
              0.3333333333333333,
              "#9c179e"
             ],
             [
              0.4444444444444444,
              "#bd3786"
             ],
             [
              0.5555555555555556,
              "#d8576b"
             ],
             [
              0.6666666666666666,
              "#ed7953"
             ],
             [
              0.7777777777777778,
              "#fb9f3a"
             ],
             [
              0.8888888888888888,
              "#fdca26"
             ],
             [
              1,
              "#f0f921"
             ]
            ],
            "type": "heatmapgl"
           }
          ],
          "histogram": [
           {
            "marker": {
             "pattern": {
              "fillmode": "overlay",
              "size": 10,
              "solidity": 0.2
             }
            },
            "type": "histogram"
           }
          ],
          "histogram2d": [
           {
            "colorbar": {
             "outlinewidth": 0,
             "ticks": ""
            },
            "colorscale": [
             [
              0,
              "#0d0887"
             ],
             [
              0.1111111111111111,
              "#46039f"
             ],
             [
              0.2222222222222222,
              "#7201a8"
             ],
             [
              0.3333333333333333,
              "#9c179e"
             ],
             [
              0.4444444444444444,
              "#bd3786"
             ],
             [
              0.5555555555555556,
              "#d8576b"
             ],
             [
              0.6666666666666666,
              "#ed7953"
             ],
             [
              0.7777777777777778,
              "#fb9f3a"
             ],
             [
              0.8888888888888888,
              "#fdca26"
             ],
             [
              1,
              "#f0f921"
             ]
            ],
            "type": "histogram2d"
           }
          ],
          "histogram2dcontour": [
           {
            "colorbar": {
             "outlinewidth": 0,
             "ticks": ""
            },
            "colorscale": [
             [
              0,
              "#0d0887"
             ],
             [
              0.1111111111111111,
              "#46039f"
             ],
             [
              0.2222222222222222,
              "#7201a8"
             ],
             [
              0.3333333333333333,
              "#9c179e"
             ],
             [
              0.4444444444444444,
              "#bd3786"
             ],
             [
              0.5555555555555556,
              "#d8576b"
             ],
             [
              0.6666666666666666,
              "#ed7953"
             ],
             [
              0.7777777777777778,
              "#fb9f3a"
             ],
             [
              0.8888888888888888,
              "#fdca26"
             ],
             [
              1,
              "#f0f921"
             ]
            ],
            "type": "histogram2dcontour"
           }
          ],
          "mesh3d": [
           {
            "colorbar": {
             "outlinewidth": 0,
             "ticks": ""
            },
            "type": "mesh3d"
           }
          ],
          "parcoords": [
           {
            "line": {
             "colorbar": {
              "outlinewidth": 0,
              "ticks": ""
             }
            },
            "type": "parcoords"
           }
          ],
          "pie": [
           {
            "automargin": true,
            "type": "pie"
           }
          ],
          "scatter": [
           {
            "fillpattern": {
             "fillmode": "overlay",
             "size": 10,
             "solidity": 0.2
            },
            "type": "scatter"
           }
          ],
          "scatter3d": [
           {
            "line": {
             "colorbar": {
              "outlinewidth": 0,
              "ticks": ""
             }
            },
            "marker": {
             "colorbar": {
              "outlinewidth": 0,
              "ticks": ""
             }
            },
            "type": "scatter3d"
           }
          ],
          "scattercarpet": [
           {
            "marker": {
             "colorbar": {
              "outlinewidth": 0,
              "ticks": ""
             }
            },
            "type": "scattercarpet"
           }
          ],
          "scattergeo": [
           {
            "marker": {
             "colorbar": {
              "outlinewidth": 0,
              "ticks": ""
             }
            },
            "type": "scattergeo"
           }
          ],
          "scattergl": [
           {
            "marker": {
             "colorbar": {
              "outlinewidth": 0,
              "ticks": ""
             }
            },
            "type": "scattergl"
           }
          ],
          "scattermapbox": [
           {
            "marker": {
             "colorbar": {
              "outlinewidth": 0,
              "ticks": ""
             }
            },
            "type": "scattermapbox"
           }
          ],
          "scatterpolar": [
           {
            "marker": {
             "colorbar": {
              "outlinewidth": 0,
              "ticks": ""
             }
            },
            "type": "scatterpolar"
           }
          ],
          "scatterpolargl": [
           {
            "marker": {
             "colorbar": {
              "outlinewidth": 0,
              "ticks": ""
             }
            },
            "type": "scatterpolargl"
           }
          ],
          "scatterternary": [
           {
            "marker": {
             "colorbar": {
              "outlinewidth": 0,
              "ticks": ""
             }
            },
            "type": "scatterternary"
           }
          ],
          "surface": [
           {
            "colorbar": {
             "outlinewidth": 0,
             "ticks": ""
            },
            "colorscale": [
             [
              0,
              "#0d0887"
             ],
             [
              0.1111111111111111,
              "#46039f"
             ],
             [
              0.2222222222222222,
              "#7201a8"
             ],
             [
              0.3333333333333333,
              "#9c179e"
             ],
             [
              0.4444444444444444,
              "#bd3786"
             ],
             [
              0.5555555555555556,
              "#d8576b"
             ],
             [
              0.6666666666666666,
              "#ed7953"
             ],
             [
              0.7777777777777778,
              "#fb9f3a"
             ],
             [
              0.8888888888888888,
              "#fdca26"
             ],
             [
              1,
              "#f0f921"
             ]
            ],
            "type": "surface"
           }
          ],
          "table": [
           {
            "cells": {
             "fill": {
              "color": "#EBF0F8"
             },
             "line": {
              "color": "white"
             }
            },
            "header": {
             "fill": {
              "color": "#C8D4E3"
             },
             "line": {
              "color": "white"
             }
            },
            "type": "table"
           }
          ]
         },
         "layout": {
          "annotationdefaults": {
           "arrowcolor": "#2a3f5f",
           "arrowhead": 0,
           "arrowwidth": 1
          },
          "autotypenumbers": "strict",
          "coloraxis": {
           "colorbar": {
            "outlinewidth": 0,
            "ticks": ""
           }
          },
          "colorscale": {
           "diverging": [
            [
             0,
             "#8e0152"
            ],
            [
             0.1,
             "#c51b7d"
            ],
            [
             0.2,
             "#de77ae"
            ],
            [
             0.3,
             "#f1b6da"
            ],
            [
             0.4,
             "#fde0ef"
            ],
            [
             0.5,
             "#f7f7f7"
            ],
            [
             0.6,
             "#e6f5d0"
            ],
            [
             0.7,
             "#b8e186"
            ],
            [
             0.8,
             "#7fbc41"
            ],
            [
             0.9,
             "#4d9221"
            ],
            [
             1,
             "#276419"
            ]
           ],
           "sequential": [
            [
             0,
             "#0d0887"
            ],
            [
             0.1111111111111111,
             "#46039f"
            ],
            [
             0.2222222222222222,
             "#7201a8"
            ],
            [
             0.3333333333333333,
             "#9c179e"
            ],
            [
             0.4444444444444444,
             "#bd3786"
            ],
            [
             0.5555555555555556,
             "#d8576b"
            ],
            [
             0.6666666666666666,
             "#ed7953"
            ],
            [
             0.7777777777777778,
             "#fb9f3a"
            ],
            [
             0.8888888888888888,
             "#fdca26"
            ],
            [
             1,
             "#f0f921"
            ]
           ],
           "sequentialminus": [
            [
             0,
             "#0d0887"
            ],
            [
             0.1111111111111111,
             "#46039f"
            ],
            [
             0.2222222222222222,
             "#7201a8"
            ],
            [
             0.3333333333333333,
             "#9c179e"
            ],
            [
             0.4444444444444444,
             "#bd3786"
            ],
            [
             0.5555555555555556,
             "#d8576b"
            ],
            [
             0.6666666666666666,
             "#ed7953"
            ],
            [
             0.7777777777777778,
             "#fb9f3a"
            ],
            [
             0.8888888888888888,
             "#fdca26"
            ],
            [
             1,
             "#f0f921"
            ]
           ]
          },
          "colorway": [
           "#636efa",
           "#EF553B",
           "#00cc96",
           "#ab63fa",
           "#FFA15A",
           "#19d3f3",
           "#FF6692",
           "#B6E880",
           "#FF97FF",
           "#FECB52"
          ],
          "font": {
           "color": "#2a3f5f"
          },
          "geo": {
           "bgcolor": "white",
           "lakecolor": "white",
           "landcolor": "#E5ECF6",
           "showlakes": true,
           "showland": true,
           "subunitcolor": "white"
          },
          "hoverlabel": {
           "align": "left"
          },
          "hovermode": "closest",
          "mapbox": {
           "style": "light"
          },
          "paper_bgcolor": "white",
          "plot_bgcolor": "#E5ECF6",
          "polar": {
           "angularaxis": {
            "gridcolor": "white",
            "linecolor": "white",
            "ticks": ""
           },
           "bgcolor": "#E5ECF6",
           "radialaxis": {
            "gridcolor": "white",
            "linecolor": "white",
            "ticks": ""
           }
          },
          "scene": {
           "xaxis": {
            "backgroundcolor": "#E5ECF6",
            "gridcolor": "white",
            "gridwidth": 2,
            "linecolor": "white",
            "showbackground": true,
            "ticks": "",
            "zerolinecolor": "white"
           },
           "yaxis": {
            "backgroundcolor": "#E5ECF6",
            "gridcolor": "white",
            "gridwidth": 2,
            "linecolor": "white",
            "showbackground": true,
            "ticks": "",
            "zerolinecolor": "white"
           },
           "zaxis": {
            "backgroundcolor": "#E5ECF6",
            "gridcolor": "white",
            "gridwidth": 2,
            "linecolor": "white",
            "showbackground": true,
            "ticks": "",
            "zerolinecolor": "white"
           }
          },
          "shapedefaults": {
           "line": {
            "color": "#2a3f5f"
           }
          },
          "ternary": {
           "aaxis": {
            "gridcolor": "white",
            "linecolor": "white",
            "ticks": ""
           },
           "baxis": {
            "gridcolor": "white",
            "linecolor": "white",
            "ticks": ""
           },
           "bgcolor": "#E5ECF6",
           "caxis": {
            "gridcolor": "white",
            "linecolor": "white",
            "ticks": ""
           }
          },
          "title": {
           "x": 0.05
          },
          "xaxis": {
           "automargin": true,
           "gridcolor": "white",
           "linecolor": "white",
           "ticks": "",
           "title": {
            "standoff": 15
           },
           "zerolinecolor": "white",
           "zerolinewidth": 2
          },
          "yaxis": {
           "automargin": true,
           "gridcolor": "white",
           "linecolor": "white",
           "ticks": "",
           "title": {
            "standoff": 15
           },
           "zerolinecolor": "white",
           "zerolinewidth": 2
          }
         }
        },
        "title": {
         "text": "Top 10 sub categories have highest dicounted price "
        },
        "xaxis": {
         "anchor": "y",
         "domain": [
          0,
          1
         ],
         "title": {
          "text": "sub category"
         }
        },
        "yaxis": {
         "anchor": "x",
         "domain": [
          0,
          1
         ],
         "title": {
          "text": "discounted price"
         }
        }
       }
      },
      "text/html": [
       "<div>                            <div id=\"7190a905-0904-4894-9d07-6372ad479f3f\" class=\"plotly-graph-div\" style=\"height:525px; width:100%;\"></div>            <script type=\"text/javascript\">                require([\"plotly\"], function(Plotly) {                    window.PLOTLYENV=window.PLOTLYENV || {};                                    if (document.getElementById(\"7190a905-0904-4894-9d07-6372ad479f3f\")) {                    Plotly.newPlot(                        \"7190a905-0904-4894-9d07-6372ad479f3f\",                        [{\"alignmentgroup\":\"True\",\"hovertemplate\":\"variable=discounted_price<br>sub category=%{x}<br>value=%{y}<extra></extra>\",\"legendgroup\":\"discounted_price\",\"marker\":{\"color\":\"#636efa\",\"pattern\":{\"shape\":\"\"}},\"name\":\"discounted_price\",\"offsetgroup\":\"discounted_price\",\"orientation\":\"v\",\"showlegend\":true,\"textposition\":\"auto\",\"x\":[\"Irons,Steamers&Accessories\",\"BasicMobiles\",\"Vacuums&FloorCare\",\"ElectricHeaters\",\"Mills&Grinders\",\"MixerGrinders\",\"Rice&PastaCookers\",\"InstantWaterHeaters\",\"DeepFatFryers\",\"CeilingFans\"],\"xaxis\":\"x\",\"y\":[4280.0,3799.0,3799.0,3711.0,3710.0,3699.0,3685.0,3645.0,3599.0,3569.0],\"yaxis\":\"y\",\"type\":\"bar\"}],                        {\"template\":{\"data\":{\"histogram2dcontour\":[{\"type\":\"histogram2dcontour\",\"colorbar\":{\"outlinewidth\":0,\"ticks\":\"\"},\"colorscale\":[[0.0,\"#0d0887\"],[0.1111111111111111,\"#46039f\"],[0.2222222222222222,\"#7201a8\"],[0.3333333333333333,\"#9c179e\"],[0.4444444444444444,\"#bd3786\"],[0.5555555555555556,\"#d8576b\"],[0.6666666666666666,\"#ed7953\"],[0.7777777777777778,\"#fb9f3a\"],[0.8888888888888888,\"#fdca26\"],[1.0,\"#f0f921\"]]}],\"choropleth\":[{\"type\":\"choropleth\",\"colorbar\":{\"outlinewidth\":0,\"ticks\":\"\"}}],\"histogram2d\":[{\"type\":\"histogram2d\",\"colorbar\":{\"outlinewidth\":0,\"ticks\":\"\"},\"colorscale\":[[0.0,\"#0d0887\"],[0.1111111111111111,\"#46039f\"],[0.2222222222222222,\"#7201a8\"],[0.3333333333333333,\"#9c179e\"],[0.4444444444444444,\"#bd3786\"],[0.5555555555555556,\"#d8576b\"],[0.6666666666666666,\"#ed7953\"],[0.7777777777777778,\"#fb9f3a\"],[0.8888888888888888,\"#fdca26\"],[1.0,\"#f0f921\"]]}],\"heatmap\":[{\"type\":\"heatmap\",\"colorbar\":{\"outlinewidth\":0,\"ticks\":\"\"},\"colorscale\":[[0.0,\"#0d0887\"],[0.1111111111111111,\"#46039f\"],[0.2222222222222222,\"#7201a8\"],[0.3333333333333333,\"#9c179e\"],[0.4444444444444444,\"#bd3786\"],[0.5555555555555556,\"#d8576b\"],[0.6666666666666666,\"#ed7953\"],[0.7777777777777778,\"#fb9f3a\"],[0.8888888888888888,\"#fdca26\"],[1.0,\"#f0f921\"]]}],\"heatmapgl\":[{\"type\":\"heatmapgl\",\"colorbar\":{\"outlinewidth\":0,\"ticks\":\"\"},\"colorscale\":[[0.0,\"#0d0887\"],[0.1111111111111111,\"#46039f\"],[0.2222222222222222,\"#7201a8\"],[0.3333333333333333,\"#9c179e\"],[0.4444444444444444,\"#bd3786\"],[0.5555555555555556,\"#d8576b\"],[0.6666666666666666,\"#ed7953\"],[0.7777777777777778,\"#fb9f3a\"],[0.8888888888888888,\"#fdca26\"],[1.0,\"#f0f921\"]]}],\"contourcarpet\":[{\"type\":\"contourcarpet\",\"colorbar\":{\"outlinewidth\":0,\"ticks\":\"\"}}],\"contour\":[{\"type\":\"contour\",\"colorbar\":{\"outlinewidth\":0,\"ticks\":\"\"},\"colorscale\":[[0.0,\"#0d0887\"],[0.1111111111111111,\"#46039f\"],[0.2222222222222222,\"#7201a8\"],[0.3333333333333333,\"#9c179e\"],[0.4444444444444444,\"#bd3786\"],[0.5555555555555556,\"#d8576b\"],[0.6666666666666666,\"#ed7953\"],[0.7777777777777778,\"#fb9f3a\"],[0.8888888888888888,\"#fdca26\"],[1.0,\"#f0f921\"]]}],\"surface\":[{\"type\":\"surface\",\"colorbar\":{\"outlinewidth\":0,\"ticks\":\"\"},\"colorscale\":[[0.0,\"#0d0887\"],[0.1111111111111111,\"#46039f\"],[0.2222222222222222,\"#7201a8\"],[0.3333333333333333,\"#9c179e\"],[0.4444444444444444,\"#bd3786\"],[0.5555555555555556,\"#d8576b\"],[0.6666666666666666,\"#ed7953\"],[0.7777777777777778,\"#fb9f3a\"],[0.8888888888888888,\"#fdca26\"],[1.0,\"#f0f921\"]]}],\"mesh3d\":[{\"type\":\"mesh3d\",\"colorbar\":{\"outlinewidth\":0,\"ticks\":\"\"}}],\"scatter\":[{\"fillpattern\":{\"fillmode\":\"overlay\",\"size\":10,\"solidity\":0.2},\"type\":\"scatter\"}],\"parcoords\":[{\"type\":\"parcoords\",\"line\":{\"colorbar\":{\"outlinewidth\":0,\"ticks\":\"\"}}}],\"scatterpolargl\":[{\"type\":\"scatterpolargl\",\"marker\":{\"colorbar\":{\"outlinewidth\":0,\"ticks\":\"\"}}}],\"bar\":[{\"error_x\":{\"color\":\"#2a3f5f\"},\"error_y\":{\"color\":\"#2a3f5f\"},\"marker\":{\"line\":{\"color\":\"#E5ECF6\",\"width\":0.5},\"pattern\":{\"fillmode\":\"overlay\",\"size\":10,\"solidity\":0.2}},\"type\":\"bar\"}],\"scattergeo\":[{\"type\":\"scattergeo\",\"marker\":{\"colorbar\":{\"outlinewidth\":0,\"ticks\":\"\"}}}],\"scatterpolar\":[{\"type\":\"scatterpolar\",\"marker\":{\"colorbar\":{\"outlinewidth\":0,\"ticks\":\"\"}}}],\"histogram\":[{\"marker\":{\"pattern\":{\"fillmode\":\"overlay\",\"size\":10,\"solidity\":0.2}},\"type\":\"histogram\"}],\"scattergl\":[{\"type\":\"scattergl\",\"marker\":{\"colorbar\":{\"outlinewidth\":0,\"ticks\":\"\"}}}],\"scatter3d\":[{\"type\":\"scatter3d\",\"line\":{\"colorbar\":{\"outlinewidth\":0,\"ticks\":\"\"}},\"marker\":{\"colorbar\":{\"outlinewidth\":0,\"ticks\":\"\"}}}],\"scattermapbox\":[{\"type\":\"scattermapbox\",\"marker\":{\"colorbar\":{\"outlinewidth\":0,\"ticks\":\"\"}}}],\"scatterternary\":[{\"type\":\"scatterternary\",\"marker\":{\"colorbar\":{\"outlinewidth\":0,\"ticks\":\"\"}}}],\"scattercarpet\":[{\"type\":\"scattercarpet\",\"marker\":{\"colorbar\":{\"outlinewidth\":0,\"ticks\":\"\"}}}],\"carpet\":[{\"aaxis\":{\"endlinecolor\":\"#2a3f5f\",\"gridcolor\":\"white\",\"linecolor\":\"white\",\"minorgridcolor\":\"white\",\"startlinecolor\":\"#2a3f5f\"},\"baxis\":{\"endlinecolor\":\"#2a3f5f\",\"gridcolor\":\"white\",\"linecolor\":\"white\",\"minorgridcolor\":\"white\",\"startlinecolor\":\"#2a3f5f\"},\"type\":\"carpet\"}],\"table\":[{\"cells\":{\"fill\":{\"color\":\"#EBF0F8\"},\"line\":{\"color\":\"white\"}},\"header\":{\"fill\":{\"color\":\"#C8D4E3\"},\"line\":{\"color\":\"white\"}},\"type\":\"table\"}],\"barpolar\":[{\"marker\":{\"line\":{\"color\":\"#E5ECF6\",\"width\":0.5},\"pattern\":{\"fillmode\":\"overlay\",\"size\":10,\"solidity\":0.2}},\"type\":\"barpolar\"}],\"pie\":[{\"automargin\":true,\"type\":\"pie\"}]},\"layout\":{\"autotypenumbers\":\"strict\",\"colorway\":[\"#636efa\",\"#EF553B\",\"#00cc96\",\"#ab63fa\",\"#FFA15A\",\"#19d3f3\",\"#FF6692\",\"#B6E880\",\"#FF97FF\",\"#FECB52\"],\"font\":{\"color\":\"#2a3f5f\"},\"hovermode\":\"closest\",\"hoverlabel\":{\"align\":\"left\"},\"paper_bgcolor\":\"white\",\"plot_bgcolor\":\"#E5ECF6\",\"polar\":{\"bgcolor\":\"#E5ECF6\",\"angularaxis\":{\"gridcolor\":\"white\",\"linecolor\":\"white\",\"ticks\":\"\"},\"radialaxis\":{\"gridcolor\":\"white\",\"linecolor\":\"white\",\"ticks\":\"\"}},\"ternary\":{\"bgcolor\":\"#E5ECF6\",\"aaxis\":{\"gridcolor\":\"white\",\"linecolor\":\"white\",\"ticks\":\"\"},\"baxis\":{\"gridcolor\":\"white\",\"linecolor\":\"white\",\"ticks\":\"\"},\"caxis\":{\"gridcolor\":\"white\",\"linecolor\":\"white\",\"ticks\":\"\"}},\"coloraxis\":{\"colorbar\":{\"outlinewidth\":0,\"ticks\":\"\"}},\"colorscale\":{\"sequential\":[[0.0,\"#0d0887\"],[0.1111111111111111,\"#46039f\"],[0.2222222222222222,\"#7201a8\"],[0.3333333333333333,\"#9c179e\"],[0.4444444444444444,\"#bd3786\"],[0.5555555555555556,\"#d8576b\"],[0.6666666666666666,\"#ed7953\"],[0.7777777777777778,\"#fb9f3a\"],[0.8888888888888888,\"#fdca26\"],[1.0,\"#f0f921\"]],\"sequentialminus\":[[0.0,\"#0d0887\"],[0.1111111111111111,\"#46039f\"],[0.2222222222222222,\"#7201a8\"],[0.3333333333333333,\"#9c179e\"],[0.4444444444444444,\"#bd3786\"],[0.5555555555555556,\"#d8576b\"],[0.6666666666666666,\"#ed7953\"],[0.7777777777777778,\"#fb9f3a\"],[0.8888888888888888,\"#fdca26\"],[1.0,\"#f0f921\"]],\"diverging\":[[0,\"#8e0152\"],[0.1,\"#c51b7d\"],[0.2,\"#de77ae\"],[0.3,\"#f1b6da\"],[0.4,\"#fde0ef\"],[0.5,\"#f7f7f7\"],[0.6,\"#e6f5d0\"],[0.7,\"#b8e186\"],[0.8,\"#7fbc41\"],[0.9,\"#4d9221\"],[1,\"#276419\"]]},\"xaxis\":{\"gridcolor\":\"white\",\"linecolor\":\"white\",\"ticks\":\"\",\"title\":{\"standoff\":15},\"zerolinecolor\":\"white\",\"automargin\":true,\"zerolinewidth\":2},\"yaxis\":{\"gridcolor\":\"white\",\"linecolor\":\"white\",\"ticks\":\"\",\"title\":{\"standoff\":15},\"zerolinecolor\":\"white\",\"automargin\":true,\"zerolinewidth\":2},\"scene\":{\"xaxis\":{\"backgroundcolor\":\"#E5ECF6\",\"gridcolor\":\"white\",\"linecolor\":\"white\",\"showbackground\":true,\"ticks\":\"\",\"zerolinecolor\":\"white\",\"gridwidth\":2},\"yaxis\":{\"backgroundcolor\":\"#E5ECF6\",\"gridcolor\":\"white\",\"linecolor\":\"white\",\"showbackground\":true,\"ticks\":\"\",\"zerolinecolor\":\"white\",\"gridwidth\":2},\"zaxis\":{\"backgroundcolor\":\"#E5ECF6\",\"gridcolor\":\"white\",\"linecolor\":\"white\",\"showbackground\":true,\"ticks\":\"\",\"zerolinecolor\":\"white\",\"gridwidth\":2}},\"shapedefaults\":{\"line\":{\"color\":\"#2a3f5f\"}},\"annotationdefaults\":{\"arrowcolor\":\"#2a3f5f\",\"arrowhead\":0,\"arrowwidth\":1},\"geo\":{\"bgcolor\":\"white\",\"landcolor\":\"#E5ECF6\",\"subunitcolor\":\"white\",\"showland\":true,\"showlakes\":true,\"lakecolor\":\"white\"},\"title\":{\"x\":0.05},\"mapbox\":{\"style\":\"light\"}}},\"xaxis\":{\"anchor\":\"y\",\"domain\":[0.0,1.0],\"title\":{\"text\":\"sub category\"}},\"yaxis\":{\"anchor\":\"x\",\"domain\":[0.0,1.0],\"title\":{\"text\":\"discounted price\"}},\"legend\":{\"title\":{\"text\":\"variable\"},\"tracegroupgap\":0},\"title\":{\"text\":\"Top 10 sub categories have highest dicounted price \"},\"barmode\":\"relative\"},                        {\"responsive\": true}                    ).then(function(){\n",
       "                            \n",
       "var gd = document.getElementById('7190a905-0904-4894-9d07-6372ad479f3f');\n",
       "var x = new MutationObserver(function (mutations, observer) {{\n",
       "        var display = window.getComputedStyle(gd).display;\n",
       "        if (!display || display === 'none') {{\n",
       "            console.log([gd, 'removed!']);\n",
       "            Plotly.purge(gd);\n",
       "            observer.disconnect();\n",
       "        }}\n",
       "}});\n",
       "\n",
       "// Listen for the removal of the full notebook cells\n",
       "var notebookContainer = gd.closest('#notebook-container');\n",
       "if (notebookContainer) {{\n",
       "    x.observe(notebookContainer, {childList: true});\n",
       "}}\n",
       "\n",
       "// Listen for the clearing of the current output cell\n",
       "var outputEl = gd.closest('.output');\n",
       "if (outputEl) {{\n",
       "    x.observe(outputEl, {childList: true});\n",
       "}}\n",
       "\n",
       "                        })                };                });            </script>        </div>"
      ]
     },
     "metadata": {},
     "output_type": "display_data"
    }
   ],
   "source": [
    "fig = px.bar(df['discounted_price'].groupby(df['sub category']).max().nlargest(10),\n",
    "            title=\"Top 10 sub categories have highest dicounted price \")\n",
    "fig.update_layout(yaxis_title='discounted price')"
   ]
  },
  {
   "cell_type": "markdown",
   "id": "47a14a00",
   "metadata": {},
   "source": [
    "##### Top 10 products that have high rate ?"
   ]
  },
  {
   "cell_type": "code",
   "execution_count": 119,
   "id": "b36805a9",
   "metadata": {},
   "outputs": [
    {
     "data": {
      "text/plain": [
       "array([4.8, 4.7, 4.7, 4.7, 4.7, 4.7, 4.6, 4.6, 4.6, 4.6])"
      ]
     },
     "execution_count": 119,
     "metadata": {},
     "output_type": "execute_result"
    }
   ],
   "source": [
    "df['rating'].groupby(df['product_name']).max().nlargest(10).values"
   ]
  },
  {
   "cell_type": "code",
   "execution_count": 117,
   "id": "e16453cc",
   "metadata": {},
   "outputs": [
    {
     "data": {
      "application/vnd.plotly.v1+json": {
       "config": {
        "plotlyServerURL": "https://plot.ly"
       },
       "data": [
        {
         "alignmentgroup": "True",
         "hovertemplate": "x=%{x}<br>y=%{y}<extra></extra>",
         "legendgroup": "",
         "marker": {
          "color": "#636efa",
          "pattern": {
           "shape": ""
          }
         },
         "name": "",
         "offsetgroup": "",
         "orientation": "h",
         "showlegend": false,
         "textposition": "auto",
         "type": "bar",
         "x": [
          4.8,
          4.7,
          4.7,
          4.7,
          4.7,
          4.7,
          4.6,
          4.6,
          4.6,
          4.6
         ],
         "xaxis": "x",
         "y": [
          "Oratech Coffee Frother electric, milk frother electric, coffee beater, cappuccino maker, Coffee Foamer, Mocktail Mixer, Coffee Foam Maker, coffee whisker electric, Froth Maker, coffee stirrers electric, coffee frothers, Coffee Blender, (6 Month Warranty) (Multicolour)",
          "Campfire Spring Chef Prolix Instant Portable Water Heater Geyser 1Ltr. for Use Home Stainless Steel Baking Rack | Restaurant | Office | Labs | Clinics | Saloon | with Installation Kit (With MCB)",
          "FIGMENT Handheld Milk Frother Rechargeable, 3-Speed Electric Frother for Coffee with 2 Whisks and Coffee Decoration Tool, Coffee Frother Mixer, CRESCENT ENTERPRISES VRW0.50BK (A1)",
          "Multifunctional 2 in 1 Electric Egg Boiling Steamer Egg Frying Pan Egg Boiler Electric Automatic Off with Egg Boiler Machine Non-Stick Electric Egg Frying Pan-Tiger Woods (Multy)",
          "Spigen EZ Fit Tempered Glass Screen Protector for iPhone 14 Pro Max - 2 Pack (Sensor Protection)",
          "Zuvexa USB Rechargeable Electric Foam Maker - Handheld Milk Wand Mixer Frother for Hot Milk, Hand Blender Coffee, Egg Beater (Black)",
          "10k 8k 4k HDMI Cable, Certified 48Gbps 1ms Ultra High Speed HDMI 2.1 Cable 4k 120Hz 144Hz 2k 165Hz 8k 60Hz Dynamic HDR ARC eARC DTS:X Compatible for Mac Gaming PC Soundbar TV Monitor Laptop PS5 4 Xbox",
          "Ikea 903.391.72 Polypropylene Plastic Solid Bevara Sealing Clip (Multicolour) - 30 Pack, Adjustable",
          "Lint Remover Woolen Clothes Lint Extractor Battery Lint Removing Machine Bhur Remover",
          "Logitech G402 Hyperion Fury USB Wired Gaming Mouse, 4,000 DPI, Lightweight, 8 Programmable Buttons, Compatible for PC/Mac - Black"
         ],
         "yaxis": "y"
        }
       ],
       "layout": {
        "barmode": "relative",
        "legend": {
         "tracegroupgap": 0
        },
        "margin": {
         "t": 60
        },
        "template": {
         "data": {
          "bar": [
           {
            "error_x": {
             "color": "#2a3f5f"
            },
            "error_y": {
             "color": "#2a3f5f"
            },
            "marker": {
             "line": {
              "color": "#E5ECF6",
              "width": 0.5
             },
             "pattern": {
              "fillmode": "overlay",
              "size": 10,
              "solidity": 0.2
             }
            },
            "type": "bar"
           }
          ],
          "barpolar": [
           {
            "marker": {
             "line": {
              "color": "#E5ECF6",
              "width": 0.5
             },
             "pattern": {
              "fillmode": "overlay",
              "size": 10,
              "solidity": 0.2
             }
            },
            "type": "barpolar"
           }
          ],
          "carpet": [
           {
            "aaxis": {
             "endlinecolor": "#2a3f5f",
             "gridcolor": "white",
             "linecolor": "white",
             "minorgridcolor": "white",
             "startlinecolor": "#2a3f5f"
            },
            "baxis": {
             "endlinecolor": "#2a3f5f",
             "gridcolor": "white",
             "linecolor": "white",
             "minorgridcolor": "white",
             "startlinecolor": "#2a3f5f"
            },
            "type": "carpet"
           }
          ],
          "choropleth": [
           {
            "colorbar": {
             "outlinewidth": 0,
             "ticks": ""
            },
            "type": "choropleth"
           }
          ],
          "contour": [
           {
            "colorbar": {
             "outlinewidth": 0,
             "ticks": ""
            },
            "colorscale": [
             [
              0,
              "#0d0887"
             ],
             [
              0.1111111111111111,
              "#46039f"
             ],
             [
              0.2222222222222222,
              "#7201a8"
             ],
             [
              0.3333333333333333,
              "#9c179e"
             ],
             [
              0.4444444444444444,
              "#bd3786"
             ],
             [
              0.5555555555555556,
              "#d8576b"
             ],
             [
              0.6666666666666666,
              "#ed7953"
             ],
             [
              0.7777777777777778,
              "#fb9f3a"
             ],
             [
              0.8888888888888888,
              "#fdca26"
             ],
             [
              1,
              "#f0f921"
             ]
            ],
            "type": "contour"
           }
          ],
          "contourcarpet": [
           {
            "colorbar": {
             "outlinewidth": 0,
             "ticks": ""
            },
            "type": "contourcarpet"
           }
          ],
          "heatmap": [
           {
            "colorbar": {
             "outlinewidth": 0,
             "ticks": ""
            },
            "colorscale": [
             [
              0,
              "#0d0887"
             ],
             [
              0.1111111111111111,
              "#46039f"
             ],
             [
              0.2222222222222222,
              "#7201a8"
             ],
             [
              0.3333333333333333,
              "#9c179e"
             ],
             [
              0.4444444444444444,
              "#bd3786"
             ],
             [
              0.5555555555555556,
              "#d8576b"
             ],
             [
              0.6666666666666666,
              "#ed7953"
             ],
             [
              0.7777777777777778,
              "#fb9f3a"
             ],
             [
              0.8888888888888888,
              "#fdca26"
             ],
             [
              1,
              "#f0f921"
             ]
            ],
            "type": "heatmap"
           }
          ],
          "heatmapgl": [
           {
            "colorbar": {
             "outlinewidth": 0,
             "ticks": ""
            },
            "colorscale": [
             [
              0,
              "#0d0887"
             ],
             [
              0.1111111111111111,
              "#46039f"
             ],
             [
              0.2222222222222222,
              "#7201a8"
             ],
             [
              0.3333333333333333,
              "#9c179e"
             ],
             [
              0.4444444444444444,
              "#bd3786"
             ],
             [
              0.5555555555555556,
              "#d8576b"
             ],
             [
              0.6666666666666666,
              "#ed7953"
             ],
             [
              0.7777777777777778,
              "#fb9f3a"
             ],
             [
              0.8888888888888888,
              "#fdca26"
             ],
             [
              1,
              "#f0f921"
             ]
            ],
            "type": "heatmapgl"
           }
          ],
          "histogram": [
           {
            "marker": {
             "pattern": {
              "fillmode": "overlay",
              "size": 10,
              "solidity": 0.2
             }
            },
            "type": "histogram"
           }
          ],
          "histogram2d": [
           {
            "colorbar": {
             "outlinewidth": 0,
             "ticks": ""
            },
            "colorscale": [
             [
              0,
              "#0d0887"
             ],
             [
              0.1111111111111111,
              "#46039f"
             ],
             [
              0.2222222222222222,
              "#7201a8"
             ],
             [
              0.3333333333333333,
              "#9c179e"
             ],
             [
              0.4444444444444444,
              "#bd3786"
             ],
             [
              0.5555555555555556,
              "#d8576b"
             ],
             [
              0.6666666666666666,
              "#ed7953"
             ],
             [
              0.7777777777777778,
              "#fb9f3a"
             ],
             [
              0.8888888888888888,
              "#fdca26"
             ],
             [
              1,
              "#f0f921"
             ]
            ],
            "type": "histogram2d"
           }
          ],
          "histogram2dcontour": [
           {
            "colorbar": {
             "outlinewidth": 0,
             "ticks": ""
            },
            "colorscale": [
             [
              0,
              "#0d0887"
             ],
             [
              0.1111111111111111,
              "#46039f"
             ],
             [
              0.2222222222222222,
              "#7201a8"
             ],
             [
              0.3333333333333333,
              "#9c179e"
             ],
             [
              0.4444444444444444,
              "#bd3786"
             ],
             [
              0.5555555555555556,
              "#d8576b"
             ],
             [
              0.6666666666666666,
              "#ed7953"
             ],
             [
              0.7777777777777778,
              "#fb9f3a"
             ],
             [
              0.8888888888888888,
              "#fdca26"
             ],
             [
              1,
              "#f0f921"
             ]
            ],
            "type": "histogram2dcontour"
           }
          ],
          "mesh3d": [
           {
            "colorbar": {
             "outlinewidth": 0,
             "ticks": ""
            },
            "type": "mesh3d"
           }
          ],
          "parcoords": [
           {
            "line": {
             "colorbar": {
              "outlinewidth": 0,
              "ticks": ""
             }
            },
            "type": "parcoords"
           }
          ],
          "pie": [
           {
            "automargin": true,
            "type": "pie"
           }
          ],
          "scatter": [
           {
            "fillpattern": {
             "fillmode": "overlay",
             "size": 10,
             "solidity": 0.2
            },
            "type": "scatter"
           }
          ],
          "scatter3d": [
           {
            "line": {
             "colorbar": {
              "outlinewidth": 0,
              "ticks": ""
             }
            },
            "marker": {
             "colorbar": {
              "outlinewidth": 0,
              "ticks": ""
             }
            },
            "type": "scatter3d"
           }
          ],
          "scattercarpet": [
           {
            "marker": {
             "colorbar": {
              "outlinewidth": 0,
              "ticks": ""
             }
            },
            "type": "scattercarpet"
           }
          ],
          "scattergeo": [
           {
            "marker": {
             "colorbar": {
              "outlinewidth": 0,
              "ticks": ""
             }
            },
            "type": "scattergeo"
           }
          ],
          "scattergl": [
           {
            "marker": {
             "colorbar": {
              "outlinewidth": 0,
              "ticks": ""
             }
            },
            "type": "scattergl"
           }
          ],
          "scattermapbox": [
           {
            "marker": {
             "colorbar": {
              "outlinewidth": 0,
              "ticks": ""
             }
            },
            "type": "scattermapbox"
           }
          ],
          "scatterpolar": [
           {
            "marker": {
             "colorbar": {
              "outlinewidth": 0,
              "ticks": ""
             }
            },
            "type": "scatterpolar"
           }
          ],
          "scatterpolargl": [
           {
            "marker": {
             "colorbar": {
              "outlinewidth": 0,
              "ticks": ""
             }
            },
            "type": "scatterpolargl"
           }
          ],
          "scatterternary": [
           {
            "marker": {
             "colorbar": {
              "outlinewidth": 0,
              "ticks": ""
             }
            },
            "type": "scatterternary"
           }
          ],
          "surface": [
           {
            "colorbar": {
             "outlinewidth": 0,
             "ticks": ""
            },
            "colorscale": [
             [
              0,
              "#0d0887"
             ],
             [
              0.1111111111111111,
              "#46039f"
             ],
             [
              0.2222222222222222,
              "#7201a8"
             ],
             [
              0.3333333333333333,
              "#9c179e"
             ],
             [
              0.4444444444444444,
              "#bd3786"
             ],
             [
              0.5555555555555556,
              "#d8576b"
             ],
             [
              0.6666666666666666,
              "#ed7953"
             ],
             [
              0.7777777777777778,
              "#fb9f3a"
             ],
             [
              0.8888888888888888,
              "#fdca26"
             ],
             [
              1,
              "#f0f921"
             ]
            ],
            "type": "surface"
           }
          ],
          "table": [
           {
            "cells": {
             "fill": {
              "color": "#EBF0F8"
             },
             "line": {
              "color": "white"
             }
            },
            "header": {
             "fill": {
              "color": "#C8D4E3"
             },
             "line": {
              "color": "white"
             }
            },
            "type": "table"
           }
          ]
         },
         "layout": {
          "annotationdefaults": {
           "arrowcolor": "#2a3f5f",
           "arrowhead": 0,
           "arrowwidth": 1
          },
          "autotypenumbers": "strict",
          "coloraxis": {
           "colorbar": {
            "outlinewidth": 0,
            "ticks": ""
           }
          },
          "colorscale": {
           "diverging": [
            [
             0,
             "#8e0152"
            ],
            [
             0.1,
             "#c51b7d"
            ],
            [
             0.2,
             "#de77ae"
            ],
            [
             0.3,
             "#f1b6da"
            ],
            [
             0.4,
             "#fde0ef"
            ],
            [
             0.5,
             "#f7f7f7"
            ],
            [
             0.6,
             "#e6f5d0"
            ],
            [
             0.7,
             "#b8e186"
            ],
            [
             0.8,
             "#7fbc41"
            ],
            [
             0.9,
             "#4d9221"
            ],
            [
             1,
             "#276419"
            ]
           ],
           "sequential": [
            [
             0,
             "#0d0887"
            ],
            [
             0.1111111111111111,
             "#46039f"
            ],
            [
             0.2222222222222222,
             "#7201a8"
            ],
            [
             0.3333333333333333,
             "#9c179e"
            ],
            [
             0.4444444444444444,
             "#bd3786"
            ],
            [
             0.5555555555555556,
             "#d8576b"
            ],
            [
             0.6666666666666666,
             "#ed7953"
            ],
            [
             0.7777777777777778,
             "#fb9f3a"
            ],
            [
             0.8888888888888888,
             "#fdca26"
            ],
            [
             1,
             "#f0f921"
            ]
           ],
           "sequentialminus": [
            [
             0,
             "#0d0887"
            ],
            [
             0.1111111111111111,
             "#46039f"
            ],
            [
             0.2222222222222222,
             "#7201a8"
            ],
            [
             0.3333333333333333,
             "#9c179e"
            ],
            [
             0.4444444444444444,
             "#bd3786"
            ],
            [
             0.5555555555555556,
             "#d8576b"
            ],
            [
             0.6666666666666666,
             "#ed7953"
            ],
            [
             0.7777777777777778,
             "#fb9f3a"
            ],
            [
             0.8888888888888888,
             "#fdca26"
            ],
            [
             1,
             "#f0f921"
            ]
           ]
          },
          "colorway": [
           "#636efa",
           "#EF553B",
           "#00cc96",
           "#ab63fa",
           "#FFA15A",
           "#19d3f3",
           "#FF6692",
           "#B6E880",
           "#FF97FF",
           "#FECB52"
          ],
          "font": {
           "color": "#2a3f5f"
          },
          "geo": {
           "bgcolor": "white",
           "lakecolor": "white",
           "landcolor": "#E5ECF6",
           "showlakes": true,
           "showland": true,
           "subunitcolor": "white"
          },
          "hoverlabel": {
           "align": "left"
          },
          "hovermode": "closest",
          "mapbox": {
           "style": "light"
          },
          "paper_bgcolor": "white",
          "plot_bgcolor": "#E5ECF6",
          "polar": {
           "angularaxis": {
            "gridcolor": "white",
            "linecolor": "white",
            "ticks": ""
           },
           "bgcolor": "#E5ECF6",
           "radialaxis": {
            "gridcolor": "white",
            "linecolor": "white",
            "ticks": ""
           }
          },
          "scene": {
           "xaxis": {
            "backgroundcolor": "#E5ECF6",
            "gridcolor": "white",
            "gridwidth": 2,
            "linecolor": "white",
            "showbackground": true,
            "ticks": "",
            "zerolinecolor": "white"
           },
           "yaxis": {
            "backgroundcolor": "#E5ECF6",
            "gridcolor": "white",
            "gridwidth": 2,
            "linecolor": "white",
            "showbackground": true,
            "ticks": "",
            "zerolinecolor": "white"
           },
           "zaxis": {
            "backgroundcolor": "#E5ECF6",
            "gridcolor": "white",
            "gridwidth": 2,
            "linecolor": "white",
            "showbackground": true,
            "ticks": "",
            "zerolinecolor": "white"
           }
          },
          "shapedefaults": {
           "line": {
            "color": "#2a3f5f"
           }
          },
          "ternary": {
           "aaxis": {
            "gridcolor": "white",
            "linecolor": "white",
            "ticks": ""
           },
           "baxis": {
            "gridcolor": "white",
            "linecolor": "white",
            "ticks": ""
           },
           "bgcolor": "#E5ECF6",
           "caxis": {
            "gridcolor": "white",
            "linecolor": "white",
            "ticks": ""
           }
          },
          "title": {
           "x": 0.05
          },
          "xaxis": {
           "automargin": true,
           "gridcolor": "white",
           "linecolor": "white",
           "ticks": "",
           "title": {
            "standoff": 15
           },
           "zerolinecolor": "white",
           "zerolinewidth": 2
          },
          "yaxis": {
           "automargin": true,
           "gridcolor": "white",
           "linecolor": "white",
           "ticks": "",
           "title": {
            "standoff": 15
           },
           "zerolinecolor": "white",
           "zerolinewidth": 2
          }
         }
        },
        "xaxis": {
         "anchor": "y",
         "domain": [
          0,
          1
         ],
         "title": {
          "text": "x"
         }
        },
        "yaxis": {
         "anchor": "x",
         "domain": [
          0,
          1
         ],
         "title": {
          "text": "y"
         }
        }
       }
      },
      "text/html": [
       "<div>                            <div id=\"491812c2-3264-4258-b8dc-131f6d989a87\" class=\"plotly-graph-div\" style=\"height:525px; width:100%;\"></div>            <script type=\"text/javascript\">                require([\"plotly\"], function(Plotly) {                    window.PLOTLYENV=window.PLOTLYENV || {};                                    if (document.getElementById(\"491812c2-3264-4258-b8dc-131f6d989a87\")) {                    Plotly.newPlot(                        \"491812c2-3264-4258-b8dc-131f6d989a87\",                        [{\"alignmentgroup\":\"True\",\"hovertemplate\":\"x=%{x}<br>y=%{y}<extra></extra>\",\"legendgroup\":\"\",\"marker\":{\"color\":\"#636efa\",\"pattern\":{\"shape\":\"\"}},\"name\":\"\",\"offsetgroup\":\"\",\"orientation\":\"h\",\"showlegend\":false,\"textposition\":\"auto\",\"x\":[4.8,4.7,4.7,4.7,4.7,4.7,4.6,4.6,4.6,4.6],\"xaxis\":\"x\",\"y\":[\"Oratech Coffee Frother electric, milk frother electric, coffee beater, cappuccino maker, Coffee Foamer, Mocktail Mixer, Coffee Foam Maker, coffee whisker electric, Froth Maker, coffee stirrers electric, coffee frothers, Coffee Blender, (6 Month Warranty) (Multicolour)\",\"Campfire Spring Chef Prolix Instant Portable Water Heater Geyser 1Ltr. for Use Home Stainless Steel Baking Rack | Restaurant | Office | Labs | Clinics | Saloon | with Installation Kit (With MCB)\",\"FIGMENT Handheld Milk Frother Rechargeable, 3-Speed Electric Frother for Coffee with 2 Whisks and Coffee Decoration Tool, Coffee Frother Mixer, CRESCENT ENTERPRISES VRW0.50BK (A1)\",\"Multifunctional 2 in 1 Electric Egg Boiling Steamer Egg Frying Pan Egg Boiler Electric Automatic Off with Egg Boiler Machine Non-Stick Electric Egg Frying Pan-Tiger Woods (Multy)\",\"Spigen EZ Fit Tempered Glass Screen Protector for iPhone 14 Pro Max - 2 Pack (Sensor Protection)\",\"Zuvexa USB Rechargeable Electric Foam Maker - Handheld Milk Wand Mixer Frother for Hot Milk, Hand Blender Coffee, Egg Beater (Black)\",\"10k 8k 4k HDMI Cable, Certified 48Gbps 1ms Ultra High Speed HDMI 2.1 Cable 4k 120Hz 144Hz 2k 165Hz 8k 60Hz Dynamic HDR ARC eARC DTS:X Compatible for Mac Gaming PC Soundbar TV Monitor Laptop PS5 4 Xbox\",\"Ikea 903.391.72 Polypropylene Plastic Solid Bevara Sealing Clip (Multicolour) - 30 Pack, Adjustable\",\"Lint Remover Woolen Clothes Lint Extractor Battery Lint Removing Machine Bhur Remover\",\"Logitech G402 Hyperion Fury USB Wired Gaming Mouse, 4,000 DPI, Lightweight, 8 Programmable Buttons, Compatible for PC/Mac - Black\"],\"yaxis\":\"y\",\"type\":\"bar\"}],                        {\"template\":{\"data\":{\"histogram2dcontour\":[{\"type\":\"histogram2dcontour\",\"colorbar\":{\"outlinewidth\":0,\"ticks\":\"\"},\"colorscale\":[[0.0,\"#0d0887\"],[0.1111111111111111,\"#46039f\"],[0.2222222222222222,\"#7201a8\"],[0.3333333333333333,\"#9c179e\"],[0.4444444444444444,\"#bd3786\"],[0.5555555555555556,\"#d8576b\"],[0.6666666666666666,\"#ed7953\"],[0.7777777777777778,\"#fb9f3a\"],[0.8888888888888888,\"#fdca26\"],[1.0,\"#f0f921\"]]}],\"choropleth\":[{\"type\":\"choropleth\",\"colorbar\":{\"outlinewidth\":0,\"ticks\":\"\"}}],\"histogram2d\":[{\"type\":\"histogram2d\",\"colorbar\":{\"outlinewidth\":0,\"ticks\":\"\"},\"colorscale\":[[0.0,\"#0d0887\"],[0.1111111111111111,\"#46039f\"],[0.2222222222222222,\"#7201a8\"],[0.3333333333333333,\"#9c179e\"],[0.4444444444444444,\"#bd3786\"],[0.5555555555555556,\"#d8576b\"],[0.6666666666666666,\"#ed7953\"],[0.7777777777777778,\"#fb9f3a\"],[0.8888888888888888,\"#fdca26\"],[1.0,\"#f0f921\"]]}],\"heatmap\":[{\"type\":\"heatmap\",\"colorbar\":{\"outlinewidth\":0,\"ticks\":\"\"},\"colorscale\":[[0.0,\"#0d0887\"],[0.1111111111111111,\"#46039f\"],[0.2222222222222222,\"#7201a8\"],[0.3333333333333333,\"#9c179e\"],[0.4444444444444444,\"#bd3786\"],[0.5555555555555556,\"#d8576b\"],[0.6666666666666666,\"#ed7953\"],[0.7777777777777778,\"#fb9f3a\"],[0.8888888888888888,\"#fdca26\"],[1.0,\"#f0f921\"]]}],\"heatmapgl\":[{\"type\":\"heatmapgl\",\"colorbar\":{\"outlinewidth\":0,\"ticks\":\"\"},\"colorscale\":[[0.0,\"#0d0887\"],[0.1111111111111111,\"#46039f\"],[0.2222222222222222,\"#7201a8\"],[0.3333333333333333,\"#9c179e\"],[0.4444444444444444,\"#bd3786\"],[0.5555555555555556,\"#d8576b\"],[0.6666666666666666,\"#ed7953\"],[0.7777777777777778,\"#fb9f3a\"],[0.8888888888888888,\"#fdca26\"],[1.0,\"#f0f921\"]]}],\"contourcarpet\":[{\"type\":\"contourcarpet\",\"colorbar\":{\"outlinewidth\":0,\"ticks\":\"\"}}],\"contour\":[{\"type\":\"contour\",\"colorbar\":{\"outlinewidth\":0,\"ticks\":\"\"},\"colorscale\":[[0.0,\"#0d0887\"],[0.1111111111111111,\"#46039f\"],[0.2222222222222222,\"#7201a8\"],[0.3333333333333333,\"#9c179e\"],[0.4444444444444444,\"#bd3786\"],[0.5555555555555556,\"#d8576b\"],[0.6666666666666666,\"#ed7953\"],[0.7777777777777778,\"#fb9f3a\"],[0.8888888888888888,\"#fdca26\"],[1.0,\"#f0f921\"]]}],\"surface\":[{\"type\":\"surface\",\"colorbar\":{\"outlinewidth\":0,\"ticks\":\"\"},\"colorscale\":[[0.0,\"#0d0887\"],[0.1111111111111111,\"#46039f\"],[0.2222222222222222,\"#7201a8\"],[0.3333333333333333,\"#9c179e\"],[0.4444444444444444,\"#bd3786\"],[0.5555555555555556,\"#d8576b\"],[0.6666666666666666,\"#ed7953\"],[0.7777777777777778,\"#fb9f3a\"],[0.8888888888888888,\"#fdca26\"],[1.0,\"#f0f921\"]]}],\"mesh3d\":[{\"type\":\"mesh3d\",\"colorbar\":{\"outlinewidth\":0,\"ticks\":\"\"}}],\"scatter\":[{\"fillpattern\":{\"fillmode\":\"overlay\",\"size\":10,\"solidity\":0.2},\"type\":\"scatter\"}],\"parcoords\":[{\"type\":\"parcoords\",\"line\":{\"colorbar\":{\"outlinewidth\":0,\"ticks\":\"\"}}}],\"scatterpolargl\":[{\"type\":\"scatterpolargl\",\"marker\":{\"colorbar\":{\"outlinewidth\":0,\"ticks\":\"\"}}}],\"bar\":[{\"error_x\":{\"color\":\"#2a3f5f\"},\"error_y\":{\"color\":\"#2a3f5f\"},\"marker\":{\"line\":{\"color\":\"#E5ECF6\",\"width\":0.5},\"pattern\":{\"fillmode\":\"overlay\",\"size\":10,\"solidity\":0.2}},\"type\":\"bar\"}],\"scattergeo\":[{\"type\":\"scattergeo\",\"marker\":{\"colorbar\":{\"outlinewidth\":0,\"ticks\":\"\"}}}],\"scatterpolar\":[{\"type\":\"scatterpolar\",\"marker\":{\"colorbar\":{\"outlinewidth\":0,\"ticks\":\"\"}}}],\"histogram\":[{\"marker\":{\"pattern\":{\"fillmode\":\"overlay\",\"size\":10,\"solidity\":0.2}},\"type\":\"histogram\"}],\"scattergl\":[{\"type\":\"scattergl\",\"marker\":{\"colorbar\":{\"outlinewidth\":0,\"ticks\":\"\"}}}],\"scatter3d\":[{\"type\":\"scatter3d\",\"line\":{\"colorbar\":{\"outlinewidth\":0,\"ticks\":\"\"}},\"marker\":{\"colorbar\":{\"outlinewidth\":0,\"ticks\":\"\"}}}],\"scattermapbox\":[{\"type\":\"scattermapbox\",\"marker\":{\"colorbar\":{\"outlinewidth\":0,\"ticks\":\"\"}}}],\"scatterternary\":[{\"type\":\"scatterternary\",\"marker\":{\"colorbar\":{\"outlinewidth\":0,\"ticks\":\"\"}}}],\"scattercarpet\":[{\"type\":\"scattercarpet\",\"marker\":{\"colorbar\":{\"outlinewidth\":0,\"ticks\":\"\"}}}],\"carpet\":[{\"aaxis\":{\"endlinecolor\":\"#2a3f5f\",\"gridcolor\":\"white\",\"linecolor\":\"white\",\"minorgridcolor\":\"white\",\"startlinecolor\":\"#2a3f5f\"},\"baxis\":{\"endlinecolor\":\"#2a3f5f\",\"gridcolor\":\"white\",\"linecolor\":\"white\",\"minorgridcolor\":\"white\",\"startlinecolor\":\"#2a3f5f\"},\"type\":\"carpet\"}],\"table\":[{\"cells\":{\"fill\":{\"color\":\"#EBF0F8\"},\"line\":{\"color\":\"white\"}},\"header\":{\"fill\":{\"color\":\"#C8D4E3\"},\"line\":{\"color\":\"white\"}},\"type\":\"table\"}],\"barpolar\":[{\"marker\":{\"line\":{\"color\":\"#E5ECF6\",\"width\":0.5},\"pattern\":{\"fillmode\":\"overlay\",\"size\":10,\"solidity\":0.2}},\"type\":\"barpolar\"}],\"pie\":[{\"automargin\":true,\"type\":\"pie\"}]},\"layout\":{\"autotypenumbers\":\"strict\",\"colorway\":[\"#636efa\",\"#EF553B\",\"#00cc96\",\"#ab63fa\",\"#FFA15A\",\"#19d3f3\",\"#FF6692\",\"#B6E880\",\"#FF97FF\",\"#FECB52\"],\"font\":{\"color\":\"#2a3f5f\"},\"hovermode\":\"closest\",\"hoverlabel\":{\"align\":\"left\"},\"paper_bgcolor\":\"white\",\"plot_bgcolor\":\"#E5ECF6\",\"polar\":{\"bgcolor\":\"#E5ECF6\",\"angularaxis\":{\"gridcolor\":\"white\",\"linecolor\":\"white\",\"ticks\":\"\"},\"radialaxis\":{\"gridcolor\":\"white\",\"linecolor\":\"white\",\"ticks\":\"\"}},\"ternary\":{\"bgcolor\":\"#E5ECF6\",\"aaxis\":{\"gridcolor\":\"white\",\"linecolor\":\"white\",\"ticks\":\"\"},\"baxis\":{\"gridcolor\":\"white\",\"linecolor\":\"white\",\"ticks\":\"\"},\"caxis\":{\"gridcolor\":\"white\",\"linecolor\":\"white\",\"ticks\":\"\"}},\"coloraxis\":{\"colorbar\":{\"outlinewidth\":0,\"ticks\":\"\"}},\"colorscale\":{\"sequential\":[[0.0,\"#0d0887\"],[0.1111111111111111,\"#46039f\"],[0.2222222222222222,\"#7201a8\"],[0.3333333333333333,\"#9c179e\"],[0.4444444444444444,\"#bd3786\"],[0.5555555555555556,\"#d8576b\"],[0.6666666666666666,\"#ed7953\"],[0.7777777777777778,\"#fb9f3a\"],[0.8888888888888888,\"#fdca26\"],[1.0,\"#f0f921\"]],\"sequentialminus\":[[0.0,\"#0d0887\"],[0.1111111111111111,\"#46039f\"],[0.2222222222222222,\"#7201a8\"],[0.3333333333333333,\"#9c179e\"],[0.4444444444444444,\"#bd3786\"],[0.5555555555555556,\"#d8576b\"],[0.6666666666666666,\"#ed7953\"],[0.7777777777777778,\"#fb9f3a\"],[0.8888888888888888,\"#fdca26\"],[1.0,\"#f0f921\"]],\"diverging\":[[0,\"#8e0152\"],[0.1,\"#c51b7d\"],[0.2,\"#de77ae\"],[0.3,\"#f1b6da\"],[0.4,\"#fde0ef\"],[0.5,\"#f7f7f7\"],[0.6,\"#e6f5d0\"],[0.7,\"#b8e186\"],[0.8,\"#7fbc41\"],[0.9,\"#4d9221\"],[1,\"#276419\"]]},\"xaxis\":{\"gridcolor\":\"white\",\"linecolor\":\"white\",\"ticks\":\"\",\"title\":{\"standoff\":15},\"zerolinecolor\":\"white\",\"automargin\":true,\"zerolinewidth\":2},\"yaxis\":{\"gridcolor\":\"white\",\"linecolor\":\"white\",\"ticks\":\"\",\"title\":{\"standoff\":15},\"zerolinecolor\":\"white\",\"automargin\":true,\"zerolinewidth\":2},\"scene\":{\"xaxis\":{\"backgroundcolor\":\"#E5ECF6\",\"gridcolor\":\"white\",\"linecolor\":\"white\",\"showbackground\":true,\"ticks\":\"\",\"zerolinecolor\":\"white\",\"gridwidth\":2},\"yaxis\":{\"backgroundcolor\":\"#E5ECF6\",\"gridcolor\":\"white\",\"linecolor\":\"white\",\"showbackground\":true,\"ticks\":\"\",\"zerolinecolor\":\"white\",\"gridwidth\":2},\"zaxis\":{\"backgroundcolor\":\"#E5ECF6\",\"gridcolor\":\"white\",\"linecolor\":\"white\",\"showbackground\":true,\"ticks\":\"\",\"zerolinecolor\":\"white\",\"gridwidth\":2}},\"shapedefaults\":{\"line\":{\"color\":\"#2a3f5f\"}},\"annotationdefaults\":{\"arrowcolor\":\"#2a3f5f\",\"arrowhead\":0,\"arrowwidth\":1},\"geo\":{\"bgcolor\":\"white\",\"landcolor\":\"#E5ECF6\",\"subunitcolor\":\"white\",\"showland\":true,\"showlakes\":true,\"lakecolor\":\"white\"},\"title\":{\"x\":0.05},\"mapbox\":{\"style\":\"light\"}}},\"xaxis\":{\"anchor\":\"y\",\"domain\":[0.0,1.0],\"title\":{\"text\":\"x\"}},\"yaxis\":{\"anchor\":\"x\",\"domain\":[0.0,1.0],\"title\":{\"text\":\"y\"}},\"legend\":{\"tracegroupgap\":0},\"margin\":{\"t\":60},\"barmode\":\"relative\"},                        {\"responsive\": true}                    ).then(function(){\n",
       "                            \n",
       "var gd = document.getElementById('491812c2-3264-4258-b8dc-131f6d989a87');\n",
       "var x = new MutationObserver(function (mutations, observer) {{\n",
       "        var display = window.getComputedStyle(gd).display;\n",
       "        if (!display || display === 'none') {{\n",
       "            console.log([gd, 'removed!']);\n",
       "            Plotly.purge(gd);\n",
       "            observer.disconnect();\n",
       "        }}\n",
       "}});\n",
       "\n",
       "// Listen for the removal of the full notebook cells\n",
       "var notebookContainer = gd.closest('#notebook-container');\n",
       "if (notebookContainer) {{\n",
       "    x.observe(notebookContainer, {childList: true});\n",
       "}}\n",
       "\n",
       "// Listen for the clearing of the current output cell\n",
       "var outputEl = gd.closest('.output');\n",
       "if (outputEl) {{\n",
       "    x.observe(outputEl, {childList: true});\n",
       "}}\n",
       "\n",
       "                        })                };                });            </script>        </div>"
      ]
     },
     "metadata": {},
     "output_type": "display_data"
    }
   ],
   "source": [
    "px.bar(data_frame=df,\n",
    "      x=df['rating'].groupby(df['product_name']).max().nlargest(10).values,\n",
    "      y=df['rating'].groupby(df['product_name']).max().nlargest(10).index)"
   ]
  },
  {
   "cell_type": "code",
   "execution_count": null,
   "id": "86e8fa9a",
   "metadata": {},
   "outputs": [],
   "source": []
  }
 ],
 "metadata": {
  "kernelspec": {
   "display_name": "Python 3 (ipykernel)",
   "language": "python",
   "name": "python3"
  },
  "language_info": {
   "codemirror_mode": {
    "name": "ipython",
    "version": 3
   },
   "file_extension": ".py",
   "mimetype": "text/x-python",
   "name": "python",
   "nbconvert_exporter": "python",
   "pygments_lexer": "ipython3",
   "version": "3.9.13"
  }
 },
 "nbformat": 4,
 "nbformat_minor": 5
}
